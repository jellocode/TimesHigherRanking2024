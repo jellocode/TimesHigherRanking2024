{
 "cells": [
  {
   "cell_type": "code",
   "execution_count": 18,
   "metadata": {},
   "outputs": [],
   "source": [
    "import numpy as np\n",
    "import pandas as pd\n",
    "import os\n",
    "from io import StringIO"
   ]
  },
  {
   "cell_type": "code",
   "execution_count": 19,
   "metadata": {},
   "outputs": [],
   "source": [
    "data = pd.read_csv(r\"notebooks\\combined (2020-24 v3).csv\")\n",
    "df = pd.DataFrame(data)"
   ]
  },
  {
   "cell_type": "markdown",
   "metadata": {},
   "source": [
    "Create new column 'year'"
   ]
  },
  {
   "cell_type": "code",
   "execution_count": null,
   "metadata": {},
   "outputs": [],
   "source": [
    "# Read the CSV file\n",
    "df = pd.read_csv(r\"2020-2024\\TIMES_WorldUniversityRankings_2024.csv\")\n",
    "\n",
    "# Create a new column. For example, let's create a column named 'new_column' and initialize it with the value '0'\n",
    "df['year'] = '2024'\n",
    "\n",
    "# Write the dataframe back to CSV\n",
    "#df.to_csv('2024wranks.csv', index=False)"
   ]
  },
  {
   "cell_type": "markdown",
   "metadata": {},
   "source": [
    "Combine csv's into one"
   ]
  },
  {
   "cell_type": "code",
   "execution_count": null,
   "metadata": {},
   "outputs": [],
   "source": [
    "directory = r\"newdataset\"\n",
    "\n",
    "csv_files = [f for f in os.listdir(directory) if f.endswith('.csv')]\n",
    "\n",
    "# Create a list to hold dataframes\n",
    "dfs = []\n",
    "\n",
    "# Read each CSV file and append it to the list\n",
    "for csv_file in csv_files:\n",
    "    df = pd.read_csv(os.path.join(directory, csv_file))\n",
    "    dfs.append(df)\n",
    "\n",
    "# Concatenate all dataframes in the list\n",
    "combined_df = pd.concat(dfs, ignore_index=True)\n",
    "\n",
    "# Write the combined dataframe to a new CSV file\n",
    "#combined_df.to_csv('combined (2020-24.csv)', index=False)"
   ]
  },
  {
   "cell_type": "markdown",
   "metadata": {},
   "source": [
    "Cleaning dataset 2020-24"
   ]
  },
  {
   "cell_type": "code",
   "execution_count": null,
   "metadata": {},
   "outputs": [],
   "source": [
    "data = pd.read_csv(r\"newdataset\\2023.csv\")\n",
    "df = pd.DataFrame(data)\n",
    "\n",
    "df.columns.tolist()\n",
    "\n",
    "# drop irrelevant columns\n",
    "df = df.drop(['aliases',\n",
    " 'subjects_offered',\n",
    " 'closed',\n",
    " 'unaccredited',\n",
    " 'disabled',\n",
    " 'website_url',\n",
    " 'record_type', \n",
    " 'member_level', \n",
    " 'url', 'nid', \n",
    " 'location',\n",
    " 'rank'\n",
    " ], axis= 1)\n",
    "df\n",
    "df.to_csv(r\"\", index=False)"
   ]
  },
  {
   "cell_type": "code",
   "execution_count": 28,
   "metadata": {},
   "outputs": [],
   "source": [
    "# Changing column name\n",
    "\n",
    "data = pd.read_csv(r\"notebooks/combined (2020-24 v2).csv\")\n",
    "df = pd.DataFrame(data)\n",
    "df = df.rename(columns={\n",
    "    'scores_overall_rank': 'rank',\n",
    "})\n",
    "\n",
    "#df.to_csv(r\"notebooks/combined (2020-24 v2).csv\", index=False)"
   ]
  },
  {
   "cell_type": "code",
   "execution_count": null,
   "metadata": {},
   "outputs": [],
   "source": [
    "# replacing na values with 0\n",
    "df = pd.read_csv(r\"newdataset\\combined (2020-24.csv)\")\n",
    "columns = ['rank_order', 'name', 'scores_overall',             'scores_overall_rank',\n",
    "       'scores_teaching', 'scores_teaching_rank', 'scores_research',\n",
    "       'scores_research_rank', 'scores_citations', 'scores_citations_rank',\n",
    "       'scores_industry_income', 'scores_industry_income_rank',\n",
    "       'scores_international_outlook', 'scores_international_outlook_rank',\n",
    "       'stats_number_students', 'stats_student_staff_ratio',\n",
    "       'stats_pc_intl_students', 'stats_female_male_ratio']\n",
    "\n",
    "for col in columns:\n",
    "    df[col] = df[col].fillna(0)\n",
    "\n",
    "#df.to_csv(r\"newdataset\\combined (2020-24.csv)\", index=False)"
   ]
  },
  {
   "cell_type": "code",
   "execution_count": 22,
   "metadata": {},
   "outputs": [],
   "source": [
    "df['rank'] = df['rank']/10\n",
    "#df.to_csv('combined (2020-24 v3).csv', index=False)"
   ]
  },
  {
   "cell_type": "code",
   "execution_count": 27,
   "metadata": {},
   "outputs": [],
   "source": [
    "df['rank'] = df['rank'].astype(int)\n",
    "#df.to_csv('combined (2020-24 v3).csv', index=False)"
   ]
  },
  {
   "cell_type": "markdown",
   "metadata": {},
   "source": [
    "Cleaning columns :\n",
    "stats_number_students ,stats_student_staff_ratio,stats_pc_intl_students,stats_female_male_ratio"
   ]
  },
  {
   "cell_type": "code",
   "execution_count": 16,
   "metadata": {},
   "outputs": [
    {
     "name": "stdout",
     "output_type": "stream",
     "text": [
      "<class 'pandas.core.frame.DataFrame'>\n",
      "RangeIndex: 10053 entries, 0 to 10052\n",
      "Data columns (total 18 columns):\n",
      " #   Column                             Non-Null Count  Dtype  \n",
      "---  ------                             --------------  -----  \n",
      " 0   name                               10053 non-null  object \n",
      " 1   scores_overall                     2771 non-null   float64\n",
      " 2   rank                               10053 non-null  int64  \n",
      " 3   scores_teaching                    10053 non-null  float64\n",
      " 4   scores_teaching_rank               10053 non-null  int64  \n",
      " 5   scores_research                    10053 non-null  float64\n",
      " 6   scores_research_rank               10053 non-null  int64  \n",
      " 7   scores_citations                   10053 non-null  float64\n",
      " 8   scores_citations_rank              10053 non-null  int64  \n",
      " 9   scores_industry_income             10053 non-null  float64\n",
      " 10  scores_industry_income_rank        10053 non-null  int64  \n",
      " 11  scores_international_outlook       10053 non-null  float64\n",
      " 12  scores_international_outlook_rank  10053 non-null  int64  \n",
      " 13  stats_number_students              185 non-null    float64\n",
      " 14  stats_student_staff_ratio          10053 non-null  float64\n",
      " 15  stats_pc_intl_students             0 non-null      float64\n",
      " 16  stats_female_male_ratio            10053 non-null  object \n",
      " 17  year                               10053 non-null  int64  \n",
      "dtypes: float64(9), int64(7), object(2)\n",
      "memory usage: 1.4+ MB\n"
     ]
    }
   ],
   "source": [
    "df.info()"
   ]
  },
  {
   "cell_type": "code",
   "execution_count": 20,
   "metadata": {},
   "outputs": [
    {
     "data": {
      "text/plain": [
       "0        46 : 54\n",
       "1        34 : 66\n",
       "2        47 : 53\n",
       "3        43 : 57\n",
       "4        39 : 61\n",
       "          ...   \n",
       "10048    60 : 40\n",
       "10049    66 : 34\n",
       "10050    40 : 60\n",
       "10051    55 : 45\n",
       "10052    58 : 42\n",
       "Name: stats_female_male_ratio, Length: 10053, dtype: object"
      ]
     },
     "execution_count": 20,
     "metadata": {},
     "output_type": "execute_result"
    }
   ],
   "source": [
    "df['stats_female_male_ratio']"
   ]
  },
  {
   "cell_type": "code",
   "execution_count": 23,
   "metadata": {},
   "outputs": [
    {
     "name": "stdout",
     "output_type": "stream",
     "text": [
      "0        0.851852\n",
      "1        0.515152\n",
      "2        0.886792\n",
      "3        0.754386\n",
      "4        0.639344\n",
      "           ...   \n",
      "10048    1.500000\n",
      "10049    1.941176\n",
      "10050    0.666667\n",
      "10051    1.222222\n",
      "10052    1.380952\n",
      "Name: stats_female_male_ratio, Length: 10053, dtype: float64\n"
     ]
    }
   ],
   "source": [
    "import pandas as pd\n",
    "\n",
    "data = pd.read_csv(r\"notebooks\\combined (2020-24 v3).csv\")\n",
    "df = pd.DataFrame(data)\n",
    "\n",
    "# Remove extra spaces in column names\n",
    "df.columns = df.columns.str.strip()\n",
    "\n",
    "# Convert the 'stats_female_male_ratio' column to numerical values\n",
    "df['stats_female_male_ratio'] = df['stats_female_male_ratio'].apply(lambda x: pd.eval(x.replace(':', '/')) if isinstance(x, str) else x)\n",
    "\n",
    "print(df['stats_female_male_ratio'])\n",
    "\n",
    "#df.to_csv(r'notebooks\\combined (2020-24 v3).csv', index= False)"
   ]
  },
  {
   "cell_type": "code",
   "execution_count": 24,
   "metadata": {},
   "outputs": [
    {
     "name": "stdout",
     "output_type": "stream",
     "text": [
      "<class 'pandas.core.frame.DataFrame'>\n",
      "RangeIndex: 10053 entries, 0 to 10052\n",
      "Data columns (total 18 columns):\n",
      " #   Column                             Non-Null Count  Dtype  \n",
      "---  ------                             --------------  -----  \n",
      " 0   name                               10053 non-null  object \n",
      " 1   scores_overall                     10053 non-null  object \n",
      " 2   rank                               10053 non-null  int64  \n",
      " 3   scores_teaching                    10053 non-null  float64\n",
      " 4   scores_teaching_rank               10053 non-null  int64  \n",
      " 5   scores_research                    10053 non-null  float64\n",
      " 6   scores_research_rank               10053 non-null  int64  \n",
      " 7   scores_citations                   10053 non-null  float64\n",
      " 8   scores_citations_rank              10053 non-null  int64  \n",
      " 9   scores_industry_income             10053 non-null  float64\n",
      " 10  scores_industry_income_rank        10053 non-null  int64  \n",
      " 11  scores_international_outlook       10053 non-null  float64\n",
      " 12  scores_international_outlook_rank  10053 non-null  int64  \n",
      " 13  stats_number_students              10053 non-null  object \n",
      " 14  stats_student_staff_ratio          10053 non-null  float64\n",
      " 15  stats_pc_intl_students             10053 non-null  object \n",
      " 16  stats_female_male_ratio            10053 non-null  float64\n",
      " 17  year                               10053 non-null  int64  \n",
      "dtypes: float64(7), int64(7), object(4)\n",
      "memory usage: 1.4+ MB\n"
     ]
    }
   ],
   "source": [
    "df.info()"
   ]
  },
  {
   "cell_type": "code",
   "execution_count": 25,
   "metadata": {},
   "outputs": [
    {
     "data": {
      "text/plain": [
       "0        20,665\n",
       "1         2,240\n",
       "2        18,980\n",
       "3        16,135\n",
       "4        11,247\n",
       "          ...  \n",
       "10048     5,881\n",
       "10049     4,872\n",
       "10050     4,454\n",
       "10051    31,103\n",
       "10052     5,672\n",
       "Name: stats_number_students, Length: 10053, dtype: object"
      ]
     },
     "execution_count": 25,
     "metadata": {},
     "output_type": "execute_result"
    }
   ],
   "source": [
    "df['stats_number_students']"
   ]
  },
  {
   "cell_type": "code",
   "execution_count": 28,
   "metadata": {},
   "outputs": [
    {
     "name": "stdout",
     "output_type": "stream",
     "text": [
      "0        20665.0\n",
      "1         2240.0\n",
      "2        18980.0\n",
      "3        16135.0\n",
      "4        11247.0\n",
      "          ...   \n",
      "10048     5881.0\n",
      "10049     4872.0\n",
      "10050     4454.0\n",
      "10051    31103.0\n",
      "10052     5672.0\n",
      "Name: stats_number_students, Length: 10053, dtype: float64\n"
     ]
    }
   ],
   "source": [
    "import pandas as pd\n",
    "\n",
    "data = pd.read_csv(r\"notebooks\\combined (2020-24 v3).csv\")\n",
    "df = pd.DataFrame(data)\n",
    "\n",
    "# Remove extra spaces in column names\n",
    "df.columns = df.columns.str.strip()\n",
    "\n",
    "# Remove commas and convert 'stats_number_students' to numeric\n",
    "df['stats_number_students'] = df['stats_number_students'].str.replace(',', '').astype(float)\n",
    "\n",
    "# Display the DataFrame\n",
    "print(df['stats_number_students'])\n",
    "#df.to_csv(r'notebooks\\combined (2020-24 v3).csv', index= False)"
   ]
  },
  {
   "cell_type": "code",
   "execution_count": 29,
   "metadata": {},
   "outputs": [
    {
     "name": "stdout",
     "output_type": "stream",
     "text": [
      "<class 'pandas.core.frame.DataFrame'>\n",
      "RangeIndex: 10053 entries, 0 to 10052\n",
      "Data columns (total 18 columns):\n",
      " #   Column                             Non-Null Count  Dtype  \n",
      "---  ------                             --------------  -----  \n",
      " 0   name                               10053 non-null  object \n",
      " 1   scores_overall                     10053 non-null  object \n",
      " 2   rank                               10053 non-null  int64  \n",
      " 3   scores_teaching                    10053 non-null  float64\n",
      " 4   scores_teaching_rank               10053 non-null  int64  \n",
      " 5   scores_research                    10053 non-null  float64\n",
      " 6   scores_research_rank               10053 non-null  int64  \n",
      " 7   scores_citations                   10053 non-null  float64\n",
      " 8   scores_citations_rank              10053 non-null  int64  \n",
      " 9   scores_industry_income             10053 non-null  float64\n",
      " 10  scores_industry_income_rank        10053 non-null  int64  \n",
      " 11  scores_international_outlook       10053 non-null  float64\n",
      " 12  scores_international_outlook_rank  10053 non-null  int64  \n",
      " 13  stats_number_students              10053 non-null  float64\n",
      " 14  stats_student_staff_ratio          10053 non-null  float64\n",
      " 15  stats_pc_intl_students             10053 non-null  object \n",
      " 16  stats_female_male_ratio            10053 non-null  float64\n",
      " 17  year                               10053 non-null  int64  \n",
      "dtypes: float64(8), int64(7), object(3)\n",
      "memory usage: 1.4+ MB\n"
     ]
    }
   ],
   "source": [
    "df.info()"
   ]
  },
  {
   "cell_type": "code",
   "execution_count": 30,
   "metadata": {},
   "outputs": [
    {
     "data": {
      "text/plain": [
       "0        41%\n",
       "1        30%\n",
       "2        37%\n",
       "3        23%\n",
       "4        34%\n",
       "        ... \n",
       "10048    35%\n",
       "10049     0%\n",
       "10050     1%\n",
       "10051     0%\n",
       "10052     0%\n",
       "Name: stats_pc_intl_students, Length: 10053, dtype: object"
      ]
     },
     "execution_count": 30,
     "metadata": {},
     "output_type": "execute_result"
    }
   ],
   "source": [
    "df['stats_pc_intl_students']"
   ]
  },
  {
   "cell_type": "code",
   "execution_count": 34,
   "metadata": {},
   "outputs": [
    {
     "name": "stdout",
     "output_type": "stream",
     "text": [
      "0        41.0\n",
      "1        30.0\n",
      "2        37.0\n",
      "3        23.0\n",
      "4        34.0\n",
      "         ... \n",
      "10048    35.0\n",
      "10049     0.0\n",
      "10050     1.0\n",
      "10051     0.0\n",
      "10052     0.0\n",
      "Name: stats_pc_intl_students, Length: 10053, dtype: float64\n"
     ]
    }
   ],
   "source": [
    "import pandas as pd\n",
    "\n",
    "data = pd.read_csv(r\"notebooks\\combined (2020-24 v3).csv\")\n",
    "df = pd.DataFrame(data)\n",
    "\n",
    "# Remove extra spaces in column names\n",
    "df.columns = df.columns.str.strip()\n",
    "\n",
    "df['stats_pc_intl_students'] = pd.to_numeric(df['stats_pc_intl_students'].str.rstrip('%'), errors='coerce')\n",
    "\n",
    "print(df['stats_pc_intl_students'])\n",
    "#df.to_csv(r'notebooks\\combined (2020-24 v3).csv', index= False)"
   ]
  }
 ],
 "metadata": {
  "kernelspec": {
   "display_name": "Python 3",
   "language": "python",
   "name": "python3"
  },
  "language_info": {
   "codemirror_mode": {
    "name": "ipython",
    "version": 3
   },
   "file_extension": ".py",
   "mimetype": "text/x-python",
   "name": "python",
   "nbconvert_exporter": "python",
   "pygments_lexer": "ipython3",
   "version": "3.11.2"
  }
 },
 "nbformat": 4,
 "nbformat_minor": 2
}
