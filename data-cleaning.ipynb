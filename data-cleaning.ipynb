{
 "cells": [
  {
   "cell_type": "code",
   "execution_count": 2,
   "metadata": {},
   "outputs": [],
   "source": [
    "import numpy as np\n",
    "import pandas as pd"
   ]
  },
  {
   "cell_type": "markdown",
   "metadata": {},
   "source": [
    "Top 20 uni"
   ]
  },
  {
   "cell_type": "code",
   "execution_count": 22,
   "metadata": {},
   "outputs": [
    {
     "data": {
      "text/html": [
       "<div>\n",
       "<style scoped>\n",
       "    .dataframe tbody tr th:only-of-type {\n",
       "        vertical-align: middle;\n",
       "    }\n",
       "\n",
       "    .dataframe tbody tr th {\n",
       "        vertical-align: top;\n",
       "    }\n",
       "\n",
       "    .dataframe thead th {\n",
       "        text-align: right;\n",
       "    }\n",
       "</style>\n",
       "<table border=\"1\" class=\"dataframe\">\n",
       "  <thead>\n",
       "    <tr style=\"text-align: right;\">\n",
       "      <th></th>\n",
       "      <th>rank</th>\n",
       "      <th>name</th>\n",
       "      <th>scores_overall</th>\n",
       "      <th>scores_overall_rank</th>\n",
       "      <th>scores_teaching</th>\n",
       "      <th>scores_teaching_rank</th>\n",
       "      <th>scores_research</th>\n",
       "      <th>scores_research_rank</th>\n",
       "      <th>scores_citations</th>\n",
       "      <th>scores_citations_rank</th>\n",
       "      <th>...</th>\n",
       "      <th>stats_number_students</th>\n",
       "      <th>stats_student_staff_ratio</th>\n",
       "      <th>stats_pc_intl_students</th>\n",
       "      <th>stats_female_male_ratio</th>\n",
       "      <th>aliases</th>\n",
       "      <th>subjects_offered</th>\n",
       "      <th>closed</th>\n",
       "      <th>unaccredited</th>\n",
       "      <th>disabled</th>\n",
       "      <th>website_url</th>\n",
       "    </tr>\n",
       "  </thead>\n",
       "  <tbody>\n",
       "    <tr>\n",
       "      <th>0</th>\n",
       "      <td>1</td>\n",
       "      <td>University of Oxford</td>\n",
       "      <td>98.5</td>\n",
       "      <td>10</td>\n",
       "      <td>96.6</td>\n",
       "      <td>5</td>\n",
       "      <td>100.0</td>\n",
       "      <td>2</td>\n",
       "      <td>99.0</td>\n",
       "      <td>5</td>\n",
       "      <td>...</td>\n",
       "      <td>21,750</td>\n",
       "      <td>10.9</td>\n",
       "      <td>42%</td>\n",
       "      <td>49 : 51</td>\n",
       "      <td>University of Oxford</td>\n",
       "      <td>Geography,Chemistry,Chemical Engineering,Biolo...</td>\n",
       "      <td>False</td>\n",
       "      <td>False</td>\n",
       "      <td>False</td>\n",
       "      <td>https://www.timeshighereducation.com/student/r...</td>\n",
       "    </tr>\n",
       "    <tr>\n",
       "      <th>1</th>\n",
       "      <td>2</td>\n",
       "      <td>Stanford University</td>\n",
       "      <td>98.0</td>\n",
       "      <td>20</td>\n",
       "      <td>99.0</td>\n",
       "      <td>1</td>\n",
       "      <td>97.8</td>\n",
       "      <td>8</td>\n",
       "      <td>99.6</td>\n",
       "      <td>2</td>\n",
       "      <td>...</td>\n",
       "      <td>14,517</td>\n",
       "      <td>6.4</td>\n",
       "      <td>23%</td>\n",
       "      <td>47 : 53</td>\n",
       "      <td>Stanford University</td>\n",
       "      <td>Computer Science,Communication &amp; Media Studies...</td>\n",
       "      <td>False</td>\n",
       "      <td>False</td>\n",
       "      <td>False</td>\n",
       "      <td>NaN</td>\n",
       "    </tr>\n",
       "    <tr>\n",
       "      <th>2</th>\n",
       "      <td>3</td>\n",
       "      <td>Massachusetts Institute of Technology</td>\n",
       "      <td>97.9</td>\n",
       "      <td>30</td>\n",
       "      <td>98.6</td>\n",
       "      <td>2</td>\n",
       "      <td>96.2</td>\n",
       "      <td>11</td>\n",
       "      <td>99.7</td>\n",
       "      <td>1</td>\n",
       "      <td>...</td>\n",
       "      <td>11,085</td>\n",
       "      <td>8.0</td>\n",
       "      <td>33%</td>\n",
       "      <td>41 : 59</td>\n",
       "      <td>Massachusetts Institute of Technology</td>\n",
       "      <td>Architecture,Economics &amp; Econometrics,Archaeol...</td>\n",
       "      <td>False</td>\n",
       "      <td>False</td>\n",
       "      <td>False</td>\n",
       "      <td>https://www.timeshighereducation.com/student/r...</td>\n",
       "    </tr>\n",
       "  </tbody>\n",
       "</table>\n",
       "<p>3 rows × 29 columns</p>\n",
       "</div>"
      ],
      "text/plain": [
       "  rank                                   name scores_overall  \\\n",
       "0    1                   University of Oxford           98.5   \n",
       "1    2                    Stanford University           98.0   \n",
       "2    3  Massachusetts Institute of Technology           97.9   \n",
       "\n",
       "   scores_overall_rank  scores_teaching  scores_teaching_rank  \\\n",
       "0                   10             96.6                     5   \n",
       "1                   20             99.0                     1   \n",
       "2                   30             98.6                     2   \n",
       "\n",
       "   scores_research  scores_research_rank  scores_citations  \\\n",
       "0            100.0                     2              99.0   \n",
       "1             97.8                     8              99.6   \n",
       "2             96.2                    11              99.7   \n",
       "\n",
       "   scores_citations_rank  ...  stats_number_students  \\\n",
       "0                      5  ...                 21,750   \n",
       "1                      2  ...                 14,517   \n",
       "2                      1  ...                 11,085   \n",
       "\n",
       "   stats_student_staff_ratio  stats_pc_intl_students  stats_female_male_ratio  \\\n",
       "0                       10.9                     42%                  49 : 51   \n",
       "1                        6.4                     23%                  47 : 53   \n",
       "2                        8.0                     33%                  41 : 59   \n",
       "\n",
       "                                 aliases  \\\n",
       "0                   University of Oxford   \n",
       "1                    Stanford University   \n",
       "2  Massachusetts Institute of Technology   \n",
       "\n",
       "                                    subjects_offered closed  unaccredited  \\\n",
       "0  Geography,Chemistry,Chemical Engineering,Biolo...  False         False   \n",
       "1  Computer Science,Communication & Media Studies...  False         False   \n",
       "2  Architecture,Economics & Econometrics,Archaeol...  False         False   \n",
       "\n",
       "  disabled                                        website_url  \n",
       "0    False  https://www.timeshighereducation.com/student/r...  \n",
       "1    False                                                NaN  \n",
       "2    False  https://www.timeshighereducation.com/student/r...  \n",
       "\n",
       "[3 rows x 29 columns]"
      ]
     },
     "execution_count": 22,
     "metadata": {},
     "output_type": "execute_result"
    }
   ],
   "source": [
    "data = pd.read_csv(r'2020-2024\\TIMES_WorldUniversityRankings_2024.csv')\n",
    "df = pd.DataFrame(data)\n",
    "df.head(3)\n",
    "# df.tail(3) #check for inconsistensies with data head/tail"
   ]
  },
  {
   "cell_type": "code",
   "execution_count": 23,
   "metadata": {},
   "outputs": [
    {
     "name": "stdout",
     "output_type": "stream",
     "text": [
      "<class 'pandas.core.frame.DataFrame'>\n",
      "RangeIndex: 2673 entries, 0 to 2672\n",
      "Data columns (total 29 columns):\n",
      " #   Column                             Non-Null Count  Dtype  \n",
      "---  ------                             --------------  -----  \n",
      " 0   rank                               2673 non-null   object \n",
      " 1   name                               2673 non-null   object \n",
      " 2   scores_overall                     1904 non-null   object \n",
      " 3   scores_overall_rank                2673 non-null   int64  \n",
      " 4   scores_teaching                    1904 non-null   float64\n",
      " 5   scores_teaching_rank               2673 non-null   int64  \n",
      " 6   scores_research                    1904 non-null   float64\n",
      " 7   scores_research_rank               2673 non-null   int64  \n",
      " 8   scores_citations                   1904 non-null   float64\n",
      " 9   scores_citations_rank              2673 non-null   int64  \n",
      " 10  scores_industry_income             1904 non-null   float64\n",
      " 11  scores_industry_income_rank        2673 non-null   int64  \n",
      " 12  scores_international_outlook       1904 non-null   float64\n",
      " 13  scores_international_outlook_rank  2673 non-null   int64  \n",
      " 14  record_type                        2673 non-null   object \n",
      " 15  member_level                       2673 non-null   int64  \n",
      " 16  url                                2673 non-null   object \n",
      " 17  nid                                2673 non-null   int64  \n",
      " 18  location                           2673 non-null   object \n",
      " 19  stats_number_students              2673 non-null   object \n",
      " 20  stats_student_staff_ratio          2673 non-null   float64\n",
      " 21  stats_pc_intl_students             2673 non-null   object \n",
      " 22  stats_female_male_ratio            2580 non-null   object \n",
      " 23  aliases                            2673 non-null   object \n",
      " 24  subjects_offered                   2669 non-null   object \n",
      " 25  closed                             2673 non-null   bool   \n",
      " 26  unaccredited                       2673 non-null   bool   \n",
      " 27  disabled                           2673 non-null   bool   \n",
      " 28  website_url                        344 non-null    object \n",
      "dtypes: bool(3), float64(6), int64(8), object(12)\n",
      "memory usage: 550.9+ KB\n"
     ]
    },
    {
     "data": {
      "text/plain": [
       "rank                                  object\n",
       "name                                  object\n",
       "scores_overall                        object\n",
       "scores_overall_rank                    int64\n",
       "scores_teaching                      float64\n",
       "scores_teaching_rank                   int64\n",
       "scores_research                      float64\n",
       "scores_research_rank                   int64\n",
       "scores_citations                     float64\n",
       "scores_citations_rank                  int64\n",
       "scores_industry_income               float64\n",
       "scores_industry_income_rank            int64\n",
       "scores_international_outlook         float64\n",
       "scores_international_outlook_rank      int64\n",
       "record_type                           object\n",
       "member_level                           int64\n",
       "url                                   object\n",
       "nid                                    int64\n",
       "location                              object\n",
       "stats_number_students                 object\n",
       "stats_student_staff_ratio            float64\n",
       "stats_pc_intl_students                object\n",
       "stats_female_male_ratio               object\n",
       "aliases                               object\n",
       "subjects_offered                      object\n",
       "closed                                  bool\n",
       "unaccredited                            bool\n",
       "disabled                                bool\n",
       "website_url                           object\n",
       "dtype: object"
      ]
     },
     "execution_count": 23,
     "metadata": {},
     "output_type": "execute_result"
    }
   ],
   "source": [
    "df.info()\n",
    "df.dtypes"
   ]
  },
  {
   "cell_type": "markdown",
   "metadata": {},
   "source": [
    "Column names"
   ]
  },
  {
   "cell_type": "code",
   "execution_count": 24,
   "metadata": {},
   "outputs": [
    {
     "data": {
      "text/plain": [
       "Index(['rank', 'name', 'scores_overall', 'scores_overall_rank',\n",
       "       'scores_teaching', 'scores_teaching_rank', 'scores_research',\n",
       "       'scores_research_rank', 'scores_citations', 'scores_citations_rank',\n",
       "       'scores_industry_income', 'scores_industry_income_rank',\n",
       "       'scores_international_outlook', 'scores_international_outlook_rank',\n",
       "       'stats_number_students', 'stats_student_staff_ratio',\n",
       "       'stats_pc_intl_students', 'stats_female_male_ratio'],\n",
       "      dtype='object')"
      ]
     },
     "execution_count": 24,
     "metadata": {},
     "output_type": "execute_result"
    }
   ],
   "source": [
    "df.columns.tolist()\n",
    "\n",
    "# drop irrelevant columns\n",
    "data = data.drop(['aliases',\n",
    " 'subjects_offered',\n",
    " 'closed',\n",
    " 'unaccredited',\n",
    " 'disabled',\n",
    " 'website_url',\n",
    " 'record_type', \n",
    " 'member_level', \n",
    " 'url', 'nid', \n",
    " 'location'], axis= 1)\n",
    "data.columns"
   ]
  },
  {
   "cell_type": "code",
   "execution_count": 29,
   "metadata": {},
   "outputs": [],
   "source": [
    "df = pd.DataFrame(data)\n",
    "df_new = df.head(20)\n",
    "df_new\n",
    "df_new.to_csv('')"
   ]
  },
  {
   "cell_type": "code",
   "execution_count": 26,
   "metadata": {},
   "outputs": [
    {
     "data": {
      "text/plain": [
       "73"
      ]
     },
     "execution_count": 26,
     "metadata": {},
     "output_type": "execute_result"
    }
   ],
   "source": [
    "data1.isnull().sum().sum() # check for null values\n",
    "#data.dropna(axis=0, inplace=True) # drop null values\n",
    "#data.duplicated().sum() # check for duplicates"
   ]
  }
 ],
 "metadata": {
  "kernelspec": {
   "display_name": "Python 3",
   "language": "python",
   "name": "python3"
  },
  "language_info": {
   "codemirror_mode": {
    "name": "ipython",
    "version": 3
   },
   "file_extension": ".py",
   "mimetype": "text/x-python",
   "name": "python",
   "nbconvert_exporter": "python",
   "pygments_lexer": "ipython3",
   "version": "3.11.2"
  }
 },
 "nbformat": 4,
 "nbformat_minor": 2
}
