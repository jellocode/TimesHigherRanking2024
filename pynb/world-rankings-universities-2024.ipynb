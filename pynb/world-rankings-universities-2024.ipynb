{
 "cells": [
  {
   "cell_type": "markdown",
   "id": "8fb7dff2",
   "metadata": {
    "papermill": {
     "duration": 0.010288,
     "end_time": "2023-10-01T21:44:50.644875",
     "exception": false,
     "start_time": "2023-10-01T21:44:50.634587",
     "status": "completed"
    },
    "tags": []
   },
   "source": [
    "### Set up the Notebook"
   ]
  },
  {
   "cell_type": "code",
   "execution_count": 1,
   "id": "f7f38800",
   "metadata": {
    "_cell_guid": "b1076dfc-b9ad-4769-8c92-a6c4dae69d19",
    "_uuid": "8f2839f25d086af736a60e9eeb907d3b93b6e0e5",
    "execution": {
     "iopub.execute_input": "2023-10-01T21:44:50.668529Z",
     "iopub.status.busy": "2023-10-01T21:44:50.668154Z",
     "iopub.status.idle": "2023-10-01T21:44:53.501502Z",
     "shell.execute_reply": "2023-10-01T21:44:53.500325Z"
    },
    "papermill": {
     "duration": 2.848762,
     "end_time": "2023-10-01T21:44:53.504026",
     "exception": false,
     "start_time": "2023-10-01T21:44:50.655264",
     "status": "completed"
    },
    "tags": []
   },
   "outputs": [
    {
     "name": "stdout",
     "output_type": "stream",
     "text": [
      "/kaggle/input/timesworlduniversityrankings2024/TIMES_WorldUniversityRankings_2024.csv\n"
     ]
    }
   ],
   "source": [
    "# Importing Libraries\n",
    "import numpy as np # linear algebra\n",
    "import pandas as pd # data processing, CSV file I/O (e.g. pd.read_csv)\n",
    "# Data Visualization Libraries\n",
    "import matplotlib.pyplot as plt\n",
    "import seaborn as sns\n",
    "\n",
    "# Input data files are available in the read-only \"../input/\" directory\n",
    "# For example, running this (by clicking run or pressing Shift+Enter) will list all files under the input directory\n",
    "\n",
    "import os\n",
    "for dirname, _, filenames in os.walk('/kaggle/input'):\n",
    "    for filename in filenames:\n",
    "        print(os.path.join(dirname, filename))"
   ]
  },
  {
   "cell_type": "markdown",
   "id": "f7ad89d9",
   "metadata": {
    "papermill": {
     "duration": 0.009497,
     "end_time": "2023-10-01T21:44:53.524641",
     "exception": false,
     "start_time": "2023-10-01T21:44:53.515144",
     "status": "completed"
    },
    "tags": []
   },
   "source": [
    "### Loading up the dataset"
   ]
  },
  {
   "cell_type": "code",
   "execution_count": 2,
   "id": "ca0c188e",
   "metadata": {
    "execution": {
     "iopub.execute_input": "2023-10-01T21:44:53.546368Z",
     "iopub.status.busy": "2023-10-01T21:44:53.545890Z",
     "iopub.status.idle": "2023-10-01T21:44:53.653849Z",
     "shell.execute_reply": "2023-10-01T21:44:53.652427Z"
    },
    "papermill": {
     "duration": 0.121508,
     "end_time": "2023-10-01T21:44:53.656550",
     "exception": false,
     "start_time": "2023-10-01T21:44:53.535042",
     "status": "completed"
    },
    "tags": []
   },
   "outputs": [],
   "source": [
    "data = pd.read_csv(\"/kaggle/input/timesworlduniversityrankings2024/TIMES_WorldUniversityRankings_2024.csv\")"
   ]
  },
  {
   "cell_type": "markdown",
   "id": "f84474cc",
   "metadata": {
    "papermill": {
     "duration": 0.010578,
     "end_time": "2023-10-01T21:44:53.677539",
     "exception": false,
     "start_time": "2023-10-01T21:44:53.666961",
     "status": "completed"
    },
    "tags": []
   },
   "source": [
    "### Initial Inspection of the Dataframe"
   ]
  },
  {
   "cell_type": "code",
   "execution_count": 3,
   "id": "b709ed05",
   "metadata": {
    "execution": {
     "iopub.execute_input": "2023-10-01T21:44:53.700056Z",
     "iopub.status.busy": "2023-10-01T21:44:53.699655Z",
     "iopub.status.idle": "2023-10-01T21:44:53.747754Z",
     "shell.execute_reply": "2023-10-01T21:44:53.746544Z"
    },
    "papermill": {
     "duration": 0.062061,
     "end_time": "2023-10-01T21:44:53.750067",
     "exception": false,
     "start_time": "2023-10-01T21:44:53.688006",
     "status": "completed"
    },
    "tags": []
   },
   "outputs": [
    {
     "name": "stdout",
     "output_type": "stream",
     "text": [
      "First 10 rows\n"
     ]
    },
    {
     "data": {
      "text/html": [
       "<div>\n",
       "<style scoped>\n",
       "    .dataframe tbody tr th:only-of-type {\n",
       "        vertical-align: middle;\n",
       "    }\n",
       "\n",
       "    .dataframe tbody tr th {\n",
       "        vertical-align: top;\n",
       "    }\n",
       "\n",
       "    .dataframe thead th {\n",
       "        text-align: right;\n",
       "    }\n",
       "</style>\n",
       "<table border=\"1\" class=\"dataframe\">\n",
       "  <thead>\n",
       "    <tr style=\"text-align: right;\">\n",
       "      <th></th>\n",
       "      <th>rank</th>\n",
       "      <th>name</th>\n",
       "      <th>scores_overall</th>\n",
       "      <th>scores_overall_rank</th>\n",
       "      <th>scores_teaching</th>\n",
       "      <th>scores_teaching_rank</th>\n",
       "      <th>scores_research</th>\n",
       "      <th>scores_research_rank</th>\n",
       "      <th>scores_citations</th>\n",
       "      <th>scores_citations_rank</th>\n",
       "      <th>...</th>\n",
       "      <th>stats_number_students</th>\n",
       "      <th>stats_student_staff_ratio</th>\n",
       "      <th>stats_pc_intl_students</th>\n",
       "      <th>stats_female_male_ratio</th>\n",
       "      <th>aliases</th>\n",
       "      <th>subjects_offered</th>\n",
       "      <th>closed</th>\n",
       "      <th>unaccredited</th>\n",
       "      <th>disabled</th>\n",
       "      <th>website_url</th>\n",
       "    </tr>\n",
       "  </thead>\n",
       "  <tbody>\n",
       "    <tr>\n",
       "      <th>0</th>\n",
       "      <td>1</td>\n",
       "      <td>University of Oxford</td>\n",
       "      <td>98.5</td>\n",
       "      <td>10</td>\n",
       "      <td>96.6</td>\n",
       "      <td>5</td>\n",
       "      <td>100.0</td>\n",
       "      <td>2</td>\n",
       "      <td>99.0</td>\n",
       "      <td>5</td>\n",
       "      <td>...</td>\n",
       "      <td>21,750</td>\n",
       "      <td>10.9</td>\n",
       "      <td>42%</td>\n",
       "      <td>49 : 51</td>\n",
       "      <td>University of Oxford</td>\n",
       "      <td>Geography,Chemistry,Chemical Engineering,Biolo...</td>\n",
       "      <td>False</td>\n",
       "      <td>False</td>\n",
       "      <td>False</td>\n",
       "      <td>https://www.timeshighereducation.com/student/r...</td>\n",
       "    </tr>\n",
       "    <tr>\n",
       "      <th>1</th>\n",
       "      <td>2</td>\n",
       "      <td>Stanford University</td>\n",
       "      <td>98.0</td>\n",
       "      <td>20</td>\n",
       "      <td>99.0</td>\n",
       "      <td>1</td>\n",
       "      <td>97.8</td>\n",
       "      <td>8</td>\n",
       "      <td>99.6</td>\n",
       "      <td>2</td>\n",
       "      <td>...</td>\n",
       "      <td>14,517</td>\n",
       "      <td>6.4</td>\n",
       "      <td>23%</td>\n",
       "      <td>47 : 53</td>\n",
       "      <td>Stanford University</td>\n",
       "      <td>Computer Science,Communication &amp; Media Studies...</td>\n",
       "      <td>False</td>\n",
       "      <td>False</td>\n",
       "      <td>False</td>\n",
       "      <td>NaN</td>\n",
       "    </tr>\n",
       "    <tr>\n",
       "      <th>2</th>\n",
       "      <td>3</td>\n",
       "      <td>Massachusetts Institute of Technology</td>\n",
       "      <td>97.9</td>\n",
       "      <td>30</td>\n",
       "      <td>98.6</td>\n",
       "      <td>2</td>\n",
       "      <td>96.2</td>\n",
       "      <td>11</td>\n",
       "      <td>99.7</td>\n",
       "      <td>1</td>\n",
       "      <td>...</td>\n",
       "      <td>11,085</td>\n",
       "      <td>8.0</td>\n",
       "      <td>33%</td>\n",
       "      <td>41 : 59</td>\n",
       "      <td>Massachusetts Institute of Technology</td>\n",
       "      <td>Architecture,Economics &amp; Econometrics,Archaeol...</td>\n",
       "      <td>False</td>\n",
       "      <td>False</td>\n",
       "      <td>False</td>\n",
       "      <td>https://www.timeshighereducation.com/student/r...</td>\n",
       "    </tr>\n",
       "    <tr>\n",
       "      <th>3</th>\n",
       "      <td>4</td>\n",
       "      <td>Harvard University</td>\n",
       "      <td>97.8</td>\n",
       "      <td>40</td>\n",
       "      <td>97.7</td>\n",
       "      <td>3</td>\n",
       "      <td>99.9</td>\n",
       "      <td>3</td>\n",
       "      <td>99.4</td>\n",
       "      <td>3</td>\n",
       "      <td>...</td>\n",
       "      <td>20,050</td>\n",
       "      <td>9.0</td>\n",
       "      <td>25%</td>\n",
       "      <td>51 : 49</td>\n",
       "      <td>Harvard University</td>\n",
       "      <td>Sociology,Architecture,Physics &amp; Astronomy,Psy...</td>\n",
       "      <td>False</td>\n",
       "      <td>False</td>\n",
       "      <td>False</td>\n",
       "      <td>https://www.timeshighereducation.com/student/r...</td>\n",
       "    </tr>\n",
       "    <tr>\n",
       "      <th>4</th>\n",
       "      <td>5</td>\n",
       "      <td>University of Cambridge</td>\n",
       "      <td>97.5</td>\n",
       "      <td>50</td>\n",
       "      <td>95.8</td>\n",
       "      <td>7</td>\n",
       "      <td>100.0</td>\n",
       "      <td>1</td>\n",
       "      <td>98.0</td>\n",
       "      <td>12</td>\n",
       "      <td>...</td>\n",
       "      <td>20,565</td>\n",
       "      <td>11.5</td>\n",
       "      <td>38%</td>\n",
       "      <td>48 : 52</td>\n",
       "      <td>University of Cambridge</td>\n",
       "      <td>Politics &amp; International Studies (incl Develop...</td>\n",
       "      <td>False</td>\n",
       "      <td>False</td>\n",
       "      <td>False</td>\n",
       "      <td>https://www.timeshighereducation.com/student/r...</td>\n",
       "    </tr>\n",
       "    <tr>\n",
       "      <th>5</th>\n",
       "      <td>6</td>\n",
       "      <td>Princeton University</td>\n",
       "      <td>96.9</td>\n",
       "      <td>60</td>\n",
       "      <td>96.3</td>\n",
       "      <td>6</td>\n",
       "      <td>97.9</td>\n",
       "      <td>7</td>\n",
       "      <td>98.8</td>\n",
       "      <td>7</td>\n",
       "      <td>...</td>\n",
       "      <td>7,753</td>\n",
       "      <td>7.3</td>\n",
       "      <td>23%</td>\n",
       "      <td>47 : 53</td>\n",
       "      <td>Princeton University</td>\n",
       "      <td>History, Philosophy &amp; Theology,Agriculture &amp; F...</td>\n",
       "      <td>False</td>\n",
       "      <td>False</td>\n",
       "      <td>False</td>\n",
       "      <td>https://www.timeshighereducation.com/student/r...</td>\n",
       "    </tr>\n",
       "    <tr>\n",
       "      <th>6</th>\n",
       "      <td>7</td>\n",
       "      <td>California Institute of Technology</td>\n",
       "      <td>96.5</td>\n",
       "      <td>70</td>\n",
       "      <td>96.6</td>\n",
       "      <td>4</td>\n",
       "      <td>98.0</td>\n",
       "      <td>6</td>\n",
       "      <td>95.9</td>\n",
       "      <td>38</td>\n",
       "      <td>...</td>\n",
       "      <td>2,240</td>\n",
       "      <td>6.1</td>\n",
       "      <td>33%</td>\n",
       "      <td>37 : 63</td>\n",
       "      <td>California Institute of Technology caltech</td>\n",
       "      <td>Computer Science,Chemistry,Chemical Engineerin...</td>\n",
       "      <td>False</td>\n",
       "      <td>False</td>\n",
       "      <td>False</td>\n",
       "      <td>https://www.timeshighereducation.com/student/r...</td>\n",
       "    </tr>\n",
       "    <tr>\n",
       "      <th>7</th>\n",
       "      <td>8</td>\n",
       "      <td>Imperial College London</td>\n",
       "      <td>95.1</td>\n",
       "      <td>80</td>\n",
       "      <td>90.9</td>\n",
       "      <td>12</td>\n",
       "      <td>95.5</td>\n",
       "      <td>12</td>\n",
       "      <td>98.6</td>\n",
       "      <td>8</td>\n",
       "      <td>...</td>\n",
       "      <td>20,275</td>\n",
       "      <td>11.8</td>\n",
       "      <td>61%</td>\n",
       "      <td>42 : 58</td>\n",
       "      <td>Imperial College London</td>\n",
       "      <td>Computer Science,Mechanical &amp; Aerospace Engine...</td>\n",
       "      <td>False</td>\n",
       "      <td>False</td>\n",
       "      <td>False</td>\n",
       "      <td>https://www.timeshighereducation.com/student/r...</td>\n",
       "    </tr>\n",
       "    <tr>\n",
       "      <th>8</th>\n",
       "      <td>9</td>\n",
       "      <td>University of California, Berkeley</td>\n",
       "      <td>94.6</td>\n",
       "      <td>90</td>\n",
       "      <td>87.2</td>\n",
       "      <td>18</td>\n",
       "      <td>98.8</td>\n",
       "      <td>4</td>\n",
       "      <td>99.0</td>\n",
       "      <td>4</td>\n",
       "      <td>...</td>\n",
       "      <td>39,991</td>\n",
       "      <td>17.9</td>\n",
       "      <td>22%</td>\n",
       "      <td>52 : 48</td>\n",
       "      <td>University of California, Berkeley</td>\n",
       "      <td>Chemistry,Electrical &amp; Electronic Engineering,...</td>\n",
       "      <td>False</td>\n",
       "      <td>False</td>\n",
       "      <td>False</td>\n",
       "      <td>https://www.timeshighereducation.com/student/r...</td>\n",
       "    </tr>\n",
       "    <tr>\n",
       "      <th>9</th>\n",
       "      <td>10</td>\n",
       "      <td>Yale University</td>\n",
       "      <td>94.2</td>\n",
       "      <td>100</td>\n",
       "      <td>94.0</td>\n",
       "      <td>10</td>\n",
       "      <td>94.9</td>\n",
       "      <td>13</td>\n",
       "      <td>97.7</td>\n",
       "      <td>18</td>\n",
       "      <td>...</td>\n",
       "      <td>11,924</td>\n",
       "      <td>5.2</td>\n",
       "      <td>21%</td>\n",
       "      <td>51 : 49</td>\n",
       "      <td>Yale University</td>\n",
       "      <td>Law,Computer Science,Electrical &amp; Electronic E...</td>\n",
       "      <td>False</td>\n",
       "      <td>False</td>\n",
       "      <td>False</td>\n",
       "      <td>https://www.timeshighereducation.com/student/r...</td>\n",
       "    </tr>\n",
       "  </tbody>\n",
       "</table>\n",
       "<p>10 rows × 29 columns</p>\n",
       "</div>"
      ],
      "text/plain": [
       "  rank                                   name scores_overall  \\\n",
       "0    1                   University of Oxford           98.5   \n",
       "1    2                    Stanford University           98.0   \n",
       "2    3  Massachusetts Institute of Technology           97.9   \n",
       "3    4                     Harvard University           97.8   \n",
       "4    5                University of Cambridge           97.5   \n",
       "5    6                   Princeton University           96.9   \n",
       "6    7     California Institute of Technology           96.5   \n",
       "7    8                Imperial College London           95.1   \n",
       "8    9     University of California, Berkeley           94.6   \n",
       "9   10                        Yale University           94.2   \n",
       "\n",
       "   scores_overall_rank  scores_teaching  scores_teaching_rank  \\\n",
       "0                   10             96.6                     5   \n",
       "1                   20             99.0                     1   \n",
       "2                   30             98.6                     2   \n",
       "3                   40             97.7                     3   \n",
       "4                   50             95.8                     7   \n",
       "5                   60             96.3                     6   \n",
       "6                   70             96.6                     4   \n",
       "7                   80             90.9                    12   \n",
       "8                   90             87.2                    18   \n",
       "9                  100             94.0                    10   \n",
       "\n",
       "   scores_research  scores_research_rank  scores_citations  \\\n",
       "0            100.0                     2              99.0   \n",
       "1             97.8                     8              99.6   \n",
       "2             96.2                    11              99.7   \n",
       "3             99.9                     3              99.4   \n",
       "4            100.0                     1              98.0   \n",
       "5             97.9                     7              98.8   \n",
       "6             98.0                     6              95.9   \n",
       "7             95.5                    12              98.6   \n",
       "8             98.8                     4              99.0   \n",
       "9             94.9                    13              97.7   \n",
       "\n",
       "   scores_citations_rank  ...  stats_number_students  \\\n",
       "0                      5  ...                 21,750   \n",
       "1                      2  ...                 14,517   \n",
       "2                      1  ...                 11,085   \n",
       "3                      3  ...                 20,050   \n",
       "4                     12  ...                 20,565   \n",
       "5                      7  ...                  7,753   \n",
       "6                     38  ...                  2,240   \n",
       "7                      8  ...                 20,275   \n",
       "8                      4  ...                 39,991   \n",
       "9                     18  ...                 11,924   \n",
       "\n",
       "   stats_student_staff_ratio  stats_pc_intl_students  stats_female_male_ratio  \\\n",
       "0                       10.9                     42%                  49 : 51   \n",
       "1                        6.4                     23%                  47 : 53   \n",
       "2                        8.0                     33%                  41 : 59   \n",
       "3                        9.0                     25%                  51 : 49   \n",
       "4                       11.5                     38%                  48 : 52   \n",
       "5                        7.3                     23%                  47 : 53   \n",
       "6                        6.1                     33%                  37 : 63   \n",
       "7                       11.8                     61%                  42 : 58   \n",
       "8                       17.9                     22%                  52 : 48   \n",
       "9                        5.2                     21%                  51 : 49   \n",
       "\n",
       "                                      aliases  \\\n",
       "0                        University of Oxford   \n",
       "1                         Stanford University   \n",
       "2       Massachusetts Institute of Technology   \n",
       "3                          Harvard University   \n",
       "4                     University of Cambridge   \n",
       "5                        Princeton University   \n",
       "6  California Institute of Technology caltech   \n",
       "7                     Imperial College London   \n",
       "8          University of California, Berkeley   \n",
       "9                             Yale University   \n",
       "\n",
       "                                    subjects_offered closed  unaccredited  \\\n",
       "0  Geography,Chemistry,Chemical Engineering,Biolo...  False         False   \n",
       "1  Computer Science,Communication & Media Studies...  False         False   \n",
       "2  Architecture,Economics & Econometrics,Archaeol...  False         False   \n",
       "3  Sociology,Architecture,Physics & Astronomy,Psy...  False         False   \n",
       "4  Politics & International Studies (incl Develop...  False         False   \n",
       "5  History, Philosophy & Theology,Agriculture & F...  False         False   \n",
       "6  Computer Science,Chemistry,Chemical Engineerin...  False         False   \n",
       "7  Computer Science,Mechanical & Aerospace Engine...  False         False   \n",
       "8  Chemistry,Electrical & Electronic Engineering,...  False         False   \n",
       "9  Law,Computer Science,Electrical & Electronic E...  False         False   \n",
       "\n",
       "  disabled                                        website_url  \n",
       "0    False  https://www.timeshighereducation.com/student/r...  \n",
       "1    False                                                NaN  \n",
       "2    False  https://www.timeshighereducation.com/student/r...  \n",
       "3    False  https://www.timeshighereducation.com/student/r...  \n",
       "4    False  https://www.timeshighereducation.com/student/r...  \n",
       "5    False  https://www.timeshighereducation.com/student/r...  \n",
       "6    False  https://www.timeshighereducation.com/student/r...  \n",
       "7    False  https://www.timeshighereducation.com/student/r...  \n",
       "8    False  https://www.timeshighereducation.com/student/r...  \n",
       "9    False  https://www.timeshighereducation.com/student/r...  \n",
       "\n",
       "[10 rows x 29 columns]"
      ]
     },
     "execution_count": 3,
     "metadata": {},
     "output_type": "execute_result"
    }
   ],
   "source": [
    "# Get the first 10 rows with .head(10)\n",
    "print(\"First 10 rows\")\n",
    "data.head(10)"
   ]
  },
  {
   "cell_type": "code",
   "execution_count": 4,
   "id": "07f63da9",
   "metadata": {
    "execution": {
     "iopub.execute_input": "2023-10-01T21:44:53.772312Z",
     "iopub.status.busy": "2023-10-01T21:44:53.771959Z",
     "iopub.status.idle": "2023-10-01T21:44:53.798448Z",
     "shell.execute_reply": "2023-10-01T21:44:53.797297Z"
    },
    "papermill": {
     "duration": 0.040497,
     "end_time": "2023-10-01T21:44:53.801241",
     "exception": false,
     "start_time": "2023-10-01T21:44:53.760744",
     "status": "completed"
    },
    "tags": []
   },
   "outputs": [
    {
     "name": "stdout",
     "output_type": "stream",
     "text": [
      "The last few rows of the data\n"
     ]
    },
    {
     "data": {
      "text/html": [
       "<div>\n",
       "<style scoped>\n",
       "    .dataframe tbody tr th:only-of-type {\n",
       "        vertical-align: middle;\n",
       "    }\n",
       "\n",
       "    .dataframe tbody tr th {\n",
       "        vertical-align: top;\n",
       "    }\n",
       "\n",
       "    .dataframe thead th {\n",
       "        text-align: right;\n",
       "    }\n",
       "</style>\n",
       "<table border=\"1\" class=\"dataframe\">\n",
       "  <thead>\n",
       "    <tr style=\"text-align: right;\">\n",
       "      <th></th>\n",
       "      <th>rank</th>\n",
       "      <th>name</th>\n",
       "      <th>scores_overall</th>\n",
       "      <th>scores_overall_rank</th>\n",
       "      <th>scores_teaching</th>\n",
       "      <th>scores_teaching_rank</th>\n",
       "      <th>scores_research</th>\n",
       "      <th>scores_research_rank</th>\n",
       "      <th>scores_citations</th>\n",
       "      <th>scores_citations_rank</th>\n",
       "      <th>...</th>\n",
       "      <th>stats_number_students</th>\n",
       "      <th>stats_student_staff_ratio</th>\n",
       "      <th>stats_pc_intl_students</th>\n",
       "      <th>stats_female_male_ratio</th>\n",
       "      <th>aliases</th>\n",
       "      <th>subjects_offered</th>\n",
       "      <th>closed</th>\n",
       "      <th>unaccredited</th>\n",
       "      <th>disabled</th>\n",
       "      <th>website_url</th>\n",
       "    </tr>\n",
       "  </thead>\n",
       "  <tbody>\n",
       "    <tr>\n",
       "      <th>2663</th>\n",
       "      <td>Reporter</td>\n",
       "      <td>Yamaguchi Prefectural University</td>\n",
       "      <td>NaN</td>\n",
       "      <td>1000760</td>\n",
       "      <td>NaN</td>\n",
       "      <td>0</td>\n",
       "      <td>NaN</td>\n",
       "      <td>0</td>\n",
       "      <td>NaN</td>\n",
       "      <td>0</td>\n",
       "      <td>...</td>\n",
       "      <td>1,361</td>\n",
       "      <td>16.2</td>\n",
       "      <td>2%</td>\n",
       "      <td>87 : 13</td>\n",
       "      <td>Yamaguchi Prefectural University</td>\n",
       "      <td>Agriculture &amp; Forestry,Other Health,Sociology</td>\n",
       "      <td>False</td>\n",
       "      <td>False</td>\n",
       "      <td>False</td>\n",
       "      <td>NaN</td>\n",
       "    </tr>\n",
       "    <tr>\n",
       "      <th>2664</th>\n",
       "      <td>Reporter</td>\n",
       "      <td>Yanka Kupala State University of Grodno</td>\n",
       "      <td>NaN</td>\n",
       "      <td>1000761</td>\n",
       "      <td>NaN</td>\n",
       "      <td>0</td>\n",
       "      <td>NaN</td>\n",
       "      <td>0</td>\n",
       "      <td>NaN</td>\n",
       "      <td>0</td>\n",
       "      <td>...</td>\n",
       "      <td>10,900</td>\n",
       "      <td>15.7</td>\n",
       "      <td>10%</td>\n",
       "      <td>57 : 43</td>\n",
       "      <td>Yanka Kupala State University of Grodno</td>\n",
       "      <td>Architecture,Politics &amp; International Studies ...</td>\n",
       "      <td>False</td>\n",
       "      <td>False</td>\n",
       "      <td>True</td>\n",
       "      <td>NaN</td>\n",
       "    </tr>\n",
       "    <tr>\n",
       "      <th>2665</th>\n",
       "      <td>Reporter</td>\n",
       "      <td>Yaşar University</td>\n",
       "      <td>NaN</td>\n",
       "      <td>1000762</td>\n",
       "      <td>NaN</td>\n",
       "      <td>0</td>\n",
       "      <td>NaN</td>\n",
       "      <td>0</td>\n",
       "      <td>NaN</td>\n",
       "      <td>0</td>\n",
       "      <td>...</td>\n",
       "      <td>5,908</td>\n",
       "      <td>11.7</td>\n",
       "      <td>2%</td>\n",
       "      <td>51 : 49</td>\n",
       "      <td>Yaşar University</td>\n",
       "      <td>Politics &amp; International Studies (incl Develop...</td>\n",
       "      <td>False</td>\n",
       "      <td>False</td>\n",
       "      <td>False</td>\n",
       "      <td>NaN</td>\n",
       "    </tr>\n",
       "    <tr>\n",
       "      <th>2666</th>\n",
       "      <td>Reporter</td>\n",
       "      <td>York St John University</td>\n",
       "      <td>NaN</td>\n",
       "      <td>1000763</td>\n",
       "      <td>NaN</td>\n",
       "      <td>0</td>\n",
       "      <td>NaN</td>\n",
       "      <td>0</td>\n",
       "      <td>NaN</td>\n",
       "      <td>0</td>\n",
       "      <td>...</td>\n",
       "      <td>6,450</td>\n",
       "      <td>18.4</td>\n",
       "      <td>13%</td>\n",
       "      <td>64 : 36</td>\n",
       "      <td>York St John University</td>\n",
       "      <td>Biological Sciences,Economics &amp; Econometrics,P...</td>\n",
       "      <td>False</td>\n",
       "      <td>False</td>\n",
       "      <td>False</td>\n",
       "      <td>https://www.timeshighereducation.com/student/r...</td>\n",
       "    </tr>\n",
       "    <tr>\n",
       "      <th>2667</th>\n",
       "      <td>Reporter</td>\n",
       "      <td>Yusuf Maitama Sule University, Kano</td>\n",
       "      <td>NaN</td>\n",
       "      <td>1000764</td>\n",
       "      <td>NaN</td>\n",
       "      <td>0</td>\n",
       "      <td>NaN</td>\n",
       "      <td>0</td>\n",
       "      <td>NaN</td>\n",
       "      <td>0</td>\n",
       "      <td>...</td>\n",
       "      <td>12,086</td>\n",
       "      <td>26.2</td>\n",
       "      <td>0%</td>\n",
       "      <td>59 : 41</td>\n",
       "      <td>Yusuf Maitama Sule University, Kano</td>\n",
       "      <td>History, Philosophy &amp; Theology,Politics &amp; Inte...</td>\n",
       "      <td>False</td>\n",
       "      <td>False</td>\n",
       "      <td>False</td>\n",
       "      <td>NaN</td>\n",
       "    </tr>\n",
       "    <tr>\n",
       "      <th>2668</th>\n",
       "      <td>Reporter</td>\n",
       "      <td>Zarqa University</td>\n",
       "      <td>NaN</td>\n",
       "      <td>1000765</td>\n",
       "      <td>NaN</td>\n",
       "      <td>0</td>\n",
       "      <td>NaN</td>\n",
       "      <td>0</td>\n",
       "      <td>NaN</td>\n",
       "      <td>0</td>\n",
       "      <td>...</td>\n",
       "      <td>5,881</td>\n",
       "      <td>17.0</td>\n",
       "      <td>35%</td>\n",
       "      <td>60 : 40</td>\n",
       "      <td>Zarqa University</td>\n",
       "      <td>General Engineering,Civil Engineering,Electric...</td>\n",
       "      <td>False</td>\n",
       "      <td>False</td>\n",
       "      <td>False</td>\n",
       "      <td>NaN</td>\n",
       "    </tr>\n",
       "    <tr>\n",
       "      <th>2669</th>\n",
       "      <td>Reporter</td>\n",
       "      <td>Zhetysu University</td>\n",
       "      <td>NaN</td>\n",
       "      <td>1000766</td>\n",
       "      <td>NaN</td>\n",
       "      <td>0</td>\n",
       "      <td>NaN</td>\n",
       "      <td>0</td>\n",
       "      <td>NaN</td>\n",
       "      <td>0</td>\n",
       "      <td>...</td>\n",
       "      <td>4,872</td>\n",
       "      <td>18.2</td>\n",
       "      <td>0%</td>\n",
       "      <td>66 : 34</td>\n",
       "      <td>Zhetysu University</td>\n",
       "      <td>History, Philosophy &amp; Theology,Psychology,Lang...</td>\n",
       "      <td>False</td>\n",
       "      <td>False</td>\n",
       "      <td>False</td>\n",
       "      <td>NaN</td>\n",
       "    </tr>\n",
       "    <tr>\n",
       "      <th>2670</th>\n",
       "      <td>Reporter</td>\n",
       "      <td>Zhytomyr Polytechnic State University</td>\n",
       "      <td>NaN</td>\n",
       "      <td>1000767</td>\n",
       "      <td>NaN</td>\n",
       "      <td>0</td>\n",
       "      <td>NaN</td>\n",
       "      <td>0</td>\n",
       "      <td>NaN</td>\n",
       "      <td>0</td>\n",
       "      <td>...</td>\n",
       "      <td>4,454</td>\n",
       "      <td>16.1</td>\n",
       "      <td>1%</td>\n",
       "      <td>40 : 60</td>\n",
       "      <td>Zhytomyr Polytechnic State University</td>\n",
       "      <td>Law,Economics &amp; Econometrics,Politics &amp; Intern...</td>\n",
       "      <td>False</td>\n",
       "      <td>False</td>\n",
       "      <td>False</td>\n",
       "      <td>NaN</td>\n",
       "    </tr>\n",
       "    <tr>\n",
       "      <th>2671</th>\n",
       "      <td>Reporter</td>\n",
       "      <td>Ziane Achour University of Djelfa</td>\n",
       "      <td>NaN</td>\n",
       "      <td>1000768</td>\n",
       "      <td>NaN</td>\n",
       "      <td>0</td>\n",
       "      <td>NaN</td>\n",
       "      <td>0</td>\n",
       "      <td>NaN</td>\n",
       "      <td>0</td>\n",
       "      <td>...</td>\n",
       "      <td>31,103</td>\n",
       "      <td>28.5</td>\n",
       "      <td>0%</td>\n",
       "      <td>55 : 45</td>\n",
       "      <td>Ziane Achour University of Djelfa</td>\n",
       "      <td>Architecture,Agriculture &amp; Forestry,Biological...</td>\n",
       "      <td>False</td>\n",
       "      <td>False</td>\n",
       "      <td>False</td>\n",
       "      <td>NaN</td>\n",
       "    </tr>\n",
       "    <tr>\n",
       "      <th>2672</th>\n",
       "      <td>Reporter</td>\n",
       "      <td>Ziauddin University</td>\n",
       "      <td>NaN</td>\n",
       "      <td>1000769</td>\n",
       "      <td>NaN</td>\n",
       "      <td>0</td>\n",
       "      <td>NaN</td>\n",
       "      <td>0</td>\n",
       "      <td>NaN</td>\n",
       "      <td>0</td>\n",
       "      <td>...</td>\n",
       "      <td>5,672</td>\n",
       "      <td>9.2</td>\n",
       "      <td>0%</td>\n",
       "      <td>58 : 42</td>\n",
       "      <td>Ziauddin University</td>\n",
       "      <td>Medicine &amp; Dentistry,Other Health</td>\n",
       "      <td>False</td>\n",
       "      <td>False</td>\n",
       "      <td>False</td>\n",
       "      <td>NaN</td>\n",
       "    </tr>\n",
       "  </tbody>\n",
       "</table>\n",
       "<p>10 rows × 29 columns</p>\n",
       "</div>"
      ],
      "text/plain": [
       "          rank                                     name scores_overall  \\\n",
       "2663  Reporter         Yamaguchi Prefectural University            NaN   \n",
       "2664  Reporter  Yanka Kupala State University of Grodno            NaN   \n",
       "2665  Reporter                         Yaşar University            NaN   \n",
       "2666  Reporter                  York St John University            NaN   \n",
       "2667  Reporter      Yusuf Maitama Sule University, Kano            NaN   \n",
       "2668  Reporter                         Zarqa University            NaN   \n",
       "2669  Reporter                       Zhetysu University            NaN   \n",
       "2670  Reporter    Zhytomyr Polytechnic State University            NaN   \n",
       "2671  Reporter        Ziane Achour University of Djelfa            NaN   \n",
       "2672  Reporter                      Ziauddin University            NaN   \n",
       "\n",
       "      scores_overall_rank  scores_teaching  scores_teaching_rank  \\\n",
       "2663              1000760              NaN                     0   \n",
       "2664              1000761              NaN                     0   \n",
       "2665              1000762              NaN                     0   \n",
       "2666              1000763              NaN                     0   \n",
       "2667              1000764              NaN                     0   \n",
       "2668              1000765              NaN                     0   \n",
       "2669              1000766              NaN                     0   \n",
       "2670              1000767              NaN                     0   \n",
       "2671              1000768              NaN                     0   \n",
       "2672              1000769              NaN                     0   \n",
       "\n",
       "      scores_research  scores_research_rank  scores_citations  \\\n",
       "2663              NaN                     0               NaN   \n",
       "2664              NaN                     0               NaN   \n",
       "2665              NaN                     0               NaN   \n",
       "2666              NaN                     0               NaN   \n",
       "2667              NaN                     0               NaN   \n",
       "2668              NaN                     0               NaN   \n",
       "2669              NaN                     0               NaN   \n",
       "2670              NaN                     0               NaN   \n",
       "2671              NaN                     0               NaN   \n",
       "2672              NaN                     0               NaN   \n",
       "\n",
       "      scores_citations_rank  ...  stats_number_students  \\\n",
       "2663                      0  ...                  1,361   \n",
       "2664                      0  ...                 10,900   \n",
       "2665                      0  ...                  5,908   \n",
       "2666                      0  ...                  6,450   \n",
       "2667                      0  ...                 12,086   \n",
       "2668                      0  ...                  5,881   \n",
       "2669                      0  ...                  4,872   \n",
       "2670                      0  ...                  4,454   \n",
       "2671                      0  ...                 31,103   \n",
       "2672                      0  ...                  5,672   \n",
       "\n",
       "      stats_student_staff_ratio  stats_pc_intl_students  \\\n",
       "2663                       16.2                      2%   \n",
       "2664                       15.7                     10%   \n",
       "2665                       11.7                      2%   \n",
       "2666                       18.4                     13%   \n",
       "2667                       26.2                      0%   \n",
       "2668                       17.0                     35%   \n",
       "2669                       18.2                      0%   \n",
       "2670                       16.1                      1%   \n",
       "2671                       28.5                      0%   \n",
       "2672                        9.2                      0%   \n",
       "\n",
       "      stats_female_male_ratio                                  aliases  \\\n",
       "2663                  87 : 13         Yamaguchi Prefectural University   \n",
       "2664                  57 : 43  Yanka Kupala State University of Grodno   \n",
       "2665                  51 : 49                         Yaşar University   \n",
       "2666                  64 : 36                  York St John University   \n",
       "2667                  59 : 41      Yusuf Maitama Sule University, Kano   \n",
       "2668                  60 : 40                         Zarqa University   \n",
       "2669                  66 : 34                       Zhetysu University   \n",
       "2670                  40 : 60    Zhytomyr Polytechnic State University   \n",
       "2671                  55 : 45        Ziane Achour University of Djelfa   \n",
       "2672                  58 : 42                      Ziauddin University   \n",
       "\n",
       "                                       subjects_offered closed  unaccredited  \\\n",
       "2663      Agriculture & Forestry,Other Health,Sociology  False         False   \n",
       "2664  Architecture,Politics & International Studies ...  False         False   \n",
       "2665  Politics & International Studies (incl Develop...  False         False   \n",
       "2666  Biological Sciences,Economics & Econometrics,P...  False         False   \n",
       "2667  History, Philosophy & Theology,Politics & Inte...  False         False   \n",
       "2668  General Engineering,Civil Engineering,Electric...  False         False   \n",
       "2669  History, Philosophy & Theology,Psychology,Lang...  False         False   \n",
       "2670  Law,Economics & Econometrics,Politics & Intern...  False         False   \n",
       "2671  Architecture,Agriculture & Forestry,Biological...  False         False   \n",
       "2672                  Medicine & Dentistry,Other Health  False         False   \n",
       "\n",
       "     disabled                                        website_url  \n",
       "2663    False                                                NaN  \n",
       "2664     True                                                NaN  \n",
       "2665    False                                                NaN  \n",
       "2666    False  https://www.timeshighereducation.com/student/r...  \n",
       "2667    False                                                NaN  \n",
       "2668    False                                                NaN  \n",
       "2669    False                                                NaN  \n",
       "2670    False                                                NaN  \n",
       "2671    False                                                NaN  \n",
       "2672    False                                                NaN  \n",
       "\n",
       "[10 rows x 29 columns]"
      ]
     },
     "execution_count": 4,
     "metadata": {},
     "output_type": "execute_result"
    }
   ],
   "source": [
    "# Get the last 10 rows\n",
    "print(\"The last few rows of the data\")\n",
    "data.tail(10)"
   ]
  },
  {
   "cell_type": "code",
   "execution_count": 5,
   "id": "6df5ce73",
   "metadata": {
    "execution": {
     "iopub.execute_input": "2023-10-01T21:44:53.828988Z",
     "iopub.status.busy": "2023-10-01T21:44:53.828167Z",
     "iopub.status.idle": "2023-10-01T21:44:53.870053Z",
     "shell.execute_reply": "2023-10-01T21:44:53.868635Z"
    },
    "papermill": {
     "duration": 0.05848,
     "end_time": "2023-10-01T21:44:53.872639",
     "exception": false,
     "start_time": "2023-10-01T21:44:53.814159",
     "status": "completed"
    },
    "tags": []
   },
   "outputs": [
    {
     "name": "stdout",
     "output_type": "stream",
     "text": [
      "<class 'pandas.core.frame.DataFrame'>\n",
      "RangeIndex: 2673 entries, 0 to 2672\n",
      "Data columns (total 29 columns):\n",
      " #   Column                             Non-Null Count  Dtype  \n",
      "---  ------                             --------------  -----  \n",
      " 0   rank                               2673 non-null   object \n",
      " 1   name                               2673 non-null   object \n",
      " 2   scores_overall                     1904 non-null   object \n",
      " 3   scores_overall_rank                2673 non-null   int64  \n",
      " 4   scores_teaching                    1904 non-null   float64\n",
      " 5   scores_teaching_rank               2673 non-null   int64  \n",
      " 6   scores_research                    1904 non-null   float64\n",
      " 7   scores_research_rank               2673 non-null   int64  \n",
      " 8   scores_citations                   1904 non-null   float64\n",
      " 9   scores_citations_rank              2673 non-null   int64  \n",
      " 10  scores_industry_income             1904 non-null   float64\n",
      " 11  scores_industry_income_rank        2673 non-null   int64  \n",
      " 12  scores_international_outlook       1904 non-null   float64\n",
      " 13  scores_international_outlook_rank  2673 non-null   int64  \n",
      " 14  record_type                        2673 non-null   object \n",
      " 15  member_level                       2673 non-null   int64  \n",
      " 16  url                                2673 non-null   object \n",
      " 17  nid                                2673 non-null   int64  \n",
      " 18  location                           2673 non-null   object \n",
      " 19  stats_number_students              2673 non-null   object \n",
      " 20  stats_student_staff_ratio          2673 non-null   float64\n",
      " 21  stats_pc_intl_students             2673 non-null   object \n",
      " 22  stats_female_male_ratio            2580 non-null   object \n",
      " 23  aliases                            2673 non-null   object \n",
      " 24  subjects_offered                   2669 non-null   object \n",
      " 25  closed                             2673 non-null   bool   \n",
      " 26  unaccredited                       2673 non-null   bool   \n",
      " 27  disabled                           2673 non-null   bool   \n",
      " 28  website_url                        344 non-null    object \n",
      "dtypes: bool(3), float64(6), int64(8), object(12)\n",
      "memory usage: 550.9+ KB\n"
     ]
    }
   ],
   "source": [
    "# Display the information\n",
    "data.info()"
   ]
  },
  {
   "cell_type": "code",
   "execution_count": 6,
   "id": "f4cf5987",
   "metadata": {
    "execution": {
     "iopub.execute_input": "2023-10-01T21:44:53.900128Z",
     "iopub.status.busy": "2023-10-01T21:44:53.899588Z",
     "iopub.status.idle": "2023-10-01T21:44:53.908102Z",
     "shell.execute_reply": "2023-10-01T21:44:53.906582Z"
    },
    "papermill": {
     "duration": 0.026214,
     "end_time": "2023-10-01T21:44:53.910870",
     "exception": false,
     "start_time": "2023-10-01T21:44:53.884656",
     "status": "completed"
    },
    "tags": []
   },
   "outputs": [
    {
     "name": "stdout",
     "output_type": "stream",
     "text": [
      "Number of rows: 2673\n",
      "Number of columns: 29\n"
     ]
    }
   ],
   "source": [
    "## Get the shape of the data\n",
    "rows, columns = data.shape\n",
    "print(f\"Number of rows: {rows}\")\n",
    "print(f\"Number of columns: {columns}\")"
   ]
  },
  {
   "cell_type": "code",
   "execution_count": 7,
   "id": "5bb2f5b8",
   "metadata": {
    "execution": {
     "iopub.execute_input": "2023-10-01T21:44:53.940583Z",
     "iopub.status.busy": "2023-10-01T21:44:53.940094Z",
     "iopub.status.idle": "2023-10-01T21:44:54.003312Z",
     "shell.execute_reply": "2023-10-01T21:44:54.000797Z"
    },
    "papermill": {
     "duration": 0.081737,
     "end_time": "2023-10-01T21:44:54.005987",
     "exception": false,
     "start_time": "2023-10-01T21:44:53.924250",
     "status": "completed"
    },
    "tags": []
   },
   "outputs": [
    {
     "data": {
      "text/html": [
       "<div>\n",
       "<style scoped>\n",
       "    .dataframe tbody tr th:only-of-type {\n",
       "        vertical-align: middle;\n",
       "    }\n",
       "\n",
       "    .dataframe tbody tr th {\n",
       "        vertical-align: top;\n",
       "    }\n",
       "\n",
       "    .dataframe thead th {\n",
       "        text-align: right;\n",
       "    }\n",
       "</style>\n",
       "<table border=\"1\" class=\"dataframe\">\n",
       "  <thead>\n",
       "    <tr style=\"text-align: right;\">\n",
       "      <th></th>\n",
       "      <th>scores_overall_rank</th>\n",
       "      <th>scores_teaching</th>\n",
       "      <th>scores_teaching_rank</th>\n",
       "      <th>scores_research</th>\n",
       "      <th>scores_research_rank</th>\n",
       "      <th>scores_citations</th>\n",
       "      <th>scores_citations_rank</th>\n",
       "      <th>scores_industry_income</th>\n",
       "      <th>scores_industry_income_rank</th>\n",
       "      <th>scores_international_outlook</th>\n",
       "      <th>scores_international_outlook_rank</th>\n",
       "      <th>member_level</th>\n",
       "      <th>nid</th>\n",
       "      <th>stats_student_staff_ratio</th>\n",
       "    </tr>\n",
       "  </thead>\n",
       "  <tbody>\n",
       "    <tr>\n",
       "      <th>count</th>\n",
       "      <td>2.673000e+03</td>\n",
       "      <td>1904.000000</td>\n",
       "      <td>2673.000000</td>\n",
       "      <td>1904.000000</td>\n",
       "      <td>2673.000000</td>\n",
       "      <td>1904.000000</td>\n",
       "      <td>2673.000000</td>\n",
       "      <td>1904.000000</td>\n",
       "      <td>2673.000000</td>\n",
       "      <td>1904.000000</td>\n",
       "      <td>2673.000000</td>\n",
       "      <td>2673.000000</td>\n",
       "      <td>2673.000000</td>\n",
       "      <td>2673.000000</td>\n",
       "    </tr>\n",
       "    <tr>\n",
       "      <th>mean</th>\n",
       "      <td>2.945872e+05</td>\n",
       "      <td>29.060662</td>\n",
       "      <td>678.473625</td>\n",
       "      <td>23.416176</td>\n",
       "      <td>678.473625</td>\n",
       "      <td>52.189706</td>\n",
       "      <td>678.473625</td>\n",
       "      <td>47.057405</td>\n",
       "      <td>678.473625</td>\n",
       "      <td>49.907143</td>\n",
       "      <td>678.473625</td>\n",
       "      <td>0.550318</td>\n",
       "      <td>437757.592593</td>\n",
       "      <td>19.130527</td>\n",
       "    </tr>\n",
       "    <tr>\n",
       "      <th>std</th>\n",
       "      <td>4.486570e+05</td>\n",
       "      <td>13.967201</td>\n",
       "      <td>633.450078</td>\n",
       "      <td>16.697923</td>\n",
       "      <td>633.450078</td>\n",
       "      <td>25.071342</td>\n",
       "      <td>633.450078</td>\n",
       "      <td>26.150454</td>\n",
       "      <td>633.450078</td>\n",
       "      <td>21.828249</td>\n",
       "      <td>633.450078</td>\n",
       "      <td>2.231166</td>\n",
       "      <td>292321.295190</td>\n",
       "      <td>13.450010</td>\n",
       "    </tr>\n",
       "    <tr>\n",
       "      <th>min</th>\n",
       "      <td>1.000000e+01</td>\n",
       "      <td>9.400000</td>\n",
       "      <td>0.000000</td>\n",
       "      <td>4.600000</td>\n",
       "      <td>0.000000</td>\n",
       "      <td>3.400000</td>\n",
       "      <td>0.000000</td>\n",
       "      <td>15.600000</td>\n",
       "      <td>0.000000</td>\n",
       "      <td>16.100000</td>\n",
       "      <td>0.000000</td>\n",
       "      <td>0.000000</td>\n",
       "      <td>466.000000</td>\n",
       "      <td>0.300000</td>\n",
       "    </tr>\n",
       "    <tr>\n",
       "      <th>25%</th>\n",
       "      <td>6.690000e+03</td>\n",
       "      <td>19.400000</td>\n",
       "      <td>0.000000</td>\n",
       "      <td>11.800000</td>\n",
       "      <td>0.000000</td>\n",
       "      <td>30.400000</td>\n",
       "      <td>0.000000</td>\n",
       "      <td>22.275000</td>\n",
       "      <td>0.000000</td>\n",
       "      <td>31.975000</td>\n",
       "      <td>0.000000</td>\n",
       "      <td>0.000000</td>\n",
       "      <td>131435.000000</td>\n",
       "      <td>12.300000</td>\n",
       "    </tr>\n",
       "    <tr>\n",
       "      <th>50%</th>\n",
       "      <td>1.337000e+04</td>\n",
       "      <td>25.800000</td>\n",
       "      <td>568.000000</td>\n",
       "      <td>17.250000</td>\n",
       "      <td>568.000000</td>\n",
       "      <td>52.400000</td>\n",
       "      <td>568.000000</td>\n",
       "      <td>41.050000</td>\n",
       "      <td>568.000000</td>\n",
       "      <td>45.300000</td>\n",
       "      <td>568.000000</td>\n",
       "      <td>0.000000</td>\n",
       "      <td>622251.000000</td>\n",
       "      <td>16.600000</td>\n",
       "    </tr>\n",
       "    <tr>\n",
       "      <th>75%</th>\n",
       "      <td>1.000101e+06</td>\n",
       "      <td>34.500000</td>\n",
       "      <td>1236.000000</td>\n",
       "      <td>29.900000</td>\n",
       "      <td>1236.000000</td>\n",
       "      <td>73.225000</td>\n",
       "      <td>1236.000000</td>\n",
       "      <td>68.200000</td>\n",
       "      <td>1236.000000</td>\n",
       "      <td>65.400000</td>\n",
       "      <td>1236.000000</td>\n",
       "      <td>0.000000</td>\n",
       "      <td>675423.000000</td>\n",
       "      <td>22.500000</td>\n",
       "    </tr>\n",
       "    <tr>\n",
       "      <th>max</th>\n",
       "      <td>1.000769e+06</td>\n",
       "      <td>99.000000</td>\n",
       "      <td>1904.000000</td>\n",
       "      <td>100.000000</td>\n",
       "      <td>1904.000000</td>\n",
       "      <td>99.700000</td>\n",
       "      <td>1904.000000</td>\n",
       "      <td>100.000000</td>\n",
       "      <td>1904.000000</td>\n",
       "      <td>98.800000</td>\n",
       "      <td>1904.000000</td>\n",
       "      <td>11.000000</td>\n",
       "      <td>726248.000000</td>\n",
       "      <td>333.300000</td>\n",
       "    </tr>\n",
       "  </tbody>\n",
       "</table>\n",
       "</div>"
      ],
      "text/plain": [
       "       scores_overall_rank  scores_teaching  scores_teaching_rank  \\\n",
       "count         2.673000e+03      1904.000000           2673.000000   \n",
       "mean          2.945872e+05        29.060662            678.473625   \n",
       "std           4.486570e+05        13.967201            633.450078   \n",
       "min           1.000000e+01         9.400000              0.000000   \n",
       "25%           6.690000e+03        19.400000              0.000000   \n",
       "50%           1.337000e+04        25.800000            568.000000   \n",
       "75%           1.000101e+06        34.500000           1236.000000   \n",
       "max           1.000769e+06        99.000000           1904.000000   \n",
       "\n",
       "       scores_research  scores_research_rank  scores_citations  \\\n",
       "count      1904.000000           2673.000000       1904.000000   \n",
       "mean         23.416176            678.473625         52.189706   \n",
       "std          16.697923            633.450078         25.071342   \n",
       "min           4.600000              0.000000          3.400000   \n",
       "25%          11.800000              0.000000         30.400000   \n",
       "50%          17.250000            568.000000         52.400000   \n",
       "75%          29.900000           1236.000000         73.225000   \n",
       "max         100.000000           1904.000000         99.700000   \n",
       "\n",
       "       scores_citations_rank  scores_industry_income  \\\n",
       "count            2673.000000             1904.000000   \n",
       "mean              678.473625               47.057405   \n",
       "std               633.450078               26.150454   \n",
       "min                 0.000000               15.600000   \n",
       "25%                 0.000000               22.275000   \n",
       "50%               568.000000               41.050000   \n",
       "75%              1236.000000               68.200000   \n",
       "max              1904.000000              100.000000   \n",
       "\n",
       "       scores_industry_income_rank  scores_international_outlook  \\\n",
       "count                  2673.000000                   1904.000000   \n",
       "mean                    678.473625                     49.907143   \n",
       "std                     633.450078                     21.828249   \n",
       "min                       0.000000                     16.100000   \n",
       "25%                       0.000000                     31.975000   \n",
       "50%                     568.000000                     45.300000   \n",
       "75%                    1236.000000                     65.400000   \n",
       "max                    1904.000000                     98.800000   \n",
       "\n",
       "       scores_international_outlook_rank  member_level            nid  \\\n",
       "count                        2673.000000   2673.000000    2673.000000   \n",
       "mean                          678.473625      0.550318  437757.592593   \n",
       "std                           633.450078      2.231166  292321.295190   \n",
       "min                             0.000000      0.000000     466.000000   \n",
       "25%                             0.000000      0.000000  131435.000000   \n",
       "50%                           568.000000      0.000000  622251.000000   \n",
       "75%                          1236.000000      0.000000  675423.000000   \n",
       "max                          1904.000000     11.000000  726248.000000   \n",
       "\n",
       "       stats_student_staff_ratio  \n",
       "count                2673.000000  \n",
       "mean                   19.130527  \n",
       "std                    13.450010  \n",
       "min                     0.300000  \n",
       "25%                    12.300000  \n",
       "50%                    16.600000  \n",
       "75%                    22.500000  \n",
       "max                   333.300000  "
      ]
     },
     "execution_count": 7,
     "metadata": {},
     "output_type": "execute_result"
    }
   ],
   "source": [
    "# Descriptive Statistics:\n",
    "data.describe()"
   ]
  },
  {
   "cell_type": "code",
   "execution_count": 8,
   "id": "681c851b",
   "metadata": {
    "execution": {
     "iopub.execute_input": "2023-10-01T21:44:54.041243Z",
     "iopub.status.busy": "2023-10-01T21:44:54.040303Z",
     "iopub.status.idle": "2023-10-01T21:44:54.064446Z",
     "shell.execute_reply": "2023-10-01T21:44:54.062996Z"
    },
    "papermill": {
     "duration": 0.041597,
     "end_time": "2023-10-01T21:44:54.067148",
     "exception": false,
     "start_time": "2023-10-01T21:44:54.025551",
     "status": "completed"
    },
    "tags": []
   },
   "outputs": [
    {
     "data": {
      "text/plain": [
       "rank                                  160\n",
       "name                                 2673\n",
       "scores_overall                        159\n",
       "scores_overall_rank                  2673\n",
       "scores_teaching                       473\n",
       "scores_teaching_rank                 1905\n",
       "scores_research                       506\n",
       "scores_research_rank                 1905\n",
       "scores_citations                      809\n",
       "scores_citations_rank                1905\n",
       "scores_industry_income                688\n",
       "scores_industry_income_rank          1905\n",
       "scores_international_outlook          725\n",
       "scores_international_outlook_rank    1905\n",
       "record_type                             3\n",
       "member_level                            4\n",
       "url                                  2673\n",
       "nid                                  2673\n",
       "location                              127\n",
       "stats_number_students                2574\n",
       "stats_student_staff_ratio             448\n",
       "stats_pc_intl_students                 85\n",
       "stats_female_male_ratio                91\n",
       "aliases                              2673\n",
       "subjects_offered                     2567\n",
       "closed                                  1\n",
       "unaccredited                            2\n",
       "disabled                                2\n",
       "website_url                           344\n",
       "dtype: int64"
      ]
     },
     "execution_count": 8,
     "metadata": {},
     "output_type": "execute_result"
    }
   ],
   "source": [
    "# Check for unique values\n",
    "unique_counts = data.nunique()\n",
    "unique_counts"
   ]
  },
  {
   "cell_type": "code",
   "execution_count": 9,
   "id": "d0e6f9be",
   "metadata": {
    "execution": {
     "iopub.execute_input": "2023-10-01T21:44:54.093370Z",
     "iopub.status.busy": "2023-10-01T21:44:54.093011Z",
     "iopub.status.idle": "2023-10-01T21:44:54.100998Z",
     "shell.execute_reply": "2023-10-01T21:44:54.099519Z"
    },
    "papermill": {
     "duration": 0.024011,
     "end_time": "2023-10-01T21:44:54.103552",
     "exception": false,
     "start_time": "2023-10-01T21:44:54.079541",
     "status": "completed"
    },
    "tags": []
   },
   "outputs": [
    {
     "data": {
      "text/plain": [
       "['rank',\n",
       " 'name',\n",
       " 'scores_overall',\n",
       " 'scores_overall_rank',\n",
       " 'scores_teaching',\n",
       " 'scores_teaching_rank',\n",
       " 'scores_research',\n",
       " 'scores_research_rank',\n",
       " 'scores_citations',\n",
       " 'scores_citations_rank',\n",
       " 'scores_industry_income',\n",
       " 'scores_industry_income_rank',\n",
       " 'scores_international_outlook',\n",
       " 'scores_international_outlook_rank',\n",
       " 'record_type',\n",
       " 'member_level',\n",
       " 'url',\n",
       " 'nid',\n",
       " 'location',\n",
       " 'stats_number_students',\n",
       " 'stats_student_staff_ratio',\n",
       " 'stats_pc_intl_students',\n",
       " 'stats_female_male_ratio',\n",
       " 'aliases',\n",
       " 'subjects_offered',\n",
       " 'closed',\n",
       " 'unaccredited',\n",
       " 'disabled',\n",
       " 'website_url']"
      ]
     },
     "execution_count": 9,
     "metadata": {},
     "output_type": "execute_result"
    }
   ],
   "source": [
    "column_names = data.columns.tolist()\n",
    "column_names"
   ]
  },
  {
   "cell_type": "code",
   "execution_count": 10,
   "id": "d020030b",
   "metadata": {
    "execution": {
     "iopub.execute_input": "2023-10-01T21:44:54.192863Z",
     "iopub.status.busy": "2023-10-01T21:44:54.192485Z",
     "iopub.status.idle": "2023-10-01T21:44:54.201084Z",
     "shell.execute_reply": "2023-10-01T21:44:54.199772Z"
    },
    "papermill": {
     "duration": 0.023775,
     "end_time": "2023-10-01T21:44:54.203569",
     "exception": false,
     "start_time": "2023-10-01T21:44:54.179794",
     "status": "completed"
    },
    "tags": []
   },
   "outputs": [
    {
     "data": {
      "text/plain": [
       "rank                                  object\n",
       "name                                  object\n",
       "scores_overall                        object\n",
       "scores_overall_rank                    int64\n",
       "scores_teaching                      float64\n",
       "scores_teaching_rank                   int64\n",
       "scores_research                      float64\n",
       "scores_research_rank                   int64\n",
       "scores_citations                     float64\n",
       "scores_citations_rank                  int64\n",
       "scores_industry_income               float64\n",
       "scores_industry_income_rank            int64\n",
       "scores_international_outlook         float64\n",
       "scores_international_outlook_rank      int64\n",
       "record_type                           object\n",
       "member_level                           int64\n",
       "url                                   object\n",
       "nid                                    int64\n",
       "location                              object\n",
       "stats_number_students                 object\n",
       "stats_student_staff_ratio            float64\n",
       "stats_pc_intl_students                object\n",
       "stats_female_male_ratio               object\n",
       "aliases                               object\n",
       "subjects_offered                      object\n",
       "closed                                  bool\n",
       "unaccredited                            bool\n",
       "disabled                                bool\n",
       "website_url                           object\n",
       "dtype: object"
      ]
     },
     "execution_count": 10,
     "metadata": {},
     "output_type": "execute_result"
    }
   ],
   "source": [
    "# Check for all data types\n",
    "data_types = data.dtypes\n",
    "data_types"
   ]
  },
  {
   "cell_type": "markdown",
   "id": "b86df430",
   "metadata": {
    "papermill": {
     "duration": 0.011318,
     "end_time": "2023-10-01T21:44:54.226582",
     "exception": false,
     "start_time": "2023-10-01T21:44:54.215264",
     "status": "completed"
    },
    "tags": []
   },
   "source": [
    "### Data Cleaning"
   ]
  },
  {
   "cell_type": "code",
   "execution_count": 11,
   "id": "46246e63",
   "metadata": {
    "execution": {
     "iopub.execute_input": "2023-10-01T21:44:54.251960Z",
     "iopub.status.busy": "2023-10-01T21:44:54.251537Z",
     "iopub.status.idle": "2023-10-01T21:44:54.262574Z",
     "shell.execute_reply": "2023-10-01T21:44:54.261469Z"
    },
    "papermill": {
     "duration": 0.026775,
     "end_time": "2023-10-01T21:44:54.265111",
     "exception": false,
     "start_time": "2023-10-01T21:44:54.238336",
     "status": "completed"
    },
    "tags": []
   },
   "outputs": [
    {
     "data": {
      "text/plain": [
       "rank                                    0\n",
       "name                                    0\n",
       "scores_overall                        769\n",
       "scores_overall_rank                     0\n",
       "scores_teaching                       769\n",
       "scores_teaching_rank                    0\n",
       "scores_research                       769\n",
       "scores_research_rank                    0\n",
       "scores_citations                      769\n",
       "scores_citations_rank                   0\n",
       "scores_industry_income                769\n",
       "scores_industry_income_rank             0\n",
       "scores_international_outlook          769\n",
       "scores_international_outlook_rank       0\n",
       "record_type                             0\n",
       "member_level                            0\n",
       "url                                     0\n",
       "nid                                     0\n",
       "location                                0\n",
       "stats_number_students                   0\n",
       "stats_student_staff_ratio               0\n",
       "stats_pc_intl_students                  0\n",
       "stats_female_male_ratio                93\n",
       "aliases                                 0\n",
       "subjects_offered                        4\n",
       "closed                                  0\n",
       "unaccredited                            0\n",
       "disabled                                0\n",
       "website_url                          2329\n",
       "dtype: int64"
      ]
     },
     "execution_count": 11,
     "metadata": {},
     "output_type": "execute_result"
    }
   ],
   "source": [
    "data.isnull().sum()"
   ]
  },
  {
   "cell_type": "code",
   "execution_count": 12,
   "id": "445c6df2",
   "metadata": {
    "execution": {
     "iopub.execute_input": "2023-10-01T21:44:54.290724Z",
     "iopub.status.busy": "2023-10-01T21:44:54.290323Z",
     "iopub.status.idle": "2023-10-01T21:44:54.300498Z",
     "shell.execute_reply": "2023-10-01T21:44:54.299255Z"
    },
    "papermill": {
     "duration": 0.025666,
     "end_time": "2023-10-01T21:44:54.302698",
     "exception": false,
     "start_time": "2023-10-01T21:44:54.277032",
     "status": "completed"
    },
    "tags": []
   },
   "outputs": [
    {
     "data": {
      "text/plain": [
       "7040"
      ]
     },
     "execution_count": 12,
     "metadata": {},
     "output_type": "execute_result"
    }
   ],
   "source": [
    "# Get the total amount of Missing values\n",
    "data.isnull().sum().sum()"
   ]
  },
  {
   "cell_type": "code",
   "execution_count": 13,
   "id": "66577d82",
   "metadata": {
    "execution": {
     "iopub.execute_input": "2023-10-01T21:44:54.328326Z",
     "iopub.status.busy": "2023-10-01T21:44:54.327921Z",
     "iopub.status.idle": "2023-10-01T21:44:54.339023Z",
     "shell.execute_reply": "2023-10-01T21:44:54.337478Z"
    },
    "papermill": {
     "duration": 0.027598,
     "end_time": "2023-10-01T21:44:54.342191",
     "exception": false,
     "start_time": "2023-10-01T21:44:54.314593",
     "status": "completed"
    },
    "tags": []
   },
   "outputs": [],
   "source": [
    "# Remove rows with missing values\n",
    "data.dropna(axis=0, inplace=True)"
   ]
  },
  {
   "cell_type": "markdown",
   "id": "d7cb1bd7",
   "metadata": {
    "papermill": {
     "duration": 0.011615,
     "end_time": "2023-10-01T21:44:54.366852",
     "exception": false,
     "start_time": "2023-10-01T21:44:54.355237",
     "status": "completed"
    },
    "tags": []
   },
   "source": [
    "- Note: Now that we've got rid of all the Missing values, we'll corroborate it just in case!"
   ]
  },
  {
   "cell_type": "code",
   "execution_count": 14,
   "id": "1d6eafe2",
   "metadata": {
    "execution": {
     "iopub.execute_input": "2023-10-01T21:44:54.394413Z",
     "iopub.status.busy": "2023-10-01T21:44:54.394073Z",
     "iopub.status.idle": "2023-10-01T21:44:54.403362Z",
     "shell.execute_reply": "2023-10-01T21:44:54.402124Z"
    },
    "papermill": {
     "duration": 0.025599,
     "end_time": "2023-10-01T21:44:54.405695",
     "exception": false,
     "start_time": "2023-10-01T21:44:54.380096",
     "status": "completed"
    },
    "tags": []
   },
   "outputs": [
    {
     "data": {
      "text/plain": [
       "0"
      ]
     },
     "execution_count": 14,
     "metadata": {},
     "output_type": "execute_result"
    }
   ],
   "source": [
    "# Corroborate if the formula above worked\n",
    "data.isnull().sum().sum()"
   ]
  },
  {
   "cell_type": "markdown",
   "id": "f7a32e01",
   "metadata": {
    "papermill": {
     "duration": 0.01335,
     "end_time": "2023-10-01T21:44:54.431224",
     "exception": false,
     "start_time": "2023-10-01T21:44:54.417874",
     "status": "completed"
    },
    "tags": []
   },
   "source": [
    "- Note: Everything worked! We've finally got rid of all the Missing data"
   ]
  },
  {
   "cell_type": "markdown",
   "id": "b3124e02",
   "metadata": {
    "papermill": {
     "duration": 0.014256,
     "end_time": "2023-10-01T21:44:54.458329",
     "exception": false,
     "start_time": "2023-10-01T21:44:54.444073",
     "status": "completed"
    },
    "tags": []
   },
   "source": [
    "#### Percentage of the total amount of duplicated data"
   ]
  },
  {
   "cell_type": "code",
   "execution_count": 15,
   "id": "9663151b",
   "metadata": {
    "execution": {
     "iopub.execute_input": "2023-10-01T21:44:54.488610Z",
     "iopub.status.busy": "2023-10-01T21:44:54.488122Z",
     "iopub.status.idle": "2023-10-01T21:44:54.502727Z",
     "shell.execute_reply": "2023-10-01T21:44:54.501336Z"
    },
    "papermill": {
     "duration": 0.033784,
     "end_time": "2023-10-01T21:44:54.505204",
     "exception": false,
     "start_time": "2023-10-01T21:44:54.471420",
     "status": "completed"
    },
    "tags": []
   },
   "outputs": [
    {
     "name": "stdout",
     "output_type": "stream",
     "text": [
      "Percentage of duplicate rows: 0.00%\n"
     ]
    }
   ],
   "source": [
    "# Step 1: Calculate the total number of duplicate rows\n",
    "total_duplicates = data.duplicated().sum()\n",
    "\n",
    "# Step 2: Calculate the total number of rows\n",
    "total_rows = len(data)\n",
    "\n",
    "# Step 3: Calculate the percentage of duplicates\n",
    "percentage_duplicates = (total_duplicates / total_rows) * 100\n",
    "\n",
    "print(f\"Percentage of duplicate rows: {percentage_duplicates:.2f}%\")\n"
   ]
  },
  {
   "cell_type": "code",
   "execution_count": 16,
   "id": "d5e556f5",
   "metadata": {
    "execution": {
     "iopub.execute_input": "2023-10-01T21:44:54.533375Z",
     "iopub.status.busy": "2023-10-01T21:44:54.533011Z",
     "iopub.status.idle": "2023-10-01T21:44:54.575199Z",
     "shell.execute_reply": "2023-10-01T21:44:54.573756Z"
    },
    "papermill": {
     "duration": 0.06113,
     "end_time": "2023-10-01T21:44:54.579166",
     "exception": false,
     "start_time": "2023-10-01T21:44:54.518036",
     "status": "completed"
    },
    "tags": []
   },
   "outputs": [
    {
     "name": "stdout",
     "output_type": "stream",
     "text": [
      "Summary statistics for numeric columns:\n",
      "       scores_overall_rank  scores_teaching  scores_teaching_rank  \\\n",
      "count           283.000000       283.000000            283.000000   \n",
      "mean           4769.434629        38.205654            632.272085   \n",
      "std            3536.306178        18.475872            492.598998   \n",
      "min              10.000000        16.800000              2.000000   \n",
      "25%            1885.000000        25.050000            186.500000   \n",
      "50%            4310.000000        33.800000            502.000000   \n",
      "75%            7275.000000        46.100000           1001.500000   \n",
      "max           15790.000000        98.600000           1636.000000   \n",
      "\n",
      "       scores_research  scores_research_rank  scores_citations  \\\n",
      "count       283.000000            283.000000        283.000000   \n",
      "mean         34.872085            572.618375         74.020495   \n",
      "std          22.061763            419.455882         16.811040   \n",
      "min           7.700000              1.000000         26.100000   \n",
      "25%          20.050000            236.500000         62.150000   \n",
      "50%          28.300000            507.000000         75.800000   \n",
      "75%          40.900000            808.500000         87.250000   \n",
      "max         100.000000           1890.000000         99.700000   \n",
      "\n",
      "       scores_citations_rank  scores_industry_income  \\\n",
      "count             283.000000              283.000000   \n",
      "mean              475.346290               63.882686   \n",
      "std               362.526977               20.465197   \n",
      "min                 1.000000               16.000000   \n",
      "25%               169.000000               52.050000   \n",
      "50%               422.000000               66.600000   \n",
      "75%               730.500000               76.450000   \n",
      "max              1538.000000              100.000000   \n",
      "\n",
      "       scores_industry_income_rank  scores_international_outlook  \\\n",
      "count                   283.000000                    283.000000   \n",
      "mean                    583.547703                     70.329682   \n",
      "std                     381.725153                     20.001793   \n",
      "min                       1.000000                     28.900000   \n",
      "25%                     310.500000                     54.200000   \n",
      "50%                     514.000000                     74.800000   \n",
      "75%                     771.000000                     87.700000   \n",
      "max                    1869.000000                     98.400000   \n",
      "\n",
      "       scores_international_outlook_rank  member_level            nid  \\\n",
      "count                         283.000000    283.000000     283.000000   \n",
      "mean                          470.028269      0.455830  116427.607774   \n",
      "std                           397.962362      2.113951  201217.528759   \n",
      "min                             4.000000      0.000000     466.000000   \n",
      "25%                           154.000000      0.000000     598.500000   \n",
      "50%                           331.000000      0.000000     824.000000   \n",
      "75%                           690.000000      0.000000  131578.500000   \n",
      "max                          1547.000000     11.000000  629910.000000   \n",
      "\n",
      "       stats_student_staff_ratio  \n",
      "count                 283.000000  \n",
      "mean                   16.546643  \n",
      "std                     6.855221  \n",
      "min                     0.300000  \n",
      "25%                    12.250000  \n",
      "50%                    16.000000  \n",
      "75%                    19.400000  \n",
      "max                    48.700000  \n"
     ]
    }
   ],
   "source": [
    "# Summary statistics for numeric columns\n",
    "numeric_summary = data.describe()\n",
    "print(\"Summary statistics for numeric columns:\")\n",
    "print(numeric_summary)\n"
   ]
  },
  {
   "cell_type": "markdown",
   "id": "edec3413",
   "metadata": {
    "papermill": {
     "duration": 0.012252,
     "end_time": "2023-10-01T21:44:54.603890",
     "exception": false,
     "start_time": "2023-10-01T21:44:54.591638",
     "status": "completed"
    },
    "tags": []
   },
   "source": [
    "#### Distributions"
   ]
  },
  {
   "cell_type": "markdown",
   "id": "78d6d21a",
   "metadata": {
    "papermill": {
     "duration": 0.014369,
     "end_time": "2023-10-01T21:44:54.631393",
     "exception": false,
     "start_time": "2023-10-01T21:44:54.617024",
     "status": "completed"
    },
    "tags": []
   },
   "source": [
    "- What is the distribution of scores_overall?\n",
    "- How are other numeric columns distributed?"
   ]
  },
  {
   "cell_type": "code",
   "execution_count": 17,
   "id": "fb0c4939",
   "metadata": {
    "execution": {
     "iopub.execute_input": "2023-10-01T21:44:54.658178Z",
     "iopub.status.busy": "2023-10-01T21:44:54.657828Z",
     "iopub.status.idle": "2023-10-01T21:44:58.160830Z",
     "shell.execute_reply": "2023-10-01T21:44:58.159622Z"
    },
    "papermill": {
     "duration": 3.519015,
     "end_time": "2023-10-01T21:44:58.162918",
     "exception": false,
     "start_time": "2023-10-01T21:44:54.643903",
     "status": "completed"
    },
    "tags": []
   },
   "outputs": [
    {
     "data": {
      "text/html": [
       "        <script type=\"text/javascript\">\n",
       "        window.PlotlyConfig = {MathJaxConfig: 'local'};\n",
       "        if (window.MathJax && window.MathJax.Hub && window.MathJax.Hub.Config) {window.MathJax.Hub.Config({SVG: {font: \"STIX-Web\"}});}\n",
       "        if (typeof require !== 'undefined') {\n",
       "        require.undef(\"plotly\");\n",
       "        requirejs.config({\n",
       "            paths: {\n",
       "                'plotly': ['https://cdn.plot.ly/plotly-2.24.1.min']\n",
       "            }\n",
       "        });\n",
       "        require(['plotly'], function(Plotly) {\n",
       "            window._Plotly = Plotly;\n",
       "        });\n",
       "        }\n",
       "        </script>\n",
       "        "
      ]
     },
     "metadata": {},
     "output_type": "display_data"
    },
    {
     "data": {
      "text/html": [
       "<div>                            <div id=\"fc9effca-68a5-4364-924b-9614f8ce085c\" class=\"plotly-graph-div\" style=\"height:525px; width:100%;\"></div>            <script type=\"text/javascript\">                require([\"plotly\"], function(Plotly) {                    window.PLOTLYENV=window.PLOTLYENV || {};                                    if (document.getElementById(\"fc9effca-68a5-4364-924b-9614f8ce085c\")) {                    Plotly.newPlot(                        \"fc9effca-68a5-4364-924b-9614f8ce085c\",                        [{\"alignmentgroup\":\"True\",\"bingroup\":\"x\",\"hovertemplate\":\"scores_overall=%{x}\\u003cbr\\u003ecount=%{y}\\u003cextra\\u003e\\u003c\\u002fextra\\u003e\",\"legendgroup\":\"\",\"marker\":{\"color\":\"#636efa\",\"pattern\":{\"shape\":\"\"}},\"name\":\"\",\"nbinsx\":10,\"offsetgroup\":\"\",\"orientation\":\"v\",\"showlegend\":false,\"x\":[\"98.5\",\"97.9\",\"97.8\",\"97.5\",\"96.9\",\"96.5\",\"95.1\",\"94.6\",\"94.2\",\"91.1\",\"91.0\",\"90.1\",\"89.5\",\"88.6\",\"88.1\",\"87.4\",\"86.3\",\"85.3\",\"83.9\",\"83.5\",\"83.2\",\"82.5\",\"81.0\",\"80.0\",\"79.2\",\"78.0\",\"77.9\",\"76.8\",\"76.0\",\"75.6\",\"75.5\",\"75.2\",\"74.1\",\"72.6\",\"72.1\",\"71.2\",\"70.8\",\"70.1\",\"68.7\",\"68.5\",\"67.4\",\"67.4\",\"66.9\",\"66.7\",\"66.6\",\"66.2\",\"66.1\",\"66.1\",\"65.7\",\"65.4\",\"65.2\",\"65.0\",\"64.9\",\"63.9\",\"63.8\",\"63.7\",\"63.6\",\"62.9\",\"62.7\",\"62.5\",\"62.4\",\"61.8\",\"61.8\",\"61.4\",\"61.3\",\"61.1\",\"60.8\",\"60.8\",\"60.6\",\"60.2\",\"59.5\",\"59.3\",\"59.2\",\"59.0\",\"58.9\",\"58.7\",\"55.9–58.6\",\"55.9–58.6\",\"55.9–58.6\",\"55.9–58.6\",\"55.9–58.6\",\"55.9–58.6\",\"55.9–58.6\",\"55.9–58.6\",\"55.9–58.6\",\"55.9–58.6\",\"55.9–58.6\",\"55.9–58.6\",\"55.9–58.6\",\"55.9–58.6\",\"55.9–58.6\",\"55.9–58.6\",\"55.9–58.6\",\"53.1–55.8\",\"53.1–55.8\",\"53.1–55.8\",\"53.1–55.8\",\"53.1–55.8\",\"53.1–55.8\",\"53.1–55.8\",\"53.1–55.8\",\"53.1–55.8\",\"53.1–55.8\",\"53.1–55.8\",\"53.1–55.8\",\"53.1–55.8\",\"53.1–55.8\",\"51.1–53.0\",\"51.1–53.0\",\"51.1–53.0\",\"51.1–53.0\",\"51.1–53.0\",\"51.1–53.0\",\"51.1–53.0\",\"51.1–53.0\",\"51.1–53.0\",\"51.1–53.0\",\"49.1–51.0\",\"49.1–51.0\",\"49.1–51.0\",\"49.1–51.0\",\"49.1–51.0\",\"49.1–51.0\",\"49.1–51.0\",\"49.1–51.0\",\"49.1–51.0\",\"49.1–51.0\",\"49.1–51.0\",\"49.1–51.0\",\"49.1–51.0\",\"49.1–51.0\",\"45.4–49.0\",\"45.4–49.0\",\"45.4–49.0\",\"45.4–49.0\",\"45.4–49.0\",\"45.4–49.0\",\"45.4–49.0\",\"45.4–49.0\",\"45.4–49.0\",\"45.4–49.0\",\"45.4–49.0\",\"45.4–49.0\",\"45.4–49.0\",\"45.4–49.0\",\"45.4–49.0\",\"45.4–49.0\",\"45.4–49.0\",\"45.4–49.0\",\"45.4–49.0\",\"45.4–49.0\",\"45.4–49.0\",\"45.4–49.0\",\"45.4–49.0\",\"45.4–49.0\",\"45.4–49.0\",\"45.4–49.0\",\"45.4–49.0\",\"45.4–49.0\",\"45.4–49.0\",\"45.4–49.0\",\"45.4–49.0\",\"45.4–49.0\",\"45.4–49.0\",\"45.4–49.0\",\"45.4–49.0\",\"41.9–45.3\",\"41.9–45.3\",\"41.9–45.3\",\"41.9–45.3\",\"41.9–45.3\",\"41.9–45.3\",\"41.9–45.3\",\"41.9–45.3\",\"41.9–45.3\",\"41.9–45.3\",\"41.9–45.3\",\"41.9–45.3\",\"41.9–45.3\",\"41.9–45.3\",\"41.9–45.3\",\"41.9–45.3\",\"41.9–45.3\",\"41.9–45.3\",\"41.9–45.3\",\"41.9–45.3\",\"41.9–45.3\",\"41.9–45.3\",\"41.9–45.3\",\"41.9–45.3\",\"41.9–45.3\",\"41.9–45.3\",\"41.9–45.3\",\"37.0–41.8\",\"37.0–41.8\",\"37.0–41.8\",\"37.0–41.8\",\"37.0–41.8\",\"37.0–41.8\",\"37.0–41.8\",\"37.0–41.8\",\"37.0–41.8\",\"37.0–41.8\",\"37.0–41.8\",\"37.0–41.8\",\"37.0–41.8\",\"37.0–41.8\",\"37.0–41.8\",\"37.0–41.8\",\"37.0–41.8\",\"37.0–41.8\",\"37.0–41.8\",\"37.0–41.8\",\"37.0–41.8\",\"37.0–41.8\",\"37.0–41.8\",\"37.0–41.8\",\"37.0–41.8\",\"37.0–41.8\",\"37.0–41.8\",\"37.0–41.8\",\"37.0–41.8\",\"37.0–41.8\",\"37.0–41.8\",\"37.0–41.8\",\"37.0–41.8\",\"37.0–41.8\",\"37.0–41.8\",\"37.0–41.8\",\"37.0–41.8\",\"37.0–41.8\",\"37.0–41.8\",\"32.7–36.9\",\"32.7–36.9\",\"32.7–36.9\",\"32.7–36.9\",\"32.7–36.9\",\"32.7–36.9\",\"32.7–36.9\",\"32.7–36.9\",\"32.7–36.9\",\"32.7–36.9\",\"32.7–36.9\",\"32.7–36.9\",\"32.7–36.9\",\"32.7–36.9\",\"32.7–36.9\",\"32.7–36.9\",\"32.7–36.9\",\"32.7–36.9\",\"32.7–36.9\",\"32.7–36.9\",\"32.7–36.9\",\"32.7–36.9\",\"32.7–36.9\",\"32.7–36.9\",\"32.7–36.9\",\"32.7–36.9\",\"28.3–32.6\",\"28.3–32.6\",\"28.3–32.6\",\"28.3–32.6\",\"28.3–32.6\",\"28.3–32.6\",\"28.3–32.6\",\"28.3–32.6\",\"28.3–32.6\",\"28.3–32.6\",\"28.3–32.6\",\"28.3–32.6\",\"28.3–32.6\",\"28.3–32.6\",\"28.3–32.6\",\"28.3–32.6\",\"28.3–32.6\",\"22.8–28.2\",\"22.8–28.2\",\"22.8–28.2\",\"22.8–28.2\",\"22.8–28.2\",\"22.8–28.2\",\"9.7–22.7\",\"9.7–22.7\"],\"xaxis\":\"x\",\"yaxis\":\"y\",\"type\":\"histogram\"}],                        {\"template\":{\"data\":{\"histogram2dcontour\":[{\"type\":\"histogram2dcontour\",\"colorbar\":{\"outlinewidth\":0,\"ticks\":\"\"},\"colorscale\":[[0.0,\"#0d0887\"],[0.1111111111111111,\"#46039f\"],[0.2222222222222222,\"#7201a8\"],[0.3333333333333333,\"#9c179e\"],[0.4444444444444444,\"#bd3786\"],[0.5555555555555556,\"#d8576b\"],[0.6666666666666666,\"#ed7953\"],[0.7777777777777778,\"#fb9f3a\"],[0.8888888888888888,\"#fdca26\"],[1.0,\"#f0f921\"]]}],\"choropleth\":[{\"type\":\"choropleth\",\"colorbar\":{\"outlinewidth\":0,\"ticks\":\"\"}}],\"histogram2d\":[{\"type\":\"histogram2d\",\"colorbar\":{\"outlinewidth\":0,\"ticks\":\"\"},\"colorscale\":[[0.0,\"#0d0887\"],[0.1111111111111111,\"#46039f\"],[0.2222222222222222,\"#7201a8\"],[0.3333333333333333,\"#9c179e\"],[0.4444444444444444,\"#bd3786\"],[0.5555555555555556,\"#d8576b\"],[0.6666666666666666,\"#ed7953\"],[0.7777777777777778,\"#fb9f3a\"],[0.8888888888888888,\"#fdca26\"],[1.0,\"#f0f921\"]]}],\"heatmap\":[{\"type\":\"heatmap\",\"colorbar\":{\"outlinewidth\":0,\"ticks\":\"\"},\"colorscale\":[[0.0,\"#0d0887\"],[0.1111111111111111,\"#46039f\"],[0.2222222222222222,\"#7201a8\"],[0.3333333333333333,\"#9c179e\"],[0.4444444444444444,\"#bd3786\"],[0.5555555555555556,\"#d8576b\"],[0.6666666666666666,\"#ed7953\"],[0.7777777777777778,\"#fb9f3a\"],[0.8888888888888888,\"#fdca26\"],[1.0,\"#f0f921\"]]}],\"heatmapgl\":[{\"type\":\"heatmapgl\",\"colorbar\":{\"outlinewidth\":0,\"ticks\":\"\"},\"colorscale\":[[0.0,\"#0d0887\"],[0.1111111111111111,\"#46039f\"],[0.2222222222222222,\"#7201a8\"],[0.3333333333333333,\"#9c179e\"],[0.4444444444444444,\"#bd3786\"],[0.5555555555555556,\"#d8576b\"],[0.6666666666666666,\"#ed7953\"],[0.7777777777777778,\"#fb9f3a\"],[0.8888888888888888,\"#fdca26\"],[1.0,\"#f0f921\"]]}],\"contourcarpet\":[{\"type\":\"contourcarpet\",\"colorbar\":{\"outlinewidth\":0,\"ticks\":\"\"}}],\"contour\":[{\"type\":\"contour\",\"colorbar\":{\"outlinewidth\":0,\"ticks\":\"\"},\"colorscale\":[[0.0,\"#0d0887\"],[0.1111111111111111,\"#46039f\"],[0.2222222222222222,\"#7201a8\"],[0.3333333333333333,\"#9c179e\"],[0.4444444444444444,\"#bd3786\"],[0.5555555555555556,\"#d8576b\"],[0.6666666666666666,\"#ed7953\"],[0.7777777777777778,\"#fb9f3a\"],[0.8888888888888888,\"#fdca26\"],[1.0,\"#f0f921\"]]}],\"surface\":[{\"type\":\"surface\",\"colorbar\":{\"outlinewidth\":0,\"ticks\":\"\"},\"colorscale\":[[0.0,\"#0d0887\"],[0.1111111111111111,\"#46039f\"],[0.2222222222222222,\"#7201a8\"],[0.3333333333333333,\"#9c179e\"],[0.4444444444444444,\"#bd3786\"],[0.5555555555555556,\"#d8576b\"],[0.6666666666666666,\"#ed7953\"],[0.7777777777777778,\"#fb9f3a\"],[0.8888888888888888,\"#fdca26\"],[1.0,\"#f0f921\"]]}],\"mesh3d\":[{\"type\":\"mesh3d\",\"colorbar\":{\"outlinewidth\":0,\"ticks\":\"\"}}],\"scatter\":[{\"fillpattern\":{\"fillmode\":\"overlay\",\"size\":10,\"solidity\":0.2},\"type\":\"scatter\"}],\"parcoords\":[{\"type\":\"parcoords\",\"line\":{\"colorbar\":{\"outlinewidth\":0,\"ticks\":\"\"}}}],\"scatterpolargl\":[{\"type\":\"scatterpolargl\",\"marker\":{\"colorbar\":{\"outlinewidth\":0,\"ticks\":\"\"}}}],\"bar\":[{\"error_x\":{\"color\":\"#2a3f5f\"},\"error_y\":{\"color\":\"#2a3f5f\"},\"marker\":{\"line\":{\"color\":\"#E5ECF6\",\"width\":0.5},\"pattern\":{\"fillmode\":\"overlay\",\"size\":10,\"solidity\":0.2}},\"type\":\"bar\"}],\"scattergeo\":[{\"type\":\"scattergeo\",\"marker\":{\"colorbar\":{\"outlinewidth\":0,\"ticks\":\"\"}}}],\"scatterpolar\":[{\"type\":\"scatterpolar\",\"marker\":{\"colorbar\":{\"outlinewidth\":0,\"ticks\":\"\"}}}],\"histogram\":[{\"marker\":{\"pattern\":{\"fillmode\":\"overlay\",\"size\":10,\"solidity\":0.2}},\"type\":\"histogram\"}],\"scattergl\":[{\"type\":\"scattergl\",\"marker\":{\"colorbar\":{\"outlinewidth\":0,\"ticks\":\"\"}}}],\"scatter3d\":[{\"type\":\"scatter3d\",\"line\":{\"colorbar\":{\"outlinewidth\":0,\"ticks\":\"\"}},\"marker\":{\"colorbar\":{\"outlinewidth\":0,\"ticks\":\"\"}}}],\"scattermapbox\":[{\"type\":\"scattermapbox\",\"marker\":{\"colorbar\":{\"outlinewidth\":0,\"ticks\":\"\"}}}],\"scatterternary\":[{\"type\":\"scatterternary\",\"marker\":{\"colorbar\":{\"outlinewidth\":0,\"ticks\":\"\"}}}],\"scattercarpet\":[{\"type\":\"scattercarpet\",\"marker\":{\"colorbar\":{\"outlinewidth\":0,\"ticks\":\"\"}}}],\"carpet\":[{\"aaxis\":{\"endlinecolor\":\"#2a3f5f\",\"gridcolor\":\"white\",\"linecolor\":\"white\",\"minorgridcolor\":\"white\",\"startlinecolor\":\"#2a3f5f\"},\"baxis\":{\"endlinecolor\":\"#2a3f5f\",\"gridcolor\":\"white\",\"linecolor\":\"white\",\"minorgridcolor\":\"white\",\"startlinecolor\":\"#2a3f5f\"},\"type\":\"carpet\"}],\"table\":[{\"cells\":{\"fill\":{\"color\":\"#EBF0F8\"},\"line\":{\"color\":\"white\"}},\"header\":{\"fill\":{\"color\":\"#C8D4E3\"},\"line\":{\"color\":\"white\"}},\"type\":\"table\"}],\"barpolar\":[{\"marker\":{\"line\":{\"color\":\"#E5ECF6\",\"width\":0.5},\"pattern\":{\"fillmode\":\"overlay\",\"size\":10,\"solidity\":0.2}},\"type\":\"barpolar\"}],\"pie\":[{\"automargin\":true,\"type\":\"pie\"}]},\"layout\":{\"autotypenumbers\":\"strict\",\"colorway\":[\"#636efa\",\"#EF553B\",\"#00cc96\",\"#ab63fa\",\"#FFA15A\",\"#19d3f3\",\"#FF6692\",\"#B6E880\",\"#FF97FF\",\"#FECB52\"],\"font\":{\"color\":\"#2a3f5f\"},\"hovermode\":\"closest\",\"hoverlabel\":{\"align\":\"left\"},\"paper_bgcolor\":\"white\",\"plot_bgcolor\":\"#E5ECF6\",\"polar\":{\"bgcolor\":\"#E5ECF6\",\"angularaxis\":{\"gridcolor\":\"white\",\"linecolor\":\"white\",\"ticks\":\"\"},\"radialaxis\":{\"gridcolor\":\"white\",\"linecolor\":\"white\",\"ticks\":\"\"}},\"ternary\":{\"bgcolor\":\"#E5ECF6\",\"aaxis\":{\"gridcolor\":\"white\",\"linecolor\":\"white\",\"ticks\":\"\"},\"baxis\":{\"gridcolor\":\"white\",\"linecolor\":\"white\",\"ticks\":\"\"},\"caxis\":{\"gridcolor\":\"white\",\"linecolor\":\"white\",\"ticks\":\"\"}},\"coloraxis\":{\"colorbar\":{\"outlinewidth\":0,\"ticks\":\"\"}},\"colorscale\":{\"sequential\":[[0.0,\"#0d0887\"],[0.1111111111111111,\"#46039f\"],[0.2222222222222222,\"#7201a8\"],[0.3333333333333333,\"#9c179e\"],[0.4444444444444444,\"#bd3786\"],[0.5555555555555556,\"#d8576b\"],[0.6666666666666666,\"#ed7953\"],[0.7777777777777778,\"#fb9f3a\"],[0.8888888888888888,\"#fdca26\"],[1.0,\"#f0f921\"]],\"sequentialminus\":[[0.0,\"#0d0887\"],[0.1111111111111111,\"#46039f\"],[0.2222222222222222,\"#7201a8\"],[0.3333333333333333,\"#9c179e\"],[0.4444444444444444,\"#bd3786\"],[0.5555555555555556,\"#d8576b\"],[0.6666666666666666,\"#ed7953\"],[0.7777777777777778,\"#fb9f3a\"],[0.8888888888888888,\"#fdca26\"],[1.0,\"#f0f921\"]],\"diverging\":[[0,\"#8e0152\"],[0.1,\"#c51b7d\"],[0.2,\"#de77ae\"],[0.3,\"#f1b6da\"],[0.4,\"#fde0ef\"],[0.5,\"#f7f7f7\"],[0.6,\"#e6f5d0\"],[0.7,\"#b8e186\"],[0.8,\"#7fbc41\"],[0.9,\"#4d9221\"],[1,\"#276419\"]]},\"xaxis\":{\"gridcolor\":\"white\",\"linecolor\":\"white\",\"ticks\":\"\",\"title\":{\"standoff\":15},\"zerolinecolor\":\"white\",\"automargin\":true,\"zerolinewidth\":2},\"yaxis\":{\"gridcolor\":\"white\",\"linecolor\":\"white\",\"ticks\":\"\",\"title\":{\"standoff\":15},\"zerolinecolor\":\"white\",\"automargin\":true,\"zerolinewidth\":2},\"scene\":{\"xaxis\":{\"backgroundcolor\":\"#E5ECF6\",\"gridcolor\":\"white\",\"linecolor\":\"white\",\"showbackground\":true,\"ticks\":\"\",\"zerolinecolor\":\"white\",\"gridwidth\":2},\"yaxis\":{\"backgroundcolor\":\"#E5ECF6\",\"gridcolor\":\"white\",\"linecolor\":\"white\",\"showbackground\":true,\"ticks\":\"\",\"zerolinecolor\":\"white\",\"gridwidth\":2},\"zaxis\":{\"backgroundcolor\":\"#E5ECF6\",\"gridcolor\":\"white\",\"linecolor\":\"white\",\"showbackground\":true,\"ticks\":\"\",\"zerolinecolor\":\"white\",\"gridwidth\":2}},\"shapedefaults\":{\"line\":{\"color\":\"#2a3f5f\"}},\"annotationdefaults\":{\"arrowcolor\":\"#2a3f5f\",\"arrowhead\":0,\"arrowwidth\":1},\"geo\":{\"bgcolor\":\"white\",\"landcolor\":\"#E5ECF6\",\"subunitcolor\":\"white\",\"showland\":true,\"showlakes\":true,\"lakecolor\":\"white\"},\"title\":{\"x\":0.05},\"mapbox\":{\"style\":\"light\"}}},\"xaxis\":{\"anchor\":\"y\",\"domain\":[0.0,1.0],\"title\":{\"text\":\"scores_overall\"}},\"yaxis\":{\"anchor\":\"x\",\"domain\":[0.0,1.0],\"title\":{\"text\":\"Frequency\"}},\"legend\":{\"tracegroupgap\":0},\"title\":{\"text\":\"Distribution of scores_overall\"},\"barmode\":\"relative\"},                        {\"responsive\": true}                    ).then(function(){\n",
       "                            \n",
       "var gd = document.getElementById('fc9effca-68a5-4364-924b-9614f8ce085c');\n",
       "var x = new MutationObserver(function (mutations, observer) {{\n",
       "        var display = window.getComputedStyle(gd).display;\n",
       "        if (!display || display === 'none') {{\n",
       "            console.log([gd, 'removed!']);\n",
       "            Plotly.purge(gd);\n",
       "            observer.disconnect();\n",
       "        }}\n",
       "}});\n",
       "\n",
       "// Listen for the removal of the full notebook cells\n",
       "var notebookContainer = gd.closest('#notebook-container');\n",
       "if (notebookContainer) {{\n",
       "    x.observe(notebookContainer, {childList: true});\n",
       "}}\n",
       "\n",
       "// Listen for the clearing of the current output cell\n",
       "var outputEl = gd.closest('.output');\n",
       "if (outputEl) {{\n",
       "    x.observe(outputEl, {childList: true});\n",
       "}}\n",
       "\n",
       "                        })                };                });            </script>        </div>"
      ]
     },
     "metadata": {},
     "output_type": "display_data"
    }
   ],
   "source": [
    "import plotly.express as px\n",
    "\n",
    "# Create an interactive histogram\n",
    "fig = px.histogram(data, x='scores_overall', nbins=10, title='Distribution of scores_overall')\n",
    "fig.update_xaxes(title='scores_overall')\n",
    "fig.update_yaxes(title='Frequency')\n",
    "\n",
    "# Show the interactive plot\n",
    "fig.show()\n"
   ]
  },
  {
   "cell_type": "code",
   "execution_count": 18,
   "id": "3b928ca8",
   "metadata": {
    "execution": {
     "iopub.execute_input": "2023-10-01T21:44:58.193509Z",
     "iopub.status.busy": "2023-10-01T21:44:58.192378Z",
     "iopub.status.idle": "2023-10-01T21:44:58.224393Z",
     "shell.execute_reply": "2023-10-01T21:44:58.223053Z"
    },
    "papermill": {
     "duration": 0.049939,
     "end_time": "2023-10-01T21:44:58.226783",
     "exception": false,
     "start_time": "2023-10-01T21:44:58.176844",
     "status": "completed"
    },
    "tags": []
   },
   "outputs": [
    {
     "data": {
      "text/html": [
       "<div>                            <div id=\"ced902f9-6520-40f2-bda7-5c6b44e29189\" class=\"plotly-graph-div\" style=\"height:525px; width:100%;\"></div>            <script type=\"text/javascript\">                require([\"plotly\"], function(Plotly) {                    window.PLOTLYENV=window.PLOTLYENV || {};                                    if (document.getElementById(\"ced902f9-6520-40f2-bda7-5c6b44e29189\")) {                    Plotly.newPlot(                        \"ced902f9-6520-40f2-bda7-5c6b44e29189\",                        [{\"line\":{\"color\":\"blue\"},\"mode\":\"lines\",\"x\":[\"98.5\",\"97.9\",\"97.8\",\"97.5\",\"96.9\",\"96.5\",\"95.1\",\"94.6\",\"94.2\",\"91.1\",\"91.0\",\"90.1\",\"89.5\",\"88.6\",\"88.1\",\"87.4\",\"86.3\",\"85.3\",\"83.9\",\"83.5\",\"83.2\",\"82.5\",\"81.0\",\"80.0\",\"79.2\",\"78.0\",\"77.9\",\"76.8\",\"76.0\",\"75.6\",\"75.5\",\"75.2\",\"74.1\",\"72.6\",\"72.1\",\"71.2\",\"70.8\",\"70.1\",\"68.7\",\"68.5\",\"67.4\",\"67.4\",\"66.9\",\"66.7\",\"66.6\",\"66.2\",\"66.1\",\"66.1\",\"65.7\",\"65.4\",\"65.2\",\"65.0\",\"64.9\",\"63.9\",\"63.8\",\"63.7\",\"63.6\",\"62.9\",\"62.7\",\"62.5\",\"62.4\",\"61.8\",\"61.8\",\"61.4\",\"61.3\",\"61.1\",\"60.8\",\"60.8\",\"60.6\",\"60.2\",\"59.5\",\"59.3\",\"59.2\",\"59.0\",\"58.9\",\"58.7\",\"55.9–58.6\",\"55.9–58.6\",\"55.9–58.6\",\"55.9–58.6\",\"55.9–58.6\",\"55.9–58.6\",\"55.9–58.6\",\"55.9–58.6\",\"55.9–58.6\",\"55.9–58.6\",\"55.9–58.6\",\"55.9–58.6\",\"55.9–58.6\",\"55.9–58.6\",\"55.9–58.6\",\"55.9–58.6\",\"55.9–58.6\",\"53.1–55.8\",\"53.1–55.8\",\"53.1–55.8\",\"53.1–55.8\",\"53.1–55.8\",\"53.1–55.8\",\"53.1–55.8\",\"53.1–55.8\",\"53.1–55.8\",\"53.1–55.8\",\"53.1–55.8\",\"53.1–55.8\",\"53.1–55.8\",\"53.1–55.8\",\"51.1–53.0\",\"51.1–53.0\",\"51.1–53.0\",\"51.1–53.0\",\"51.1–53.0\",\"51.1–53.0\",\"51.1–53.0\",\"51.1–53.0\",\"51.1–53.0\",\"51.1–53.0\",\"49.1–51.0\",\"49.1–51.0\",\"49.1–51.0\",\"49.1–51.0\",\"49.1–51.0\",\"49.1–51.0\",\"49.1–51.0\",\"49.1–51.0\",\"49.1–51.0\",\"49.1–51.0\",\"49.1–51.0\",\"49.1–51.0\",\"49.1–51.0\",\"49.1–51.0\",\"45.4–49.0\",\"45.4–49.0\",\"45.4–49.0\",\"45.4–49.0\",\"45.4–49.0\",\"45.4–49.0\",\"45.4–49.0\",\"45.4–49.0\",\"45.4–49.0\",\"45.4–49.0\",\"45.4–49.0\",\"45.4–49.0\",\"45.4–49.0\",\"45.4–49.0\",\"45.4–49.0\",\"45.4–49.0\",\"45.4–49.0\",\"45.4–49.0\",\"45.4–49.0\",\"45.4–49.0\",\"45.4–49.0\",\"45.4–49.0\",\"45.4–49.0\",\"45.4–49.0\",\"45.4–49.0\",\"45.4–49.0\",\"45.4–49.0\",\"45.4–49.0\",\"45.4–49.0\",\"45.4–49.0\",\"45.4–49.0\",\"45.4–49.0\",\"45.4–49.0\",\"45.4–49.0\",\"45.4–49.0\",\"41.9–45.3\",\"41.9–45.3\",\"41.9–45.3\",\"41.9–45.3\",\"41.9–45.3\",\"41.9–45.3\",\"41.9–45.3\",\"41.9–45.3\",\"41.9–45.3\",\"41.9–45.3\",\"41.9–45.3\",\"41.9–45.3\",\"41.9–45.3\",\"41.9–45.3\",\"41.9–45.3\",\"41.9–45.3\",\"41.9–45.3\",\"41.9–45.3\",\"41.9–45.3\",\"41.9–45.3\",\"41.9–45.3\",\"41.9–45.3\",\"41.9–45.3\",\"41.9–45.3\",\"41.9–45.3\",\"41.9–45.3\",\"41.9–45.3\",\"37.0–41.8\",\"37.0–41.8\",\"37.0–41.8\",\"37.0–41.8\",\"37.0–41.8\",\"37.0–41.8\",\"37.0–41.8\",\"37.0–41.8\",\"37.0–41.8\",\"37.0–41.8\",\"37.0–41.8\",\"37.0–41.8\",\"37.0–41.8\",\"37.0–41.8\",\"37.0–41.8\",\"37.0–41.8\",\"37.0–41.8\",\"37.0–41.8\",\"37.0–41.8\",\"37.0–41.8\",\"37.0–41.8\",\"37.0–41.8\",\"37.0–41.8\",\"37.0–41.8\",\"37.0–41.8\",\"37.0–41.8\",\"37.0–41.8\",\"37.0–41.8\",\"37.0–41.8\",\"37.0–41.8\",\"37.0–41.8\",\"37.0–41.8\",\"37.0–41.8\",\"37.0–41.8\",\"37.0–41.8\",\"37.0–41.8\",\"37.0–41.8\",\"37.0–41.8\",\"37.0–41.8\",\"32.7–36.9\",\"32.7–36.9\",\"32.7–36.9\",\"32.7–36.9\",\"32.7–36.9\",\"32.7–36.9\",\"32.7–36.9\",\"32.7–36.9\",\"32.7–36.9\",\"32.7–36.9\",\"32.7–36.9\",\"32.7–36.9\",\"32.7–36.9\",\"32.7–36.9\",\"32.7–36.9\",\"32.7–36.9\",\"32.7–36.9\",\"32.7–36.9\",\"32.7–36.9\",\"32.7–36.9\",\"32.7–36.9\",\"32.7–36.9\",\"32.7–36.9\",\"32.7–36.9\",\"32.7–36.9\",\"32.7–36.9\",\"28.3–32.6\",\"28.3–32.6\",\"28.3–32.6\",\"28.3–32.6\",\"28.3–32.6\",\"28.3–32.6\",\"28.3–32.6\",\"28.3–32.6\",\"28.3–32.6\",\"28.3–32.6\",\"28.3–32.6\",\"28.3–32.6\",\"28.3–32.6\",\"28.3–32.6\",\"28.3–32.6\",\"28.3–32.6\",\"28.3–32.6\",\"22.8–28.2\",\"22.8–28.2\",\"22.8–28.2\",\"22.8–28.2\",\"22.8–28.2\",\"22.8–28.2\",\"9.7–22.7\",\"9.7–22.7\"],\"type\":\"scatter\"}],                        {\"template\":{\"data\":{\"histogram2dcontour\":[{\"type\":\"histogram2dcontour\",\"colorbar\":{\"outlinewidth\":0,\"ticks\":\"\"},\"colorscale\":[[0.0,\"#0d0887\"],[0.1111111111111111,\"#46039f\"],[0.2222222222222222,\"#7201a8\"],[0.3333333333333333,\"#9c179e\"],[0.4444444444444444,\"#bd3786\"],[0.5555555555555556,\"#d8576b\"],[0.6666666666666666,\"#ed7953\"],[0.7777777777777778,\"#fb9f3a\"],[0.8888888888888888,\"#fdca26\"],[1.0,\"#f0f921\"]]}],\"choropleth\":[{\"type\":\"choropleth\",\"colorbar\":{\"outlinewidth\":0,\"ticks\":\"\"}}],\"histogram2d\":[{\"type\":\"histogram2d\",\"colorbar\":{\"outlinewidth\":0,\"ticks\":\"\"},\"colorscale\":[[0.0,\"#0d0887\"],[0.1111111111111111,\"#46039f\"],[0.2222222222222222,\"#7201a8\"],[0.3333333333333333,\"#9c179e\"],[0.4444444444444444,\"#bd3786\"],[0.5555555555555556,\"#d8576b\"],[0.6666666666666666,\"#ed7953\"],[0.7777777777777778,\"#fb9f3a\"],[0.8888888888888888,\"#fdca26\"],[1.0,\"#f0f921\"]]}],\"heatmap\":[{\"type\":\"heatmap\",\"colorbar\":{\"outlinewidth\":0,\"ticks\":\"\"},\"colorscale\":[[0.0,\"#0d0887\"],[0.1111111111111111,\"#46039f\"],[0.2222222222222222,\"#7201a8\"],[0.3333333333333333,\"#9c179e\"],[0.4444444444444444,\"#bd3786\"],[0.5555555555555556,\"#d8576b\"],[0.6666666666666666,\"#ed7953\"],[0.7777777777777778,\"#fb9f3a\"],[0.8888888888888888,\"#fdca26\"],[1.0,\"#f0f921\"]]}],\"heatmapgl\":[{\"type\":\"heatmapgl\",\"colorbar\":{\"outlinewidth\":0,\"ticks\":\"\"},\"colorscale\":[[0.0,\"#0d0887\"],[0.1111111111111111,\"#46039f\"],[0.2222222222222222,\"#7201a8\"],[0.3333333333333333,\"#9c179e\"],[0.4444444444444444,\"#bd3786\"],[0.5555555555555556,\"#d8576b\"],[0.6666666666666666,\"#ed7953\"],[0.7777777777777778,\"#fb9f3a\"],[0.8888888888888888,\"#fdca26\"],[1.0,\"#f0f921\"]]}],\"contourcarpet\":[{\"type\":\"contourcarpet\",\"colorbar\":{\"outlinewidth\":0,\"ticks\":\"\"}}],\"contour\":[{\"type\":\"contour\",\"colorbar\":{\"outlinewidth\":0,\"ticks\":\"\"},\"colorscale\":[[0.0,\"#0d0887\"],[0.1111111111111111,\"#46039f\"],[0.2222222222222222,\"#7201a8\"],[0.3333333333333333,\"#9c179e\"],[0.4444444444444444,\"#bd3786\"],[0.5555555555555556,\"#d8576b\"],[0.6666666666666666,\"#ed7953\"],[0.7777777777777778,\"#fb9f3a\"],[0.8888888888888888,\"#fdca26\"],[1.0,\"#f0f921\"]]}],\"surface\":[{\"type\":\"surface\",\"colorbar\":{\"outlinewidth\":0,\"ticks\":\"\"},\"colorscale\":[[0.0,\"#0d0887\"],[0.1111111111111111,\"#46039f\"],[0.2222222222222222,\"#7201a8\"],[0.3333333333333333,\"#9c179e\"],[0.4444444444444444,\"#bd3786\"],[0.5555555555555556,\"#d8576b\"],[0.6666666666666666,\"#ed7953\"],[0.7777777777777778,\"#fb9f3a\"],[0.8888888888888888,\"#fdca26\"],[1.0,\"#f0f921\"]]}],\"mesh3d\":[{\"type\":\"mesh3d\",\"colorbar\":{\"outlinewidth\":0,\"ticks\":\"\"}}],\"scatter\":[{\"fillpattern\":{\"fillmode\":\"overlay\",\"size\":10,\"solidity\":0.2},\"type\":\"scatter\"}],\"parcoords\":[{\"type\":\"parcoords\",\"line\":{\"colorbar\":{\"outlinewidth\":0,\"ticks\":\"\"}}}],\"scatterpolargl\":[{\"type\":\"scatterpolargl\",\"marker\":{\"colorbar\":{\"outlinewidth\":0,\"ticks\":\"\"}}}],\"bar\":[{\"error_x\":{\"color\":\"#2a3f5f\"},\"error_y\":{\"color\":\"#2a3f5f\"},\"marker\":{\"line\":{\"color\":\"#E5ECF6\",\"width\":0.5},\"pattern\":{\"fillmode\":\"overlay\",\"size\":10,\"solidity\":0.2}},\"type\":\"bar\"}],\"scattergeo\":[{\"type\":\"scattergeo\",\"marker\":{\"colorbar\":{\"outlinewidth\":0,\"ticks\":\"\"}}}],\"scatterpolar\":[{\"type\":\"scatterpolar\",\"marker\":{\"colorbar\":{\"outlinewidth\":0,\"ticks\":\"\"}}}],\"histogram\":[{\"marker\":{\"pattern\":{\"fillmode\":\"overlay\",\"size\":10,\"solidity\":0.2}},\"type\":\"histogram\"}],\"scattergl\":[{\"type\":\"scattergl\",\"marker\":{\"colorbar\":{\"outlinewidth\":0,\"ticks\":\"\"}}}],\"scatter3d\":[{\"type\":\"scatter3d\",\"line\":{\"colorbar\":{\"outlinewidth\":0,\"ticks\":\"\"}},\"marker\":{\"colorbar\":{\"outlinewidth\":0,\"ticks\":\"\"}}}],\"scattermapbox\":[{\"type\":\"scattermapbox\",\"marker\":{\"colorbar\":{\"outlinewidth\":0,\"ticks\":\"\"}}}],\"scatterternary\":[{\"type\":\"scatterternary\",\"marker\":{\"colorbar\":{\"outlinewidth\":0,\"ticks\":\"\"}}}],\"scattercarpet\":[{\"type\":\"scattercarpet\",\"marker\":{\"colorbar\":{\"outlinewidth\":0,\"ticks\":\"\"}}}],\"carpet\":[{\"aaxis\":{\"endlinecolor\":\"#2a3f5f\",\"gridcolor\":\"white\",\"linecolor\":\"white\",\"minorgridcolor\":\"white\",\"startlinecolor\":\"#2a3f5f\"},\"baxis\":{\"endlinecolor\":\"#2a3f5f\",\"gridcolor\":\"white\",\"linecolor\":\"white\",\"minorgridcolor\":\"white\",\"startlinecolor\":\"#2a3f5f\"},\"type\":\"carpet\"}],\"table\":[{\"cells\":{\"fill\":{\"color\":\"#EBF0F8\"},\"line\":{\"color\":\"white\"}},\"header\":{\"fill\":{\"color\":\"#C8D4E3\"},\"line\":{\"color\":\"white\"}},\"type\":\"table\"}],\"barpolar\":[{\"marker\":{\"line\":{\"color\":\"#E5ECF6\",\"width\":0.5},\"pattern\":{\"fillmode\":\"overlay\",\"size\":10,\"solidity\":0.2}},\"type\":\"barpolar\"}],\"pie\":[{\"automargin\":true,\"type\":\"pie\"}]},\"layout\":{\"autotypenumbers\":\"strict\",\"colorway\":[\"#636efa\",\"#EF553B\",\"#00cc96\",\"#ab63fa\",\"#FFA15A\",\"#19d3f3\",\"#FF6692\",\"#B6E880\",\"#FF97FF\",\"#FECB52\"],\"font\":{\"color\":\"#2a3f5f\"},\"hovermode\":\"closest\",\"hoverlabel\":{\"align\":\"left\"},\"paper_bgcolor\":\"white\",\"plot_bgcolor\":\"#E5ECF6\",\"polar\":{\"bgcolor\":\"#E5ECF6\",\"angularaxis\":{\"gridcolor\":\"white\",\"linecolor\":\"white\",\"ticks\":\"\"},\"radialaxis\":{\"gridcolor\":\"white\",\"linecolor\":\"white\",\"ticks\":\"\"}},\"ternary\":{\"bgcolor\":\"#E5ECF6\",\"aaxis\":{\"gridcolor\":\"white\",\"linecolor\":\"white\",\"ticks\":\"\"},\"baxis\":{\"gridcolor\":\"white\",\"linecolor\":\"white\",\"ticks\":\"\"},\"caxis\":{\"gridcolor\":\"white\",\"linecolor\":\"white\",\"ticks\":\"\"}},\"coloraxis\":{\"colorbar\":{\"outlinewidth\":0,\"ticks\":\"\"}},\"colorscale\":{\"sequential\":[[0.0,\"#0d0887\"],[0.1111111111111111,\"#46039f\"],[0.2222222222222222,\"#7201a8\"],[0.3333333333333333,\"#9c179e\"],[0.4444444444444444,\"#bd3786\"],[0.5555555555555556,\"#d8576b\"],[0.6666666666666666,\"#ed7953\"],[0.7777777777777778,\"#fb9f3a\"],[0.8888888888888888,\"#fdca26\"],[1.0,\"#f0f921\"]],\"sequentialminus\":[[0.0,\"#0d0887\"],[0.1111111111111111,\"#46039f\"],[0.2222222222222222,\"#7201a8\"],[0.3333333333333333,\"#9c179e\"],[0.4444444444444444,\"#bd3786\"],[0.5555555555555556,\"#d8576b\"],[0.6666666666666666,\"#ed7953\"],[0.7777777777777778,\"#fb9f3a\"],[0.8888888888888888,\"#fdca26\"],[1.0,\"#f0f921\"]],\"diverging\":[[0,\"#8e0152\"],[0.1,\"#c51b7d\"],[0.2,\"#de77ae\"],[0.3,\"#f1b6da\"],[0.4,\"#fde0ef\"],[0.5,\"#f7f7f7\"],[0.6,\"#e6f5d0\"],[0.7,\"#b8e186\"],[0.8,\"#7fbc41\"],[0.9,\"#4d9221\"],[1,\"#276419\"]]},\"xaxis\":{\"gridcolor\":\"white\",\"linecolor\":\"white\",\"ticks\":\"\",\"title\":{\"standoff\":15},\"zerolinecolor\":\"white\",\"automargin\":true,\"zerolinewidth\":2},\"yaxis\":{\"gridcolor\":\"white\",\"linecolor\":\"white\",\"ticks\":\"\",\"title\":{\"standoff\":15},\"zerolinecolor\":\"white\",\"automargin\":true,\"zerolinewidth\":2},\"scene\":{\"xaxis\":{\"backgroundcolor\":\"#E5ECF6\",\"gridcolor\":\"white\",\"linecolor\":\"white\",\"showbackground\":true,\"ticks\":\"\",\"zerolinecolor\":\"white\",\"gridwidth\":2},\"yaxis\":{\"backgroundcolor\":\"#E5ECF6\",\"gridcolor\":\"white\",\"linecolor\":\"white\",\"showbackground\":true,\"ticks\":\"\",\"zerolinecolor\":\"white\",\"gridwidth\":2},\"zaxis\":{\"backgroundcolor\":\"#E5ECF6\",\"gridcolor\":\"white\",\"linecolor\":\"white\",\"showbackground\":true,\"ticks\":\"\",\"zerolinecolor\":\"white\",\"gridwidth\":2}},\"shapedefaults\":{\"line\":{\"color\":\"#2a3f5f\"}},\"annotationdefaults\":{\"arrowcolor\":\"#2a3f5f\",\"arrowhead\":0,\"arrowwidth\":1},\"geo\":{\"bgcolor\":\"white\",\"landcolor\":\"#E5ECF6\",\"subunitcolor\":\"white\",\"showland\":true,\"showlakes\":true,\"lakecolor\":\"white\"},\"title\":{\"x\":0.05},\"mapbox\":{\"style\":\"light\"}}},\"xaxis\":{\"title\":{\"text\":\"scores_overall\"}},\"yaxis\":{\"title\":{\"text\":\"Density\"}},\"font\":{\"color\":\"white\"},\"title\":{\"text\":\"Distribution of scores_overall\"},\"paper_bgcolor\":\"black\",\"plot_bgcolor\":\"black\"},                        {\"responsive\": true}                    ).then(function(){\n",
       "                            \n",
       "var gd = document.getElementById('ced902f9-6520-40f2-bda7-5c6b44e29189');\n",
       "var x = new MutationObserver(function (mutations, observer) {{\n",
       "        var display = window.getComputedStyle(gd).display;\n",
       "        if (!display || display === 'none') {{\n",
       "            console.log([gd, 'removed!']);\n",
       "            Plotly.purge(gd);\n",
       "            observer.disconnect();\n",
       "        }}\n",
       "}});\n",
       "\n",
       "// Listen for the removal of the full notebook cells\n",
       "var notebookContainer = gd.closest('#notebook-container');\n",
       "if (notebookContainer) {{\n",
       "    x.observe(notebookContainer, {childList: true});\n",
       "}}\n",
       "\n",
       "// Listen for the clearing of the current output cell\n",
       "var outputEl = gd.closest('.output');\n",
       "if (outputEl) {{\n",
       "    x.observe(outputEl, {childList: true});\n",
       "}}\n",
       "\n",
       "                        })                };                });            </script>        </div>"
      ]
     },
     "metadata": {},
     "output_type": "display_data"
    }
   ],
   "source": [
    "import plotly.graph_objects as go\n",
    "\n",
    "# Create an interactive KDE plot with a black background and blue lines\n",
    "fig = go.Figure(data=go.Scatter(x=data['scores_overall'], mode='lines', line=dict(color='blue')))\n",
    "fig.update_xaxes(title='scores_overall')\n",
    "fig.update_yaxes(title='Density')\n",
    "fig.update_layout(\n",
    "    title='Distribution of scores_overall',\n",
    "    paper_bgcolor='black',   # Set the plot background color\n",
    "    plot_bgcolor='black',    # Set the chart background color\n",
    "    font=dict(color='white')  # Set font color to white\n",
    ")\n",
    "\n",
    "# Show the interactive plot\n",
    "fig.show()\n"
   ]
  },
  {
   "cell_type": "markdown",
   "id": "bdcd76dd",
   "metadata": {
    "papermill": {
     "duration": 0.014552,
     "end_time": "2023-10-01T21:44:58.255555",
     "exception": false,
     "start_time": "2023-10-01T21:44:58.241003",
     "status": "completed"
    },
    "tags": []
   },
   "source": [
    "#### Categorical Data:"
   ]
  },
  {
   "cell_type": "markdown",
   "id": "97a67494",
   "metadata": {
    "papermill": {
     "duration": 0.012897,
     "end_time": "2023-10-01T21:44:58.284282",
     "exception": false,
     "start_time": "2023-10-01T21:44:58.271385",
     "status": "completed"
    },
    "tags": []
   },
   "source": [
    "- How many unique values are there in the 'rank' column?\n",
    "- What are the top universities by 'scores_overall_rank'?"
   ]
  },
  {
   "cell_type": "code",
   "execution_count": 19,
   "id": "56094a29",
   "metadata": {
    "execution": {
     "iopub.execute_input": "2023-10-01T21:44:58.314077Z",
     "iopub.status.busy": "2023-10-01T21:44:58.313320Z",
     "iopub.status.idle": "2023-10-01T21:44:58.323592Z",
     "shell.execute_reply": "2023-10-01T21:44:58.322838Z"
    },
    "papermill": {
     "duration": 0.02886,
     "end_time": "2023-10-01T21:44:58.326261",
     "exception": false,
     "start_time": "2023-10-01T21:44:58.297401",
     "status": "completed"
    },
    "tags": []
   },
   "outputs": [
    {
     "name": "stdout",
     "output_type": "stream",
     "text": [
      "Unique values in the 'rank' column:\n",
      "['1' '3' '4' '5' '6' '7' '8' '9' '10' '15' '16' '18' '20' '21' '22' '23'\n",
      " '24' '25' '26' '27' '28' '=30' '34' '36' '37' '41' '42' '46' '49' '51'\n",
      " '52' '54' '59' '67' '69' '72' '74' '78' '85' '86' '=92' '=97' '=99' '101'\n",
      " '105' '=106' '114' '=116' '=119' '122' '=123' '129' '=130' '132' '133'\n",
      " '=138' '=143' '=145' '147' '=155' '=161' '=164' '166' '=168' '174' '=177'\n",
      " '=187' '190' '=191' '=193' '198' '=199' '201–250' '251–300' '301–350'\n",
      " '351–400' '401–500' '501–600' '601–800' '801–1000' '1001–1200'\n",
      " '1201–1500' '1501+']\n",
      "Top universities by 'scores_overall_rank':\n",
      "                                     name  scores_overall_rank\n",
      "0                    University of Oxford                   10\n",
      "2   Massachusetts Institute of Technology                   30\n",
      "3                      Harvard University                   40\n",
      "4                 University of Cambridge                   50\n",
      "5                    Princeton University                   60\n",
      "6      California Institute of Technology                   70\n",
      "7                 Imperial College London                   80\n",
      "8      University of California, Berkeley                   90\n",
      "9                         Yale University                  100\n",
      "14               Johns Hopkins University                  150\n"
     ]
    }
   ],
   "source": [
    "# Unique values in the 'rank' column\n",
    "unique_rank_values = data['rank'].unique()\n",
    "print(\"Unique values in the 'rank' column:\")\n",
    "print(unique_rank_values)\n",
    "\n",
    "# Top universities by 'scores_overall_rank'\n",
    "top_universities = data.sort_values(by='scores_overall_rank').head(10)\n",
    "print(\"Top universities by 'scores_overall_rank':\")\n",
    "print(top_universities[['name', 'scores_overall_rank']])\n"
   ]
  },
  {
   "cell_type": "markdown",
   "id": "6f5a590e",
   "metadata": {
    "papermill": {
     "duration": 0.014504,
     "end_time": "2023-10-01T21:44:58.356452",
     "exception": false,
     "start_time": "2023-10-01T21:44:58.341948",
     "status": "completed"
    },
    "tags": []
   },
   "source": [
    "#### Boolean Columns"
   ]
  },
  {
   "cell_type": "markdown",
   "id": "a839e0c5",
   "metadata": {
    "papermill": {
     "duration": 0.014246,
     "end_time": "2023-10-01T21:44:58.384523",
     "exception": false,
     "start_time": "2023-10-01T21:44:58.370277",
     "status": "completed"
    },
    "tags": []
   },
   "source": [
    "- How many universities are closed, unaccredited, or disabled?\n"
   ]
  },
  {
   "cell_type": "code",
   "execution_count": 20,
   "id": "80e28b98",
   "metadata": {
    "execution": {
     "iopub.execute_input": "2023-10-01T21:44:58.413863Z",
     "iopub.status.busy": "2023-10-01T21:44:58.412768Z",
     "iopub.status.idle": "2023-10-01T21:44:58.420997Z",
     "shell.execute_reply": "2023-10-01T21:44:58.419269Z"
    },
    "papermill": {
     "duration": 0.026088,
     "end_time": "2023-10-01T21:44:58.423727",
     "exception": false,
     "start_time": "2023-10-01T21:44:58.397639",
     "status": "completed"
    },
    "tags": []
   },
   "outputs": [
    {
     "name": "stdout",
     "output_type": "stream",
     "text": [
      "Number of closed universities: 0\n",
      "Number of unaccredited universities: 0\n",
      "Number of disabled universities: 0\n"
     ]
    }
   ],
   "source": [
    "# Count of universities that are closed, unaccredited, or disabled\n",
    "closed_count = data['closed'].sum()\n",
    "unaccredited_count = data['unaccredited'].sum()\n",
    "disabled_count = data['disabled'].sum()\n",
    "print(f\"Number of closed universities: {closed_count}\")\n",
    "print(f\"Number of unaccredited universities: {unaccredited_count}\")\n",
    "print(f\"Number of disabled universities: {disabled_count}\")\n"
   ]
  },
  {
   "cell_type": "markdown",
   "id": "8a4e26ea",
   "metadata": {
    "papermill": {
     "duration": 0.013374,
     "end_time": "2023-10-01T21:44:58.450427",
     "exception": false,
     "start_time": "2023-10-01T21:44:58.437053",
     "status": "completed"
    },
    "tags": []
   },
   "source": [
    "#### Top Locations:\n"
   ]
  },
  {
   "cell_type": "markdown",
   "id": "b376bdae",
   "metadata": {
    "papermill": {
     "duration": 0.01314,
     "end_time": "2023-10-01T21:44:58.477360",
     "exception": false,
     "start_time": "2023-10-01T21:44:58.464220",
     "status": "completed"
    },
    "tags": []
   },
   "source": [
    "- What are the top 5 locations with the most universities?\n"
   ]
  },
  {
   "cell_type": "code",
   "execution_count": 21,
   "id": "23c1927a",
   "metadata": {
    "execution": {
     "iopub.execute_input": "2023-10-01T21:44:58.508648Z",
     "iopub.status.busy": "2023-10-01T21:44:58.507404Z",
     "iopub.status.idle": "2023-10-01T21:44:58.516599Z",
     "shell.execute_reply": "2023-10-01T21:44:58.514951Z"
    },
    "papermill": {
     "duration": 0.027695,
     "end_time": "2023-10-01T21:44:58.519429",
     "exception": false,
     "start_time": "2023-10-01T21:44:58.491734",
     "status": "completed"
    },
    "tags": []
   },
   "outputs": [
    {
     "name": "stdout",
     "output_type": "stream",
     "text": [
      "Top 5 locations with the most universities:\n",
      "location\n",
      "United States     155\n",
      "United Kingdom     88\n",
      "Canada             18\n",
      "Australia          17\n",
      "New Zealand         5\n",
      "Name: count, dtype: int64\n"
     ]
    }
   ],
   "source": [
    "# Top 5 locations with the most universities\n",
    "top_locations = data['location'].value_counts().head(5)\n",
    "print(\"Top 5 locations with the most universities:\")\n",
    "print(top_locations)\n"
   ]
  },
  {
   "cell_type": "code",
   "execution_count": 22,
   "id": "4db6c850",
   "metadata": {
    "execution": {
     "iopub.execute_input": "2023-10-01T21:44:58.549303Z",
     "iopub.status.busy": "2023-10-01T21:44:58.548914Z",
     "iopub.status.idle": "2023-10-01T21:44:58.637335Z",
     "shell.execute_reply": "2023-10-01T21:44:58.636217Z"
    },
    "papermill": {
     "duration": 0.106165,
     "end_time": "2023-10-01T21:44:58.639704",
     "exception": false,
     "start_time": "2023-10-01T21:44:58.533539",
     "status": "completed"
    },
    "tags": []
   },
   "outputs": [
    {
     "data": {
      "text/html": [
       "<div>                            <div id=\"bd2378c8-2448-439c-88ea-0cd39fc338f6\" class=\"plotly-graph-div\" style=\"height:525px; width:100%;\"></div>            <script type=\"text/javascript\">                require([\"plotly\"], function(Plotly) {                    window.PLOTLYENV=window.PLOTLYENV || {};                                    if (document.getElementById(\"bd2378c8-2448-439c-88ea-0cd39fc338f6\")) {                    Plotly.newPlot(                        \"bd2378c8-2448-439c-88ea-0cd39fc338f6\",                        [{\"alignmentgroup\":\"True\",\"hovertemplate\":\"Location=%{x}\\u003cbr\\u003eCount=%{y}\\u003cextra\\u003e\\u003c\\u002fextra\\u003e\",\"legendgroup\":\"\",\"marker\":{\"color\":\"#636efa\",\"pattern\":{\"shape\":\"\"}},\"name\":\"\",\"offsetgroup\":\"\",\"orientation\":\"v\",\"showlegend\":false,\"textposition\":\"auto\",\"x\":[\"United States\",\"United Kingdom\",\"Canada\",\"Australia\",\"New Zealand\"],\"xaxis\":\"x\",\"y\":[155,88,18,17,5],\"yaxis\":\"y\",\"type\":\"bar\"}],                        {\"template\":{\"data\":{\"histogram2dcontour\":[{\"type\":\"histogram2dcontour\",\"colorbar\":{\"outlinewidth\":0,\"ticks\":\"\"},\"colorscale\":[[0.0,\"#0d0887\"],[0.1111111111111111,\"#46039f\"],[0.2222222222222222,\"#7201a8\"],[0.3333333333333333,\"#9c179e\"],[0.4444444444444444,\"#bd3786\"],[0.5555555555555556,\"#d8576b\"],[0.6666666666666666,\"#ed7953\"],[0.7777777777777778,\"#fb9f3a\"],[0.8888888888888888,\"#fdca26\"],[1.0,\"#f0f921\"]]}],\"choropleth\":[{\"type\":\"choropleth\",\"colorbar\":{\"outlinewidth\":0,\"ticks\":\"\"}}],\"histogram2d\":[{\"type\":\"histogram2d\",\"colorbar\":{\"outlinewidth\":0,\"ticks\":\"\"},\"colorscale\":[[0.0,\"#0d0887\"],[0.1111111111111111,\"#46039f\"],[0.2222222222222222,\"#7201a8\"],[0.3333333333333333,\"#9c179e\"],[0.4444444444444444,\"#bd3786\"],[0.5555555555555556,\"#d8576b\"],[0.6666666666666666,\"#ed7953\"],[0.7777777777777778,\"#fb9f3a\"],[0.8888888888888888,\"#fdca26\"],[1.0,\"#f0f921\"]]}],\"heatmap\":[{\"type\":\"heatmap\",\"colorbar\":{\"outlinewidth\":0,\"ticks\":\"\"},\"colorscale\":[[0.0,\"#0d0887\"],[0.1111111111111111,\"#46039f\"],[0.2222222222222222,\"#7201a8\"],[0.3333333333333333,\"#9c179e\"],[0.4444444444444444,\"#bd3786\"],[0.5555555555555556,\"#d8576b\"],[0.6666666666666666,\"#ed7953\"],[0.7777777777777778,\"#fb9f3a\"],[0.8888888888888888,\"#fdca26\"],[1.0,\"#f0f921\"]]}],\"heatmapgl\":[{\"type\":\"heatmapgl\",\"colorbar\":{\"outlinewidth\":0,\"ticks\":\"\"},\"colorscale\":[[0.0,\"#0d0887\"],[0.1111111111111111,\"#46039f\"],[0.2222222222222222,\"#7201a8\"],[0.3333333333333333,\"#9c179e\"],[0.4444444444444444,\"#bd3786\"],[0.5555555555555556,\"#d8576b\"],[0.6666666666666666,\"#ed7953\"],[0.7777777777777778,\"#fb9f3a\"],[0.8888888888888888,\"#fdca26\"],[1.0,\"#f0f921\"]]}],\"contourcarpet\":[{\"type\":\"contourcarpet\",\"colorbar\":{\"outlinewidth\":0,\"ticks\":\"\"}}],\"contour\":[{\"type\":\"contour\",\"colorbar\":{\"outlinewidth\":0,\"ticks\":\"\"},\"colorscale\":[[0.0,\"#0d0887\"],[0.1111111111111111,\"#46039f\"],[0.2222222222222222,\"#7201a8\"],[0.3333333333333333,\"#9c179e\"],[0.4444444444444444,\"#bd3786\"],[0.5555555555555556,\"#d8576b\"],[0.6666666666666666,\"#ed7953\"],[0.7777777777777778,\"#fb9f3a\"],[0.8888888888888888,\"#fdca26\"],[1.0,\"#f0f921\"]]}],\"surface\":[{\"type\":\"surface\",\"colorbar\":{\"outlinewidth\":0,\"ticks\":\"\"},\"colorscale\":[[0.0,\"#0d0887\"],[0.1111111111111111,\"#46039f\"],[0.2222222222222222,\"#7201a8\"],[0.3333333333333333,\"#9c179e\"],[0.4444444444444444,\"#bd3786\"],[0.5555555555555556,\"#d8576b\"],[0.6666666666666666,\"#ed7953\"],[0.7777777777777778,\"#fb9f3a\"],[0.8888888888888888,\"#fdca26\"],[1.0,\"#f0f921\"]]}],\"mesh3d\":[{\"type\":\"mesh3d\",\"colorbar\":{\"outlinewidth\":0,\"ticks\":\"\"}}],\"scatter\":[{\"fillpattern\":{\"fillmode\":\"overlay\",\"size\":10,\"solidity\":0.2},\"type\":\"scatter\"}],\"parcoords\":[{\"type\":\"parcoords\",\"line\":{\"colorbar\":{\"outlinewidth\":0,\"ticks\":\"\"}}}],\"scatterpolargl\":[{\"type\":\"scatterpolargl\",\"marker\":{\"colorbar\":{\"outlinewidth\":0,\"ticks\":\"\"}}}],\"bar\":[{\"error_x\":{\"color\":\"#2a3f5f\"},\"error_y\":{\"color\":\"#2a3f5f\"},\"marker\":{\"line\":{\"color\":\"#E5ECF6\",\"width\":0.5},\"pattern\":{\"fillmode\":\"overlay\",\"size\":10,\"solidity\":0.2}},\"type\":\"bar\"}],\"scattergeo\":[{\"type\":\"scattergeo\",\"marker\":{\"colorbar\":{\"outlinewidth\":0,\"ticks\":\"\"}}}],\"scatterpolar\":[{\"type\":\"scatterpolar\",\"marker\":{\"colorbar\":{\"outlinewidth\":0,\"ticks\":\"\"}}}],\"histogram\":[{\"marker\":{\"pattern\":{\"fillmode\":\"overlay\",\"size\":10,\"solidity\":0.2}},\"type\":\"histogram\"}],\"scattergl\":[{\"type\":\"scattergl\",\"marker\":{\"colorbar\":{\"outlinewidth\":0,\"ticks\":\"\"}}}],\"scatter3d\":[{\"type\":\"scatter3d\",\"line\":{\"colorbar\":{\"outlinewidth\":0,\"ticks\":\"\"}},\"marker\":{\"colorbar\":{\"outlinewidth\":0,\"ticks\":\"\"}}}],\"scattermapbox\":[{\"type\":\"scattermapbox\",\"marker\":{\"colorbar\":{\"outlinewidth\":0,\"ticks\":\"\"}}}],\"scatterternary\":[{\"type\":\"scatterternary\",\"marker\":{\"colorbar\":{\"outlinewidth\":0,\"ticks\":\"\"}}}],\"scattercarpet\":[{\"type\":\"scattercarpet\",\"marker\":{\"colorbar\":{\"outlinewidth\":0,\"ticks\":\"\"}}}],\"carpet\":[{\"aaxis\":{\"endlinecolor\":\"#2a3f5f\",\"gridcolor\":\"white\",\"linecolor\":\"white\",\"minorgridcolor\":\"white\",\"startlinecolor\":\"#2a3f5f\"},\"baxis\":{\"endlinecolor\":\"#2a3f5f\",\"gridcolor\":\"white\",\"linecolor\":\"white\",\"minorgridcolor\":\"white\",\"startlinecolor\":\"#2a3f5f\"},\"type\":\"carpet\"}],\"table\":[{\"cells\":{\"fill\":{\"color\":\"#EBF0F8\"},\"line\":{\"color\":\"white\"}},\"header\":{\"fill\":{\"color\":\"#C8D4E3\"},\"line\":{\"color\":\"white\"}},\"type\":\"table\"}],\"barpolar\":[{\"marker\":{\"line\":{\"color\":\"#E5ECF6\",\"width\":0.5},\"pattern\":{\"fillmode\":\"overlay\",\"size\":10,\"solidity\":0.2}},\"type\":\"barpolar\"}],\"pie\":[{\"automargin\":true,\"type\":\"pie\"}]},\"layout\":{\"autotypenumbers\":\"strict\",\"colorway\":[\"#636efa\",\"#EF553B\",\"#00cc96\",\"#ab63fa\",\"#FFA15A\",\"#19d3f3\",\"#FF6692\",\"#B6E880\",\"#FF97FF\",\"#FECB52\"],\"font\":{\"color\":\"#2a3f5f\"},\"hovermode\":\"closest\",\"hoverlabel\":{\"align\":\"left\"},\"paper_bgcolor\":\"white\",\"plot_bgcolor\":\"#E5ECF6\",\"polar\":{\"bgcolor\":\"#E5ECF6\",\"angularaxis\":{\"gridcolor\":\"white\",\"linecolor\":\"white\",\"ticks\":\"\"},\"radialaxis\":{\"gridcolor\":\"white\",\"linecolor\":\"white\",\"ticks\":\"\"}},\"ternary\":{\"bgcolor\":\"#E5ECF6\",\"aaxis\":{\"gridcolor\":\"white\",\"linecolor\":\"white\",\"ticks\":\"\"},\"baxis\":{\"gridcolor\":\"white\",\"linecolor\":\"white\",\"ticks\":\"\"},\"caxis\":{\"gridcolor\":\"white\",\"linecolor\":\"white\",\"ticks\":\"\"}},\"coloraxis\":{\"colorbar\":{\"outlinewidth\":0,\"ticks\":\"\"}},\"colorscale\":{\"sequential\":[[0.0,\"#0d0887\"],[0.1111111111111111,\"#46039f\"],[0.2222222222222222,\"#7201a8\"],[0.3333333333333333,\"#9c179e\"],[0.4444444444444444,\"#bd3786\"],[0.5555555555555556,\"#d8576b\"],[0.6666666666666666,\"#ed7953\"],[0.7777777777777778,\"#fb9f3a\"],[0.8888888888888888,\"#fdca26\"],[1.0,\"#f0f921\"]],\"sequentialminus\":[[0.0,\"#0d0887\"],[0.1111111111111111,\"#46039f\"],[0.2222222222222222,\"#7201a8\"],[0.3333333333333333,\"#9c179e\"],[0.4444444444444444,\"#bd3786\"],[0.5555555555555556,\"#d8576b\"],[0.6666666666666666,\"#ed7953\"],[0.7777777777777778,\"#fb9f3a\"],[0.8888888888888888,\"#fdca26\"],[1.0,\"#f0f921\"]],\"diverging\":[[0,\"#8e0152\"],[0.1,\"#c51b7d\"],[0.2,\"#de77ae\"],[0.3,\"#f1b6da\"],[0.4,\"#fde0ef\"],[0.5,\"#f7f7f7\"],[0.6,\"#e6f5d0\"],[0.7,\"#b8e186\"],[0.8,\"#7fbc41\"],[0.9,\"#4d9221\"],[1,\"#276419\"]]},\"xaxis\":{\"gridcolor\":\"white\",\"linecolor\":\"white\",\"ticks\":\"\",\"title\":{\"standoff\":15},\"zerolinecolor\":\"white\",\"automargin\":true,\"zerolinewidth\":2},\"yaxis\":{\"gridcolor\":\"white\",\"linecolor\":\"white\",\"ticks\":\"\",\"title\":{\"standoff\":15},\"zerolinecolor\":\"white\",\"automargin\":true,\"zerolinewidth\":2},\"scene\":{\"xaxis\":{\"backgroundcolor\":\"#E5ECF6\",\"gridcolor\":\"white\",\"linecolor\":\"white\",\"showbackground\":true,\"ticks\":\"\",\"zerolinecolor\":\"white\",\"gridwidth\":2},\"yaxis\":{\"backgroundcolor\":\"#E5ECF6\",\"gridcolor\":\"white\",\"linecolor\":\"white\",\"showbackground\":true,\"ticks\":\"\",\"zerolinecolor\":\"white\",\"gridwidth\":2},\"zaxis\":{\"backgroundcolor\":\"#E5ECF6\",\"gridcolor\":\"white\",\"linecolor\":\"white\",\"showbackground\":true,\"ticks\":\"\",\"zerolinecolor\":\"white\",\"gridwidth\":2}},\"shapedefaults\":{\"line\":{\"color\":\"#2a3f5f\"}},\"annotationdefaults\":{\"arrowcolor\":\"#2a3f5f\",\"arrowhead\":0,\"arrowwidth\":1},\"geo\":{\"bgcolor\":\"white\",\"landcolor\":\"#E5ECF6\",\"subunitcolor\":\"white\",\"showland\":true,\"showlakes\":true,\"lakecolor\":\"white\"},\"title\":{\"x\":0.05},\"mapbox\":{\"style\":\"light\"}}},\"xaxis\":{\"anchor\":\"y\",\"domain\":[0.0,1.0],\"title\":{\"text\":\"Location\"}},\"yaxis\":{\"anchor\":\"x\",\"domain\":[0.0,1.0],\"title\":{\"text\":\"Number of Universities\"}},\"legend\":{\"tracegroupgap\":0},\"title\":{\"text\":\"Top 5 Locations with the Most Universities\"},\"barmode\":\"relative\",\"font\":{\"color\":\"black\"},\"paper_bgcolor\":\"lightgray\",\"plot_bgcolor\":\"lightgray\"},                        {\"responsive\": true}                    ).then(function(){\n",
       "                            \n",
       "var gd = document.getElementById('bd2378c8-2448-439c-88ea-0cd39fc338f6');\n",
       "var x = new MutationObserver(function (mutations, observer) {{\n",
       "        var display = window.getComputedStyle(gd).display;\n",
       "        if (!display || display === 'none') {{\n",
       "            console.log([gd, 'removed!']);\n",
       "            Plotly.purge(gd);\n",
       "            observer.disconnect();\n",
       "        }}\n",
       "}});\n",
       "\n",
       "// Listen for the removal of the full notebook cells\n",
       "var notebookContainer = gd.closest('#notebook-container');\n",
       "if (notebookContainer) {{\n",
       "    x.observe(notebookContainer, {childList: true});\n",
       "}}\n",
       "\n",
       "// Listen for the clearing of the current output cell\n",
       "var outputEl = gd.closest('.output');\n",
       "if (outputEl) {{\n",
       "    x.observe(outputEl, {childList: true});\n",
       "}}\n",
       "\n",
       "                        })                };                });            </script>        </div>"
      ]
     },
     "metadata": {},
     "output_type": "display_data"
    }
   ],
   "source": [
    "# Ploting the results of the code above!\n",
    "# Top 5 locations with the most universities\n",
    "top_locations = data['location'].value_counts().head(5)\n",
    "top_locations = top_locations.reset_index()\n",
    "top_locations.columns = ['Location', 'Count']\n",
    "\n",
    "# Create an interactive bar chart\n",
    "fig = px.bar(top_locations, x='Location', y='Count', title='Top 5 Locations with the Most Universities')\n",
    "fig.update_xaxes(title='Location')\n",
    "fig.update_yaxes(title='Number of Universities')\n",
    "\n",
    "# Set the background color to a light shade\n",
    "fig.update_layout(\n",
    "    paper_bgcolor='lightgray',  # Set the plot background color\n",
    "    plot_bgcolor='lightgray',   # Set the chart background color\n",
    "    font=dict(color='black')    # Set font color to black\n",
    ")\n",
    "\n",
    "# Show the interactive plot\n",
    "fig.show()\n"
   ]
  },
  {
   "cell_type": "markdown",
   "id": "e9b345f6",
   "metadata": {
    "papermill": {
     "duration": 0.01365,
     "end_time": "2023-10-01T21:44:58.666998",
     "exception": false,
     "start_time": "2023-10-01T21:44:58.653348",
     "status": "completed"
    },
    "tags": []
   },
   "source": [
    "#### Subject Offerings:"
   ]
  },
  {
   "cell_type": "markdown",
   "id": "2aa80ebf",
   "metadata": {
    "execution": {
     "iopub.execute_input": "2023-10-01T21:20:09.970972Z",
     "iopub.status.busy": "2023-10-01T21:20:09.970593Z",
     "iopub.status.idle": "2023-10-01T21:20:09.976141Z",
     "shell.execute_reply": "2023-10-01T21:20:09.975210Z",
     "shell.execute_reply.started": "2023-10-01T21:20:09.970935Z"
    },
    "papermill": {
     "duration": 0.013067,
     "end_time": "2023-10-01T21:44:58.693826",
     "exception": false,
     "start_time": "2023-10-01T21:44:58.680759",
     "status": "completed"
    },
    "tags": []
   },
   "source": [
    "- What subjects are offered by the universities?"
   ]
  },
  {
   "cell_type": "code",
   "execution_count": 23,
   "id": "591b04e2",
   "metadata": {
    "execution": {
     "iopub.execute_input": "2023-10-01T21:44:58.723061Z",
     "iopub.status.busy": "2023-10-01T21:44:58.722419Z",
     "iopub.status.idle": "2023-10-01T21:44:58.744106Z",
     "shell.execute_reply": "2023-10-01T21:44:58.740710Z"
    },
    "papermill": {
     "duration": 0.044818,
     "end_time": "2023-10-01T21:44:58.751937",
     "exception": false,
     "start_time": "2023-10-01T21:44:58.707119",
     "status": "completed"
    },
    "tags": []
   },
   "outputs": [
    {
     "name": "stdout",
     "output_type": "stream",
     "text": [
      "Subjects offered by universities:\n",
      "['Geography,Chemistry,Chemical Engineering,Biological Sciences,General Engineering,Computer Science,Art, Performing Arts & Design,Communication & Media Studies,Electrical & Electronic Engineering,Law,Economics & Econometrics,Geology, Environmental, Earth & Marine Sciences,Politics & International Studies (incl Development Studies),History, Philosophy & Theology,Medicine & Dentistry,Languages, Literature & Linguistics,Business & Management,Accounting & Finance,Mechanical & Aerospace Engineering,Mathematics & Statistics,Physics & Astronomy,Psychology,Other Health,Archaeology,Sociology,Civil Engineering,Education'\n",
      " 'Architecture,Economics & Econometrics,Archaeology,Biological Sciences,Languages, Literature & Linguistics,Mechanical & Aerospace Engineering,Psychology,Politics & International Studies (incl Development Studies),History, Philosophy & Theology,Mathematics & Statistics,Civil Engineering,Geology, Environmental, Earth & Marine Sciences,General Engineering,Art, Performing Arts & Design,Other Health,Physics & Astronomy,Computer Science,Accounting & Finance,Chemical Engineering,Business & Management,Electrical & Electronic Engineering,Communication & Media Studies,Chemistry'\n",
      " 'Sociology,Architecture,Physics & Astronomy,Psychology,Mechanical & Aerospace Engineering,Law,Chemical Engineering,Electrical & Electronic Engineering,Medicine & Dentistry,Communication & Media Studies,Mathematics & Statistics,History, Philosophy & Theology,Languages, Literature & Linguistics,Agriculture & Forestry,Education,Computer Science,Business & Management,Geography,Accounting & Finance,Politics & International Studies (incl Development Studies),Chemistry,Archaeology,Art, Performing Arts & Design,Other Health,Biological Sciences,Geology, Environmental, Earth & Marine Sciences,Economics & Econometrics,General Engineering,Civil Engineering'\n",
      " 'Politics & International Studies (incl Development Studies),Biological Sciences,Business & Management,Civil Engineering,Geology, Environmental, Earth & Marine Sciences,Mathematics & Statistics,Psychology,General Engineering,Physics & Astronomy,Chemical Engineering,Chemistry,Economics & Econometrics,History, Philosophy & Theology,Computer Science,Accounting & Finance,Education,Veterinary Science,Electrical & Electronic Engineering,Geography,Other Health,Architecture,Art, Performing Arts & Design,Law,Mechanical & Aerospace Engineering,Sociology,Medicine & Dentistry,Archaeology,Languages, Literature & Linguistics'\n",
      " 'History, Philosophy & Theology,Agriculture & Forestry,Economics & Econometrics,Languages, Literature & Linguistics,Architecture,Sociology,General Engineering,Geology, Environmental, Earth & Marine Sciences,Other Health,Chemistry,Mechanical & Aerospace Engineering,Physics & Astronomy,Civil Engineering,Mathematics & Statistics,Electrical & Electronic Engineering,Biological Sciences,Computer Science,Politics & International Studies (incl Development Studies),Art, Performing Arts & Design,Chemical Engineering,Psychology'\n",
      " 'Computer Science,Chemistry,Chemical Engineering,Mathematics & Statistics,Physics & Astronomy,Economics & Econometrics,Languages, Literature & Linguistics,General Engineering,Geology, Environmental, Earth & Marine Sciences,History, Philosophy & Theology,Politics & International Studies (incl Development Studies),Mechanical & Aerospace Engineering,Civil Engineering,Biological Sciences,Electrical & Electronic Engineering,Business & Management'\n",
      " 'Computer Science,Mechanical & Aerospace Engineering,Chemical Engineering,Physics & Astronomy,Other Health,Mathematics & Statistics,Electrical & Electronic Engineering,Chemistry,Medicine & Dentistry,General Engineering,Geology, Environmental, Earth & Marine Sciences,Biological Sciences,Civil Engineering'\n",
      " 'Chemistry,Electrical & Electronic Engineering,Geology, Environmental, Earth & Marine Sciences,Computer Science,Mathematics & Statistics,Archaeology,History, Philosophy & Theology,Law,Agriculture & Forestry,Education,Communication & Media Studies,Other Health,Art, Performing Arts & Design,Civil Engineering,Mechanical & Aerospace Engineering,Psychology,Languages, Literature & Linguistics,Politics & International Studies (incl Development Studies),Chemical Engineering,Architecture,Geography,Economics & Econometrics,Biological Sciences,Sociology,General Engineering,Physics & Astronomy,Business & Management'\n",
      " 'Law,Computer Science,Electrical & Electronic Engineering,Chemical Engineering,Economics & Econometrics,Accounting & Finance,Archaeology,Mechanical & Aerospace Engineering,Business & Management,Medicine & Dentistry,Mathematics & Statistics,Art, Performing Arts & Design,Architecture,Sociology,Politics & International Studies (incl Development Studies),Biological Sciences,Agriculture & Forestry,Geology, Environmental, Earth & Marine Sciences,History, Philosophy & Theology,Languages, Literature & Linguistics,General Engineering,Physics & Astronomy,Chemistry,Other Health,Psychology'\n",
      " 'Civil Engineering,Geology, Environmental, Earth & Marine Sciences,Art, Performing Arts & Design,Computer Science,Physics & Astronomy,Business & Management,Archaeology,Mathematics & Statistics,Sociology,Other Health,Economics & Econometrics,General Engineering,Psychology,Mechanical & Aerospace Engineering,Chemistry,History, Philosophy & Theology,Chemical Engineering,Education,Biological Sciences,Accounting & Finance,Medicine & Dentistry,Languages, Literature & Linguistics,Electrical & Electronic Engineering,Politics & International Studies (incl Development Studies)'\n",
      " 'Other Health,Physics & Astronomy,Accounting & Finance,General Engineering,Mathematics & Statistics,Economics & Econometrics,Languages, Literature & Linguistics,Biological Sciences,Sociology,Archaeology,Geology, Environmental, Earth & Marine Sciences,History, Philosophy & Theology,Architecture,Geography,Art, Performing Arts & Design,Mechanical & Aerospace Engineering,Politics & International Studies (incl Development Studies),Psychology,Electrical & Electronic Engineering,Chemistry,Medicine & Dentistry,Veterinary Science,Education,Chemical Engineering,Law,Business & Management,Computer Science,Communication & Media Studies'\n",
      " 'Electrical & Electronic Engineering,Veterinary Science,Mechanical & Aerospace Engineering,Geology, Environmental, Earth & Marine Sciences,Psychology,Archaeology,Art, Performing Arts & Design,Chemistry,Chemical Engineering,Medicine & Dentistry,Education,Law,Biological Sciences,Sport Science,Mathematics & Statistics,Economics & Econometrics,History, Philosophy & Theology,Communication & Media Studies,Civil Engineering,Other Health,Business & Management,Politics & International Studies (incl Development Studies),Geography,Accounting & Finance,Physics & Astronomy,Agriculture & Forestry,Sociology,Architecture,Languages, Literature & Linguistics,Computer Science,General Engineering'\n",
      " 'Electrical & Electronic Engineering,History, Philosophy & Theology,Agriculture & Forestry,Chemistry,Biological Sciences,Economics & Econometrics,Business & Management,Civil Engineering,Architecture,Law,Archaeology,Mathematics & Statistics,Psychology,Veterinary Science,Sociology,Mechanical & Aerospace Engineering,Geology, Environmental, Earth & Marine Sciences,Art, Performing Arts & Design,Other Health,General Engineering,Politics & International Studies (incl Development Studies),Computer Science,Languages, Literature & Linguistics,Chemical Engineering,Communication & Media Studies,Physics & Astronomy'\n",
      " 'Art, Performing Arts & Design,Civil Engineering,Economics & Econometrics,Sport Science,Accounting & Finance,Politics & International Studies (incl Development Studies),Mathematics & Statistics,Geography,Other Health,Computer Science,Psychology,Electrical & Electronic Engineering,History, Philosophy & Theology,General Engineering,Law,Sociology,Languages, Literature & Linguistics,Business & Management,Geology, Environmental, Earth & Marine Sciences,Biological Sciences,Architecture,Mechanical & Aerospace Engineering,Communication & Media Studies,Chemical Engineering,Physics & Astronomy,Medicine & Dentistry,Chemistry,Education,Archaeology,Agriculture & Forestry'\n",
      " 'Medicine & Dentistry,Sport Science,Law,General Engineering,Physics & Astronomy,Mathematics & Statistics,Communication & Media Studies,Languages, Literature & Linguistics,Civil Engineering,Politics & International Studies (incl Development Studies),Business & Management,Computer Science,Education,Architecture,Electrical & Electronic Engineering,Psychology,Other Health,Sociology,Biological Sciences,Geography,History, Philosophy & Theology,Art, Performing Arts & Design,Chemical Engineering,Geology, Environmental, Earth & Marine Sciences,Economics & Econometrics,Archaeology,Mechanical & Aerospace Engineering,Chemistry'\n",
      " 'Chemical Engineering,Accounting & Finance,Archaeology,Economics & Econometrics,Sociology,Psychology,Mathematics & Statistics,Physics & Astronomy,Politics & International Studies (incl Development Studies),Sport Science,Biological Sciences,Agriculture & Forestry,Civil Engineering,Electrical & Electronic Engineering,History, Philosophy & Theology,General Engineering,Business & Management,Education,Mechanical & Aerospace Engineering,Languages, Literature & Linguistics,Geology, Environmental, Earth & Marine Sciences,Computer Science,Architecture,Chemistry,Medicine & Dentistry,Other Health,Art, Performing Arts & Design,Communication & Media Studies,Law'\n",
      " 'Art, Performing Arts & Design,Civil Engineering,Economics & Econometrics,Biological Sciences,Languages, Literature & Linguistics,Chemistry,Electrical & Electronic Engineering,Communication & Media Studies,Architecture,Chemical Engineering,Computer Science,Psychology,Mechanical & Aerospace Engineering,Business & Management,Politics & International Studies (incl Development Studies),Accounting & Finance,Mathematics & Statistics,History, Philosophy & Theology,Physics & Astronomy'\n",
      " 'Languages, Literature & Linguistics,Economics & Econometrics,Architecture,Art, Performing Arts & Design,Psychology,Mathematics & Statistics,General Engineering,Civil Engineering,History, Philosophy & Theology,Archaeology,Chemical Engineering,Education,Other Health,Law,Medicine & Dentistry,Mechanical & Aerospace Engineering,Sociology,Agriculture & Forestry,Chemistry,Geography,Accounting & Finance,Veterinary Science,Business & Management,Computer Science,Physics & Astronomy,Communication & Media Studies,Politics & International Studies (incl Development Studies),Geology, Environmental, Earth & Marine Sciences,Biological Sciences,Electrical & Electronic Engineering'\n",
      " 'Mechanical & Aerospace Engineering,Agriculture & Forestry,Psychology,History, Philosophy & Theology,Mathematics & Statistics,Accounting & Finance,Art, Performing Arts & Design,Electrical & Electronic Engineering,Sociology,Civil Engineering,Physics & Astronomy,Economics & Econometrics,General Engineering,Geology, Environmental, Earth & Marine Sciences,Other Health,Law,Computer Science,Chemistry,Languages, Literature & Linguistics,Biological Sciences,Business & Management,Medicine & Dentistry,Politics & International Studies (incl Development Studies),Communication & Media Studies'\n",
      " 'Medicine & Dentistry,Mathematics & Statistics,Sociology,Politics & International Studies (incl Development Studies),Mechanical & Aerospace Engineering,Archaeology,General Engineering,Art, Performing Arts & Design,Communication & Media Studies,Languages, Literature & Linguistics,Geology, Environmental, Earth & Marine Sciences,Business & Management,Electrical & Electronic Engineering,Physics & Astronomy,History, Philosophy & Theology,Economics & Econometrics,Biological Sciences,Chemistry,Other Health,Civil Engineering,Accounting & Finance,Psychology,Computer Science,Chemical Engineering,Education,Law,Architecture'\n",
      " 'Civil Engineering,Medicine & Dentistry,Sport Science,Law,Economics & Econometrics,Archaeology,Mechanical & Aerospace Engineering,Geology, Environmental, Earth & Marine Sciences,Other Health,Communication & Media Studies,History, Philosophy & Theology,Mathematics & Statistics,Business & Management,Architecture,Biological Sciences,Geography,Languages, Literature & Linguistics,Chemical Engineering,Psychology,Computer Science,Chemistry,Accounting & Finance,General Engineering,Physics & Astronomy,Education,Art, Performing Arts & Design,Electrical & Electronic Engineering,Sociology,Politics & International Studies (incl Development Studies)'\n",
      " 'Physics & Astronomy,Biological Sciences,Mathematics & Statistics,Sport Science,Other Health,Education,Medicine & Dentistry,Business & Management,Chemical Engineering,Architecture,Economics & Econometrics,Politics & International Studies (incl Development Studies),Sociology,Civil Engineering,Computer Science,General Engineering,Geography,Languages, Literature & Linguistics,Mechanical & Aerospace Engineering,Chemistry,Veterinary Science,Accounting & Finance,Psychology,Geology, Environmental, Earth & Marine Sciences,History, Philosophy & Theology,Law,Art, Performing Arts & Design,Electrical & Electronic Engineering,Archaeology'\n",
      " 'Other Health,Physics & Astronomy,General Engineering,Medicine & Dentistry,Geology, Environmental, Earth & Marine Sciences,Biological Sciences,Communication & Media Studies,Languages, Literature & Linguistics,Computer Science,Civil Engineering,Politics & International Studies (incl Development Studies),Art, Performing Arts & Design,Business & Management,Mathematics & Statistics,Chemical Engineering,Economics & Econometrics,Mechanical & Aerospace Engineering,Accounting & Finance,Chemistry,Electrical & Electronic Engineering,Psychology,Education,Sociology,History, Philosophy & Theology'\n",
      " 'Chemical Engineering,Other Health,Languages, Literature & Linguistics,Physics & Astronomy,Politics & International Studies (incl Development Studies),Mechanical & Aerospace Engineering,Biological Sciences,Geography,Communication & Media Studies,Architecture,Art, Performing Arts & Design,Sociology,General Engineering,Computer Science,Geology, Environmental, Earth & Marine Sciences,Electrical & Electronic Engineering,Economics & Econometrics,Business & Management,Mathematics & Statistics,Chemistry,Psychology,Civil Engineering,History, Philosophy & Theology'\n",
      " 'Other Health,Economics & Econometrics,Biological Sciences,Electrical & Electronic Engineering,Civil Engineering,Accounting & Finance,Chemical Engineering,Mathematics & Statistics,Sociology,Archaeology,Computer Science,Geography,Languages, Literature & Linguistics,Law,Physics & Astronomy,General Engineering,Geology, Environmental, Earth & Marine Sciences,Art, Performing Arts & Design,Sport Science,Business & Management,History, Philosophy & Theology,Chemistry,Architecture,Education,Medicine & Dentistry,Veterinary Science,Agriculture & Forestry,Communication & Media Studies,Psychology,Politics & International Studies (incl Development Studies),Mechanical & Aerospace Engineering'\n",
      " 'Business & Management,Economics & Econometrics,Geography,Education,Civil Engineering,Archaeology,Geology, Environmental, Earth & Marine Sciences,Computer Science,Communication & Media Studies,Art, Performing Arts & Design,Chemistry,Physics & Astronomy,Psychology,Mechanical & Aerospace Engineering,Accounting & Finance,Other Health,Agriculture & Forestry,History, Philosophy & Theology,Politics & International Studies (incl Development Studies),Biological Sciences,Languages, Literature & Linguistics,Sociology,Chemical Engineering,Electrical & Electronic Engineering,Law,Mathematics & Statistics,Sport Science,General Engineering,Architecture,Medicine & Dentistry'\n",
      " 'Computer Science,Mathematics & Statistics,Education,Architecture,Chemical Engineering,Geology, Environmental, Earth & Marine Sciences,Economics & Econometrics,Electrical & Electronic Engineering,Physics & Astronomy,Accounting & Finance,Languages, Literature & Linguistics,Biological Sciences,Psychology,General Engineering,Chemistry,Business & Management,Art, Performing Arts & Design,Civil Engineering,Politics & International Studies (incl Development Studies),Archaeology,Veterinary Science,Law,Medicine & Dentistry,Sport Science,Sociology,History, Philosophy & Theology,Mechanical & Aerospace Engineering,Communication & Media Studies,Other Health,Agriculture & Forestry,Geography'\n",
      " 'History, Philosophy & Theology,Politics & International Studies (incl Development Studies),Geography,Economics & Econometrics,Accounting & Finance,Languages, Literature & Linguistics,Law,Sociology,Geology, Environmental, Earth & Marine Sciences,Psychology,Business & Management,Mathematics & Statistics,Communication & Media Studies'\n",
      " 'Electrical & Electronic Engineering,Communication & Media Studies,Archaeology,Biological Sciences,Geography,Art, Performing Arts & Design,Civil Engineering,Politics & International Studies (incl Development Studies),Accounting & Finance,History, Philosophy & Theology,Sport Science,Law,Computer Science,Mathematics & Statistics,Education,Languages, Literature & Linguistics,General Engineering,Physics & Astronomy,Business & Management,Medicine & Dentistry,Agriculture & Forestry,Sociology,Mechanical & Aerospace Engineering,Geology, Environmental, Earth & Marine Sciences,Other Health,Chemistry,Economics & Econometrics,Architecture,Chemical Engineering,Psychology'\n",
      " 'Architecture,Mechanical & Aerospace Engineering,Economics & Econometrics,Other Health,Civil Engineering,Computer Science,Chemistry,Business & Management,Art, Performing Arts & Design,Biological Sciences,Geography,History, Philosophy & Theology,Geology, Environmental, Earth & Marine Sciences,Education,Medicine & Dentistry,Electrical & Electronic Engineering,Politics & International Studies (incl Development Studies),Accounting & Finance,General Engineering,Mathematics & Statistics,Sociology,Languages, Literature & Linguistics,Physics & Astronomy,Psychology,Chemical Engineering,Archaeology,Communication & Media Studies,Law'\n",
      " 'General Engineering,Law,Archaeology,Biological Sciences,Geology, Environmental, Earth & Marine Sciences,Other Health,Mathematics & Statistics,Psychology,History, Philosophy & Theology,Mechanical & Aerospace Engineering,Chemistry,Languages, Literature & Linguistics,Chemical Engineering,Education,Art, Performing Arts & Design,Computer Science,Geography,Medicine & Dentistry,Physics & Astronomy,Business & Management,Architecture,Sport Science,Sociology,Civil Engineering,Communication & Media Studies,Accounting & Finance,Electrical & Electronic Engineering,Politics & International Studies (incl Development Studies),Economics & Econometrics'\n",
      " 'Electrical & Electronic Engineering,Mathematics & Statistics,Economics & Econometrics,General Engineering,Chemistry,Psychology,Medicine & Dentistry,Agriculture & Forestry,Geology, Environmental, Earth & Marine Sciences,Business & Management,Architecture,Veterinary Science,Law,Languages, Literature & Linguistics,Civil Engineering,Politics & International Studies (incl Development Studies),History, Philosophy & Theology,Chemical Engineering,Communication & Media Studies,Other Health,Physics & Astronomy,Accounting & Finance,Mechanical & Aerospace Engineering,Sociology,Archaeology,Biological Sciences,Education,Art, Performing Arts & Design,Computer Science,Sport Science,Geography'\n",
      " 'Mathematics & Statistics,Architecture,History, Philosophy & Theology,Law,Civil Engineering,Chemical Engineering,Business & Management,Languages, Literature & Linguistics,Electrical & Electronic Engineering,Sociology,Physics & Astronomy,Medicine & Dentistry,Mechanical & Aerospace Engineering,General Engineering,Archaeology,Geography,Veterinary Science,Other Health,Psychology,Biological Sciences,Chemistry,Accounting & Finance,Politics & International Studies (incl Development Studies),Computer Science,Communication & Media Studies,Education,Sport Science,Art, Performing Arts & Design,Agriculture & Forestry,Economics & Econometrics,Geology, Environmental, Earth & Marine Sciences'\n",
      " 'Communication & Media Studies,History, Philosophy & Theology,Psychology,Languages, Literature & Linguistics,Computer Science,Biological Sciences,Archaeology,Civil Engineering,Accounting & Finance,Mathematics & Statistics,Sociology,Electrical & Electronic Engineering,Law,Chemistry,Art, Performing Arts & Design,Other Health,Physics & Astronomy,Economics & Econometrics,Mechanical & Aerospace Engineering,Agriculture & Forestry,General Engineering,Politics & International Studies (incl Development Studies),Geography,Medicine & Dentistry,Geology, Environmental, Earth & Marine Sciences,Business & Management'\n",
      " 'Sociology,Geography,Chemistry,Mechanical & Aerospace Engineering,Biological Sciences,Education,Electrical & Electronic Engineering,History, Philosophy & Theology,Politics & International Studies (incl Development Studies),Geology, Environmental, Earth & Marine Sciences,Agriculture & Forestry,Psychology,Veterinary Science,Art, Performing Arts & Design,Languages, Literature & Linguistics,Archaeology,Chemical Engineering,Mathematics & Statistics,Accounting & Finance,Architecture,Physics & Astronomy,Economics & Econometrics,Computer Science,Communication & Media Studies'\n",
      " 'Computer Science,Accounting & Finance,Art, Performing Arts & Design,Chemistry,Psychology,Physics & Astronomy,Languages, Literature & Linguistics,Sport Science,Sociology,Geography,Geology, Environmental, Earth & Marine Sciences,Business & Management,Agriculture & Forestry,Mathematics & Statistics,History, Philosophy & Theology,Other Health,Law,General Engineering,Education,Economics & Econometrics,Archaeology,Communication & Media Studies,Politics & International Studies (incl Development Studies),Biological Sciences,Medicine & Dentistry'\n",
      " 'Mathematics & Statistics,Other Health,Physics & Astronomy,Languages, Literature & Linguistics,Psychology,Geology, Environmental, Earth & Marine Sciences,Economics & Econometrics,Mechanical & Aerospace Engineering,Agriculture & Forestry,Archaeology,Business & Management,Chemistry,Computer Science,Art, Performing Arts & Design,Politics & International Studies (incl Development Studies),Law,Geography,Chemical Engineering,Medicine & Dentistry,Sport Science,Sociology,Communication & Media Studies,General Engineering,Accounting & Finance,Education,Electrical & Electronic Engineering,Architecture,Civil Engineering,History, Philosophy & Theology,Biological Sciences'\n",
      " 'Electrical & Electronic Engineering,Architecture,Mathematics & Statistics,Accounting & Finance,Medicine & Dentistry,Chemistry,Politics & International Studies (incl Development Studies),Mechanical & Aerospace Engineering,General Engineering,Law,Archaeology,Sociology,History, Philosophy & Theology,Languages, Literature & Linguistics,Biological Sciences,Communication & Media Studies,Psychology,Business & Management,Physics & Astronomy,Computer Science,Art, Performing Arts & Design,Education,Geology, Environmental, Earth & Marine Sciences,Geography,Other Health,Economics & Econometrics'\n",
      " 'Languages, Literature & Linguistics,Agriculture & Forestry,Veterinary Science,Chemical Engineering,Physics & Astronomy,Psychology,History, Philosophy & Theology,Civil Engineering,Communication & Media Studies,Architecture,Biological Sciences,Mathematics & Statistics,Education,General Engineering,Politics & International Studies (incl Development Studies),Business & Management,Other Health,Geography,Accounting & Finance,Electrical & Electronic Engineering,Law,Economics & Econometrics,Medicine & Dentistry,Sport Science,Sociology,Computer Science,Chemistry,Art, Performing Arts & Design,Mechanical & Aerospace Engineering,Geology, Environmental, Earth & Marine Sciences'\n",
      " 'General Engineering,Communication & Media Studies,Economics & Econometrics,Languages, Literature & Linguistics,Civil Engineering,Politics & International Studies (incl Development Studies),Computer Science,Mathematics & Statistics,Psychology,Architecture,Biological Sciences,Business & Management,Chemical Engineering,Law,Other Health,Sport Science,Sociology,History, Philosophy & Theology,Agriculture & Forestry,Chemistry,Accounting & Finance,Art, Performing Arts & Design,Mechanical & Aerospace Engineering,Physics & Astronomy,Medicine & Dentistry,Veterinary Science,Education,Electrical & Electronic Engineering,Geology, Environmental, Earth & Marine Sciences'\n",
      " 'Electrical & Electronic Engineering,General Engineering,Civil Engineering,Sociology,Biological Sciences,Psychology,Education,Chemical Engineering,Chemistry,Other Health,Medicine & Dentistry,Languages, Literature & Linguistics,Economics & Econometrics,Politics & International Studies (incl Development Studies),Business & Management,Art, Performing Arts & Design,Architecture,Physics & Astronomy,Mathematics & Statistics,Geology, Environmental, Earth & Marine Sciences,Accounting & Finance,Law,Mechanical & Aerospace Engineering,History, Philosophy & Theology,Computer Science'\n",
      " 'Physics & Astronomy,Mechanical & Aerospace Engineering,General Engineering,Sociology,History, Philosophy & Theology,Geology, Environmental, Earth & Marine Sciences,Computer Science,Psychology,Other Health,Economics & Econometrics,Chemistry,Mathematics & Statistics,Accounting & Finance,Communication & Media Studies,Business & Management,Civil Engineering,Medicine & Dentistry,Art, Performing Arts & Design,Geography,Politics & International Studies (incl Development Studies),Biological Sciences,Archaeology,Electrical & Electronic Engineering,Law,Education,Chemical Engineering,Languages, Literature & Linguistics'\n",
      " 'Geography,Computer Science,Geology, Environmental, Earth & Marine Sciences,Other Health,Civil Engineering,Chemistry,Business & Management,General Engineering,Communication & Media Studies,Economics & Econometrics,History, Philosophy & Theology,Education,Medicine & Dentistry,Politics & International Studies (incl Development Studies),Law,Archaeology,Biological Sciences,Mechanical & Aerospace Engineering,Electrical & Electronic Engineering,Languages, Literature & Linguistics,Physics & Astronomy,Psychology,Mathematics & Statistics,Art, Performing Arts & Design,Chemical Engineering,Sociology,Accounting & Finance'\n",
      " 'Art, Performing Arts & Design,Medicine & Dentistry,Psychology,Agriculture & Forestry,Accounting & Finance,Computer Science,Other Health,Archaeology,Education,Business & Management,Economics & Econometrics,Communication & Media Studies,Mechanical & Aerospace Engineering,Chemical Engineering,Architecture,Sport Science,Sociology,Law,Languages, Literature & Linguistics,Veterinary Science,Biological Sciences,Mathematics & Statistics,Geology, Environmental, Earth & Marine Sciences,Politics & International Studies (incl Development Studies),Electrical & Electronic Engineering,History, Philosophy & Theology,Physics & Astronomy,Chemistry,Geography,General Engineering,Civil Engineering'\n",
      " 'Art, Performing Arts & Design,Civil Engineering,Geography,General Engineering,Geology, Environmental, Earth & Marine Sciences,Business & Management,Archaeology,Mathematics & Statistics,Accounting & Finance,Other Health,Physics & Astronomy,Education,History, Philosophy & Theology,Sport Science,Psychology,Languages, Literature & Linguistics,Chemical Engineering,Law,Medicine & Dentistry,Biological Sciences,Electrical & Electronic Engineering,Sociology,Computer Science,Chemistry,Economics & Econometrics,Mechanical & Aerospace Engineering,Politics & International Studies (incl Development Studies)'\n",
      " 'History, Philosophy & Theology,Computer Science,Geography,Archaeology,Mathematics & Statistics,Sociology,Languages, Literature & Linguistics,Chemical Engineering,General Engineering,Geology, Environmental, Earth & Marine Sciences,Mechanical & Aerospace Engineering,Chemistry,Electrical & Electronic Engineering,Politics & International Studies (incl Development Studies),Other Health,Economics & Econometrics,Communication & Media Studies,Law,Civil Engineering,Physics & Astronomy,Medicine & Dentistry,Accounting & Finance,Business & Management,Psychology,Architecture,Biological Sciences,Education'\n",
      " 'Art, Performing Arts & Design,Mathematics & Statistics,Accounting & Finance,Chemistry,Economics & Econometrics,General Engineering,Psychology,Languages, Literature & Linguistics,Geology, Environmental, Earth & Marine Sciences,Computer Science,History, Philosophy & Theology,Communication & Media Studies,Other Health,Sociology,Politics & International Studies (incl Development Studies),Physics & Astronomy,Law,Medicine & Dentistry,Biological Sciences,Business & Management'\n",
      " 'Computer Science,Politics & International Studies (incl Development Studies),General Engineering,Chemistry,History, Philosophy & Theology,Education,Medicine & Dentistry,Communication & Media Studies,Economics & Econometrics,Mechanical & Aerospace Engineering,Mathematics & Statistics,Psychology,Civil Engineering,Geography,Electrical & Electronic Engineering,Physics & Astronomy,Languages, Literature & Linguistics,Biological Sciences,Business & Management,Other Health,Sociology,Accounting & Finance,Art, Performing Arts & Design,Law'\n",
      " 'Chemical Engineering,General Engineering,Education,Geography,Communication & Media Studies,History, Philosophy & Theology,Economics & Econometrics,Art, Performing Arts & Design,Computer Science,Civil Engineering,Other Health,Mathematics & Statistics,Languages, Literature & Linguistics,Chemistry,Mechanical & Aerospace Engineering,Archaeology,Sport Science,Politics & International Studies (incl Development Studies),Sociology,Accounting & Finance,Business & Management,Agriculture & Forestry,Physics & Astronomy,Electrical & Electronic Engineering,Architecture,Veterinary Science,Geology, Environmental, Earth & Marine Sciences,Biological Sciences'\n",
      " 'Architecture,Veterinary Science,Communication & Media Studies,Art, Performing Arts & Design,Agriculture & Forestry,Biological Sciences,Electrical & Electronic Engineering,Law,Medicine & Dentistry,Geography,History, Philosophy & Theology,Geology, Environmental, Earth & Marine Sciences,Accounting & Finance,Chemical Engineering,Economics & Econometrics,Other Health,Sociology,Languages, Literature & Linguistics,Education,Chemistry,Business & Management,Sport Science,Physics & Astronomy,Mechanical & Aerospace Engineering,Civil Engineering,Mathematics & Statistics,Psychology,Computer Science,Politics & International Studies (incl Development Studies),General Engineering'\n",
      " 'Mechanical & Aerospace Engineering,Physics & Astronomy,Business & Management,Biological Sciences,Other Health,General Engineering,Geology, Environmental, Earth & Marine Sciences,Art, Performing Arts & Design,Sport Science,Economics & Econometrics,Civil Engineering,Sociology,Architecture,Chemistry,Languages, Literature & Linguistics,Mathematics & Statistics,Education,Computer Science,Politics & International Studies (incl Development Studies),Electrical & Electronic Engineering,Psychology,History, Philosophy & Theology,Chemical Engineering,Accounting & Finance'\n",
      " 'Education,Economics & Econometrics,Agriculture & Forestry,Archaeology,Veterinary Science,Geography,Law,Mathematics & Statistics,Electrical & Electronic Engineering,Geology, Environmental, Earth & Marine Sciences,Biological Sciences,Communication & Media Studies,Medicine & Dentistry,General Engineering,Chemical Engineering,Sociology,Physics & Astronomy,Sport Science,Other Health,Languages, Literature & Linguistics,Accounting & Finance,Art, Performing Arts & Design,Civil Engineering,Computer Science,Business & Management,Psychology,Chemistry,Politics & International Studies (incl Development Studies),Mechanical & Aerospace Engineering,History, Philosophy & Theology,Architecture'\n",
      " 'Veterinary Science,Electrical & Electronic Engineering,Sport Science,Sociology,Art, Performing Arts & Design,Education,Medicine & Dentistry,Physics & Astronomy,Mathematics & Statistics,Languages, Literature & Linguistics,General Engineering,Business & Management,Computer Science,Politics & International Studies (incl Development Studies),Agriculture & Forestry,Chemical Engineering,Civil Engineering,Other Health,Chemistry,Law,Psychology,Geology, Environmental, Earth & Marine Sciences,Mechanical & Aerospace Engineering,History, Philosophy & Theology,Communication & Media Studies,Architecture,Biological Sciences,Economics & Econometrics,Accounting & Finance,Archaeology,Geography'\n",
      " 'Geography,Physics & Astronomy,Chemical Engineering,Medicine & Dentistry,Economics & Econometrics,Psychology,Other Health,Law,Business & Management,Mechanical & Aerospace Engineering,General Engineering,Mathematics & Statistics,Biological Sciences,Electrical & Electronic Engineering,Chemistry,Agriculture & Forestry,Geology, Environmental, Earth & Marine Sciences,Civil Engineering,Sociology,Architecture,History, Philosophy & Theology,Computer Science,Sport Science,Politics & International Studies (incl Development Studies),Art, Performing Arts & Design,Accounting & Finance,Education,Communication & Media Studies,Languages, Literature & Linguistics'\n",
      " 'History, Philosophy & Theology,Civil Engineering,Politics & International Studies (incl Development Studies),Computer Science,Communication & Media Studies,General Engineering,Geology, Environmental, Earth & Marine Sciences,Economics & Econometrics,Other Health,Mechanical & Aerospace Engineering,Mathematics & Statistics,Psychology,Biological Sciences,Law,Accounting & Finance,Archaeology,Chemical Engineering,Chemistry,Art, Performing Arts & Design,Agriculture & Forestry,Physics & Astronomy,Architecture,Sport Science,Geography,Medicine & Dentistry,Veterinary Science,Sociology,Business & Management,Languages, Literature & Linguistics,Electrical & Electronic Engineering,Education'\n",
      " 'Mechanical & Aerospace Engineering,Communication & Media Studies,Economics & Econometrics,Medicine & Dentistry,Veterinary Science,Sociology,Other Health,Biological Sciences,Psychology,Computer Science,Mathematics & Statistics,Education,Languages, Literature & Linguistics,General Engineering,Chemistry,Electrical & Electronic Engineering,Physics & Astronomy,Law,Art, Performing Arts & Design,Chemical Engineering,Geography,Architecture,Agriculture & Forestry,Business & Management,History, Philosophy & Theology,Sport Science,Geology, Environmental, Earth & Marine Sciences,Accounting & Finance,Civil Engineering,Politics & International Studies (incl Development Studies)'\n",
      " 'Mechanical & Aerospace Engineering,Biological Sciences,Education,Medicine & Dentistry,History, Philosophy & Theology,General Engineering,Geology, Environmental, Earth & Marine Sciences,Chemistry,Communication & Media Studies,Mathematics & Statistics,Chemical Engineering,Sociology,Psychology,Accounting & Finance,Electrical & Electronic Engineering,Business & Management,Languages, Literature & Linguistics,Other Health,Art, Performing Arts & Design,Archaeology,Politics & International Studies (incl Development Studies),Computer Science,Physics & Astronomy,Economics & Econometrics'\n",
      " 'Business & Management,Art, Performing Arts & Design,General Engineering,Mathematics & Statistics,Law,Sociology,Computer Science,Chemistry,Geology, Environmental, Earth & Marine Sciences,Accounting & Finance,Mechanical & Aerospace Engineering,Politics & International Studies (incl Development Studies),Economics & Econometrics,Physics & Astronomy,Architecture,Communication & Media Studies,Electrical & Electronic Engineering,Psychology,Education,Biological Sciences,Civil Engineering,History, Philosophy & Theology,Chemical Engineering,Languages, Literature & Linguistics,Geography'\n",
      " 'Physics & Astronomy,Electrical & Electronic Engineering,Civil Engineering,Politics & International Studies (incl Development Studies),Economics & Econometrics,Psychology,Veterinary Science,Biological Sciences,Sociology,Archaeology,Architecture,Sport Science,Chemical Engineering,History, Philosophy & Theology,Languages, Literature & Linguistics,Geography,Medicine & Dentistry,Chemistry,Mathematics & Statistics,Art, Performing Arts & Design,Business & Management,Law,Accounting & Finance,General Engineering,Geology, Environmental, Earth & Marine Sciences,Mechanical & Aerospace Engineering,Other Health,Computer Science,Communication & Media Studies,Agriculture & Forestry,Education'\n",
      " 'Electrical & Electronic Engineering,Geography,Architecture,Chemistry,Economics & Econometrics,Psychology,Mechanical & Aerospace Engineering,History, Philosophy & Theology,Mathematics & Statistics,Education,Computer Science,Communication & Media Studies,Business & Management,Geology, Environmental, Earth & Marine Sciences,Other Health,Law,General Engineering,Medicine & Dentistry,Chemical Engineering,Art, Performing Arts & Design,Civil Engineering,Sociology,Biological Sciences,Languages, Literature & Linguistics,Physics & Astronomy,Accounting & Finance,Politics & International Studies (incl Development Studies),Sport Science'\n",
      " 'Chemistry,Archaeology,Geography,Economics & Econometrics,Computer Science,Electrical & Electronic Engineering,General Engineering,Languages, Literature & Linguistics,Geology, Environmental, Earth & Marine Sciences,Mechanical & Aerospace Engineering,Physics & Astronomy,Business & Management,Law,Accounting & Finance,Education,Mathematics & Statistics,History, Philosophy & Theology,Medicine & Dentistry,Psychology,Communication & Media Studies,Sociology,Art, Performing Arts & Design,Biological Sciences,Politics & International Studies (incl Development Studies),Other Health'\n",
      " 'Languages, Literature & Linguistics,Chemistry,Law,Business & Management,Economics & Econometrics,History, Philosophy & Theology,Sociology,Veterinary Science,Psychology,Other Health,Politics & International Studies (incl Development Studies),Geology, Environmental, Earth & Marine Sciences,Chemical Engineering,Archaeology,Accounting & Finance,Biological Sciences,Mathematics & Statistics,General Engineering,Agriculture & Forestry,Geography,Physics & Astronomy,Computer Science,Architecture,Sport Science,Electrical & Electronic Engineering,Education,Communication & Media Studies,Mechanical & Aerospace Engineering,Medicine & Dentistry,Art, Performing Arts & Design,Civil Engineering'\n",
      " 'Chemistry,Electrical & Electronic Engineering,History, Philosophy & Theology,Mechanical & Aerospace Engineering,Business & Management,Physics & Astronomy,Psychology,Economics & Econometrics,Politics & International Studies (incl Development Studies),Other Health,Architecture,Communication & Media Studies,Sociology,General Engineering,Sport Science,Chemical Engineering,Accounting & Finance,Art, Performing Arts & Design,Languages, Literature & Linguistics,Law,Geology, Environmental, Earth & Marine Sciences,Computer Science,Biological Sciences,Mathematics & Statistics,Geography,Medicine & Dentistry,Education'\n",
      " 'General Engineering,Geography,History, Philosophy & Theology,Mathematics & Statistics,Business & Management,Art, Performing Arts & Design,Chemical Engineering,Politics & International Studies (incl Development Studies),Languages, Literature & Linguistics,Agriculture & Forestry,Sociology,Mechanical & Aerospace Engineering,Communication & Media Studies,Medicine & Dentistry,Civil Engineering,Psychology,Computer Science,Geology, Environmental, Earth & Marine Sciences,Other Health,Chemistry,Economics & Econometrics,Archaeology,Biological Sciences,Electrical & Electronic Engineering,Physics & Astronomy'\n",
      " 'General Engineering,Physics & Astronomy,Business & Management,Mechanical & Aerospace Engineering,Chemistry,Economics & Econometrics,Other Health,Politics & International Studies (incl Development Studies),Medicine & Dentistry,Geology, Environmental, Earth & Marine Sciences,History, Philosophy & Theology,Chemical Engineering,Psychology,Civil Engineering,Mathematics & Statistics,Accounting & Finance,Languages, Literature & Linguistics,Biological Sciences,Electrical & Electronic Engineering,Education,Architecture,Law,Art, Performing Arts & Design,Computer Science,Sociology'\n",
      " 'Computer Science,Geology, Environmental, Earth & Marine Sciences,Economics & Econometrics,Art, Performing Arts & Design,Mechanical & Aerospace Engineering,Sociology,General Engineering,Sport Science,Education,Other Health,Chemistry,History, Philosophy & Theology,Biological Sciences,Geography,Electrical & Electronic Engineering,Communication & Media Studies,Accounting & Finance,Medicine & Dentistry,Physics & Astronomy,Psychology,Architecture,Mathematics & Statistics,Business & Management,Languages, Literature & Linguistics,Chemical Engineering,Law,Archaeology,Civil Engineering,Politics & International Studies (incl Development Studies)'\n",
      " 'General Engineering,Medicine & Dentistry,Mechanical & Aerospace Engineering,Chemistry,Sociology,Economics & Econometrics,Electrical & Electronic Engineering,Languages, Literature & Linguistics,Computer Science,Physics & Astronomy,Politics & International Studies (incl Development Studies),Veterinary Science,History, Philosophy & Theology,Civil Engineering,Accounting & Finance,Communication & Media Studies,Law,Other Health,Archaeology,Mathematics & Statistics,Business & Management,Psychology,Biological Sciences,Geology, Environmental, Earth & Marine Sciences,Geography,Architecture'\n",
      " 'Computer Science,Physics & Astronomy,Business & Management,Architecture,Other Health,Mathematics & Statistics,Psychology,Medicine & Dentistry,Mechanical & Aerospace Engineering,Communication & Media Studies,Accounting & Finance,History, Philosophy & Theology,Sport Science,Education,Archaeology,Electrical & Electronic Engineering,Geology, Environmental, Earth & Marine Sciences,Languages, Literature & Linguistics,Agriculture & Forestry,Geography,Economics & Econometrics,Biological Sciences,Law,Art, Performing Arts & Design,Chemical Engineering,Sociology,Veterinary Science,General Engineering,Chemistry,Politics & International Studies (incl Development Studies),Civil Engineering'\n",
      " 'Civil Engineering,Sociology,Communication & Media Studies,Art, Performing Arts & Design,Archaeology,Mechanical & Aerospace Engineering,Geography,Physics & Astronomy,Economics & Econometrics,Education,History, Philosophy & Theology,General Engineering,Business & Management,Sport Science,Languages, Literature & Linguistics,Chemical Engineering,Mathematics & Statistics,Law,Geology, Environmental, Earth & Marine Sciences,Electrical & Electronic Engineering,Accounting & Finance,Psychology,Other Health,Chemistry,Architecture,Computer Science,Biological Sciences,Politics & International Studies (incl Development Studies)'\n",
      " 'Other Health,Chemistry,Sociology,Art, Performing Arts & Design,Politics & International Studies (incl Development Studies),Business & Management,General Engineering,Psychology,Languages, Literature & Linguistics,Education,Civil Engineering,Geography,Chemical Engineering,Biological Sciences,Communication & Media Studies,Geology, Environmental, Earth & Marine Sciences,Medicine & Dentistry,Electrical & Electronic Engineering,Computer Science,Law,Mathematics & Statistics,Mechanical & Aerospace Engineering,Accounting & Finance,Physics & Astronomy,Economics & Econometrics,History, Philosophy & Theology,Sport Science'\n",
      " 'Agriculture & Forestry,Politics & International Studies (incl Development Studies),Economics & Econometrics,Other Health,Geology, Environmental, Earth & Marine Sciences,Art, Performing Arts & Design,Communication & Media Studies,Accounting & Finance,Mathematics & Statistics,General Engineering,Law,Languages, Literature & Linguistics,Biological Sciences,Education,History, Philosophy & Theology,Sport Science,Psychology,Architecture,Chemistry,Computer Science,Sociology,Medicine & Dentistry,Physics & Astronomy,Business & Management'\n",
      " 'Communication & Media Studies,Mathematics & Statistics,Architecture,History, Philosophy & Theology,Economics & Econometrics,Computer Science,Chemistry,Languages, Literature & Linguistics,Biological Sciences,Sociology,Civil Engineering,Medicine & Dentistry,Geology, Environmental, Earth & Marine Sciences,Law,Other Health,Archaeology,Business & Management,Education,Electrical & Electronic Engineering,Geography,General Engineering,Chemical Engineering,Politics & International Studies (incl Development Studies),Physics & Astronomy,Mechanical & Aerospace Engineering,Accounting & Finance,Psychology,Art, Performing Arts & Design'\n",
      " 'Computer Science,History, Philosophy & Theology,Architecture,Medicine & Dentistry,Veterinary Science,Civil Engineering,Sociology,Other Health,Biological Sciences,Business & Management,Languages, Literature & Linguistics,Agriculture & Forestry,Mathematics & Statistics,Archaeology,Politics & International Studies (incl Development Studies),Economics & Econometrics,General Engineering,Physics & Astronomy,Art, Performing Arts & Design,Mechanical & Aerospace Engineering,Geology, Environmental, Earth & Marine Sciences,Education,Electrical & Electronic Engineering,Chemistry,Psychology,Chemical Engineering,Law,Communication & Media Studies,Geography'\n",
      " 'Chemistry,Economics & Econometrics,Mathematics & Statistics,Geology, Environmental, Earth & Marine Sciences,Medicine & Dentistry,Sociology,Archaeology,Psychology,Other Health,Geography,Languages, Literature & Linguistics,Computer Science,Biological Sciences,Politics & International Studies (incl Development Studies),Physics & Astronomy,Business & Management,History, Philosophy & Theology,Communication & Media Studies'\n",
      " 'Mechanical & Aerospace Engineering,Physics & Astronomy,Law,Languages, Literature & Linguistics,Electrical & Electronic Engineering,Geology, Environmental, Earth & Marine Sciences,Art, Performing Arts & Design,Chemical Engineering,Sociology,Archaeology,Civil Engineering,Education,General Engineering,Mathematics & Statistics,Communication & Media Studies,Economics & Econometrics,Medicine & Dentistry,Veterinary Science,Geography,History, Philosophy & Theology,Agriculture & Forestry,Architecture,Biological Sciences,Politics & International Studies (incl Development Studies),Accounting & Finance,Other Health,Sport Science,Psychology,Computer Science,Chemistry,Business & Management'\n",
      " 'Civil Engineering,Psychology,Biological Sciences,Law,Languages, Literature & Linguistics,Mathematics & Statistics,Economics & Econometrics,Mechanical & Aerospace Engineering,Education,Communication & Media Studies,Art, Performing Arts & Design,Physics & Astronomy,Accounting & Finance,History, Philosophy & Theology,Geology, Environmental, Earth & Marine Sciences,Computer Science,Sociology,Architecture,Chemistry,Business & Management,Electrical & Electronic Engineering,Politics & International Studies (incl Development Studies),Chemical Engineering,General Engineering'\n",
      " 'Education,History, Philosophy & Theology,Physics & Astronomy,Mathematics & Statistics,Geography,Art, Performing Arts & Design,Business & Management,Medicine & Dentistry,Sport Science,Other Health,Chemical Engineering,Politics & International Studies (incl Development Studies),Languages, Literature & Linguistics,Computer Science,Chemistry,Accounting & Finance,Biological Sciences,Law,Geology, Environmental, Earth & Marine Sciences,Mechanical & Aerospace Engineering,General Engineering,Economics & Econometrics,Sociology,Electrical & Electronic Engineering,Archaeology,Civil Engineering,Psychology'\n",
      " 'Architecture,Art, Performing Arts & Design,Agriculture & Forestry,Politics & International Studies (incl Development Studies),Sociology,Archaeology,Languages, Literature & Linguistics,Physics & Astronomy,Medicine & Dentistry,History, Philosophy & Theology,Biological Sciences,General Engineering,Communication & Media Studies,Veterinary Science,Geology, Environmental, Earth & Marine Sciences,Civil Engineering,Mechanical & Aerospace Engineering,Geography,Business & Management,Chemistry,Sport Science,Computer Science,Psychology,Accounting & Finance,Electrical & Electronic Engineering,Mathematics & Statistics,Economics & Econometrics,Chemical Engineering,Law,Education,Other Health'\n",
      " 'Art, Performing Arts & Design,Electrical & Electronic Engineering,Other Health,Languages, Literature & Linguistics,Politics & International Studies (incl Development Studies),General Engineering,Sociology,Computer Science,Biological Sciences,Economics & Econometrics,Education,Business & Management,Psychology,Mathematics & Statistics,Communication & Media Studies,Archaeology,Agriculture & Forestry,History, Philosophy & Theology,Geology, Environmental, Earth & Marine Sciences,Physics & Astronomy,Chemistry'\n",
      " 'Geography,Chemistry,Mathematics & Statistics,Medicine & Dentistry,Computer Science,Education,Economics & Econometrics,Psychology,Sport Science,Politics & International Studies (incl Development Studies),Other Health,Mechanical & Aerospace Engineering,Archaeology,History, Philosophy & Theology,Architecture,Art, Performing Arts & Design,Communication & Media Studies,Civil Engineering,Business & Management,Electrical & Electronic Engineering,Law,Accounting & Finance,Physics & Astronomy,Geology, Environmental, Earth & Marine Sciences,General Engineering,Sociology,Biological Sciences,Languages, Literature & Linguistics'\n",
      " 'General Engineering,Archaeology,Mathematics & Statistics,Psychology,Accounting & Finance,Law,Politics & International Studies (incl Development Studies),History, Philosophy & Theology,Education,Economics & Econometrics,Business & Management,Geography,Geology, Environmental, Earth & Marine Sciences,Electrical & Electronic Engineering,Art, Performing Arts & Design,Chemistry,Sociology,Communication & Media Studies,Mechanical & Aerospace Engineering,Other Health,Biological Sciences,Languages, Literature & Linguistics,Computer Science,Architecture,Agriculture & Forestry,Physics & Astronomy,Sport Science,Civil Engineering,Medicine & Dentistry'\n",
      " 'Archaeology,Sport Science,Accounting & Finance,Computer Science,Physics & Astronomy,Law,History, Philosophy & Theology,Chemical Engineering,Business & Management,Architecture,Biological Sciences,Economics & Econometrics,Languages, Literature & Linguistics,Civil Engineering,Psychology,Medicine & Dentistry,Mathematics & Statistics,Sociology,Electrical & Electronic Engineering,Communication & Media Studies,Art, Performing Arts & Design,Mechanical & Aerospace Engineering,Education,Other Health,Chemistry,Geography,General Engineering,Geology, Environmental, Earth & Marine Sciences,Politics & International Studies (incl Development Studies)'\n",
      " 'Languages, Literature & Linguistics,Medicine & Dentistry,Mathematics & Statistics,Sport Science,Sociology,Biological Sciences,Economics & Econometrics,Electrical & Electronic Engineering,Physics & Astronomy,Law,Other Health,Chemical Engineering,Archaeology,Chemistry,Business & Management,History, Philosophy & Theology,Psychology,Mechanical & Aerospace Engineering,Politics & International Studies (incl Development Studies),Education,Accounting & Finance,Geology, Environmental, Earth & Marine Sciences,Civil Engineering,Communication & Media Studies,General Engineering,Art, Performing Arts & Design,Computer Science,Geography'\n",
      " 'Education,Mechanical & Aerospace Engineering,Geology, Environmental, Earth & Marine Sciences,General Engineering,Physics & Astronomy,Law,Art, Performing Arts & Design,Agriculture & Forestry,Sociology,Economics & Econometrics,Other Health,Civil Engineering,Chemistry,Business & Management,Languages, Literature & Linguistics,Chemical Engineering,Communication & Media Studies,History, Philosophy & Theology,Sport Science,Accounting & Finance,Medicine & Dentistry,Mathematics & Statistics,Psychology,Electrical & Electronic Engineering,Politics & International Studies (incl Development Studies),Computer Science,Veterinary Science,Geography,Archaeology,Biological Sciences'\n",
      " 'Languages, Literature & Linguistics,Other Health,Sociology,Mechanical & Aerospace Engineering,Law,Psychology,General Engineering,Communication & Media Studies,Mathematics & Statistics,Education,Architecture,Biological Sciences,Agriculture & Forestry,History, Philosophy & Theology,Electrical & Electronic Engineering,Physics & Astronomy,Economics & Econometrics,Computer Science,Geology, Environmental, Earth & Marine Sciences,Art, Performing Arts & Design,Sport Science,Geography,Accounting & Finance,Medicine & Dentistry,Chemistry,Business & Management,Civil Engineering,Politics & International Studies (incl Development Studies),Chemical Engineering'\n",
      " 'Biological Sciences,Politics & International Studies (incl Development Studies),Architecture,Chemical Engineering,Law,Languages, Literature & Linguistics,Chemistry,Accounting & Finance,Geology, Environmental, Earth & Marine Sciences,Art, Performing Arts & Design,Mechanical & Aerospace Engineering,Geography,Medicine & Dentistry,Sociology,History, Philosophy & Theology,Agriculture & Forestry,Physics & Astronomy,Economics & Econometrics,Electrical & Electronic Engineering,Mathematics & Statistics,Education,Computer Science,Communication & Media Studies,Business & Management,General Engineering,Civil Engineering,Sport Science,Psychology,Other Health'\n",
      " 'Geography,Chemical Engineering,Computer Science,Mathematics & Statistics,Politics & International Studies (incl Development Studies),Psychology,History, Philosophy & Theology,General Engineering,Economics & Econometrics,Sociology,Business & Management,Medicine & Dentistry,Geology, Environmental, Earth & Marine Sciences,Mechanical & Aerospace Engineering,Law,Electrical & Electronic Engineering,Education,Veterinary Science,Communication & Media Studies,Languages, Literature & Linguistics,Other Health,Chemistry,Accounting & Finance,Physics & Astronomy,Sport Science,Biological Sciences,Architecture,Art, Performing Arts & Design,Civil Engineering'\n",
      " 'Other Health,Mathematics & Statistics,Accounting & Finance,Art, Performing Arts & Design,Chemical Engineering,Education,Biological Sciences,Physics & Astronomy,Computer Science,Geography,History, Philosophy & Theology,Agriculture & Forestry,Psychology,Languages, Literature & Linguistics,Veterinary Science,Business & Management,Archaeology,Law,Civil Engineering,Politics & International Studies (incl Development Studies),General Engineering,Geology, Environmental, Earth & Marine Sciences,Economics & Econometrics,Architecture,Chemistry,Communication & Media Studies'\n",
      " 'Archaeology,Architecture,Economics & Econometrics,Chemical Engineering,Chemistry,History, Philosophy & Theology,Mechanical & Aerospace Engineering,Biological Sciences,Sociology,Psychology,Medicine & Dentistry,Business & Management,Art, Performing Arts & Design,Electrical & Electronic Engineering,Other Health,General Engineering,Mathematics & Statistics,Physics & Astronomy,Education,Geology, Environmental, Earth & Marine Sciences,Computer Science,Sport Science,Geography,Civil Engineering,Communication & Media Studies,Agriculture & Forestry,Languages, Literature & Linguistics,Accounting & Finance,Politics & International Studies (incl Development Studies)'\n",
      " 'Sociology,Mechanical & Aerospace Engineering,Education,Computer Science,Accounting & Finance,General Engineering,Law,Geography,Biological Sciences,Medicine & Dentistry,Chemistry,Art, Performing Arts & Design,Politics & International Studies (incl Development Studies),Business & Management,Mathematics & Statistics,Electrical & Electronic Engineering,Psychology,Economics & Econometrics,History, Philosophy & Theology,Communication & Media Studies,Geology, Environmental, Earth & Marine Sciences,Physics & Astronomy,Languages, Literature & Linguistics,Other Health'\n",
      " 'Physics & Astronomy,Biological Sciences,Sport Science,Mechanical & Aerospace Engineering,Economics & Econometrics,Languages, Literature & Linguistics,Medicine & Dentistry,Sociology,Chemical Engineering,Mathematics & Statistics,Other Health,Law,Politics & International Studies (incl Development Studies),Computer Science,Electrical & Electronic Engineering,Business & Management,Communication & Media Studies,Accounting & Finance,General Engineering,Agriculture & Forestry,Psychology,Chemistry,Education,History, Philosophy & Theology,Architecture,Civil Engineering,Art, Performing Arts & Design'\n",
      " 'Art, Performing Arts & Design,Medicine & Dentistry,Business & Management,Chemical Engineering,Politics & International Studies (incl Development Studies),Sociology,Electrical & Electronic Engineering,Sport Science,Languages, Literature & Linguistics,History, Philosophy & Theology,Physics & Astronomy,Law,Mechanical & Aerospace Engineering,Communication & Media Studies,Economics & Econometrics,Computer Science,Biological Sciences,Accounting & Finance,Civil Engineering,Geography,Architecture,Geology, Environmental, Earth & Marine Sciences,Other Health,Mathematics & Statistics,Psychology,Agriculture & Forestry,General Engineering,Chemistry,Education'\n",
      " 'Sociology,History, Philosophy & Theology,Computer Science,Languages, Literature & Linguistics,Communication & Media Studies,Economics & Econometrics,General Engineering,Mathematics & Statistics,Archaeology,Education,Medicine & Dentistry,Accounting & Finance,Electrical & Electronic Engineering,Mechanical & Aerospace Engineering,Chemical Engineering,Politics & International Studies (incl Development Studies),Psychology,Chemistry,Biological Sciences,Business & Management,Geography,Physics & Astronomy,Other Health,Geology, Environmental, Earth & Marine Sciences,Law,Art, Performing Arts & Design,Sport Science,Civil Engineering'\n",
      " 'Electrical & Electronic Engineering,Chemical Engineering,Politics & International Studies (incl Development Studies),Accounting & Finance,Architecture,Economics & Econometrics,Mechanical & Aerospace Engineering,Mathematics & Statistics,Chemistry,Sport Science,Other Health,Computer Science,Physics & Astronomy,Languages, Literature & Linguistics,Education,General Engineering,Geology, Environmental, Earth & Marine Sciences,Psychology,Civil Engineering,Biological Sciences,Business & Management,Sociology'\n",
      " 'Business & Management,Physics & Astronomy,Sociology,Psychology,Medicine & Dentistry,Languages, Literature & Linguistics,Art, Performing Arts & Design,Communication & Media Studies,General Engineering,History, Philosophy & Theology,Geology, Environmental, Earth & Marine Sciences,Law,Biological Sciences,Computer Science,Education,Politics & International Studies (incl Development Studies),Economics & Econometrics,Chemistry,Mathematics & Statistics,Accounting & Finance'\n",
      " 'Computer Science,Politics & International Studies (incl Development Studies),Physics & Astronomy,Education,Accounting & Finance,Mathematics & Statistics,Economics & Econometrics,Biological Sciences,History, Philosophy & Theology,Languages, Literature & Linguistics,Business & Management,Art, Performing Arts & Design,Sociology,Psychology,Chemistry'\n",
      " 'Politics & International Studies (incl Development Studies),Art, Performing Arts & Design,Biological Sciences,Education,Sociology,Communication & Media Studies,Languages, Literature & Linguistics,Computer Science,History, Philosophy & Theology,Physics & Astronomy,Economics & Econometrics,Mechanical & Aerospace Engineering,Agriculture & Forestry,Business & Management,Mathematics & Statistics,Accounting & Finance,Medicine & Dentistry,Geology, Environmental, Earth & Marine Sciences,Electrical & Electronic Engineering,General Engineering,Chemistry,Chemical Engineering,Psychology,Other Health'\n",
      " 'Chemistry,Art, Performing Arts & Design,Sociology,Psychology,Medicine & Dentistry,Geology, Environmental, Earth & Marine Sciences,Civil Engineering,Law,Communication & Media Studies,General Engineering,Economics & Econometrics,Politics & International Studies (incl Development Studies),Computer Science,Other Health,Mechanical & Aerospace Engineering,Mathematics & Statistics,Geography,Accounting & Finance,Biological Sciences,Languages, Literature & Linguistics,Electrical & Electronic Engineering,Architecture,Sport Science,History, Philosophy & Theology,Business & Management,Education'\n",
      " 'Archaeology,Geology, Environmental, Earth & Marine Sciences,Sport Science,Biological Sciences,Medicine & Dentistry,Chemical Engineering,Accounting & Finance,Education,Communication & Media Studies,Architecture,Sociology,General Engineering,History, Philosophy & Theology,Physics & Astronomy,Law,Mathematics & Statistics,Other Health,Computer Science,Economics & Econometrics,Languages, Literature & Linguistics,Civil Engineering,Politics & International Studies (incl Development Studies),Electrical & Electronic Engineering,Geography,Art, Performing Arts & Design,Business & Management,Chemistry,Mechanical & Aerospace Engineering,Psychology'\n",
      " 'Politics & International Studies (incl Development Studies),Economics & Econometrics,Civil Engineering,Geology, Environmental, Earth & Marine Sciences,Education,General Engineering,Chemistry,Veterinary Science,Other Health,Biological Sciences,Law,Computer Science,Mathematics & Statistics,Accounting & Finance,History, Philosophy & Theology,Physics & Astronomy,Business & Management,Archaeology,Sport Science,Psychology,Electrical & Electronic Engineering,Sociology,Languages, Literature & Linguistics,Communication & Media Studies,Medicine & Dentistry,Agriculture & Forestry'\n",
      " 'Law,General Engineering,Other Health,Civil Engineering,Psychology,Physics & Astronomy,Education,Economics & Econometrics,Sport Science,Biological Sciences,Languages, Literature & Linguistics,Geography,Politics & International Studies (incl Development Studies),Architecture,Mechanical & Aerospace Engineering,Business & Management,Chemistry,Accounting & Finance,Sociology,Geology, Environmental, Earth & Marine Sciences,Art, Performing Arts & Design,Chemical Engineering,Electrical & Electronic Engineering,History, Philosophy & Theology,Mathematics & Statistics,Communication & Media Studies,Computer Science'\n",
      " 'Mechanical & Aerospace Engineering,Communication & Media Studies,Civil Engineering,Politics & International Studies (incl Development Studies),Chemical Engineering,Sociology,History, Philosophy & Theology,Biological Sciences,Economics & Econometrics,Computer Science,Veterinary Science,Business & Management,Languages, Literature & Linguistics,Agriculture & Forestry,Accounting & Finance,Art, Performing Arts & Design,Chemistry,Education,Architecture,Mathematics & Statistics,Psychology,Electrical & Electronic Engineering,Physics & Astronomy,General Engineering,Geology, Environmental, Earth & Marine Sciences'\n",
      " 'Other Health,Chemistry,Psychology,Civil Engineering,Politics & International Studies (incl Development Studies),Accounting & Finance,Languages, Literature & Linguistics,Sport Science,Education,Art, Performing Arts & Design,Mechanical & Aerospace Engineering,Communication & Media Studies,Agriculture & Forestry,History, Philosophy & Theology,General Engineering,Law,Computer Science,Geology, Environmental, Earth & Marine Sciences,Electrical & Electronic Engineering,Business & Management,Chemical Engineering,Sociology,Economics & Econometrics,Biological Sciences,Geography,Medicine & Dentistry,Mathematics & Statistics,Physics & Astronomy'\n",
      " 'Civil Engineering,Politics & International Studies (incl Development Studies),Medicine & Dentistry,Biological Sciences,Education,Art, Performing Arts & Design,Chemical Engineering,Sociology,Electrical & Electronic Engineering,Geology, Environmental, Earth & Marine Sciences,Economics & Econometrics,Psychology,Mechanical & Aerospace Engineering,Communication & Media Studies,Other Health,Mathematics & Statistics,Business & Management,Computer Science,Physics & Astronomy,Languages, Literature & Linguistics,Agriculture & Forestry,Geography,General Engineering,Chemistry,Accounting & Finance,Architecture,Sport Science,Law'\n",
      " 'Computer Science,Geography,History, Philosophy & Theology,Civil Engineering,Politics & International Studies (incl Development Studies),Electrical & Electronic Engineering,Psychology,Languages, Literature & Linguistics,Biological Sciences,Sociology,Archaeology,Physics & Astronomy,Accounting & Finance,General Engineering,Geology, Environmental, Earth & Marine Sciences,Art, Performing Arts & Design,Chemical Engineering,Communication & Media Studies,Economics & Econometrics,Other Health,Mathematics & Statistics,Business & Management,Mechanical & Aerospace Engineering,Education,Medicine & Dentistry,Chemistry'\n",
      " 'Electrical & Electronic Engineering,Chemistry,Languages, Literature & Linguistics,Mathematics & Statistics,Business & Management,History, Philosophy & Theology,Mechanical & Aerospace Engineering,Sociology,Other Health,Chemical Engineering,Psychology,Computer Science,Communication & Media Studies,Medicine & Dentistry,Sport Science,Politics & International Studies (incl Development Studies),Archaeology,Biological Sciences,Geography,Geology, Environmental, Earth & Marine Sciences,Economics & Econometrics,Physics & Astronomy,Education,General Engineering,Civil Engineering,Accounting & Finance,Law'\n",
      " 'Other Health,Geology, Environmental, Earth & Marine Sciences,Languages, Literature & Linguistics,Biological Sciences,Geography,Architecture,Sport Science,Economics & Econometrics,Electrical & Electronic Engineering,Politics & International Studies (incl Development Studies),Computer Science,Physics & Astronomy,Business & Management,History, Philosophy & Theology,Agriculture & Forestry,Sociology,Art, Performing Arts & Design,Mechanical & Aerospace Engineering,Communication & Media Studies,Education,Civil Engineering,Law,General Engineering,Mathematics & Statistics,Psychology,Medicine & Dentistry,Chemistry,Accounting & Finance'\n",
      " 'Art, Performing Arts & Design,Business & Management,Sport Science,Law,Agriculture & Forestry,Architecture,Biological Sciences,General Engineering,Chemistry,Chemical Engineering,Archaeology,Mechanical & Aerospace Engineering,Geography,Politics & International Studies (incl Development Studies),Civil Engineering,Computer Science,Sociology,Mathematics & Statistics,History, Philosophy & Theology,Economics & Econometrics,Medicine & Dentistry,Geology, Environmental, Earth & Marine Sciences,Physics & Astronomy,Education,Languages, Literature & Linguistics,Psychology,Other Health,Accounting & Finance,Electrical & Electronic Engineering,Communication & Media Studies'\n",
      " 'Physics & Astronomy,Business & Management,Chemistry,Sport Science,Communication & Media Studies,Economics & Econometrics,Mathematics & Statistics,Chemical Engineering,Architecture,Mechanical & Aerospace Engineering,Geology, Environmental, Earth & Marine Sciences,Art, Performing Arts & Design,Law,Veterinary Science,Politics & International Studies (incl Development Studies),Languages, Literature & Linguistics,Other Health,Accounting & Finance,Electrical & Electronic Engineering,History, Philosophy & Theology,Civil Engineering,Medicine & Dentistry,Computer Science,General Engineering,Agriculture & Forestry,Psychology,Biological Sciences,Sociology'\n",
      " 'General Engineering,Chemistry,Architecture,Agriculture & Forestry,Psychology,Languages, Literature & Linguistics,Electrical & Electronic Engineering,Communication & Media Studies,Business & Management,Other Health,Veterinary Science,Sociology,Medicine & Dentistry,Chemical Engineering,Geology, Environmental, Earth & Marine Sciences,Economics & Econometrics,Computer Science,Physics & Astronomy,History, Philosophy & Theology,Sport Science,Law,Civil Engineering,Politics & International Studies (incl Development Studies),Mechanical & Aerospace Engineering,Mathematics & Statistics,Accounting & Finance,Art, Performing Arts & Design,Biological Sciences,Education'\n",
      " 'Politics & International Studies (incl Development Studies),Biological Sciences,Sociology,Art, Performing Arts & Design,History, Philosophy & Theology,Languages, Literature & Linguistics,Communication & Media Studies,Computer Science,Psychology,Economics & Econometrics,Sport Science,Business & Management,Mathematics & Statistics,General Engineering,Other Health,Accounting & Finance,Electrical & Electronic Engineering,Law'\n",
      " 'Psychology,Medicine & Dentistry,Chemistry,Biological Sciences,Other Health'\n",
      " 'History, Philosophy & Theology,Sociology,Electrical & Electronic Engineering,Business & Management,Law,Computer Science,Politics & International Studies (incl Development Studies),Languages, Literature & Linguistics,Mathematics & Statistics,Accounting & Finance,Art, Performing Arts & Design,Biological Sciences,Psychology,Geology, Environmental, Earth & Marine Sciences,Geography,Archaeology,Physics & Astronomy,Other Health,Communication & Media Studies,Economics & Econometrics'\n",
      " 'Medicine & Dentistry,Other Health'\n",
      " 'Mechanical & Aerospace Engineering,General Engineering,Civil Engineering,Architecture,Economics & Econometrics,Sport Science,History, Philosophy & Theology,Art, Performing Arts & Design,Sociology,Law,Accounting & Finance,Business & Management,Other Health,Communication & Media Studies,Geology, Environmental, Earth & Marine Sciences,Computer Science,Electrical & Electronic Engineering,Psychology,Languages, Literature & Linguistics,Mathematics & Statistics,Biological Sciences,Medicine & Dentistry,Education'\n",
      " 'History, Philosophy & Theology,Agriculture & Forestry,Geology, Environmental, Earth & Marine Sciences,Economics & Econometrics,Art, Performing Arts & Design,General Engineering,Communication & Media Studies,Civil Engineering,Sociology,Electrical & Electronic Engineering,Politics & International Studies (incl Development Studies),Other Health,Mathematics & Statistics,Psychology,Sport Science,Education,Languages, Literature & Linguistics,Biological Sciences,Business & Management,Computer Science,Chemical Engineering,Geography,Mechanical & Aerospace Engineering,Chemistry,Law,Architecture,Physics & Astronomy,Accounting & Finance'\n",
      " 'Archaeology,Medicine & Dentistry,Chemical Engineering,Politics & International Studies (incl Development Studies),Other Health,Mathematics & Statistics,Education,Mechanical & Aerospace Engineering,Sport Science,Architecture,Civil Engineering,Geography,General Engineering,Chemistry,Economics & Econometrics,History, Philosophy & Theology,Veterinary Science,Psychology,Art, Performing Arts & Design,Electrical & Electronic Engineering,Geology, Environmental, Earth & Marine Sciences,Accounting & Finance,Languages, Literature & Linguistics,Agriculture & Forestry,Communication & Media Studies,Business & Management,Computer Science,Physics & Astronomy,Biological Sciences,Sociology'\n",
      " 'Civil Engineering,Psychology,Biological Sciences,Accounting & Finance,Art, Performing Arts & Design,Sport Science,Business & Management,Computer Science,Law,Other Health,Geology, Environmental, Earth & Marine Sciences,Geography,Languages, Literature & Linguistics,Mechanical & Aerospace Engineering,Education,General Engineering,Communication & Media Studies,History, Philosophy & Theology,Electrical & Electronic Engineering,Politics & International Studies (incl Development Studies),Medicine & Dentistry,Mathematics & Statistics,Economics & Econometrics,Chemical Engineering,Sociology'\n",
      " 'Mechanical & Aerospace Engineering,Economics & Econometrics,Sociology,Languages, Literature & Linguistics,Other Health,General Engineering,History, Philosophy & Theology,Art, Performing Arts & Design,Computer Science,Communication & Media Studies,Accounting & Finance,Business & Management,Electrical & Electronic Engineering,Politics & International Studies (incl Development Studies),Psychology,Law,Mathematics & Statistics,Civil Engineering'\n",
      " 'Physics & Astronomy,Languages, Literature & Linguistics,Psychology,Art, Performing Arts & Design,Agriculture & Forestry,Education,Sociology,Biological Sciences,Mechanical & Aerospace Engineering,Business & Management,Archaeology,Mathematics & Statistics,Computer Science,Other Health,Geography,Economics & Econometrics,History, Philosophy & Theology,Electrical & Electronic Engineering,Chemistry,Architecture,Civil Engineering,Accounting & Finance,Communication & Media Studies,Politics & International Studies (incl Development Studies),Geology, Environmental, Earth & Marine Sciences,Medicine & Dentistry'\n",
      " 'Architecture,Biological Sciences,Law,Medicine & Dentistry,Agriculture & Forestry,Sociology,General Engineering,Communication & Media Studies,Accounting & Finance,Art, Performing Arts & Design,Chemical Engineering,Mathematics & Statistics,Business & Management,Languages, Literature & Linguistics,Other Health,Sport Science,Education,Computer Science,Physics & Astronomy,Psychology,Archaeology,Veterinary Science,Mechanical & Aerospace Engineering,Geology, Environmental, Earth & Marine Sciences,Electrical & Electronic Engineering,Chemistry,History, Philosophy & Theology,Civil Engineering,Politics & International Studies (incl Development Studies),Geography,Economics & Econometrics'\n",
      " 'Medicine & Dentistry,Chemistry,Accounting & Finance,Languages, Literature & Linguistics,Architecture,Agriculture & Forestry,Politics & International Studies (incl Development Studies),Civil Engineering,Mathematics & Statistics,Art, Performing Arts & Design,Chemical Engineering,Geology, Environmental, Earth & Marine Sciences,Law,History, Philosophy & Theology,Electrical & Electronic Engineering,Geography,Mechanical & Aerospace Engineering,Veterinary Science,Psychology,Other Health,Sport Science,Education,General Engineering,Biological Sciences,Sociology,Business & Management,Archaeology,Communication & Media Studies,Computer Science,Physics & Astronomy,Economics & Econometrics'\n",
      " 'Art, Performing Arts & Design,Chemical Engineering,Geology, Environmental, Earth & Marine Sciences,Civil Engineering,Accounting & Finance,Languages, Literature & Linguistics,Physics & Astronomy,General Engineering,Geography,Computer Science,Business & Management,Electrical & Electronic Engineering,Economics & Econometrics,Biological Sciences,Mechanical & Aerospace Engineering,Chemistry,Mathematics & Statistics,Psychology,Architecture,Sport Science,Agriculture & Forestry'\n",
      " 'Civil Engineering,Chemical Engineering,History, Philosophy & Theology,Mechanical & Aerospace Engineering,Economics & Econometrics,Law,Biological Sciences,Business & Management,Other Health,Politics & International Studies (incl Development Studies),Communication & Media Studies,Art, Performing Arts & Design,General Engineering,Chemistry,Psychology,Accounting & Finance,Mathematics & Statistics,Physics & Astronomy,Electrical & Electronic Engineering,Architecture,Geology, Environmental, Earth & Marine Sciences,Sociology,Computer Science,Education'\n",
      " 'Sport Science,Mechanical & Aerospace Engineering,Medicine & Dentistry,Communication & Media Studies,Agriculture & Forestry,Electrical & Electronic Engineering,Languages, Literature & Linguistics,Sociology,Psychology,Law,Civil Engineering,Politics & International Studies (incl Development Studies),Veterinary Science,Physics & Astronomy,Architecture,Education,Computer Science,Geology, Environmental, Earth & Marine Sciences,Accounting & Finance,Chemical Engineering,Economics & Econometrics,Other Health,Mathematics & Statistics,General Engineering,Business & Management,History, Philosophy & Theology,Biological Sciences,Art, Performing Arts & Design,Chemistry'\n",
      " 'History, Philosophy & Theology,Electrical & Electronic Engineering,Civil Engineering,Chemistry,Economics & Econometrics,Computer Science,Physics & Astronomy,Other Health,Biological Sciences,Law,Chemical Engineering,Politics & International Studies (incl Development Studies),Languages, Literature & Linguistics,Veterinary Science,Psychology,Archaeology,Sport Science,Education,General Engineering,Mathematics & Statistics,Business & Management,Medicine & Dentistry,Agriculture & Forestry,Sociology,Art, Performing Arts & Design,Mechanical & Aerospace Engineering,Geography,Geology, Environmental, Earth & Marine Sciences,Accounting & Finance'\n",
      " 'Computer Science,History, Philosophy & Theology,Other Health,Geology, Environmental, Earth & Marine Sciences,Economics & Econometrics,Civil Engineering,Politics & International Studies (incl Development Studies),Languages, Literature & Linguistics,Chemical Engineering,Law,Art, Performing Arts & Design,Mechanical & Aerospace Engineering,Chemistry,Electrical & Electronic Engineering,Sport Science,Business & Management,General Engineering,Communication & Media Studies,Psychology,Biological Sciences,Sociology,Accounting & Finance,Architecture,Agriculture & Forestry,Geography,Medicine & Dentistry,Mathematics & Statistics,Education,Physics & Astronomy'\n",
      " 'Mechanical & Aerospace Engineering,Geography,Medicine & Dentistry,Biological Sciences,Psychology,Art, Performing Arts & Design,Computer Science,Physics & Astronomy,Economics & Econometrics,Architecture,Sport Science,Law,History, Philosophy & Theology,Agriculture & Forestry,Sociology,Archaeology,Civil Engineering,Education,General Engineering,Geology, Environmental, Earth & Marine Sciences,Accounting & Finance,Electrical & Electronic Engineering,Chemistry,Languages, Literature & Linguistics,Chemical Engineering,Politics & International Studies (incl Development Studies),Other Health,Mathematics & Statistics,Business & Management'\n",
      " 'Geography,Other Health,Politics & International Studies (incl Development Studies),Veterinary Science,Civil Engineering,Languages, Literature & Linguistics,Education,Agriculture & Forestry,Mechanical & Aerospace Engineering,General Engineering,Accounting & Finance,Mathematics & Statistics,Sport Science,Business & Management,Art, Performing Arts & Design,Archaeology,Law,Physics & Astronomy,Medicine & Dentistry,Geology, Environmental, Earth & Marine Sciences,Chemistry,Computer Science,Economics & Econometrics,Psychology,Electrical & Electronic Engineering,Sociology,Biological Sciences,Chemical Engineering,History, Philosophy & Theology'\n",
      " 'Computer Science,Mechanical & Aerospace Engineering,Politics & International Studies (incl Development Studies),Architecture,Communication & Media Studies,Psychology,Mathematics & Statistics,Education,Other Health,Biological Sciences,Business & Management,History, Philosophy & Theology,Chemistry,Sociology,Art, Performing Arts & Design,Sport Science,Law,Medicine & Dentistry,Geology, Environmental, Earth & Marine Sciences,Electrical & Electronic Engineering,Agriculture & Forestry,General Engineering,Civil Engineering,Geography,Economics & Econometrics,Languages, Literature & Linguistics,Physics & Astronomy,Accounting & Finance'\n",
      " 'Art, Performing Arts & Design,Politics & International Studies (incl Development Studies),Economics & Econometrics,Geology, Environmental, Earth & Marine Sciences,Communication & Media Studies,Law,Sport Science,Computer Science,Chemistry,Mechanical & Aerospace Engineering,Civil Engineering,Mathematics & Statistics,Archaeology,Other Health,Psychology,Education,Languages, Literature & Linguistics,Geography,Biological Sciences,Electrical & Electronic Engineering,Business & Management,Physics & Astronomy,History, Philosophy & Theology,Accounting & Finance,Sociology,General Engineering'\n",
      " 'Economics & Econometrics,Biological Sciences,Mechanical & Aerospace Engineering,Civil Engineering,History, Philosophy & Theology,Languages, Literature & Linguistics,Mathematics & Statistics,Psychology,Chemistry,Chemical Engineering,Law,Politics & International Studies (incl Development Studies),Other Health,General Engineering,Computer Science,Electrical & Electronic Engineering,Sociology,Accounting & Finance,Medicine & Dentistry,Business & Management'\n",
      " 'Communication & Media Studies,Other Health,History, Philosophy & Theology,Computer Science,Accounting & Finance,Law,Languages, Literature & Linguistics,Psychology,Mathematics & Statistics,Sport Science,Sociology,Business & Management,Politics & International Studies (incl Development Studies),Art, Performing Arts & Design,Biological Sciences,Education'\n",
      " 'Computer Science,Geography,Politics & International Studies (incl Development Studies),History, Philosophy & Theology,Education,Law,Art, Performing Arts & Design,Sport Science,Languages, Literature & Linguistics,Communication & Media Studies,Other Health,Biological Sciences,Business & Management,Agriculture & Forestry,Economics & Econometrics,Archaeology,Electrical & Electronic Engineering,Accounting & Finance,Sociology,Geology, Environmental, Earth & Marine Sciences,Psychology'\n",
      " 'Sport Science,Psychology,History, Philosophy & Theology,Business & Management,Mathematics & Statistics,Politics & International Studies (incl Development Studies),Architecture,Communication & Media Studies,Medicine & Dentistry,Law,Economics & Econometrics,Art, Performing Arts & Design,Other Health,Sociology,Accounting & Finance,Biological Sciences,Languages, Literature & Linguistics'\n",
      " 'General Engineering,Archaeology,Politics & International Studies (incl Development Studies),Economics & Econometrics,Art, Performing Arts & Design,Agriculture & Forestry,Education,Computer Science,Law,Mechanical & Aerospace Engineering,Psychology,Languages, Literature & Linguistics,Sociology,Chemistry,Sport Science,Medicine & Dentistry,Biological Sciences,Business & Management,History, Philosophy & Theology,Communication & Media Studies,Accounting & Finance,Other Health,Geology, Environmental, Earth & Marine Sciences,Electrical & Electronic Engineering,Geography'\n",
      " 'Electrical & Electronic Engineering,Business & Management,Psychology,Civil Engineering,Mechanical & Aerospace Engineering,Mathematics & Statistics,Chemistry,General Engineering,Languages, Literature & Linguistics,Geology, Environmental, Earth & Marine Sciences,Art, Performing Arts & Design,Sociology,Politics & International Studies (incl Development Studies),Physics & Astronomy,Economics & Econometrics,Other Health,Biological Sciences,History, Philosophy & Theology'\n",
      " 'Languages, Literature & Linguistics,Medicine & Dentistry,Accounting & Finance,Economics & Econometrics,Sport Science,Chemistry,History, Philosophy & Theology,Physics & Astronomy,Art, Performing Arts & Design,Computer Science,Geology, Environmental, Earth & Marine Sciences,Biological Sciences,Sociology,Communication & Media Studies,Politics & International Studies (incl Development Studies),Electrical & Electronic Engineering,General Engineering,Education,Other Health,Mechanical & Aerospace Engineering,Business & Management,Mathematics & Statistics,Psychology,Civil Engineering'\n",
      " 'Law,Agriculture & Forestry,Sport Science,Medicine & Dentistry,Communication & Media Studies,Architecture,Languages, Literature & Linguistics,Biological Sciences,Sociology,Business & Management,Other Health,Electrical & Electronic Engineering,Art, Performing Arts & Design,Education,Civil Engineering,Accounting & Finance,Computer Science,Politics & International Studies (incl Development Studies),History, Philosophy & Theology,Psychology,Mechanical & Aerospace Engineering'\n",
      " 'Languages, Literature & Linguistics,Agriculture & Forestry,Veterinary Science,Accounting & Finance,Other Health,Mathematics & Statistics,Economics & Econometrics,Biological Sciences,Sport Science,Education,History, Philosophy & Theology,Chemical Engineering,Geography,Computer Science,Physics & Astronomy,Psychology,Electrical & Electronic Engineering,Communication & Media Studies,Business & Management,General Engineering,Chemistry,Archaeology,Geology, Environmental, Earth & Marine Sciences,Art, Performing Arts & Design,Civil Engineering,Sociology,Mechanical & Aerospace Engineering,Politics & International Studies (incl Development Studies)'\n",
      " 'Computer Science,Communication & Media Studies,Veterinary Science,Civil Engineering,Mathematics & Statistics,Politics & International Studies (incl Development Studies),Chemistry,Geography,Architecture,Business & Management,Chemical Engineering,History, Philosophy & Theology,Other Health,Geology, Environmental, Earth & Marine Sciences,Accounting & Finance,Sport Science,General Engineering,Psychology,Art, Performing Arts & Design,Mechanical & Aerospace Engineering,Physics & Astronomy,Electrical & Electronic Engineering,Languages, Literature & Linguistics,Education,Agriculture & Forestry,Economics & Econometrics,Sociology,Biological Sciences'\n",
      " 'Languages, Literature & Linguistics,Civil Engineering,Education,Other Health,Chemistry,Business & Management,General Engineering,Geology, Environmental, Earth & Marine Sciences,Computer Science,Communication & Media Studies,Physics & Astronomy,Accounting & Finance,Sport Science,Psychology,Mathematics & Statistics,Law,Economics & Econometrics,Art, Performing Arts & Design,Mechanical & Aerospace Engineering,Politics & International Studies (incl Development Studies),History, Philosophy & Theology,Biological Sciences,Sociology,Electrical & Electronic Engineering,Geography'\n",
      " 'Computer Science,Education,Biological Sciences,Geography,Chemistry,Accounting & Finance,Communication & Media Studies,Art, Performing Arts & Design,Sport Science,Law,Medicine & Dentistry,Sociology,Physics & Astronomy,Business & Management,Other Health,Languages, Literature & Linguistics,Politics & International Studies (incl Development Studies),History, Philosophy & Theology,Geology, Environmental, Earth & Marine Sciences,Economics & Econometrics,Mathematics & Statistics,Psychology'\n",
      " 'Law,History, Philosophy & Theology,Education,Art, Performing Arts & Design,Psychology,Computer Science,Economics & Econometrics,Communication & Media Studies,Languages, Literature & Linguistics,Business & Management,Politics & International Studies (incl Development Studies),Other Health,Sociology'\n",
      " 'General Engineering,Geology, Environmental, Earth & Marine Sciences,Architecture,Physics & Astronomy,Accounting & Finance,Computer Science,Chemistry,Electrical & Electronic Engineering,Other Health,Mathematics & Statistics,Economics & Econometrics,Agriculture & Forestry,Politics & International Studies (incl Development Studies),Chemical Engineering,Mechanical & Aerospace Engineering,Communication & Media Studies,Civil Engineering,Languages, Literature & Linguistics,Sport Science,Business & Management,Biological Sciences,Sociology,History, Philosophy & Theology,Psychology,Art, Performing Arts & Design,Veterinary Science,Geography'\n",
      " 'Mechanical & Aerospace Engineering,Politics & International Studies (incl Development Studies),Other Health,Geology, Environmental, Earth & Marine Sciences,Art, Performing Arts & Design,Chemical Engineering,Law,Medicine & Dentistry,Sport Science,Accounting & Finance,General Engineering,Chemistry,Education,Computer Science,Mathematics & Statistics,Psychology,Electrical & Electronic Engineering,Communication & Media Studies,Economics & Econometrics,History, Philosophy & Theology,Physics & Astronomy,Business & Management,Languages, Literature & Linguistics,Biological Sciences,Sociology,Archaeology,Civil Engineering,Geography'\n",
      " 'Geology, Environmental, Earth & Marine Sciences,Sociology,Chemistry,Geography,Art, Performing Arts & Design,Communication & Media Studies,History, Philosophy & Theology,Education,Mechanical & Aerospace Engineering,Sport Science,Architecture,Accounting & Finance,Politics & International Studies (incl Development Studies),Medicine & Dentistry,Veterinary Science,Biological Sciences,Business & Management,Civil Engineering,Law,Chemical Engineering,Computer Science,Physics & Astronomy,Agriculture & Forestry,Electrical & Electronic Engineering,Languages, Literature & Linguistics,Economics & Econometrics,Other Health,General Engineering,Psychology,Mathematics & Statistics'\n",
      " 'Sociology,Architecture,Sport Science,Geology, Environmental, Earth & Marine Sciences,Business & Management,Accounting & Finance,Computer Science,Agriculture & Forestry,Economics & Econometrics,Biological Sciences'\n",
      " 'Archaeology,Medicine & Dentistry,Geology, Environmental, Earth & Marine Sciences,Education,Veterinary Science,Psychology,Geography,Mathematics & Statistics,Economics & Econometrics,General Engineering,Other Health,Electrical & Electronic Engineering,Business & Management,Mechanical & Aerospace Engineering,Chemistry,Communication & Media Studies,Law,Chemical Engineering,Art, Performing Arts & Design,Architecture,Sport Science,Politics & International Studies (incl Development Studies),History, Philosophy & Theology,Agriculture & Forestry,Accounting & Finance,Sociology,Physics & Astronomy,Languages, Literature & Linguistics,Computer Science,Civil Engineering,Biological Sciences'\n",
      " 'Art, Performing Arts & Design,Mechanical & Aerospace Engineering,Languages, Literature & Linguistics,Electrical & Electronic Engineering,Sociology,Other Health,Veterinary Science,Psychology,Medicine & Dentistry,Biological Sciences,Law,History, Philosophy & Theology,General Engineering,Physics & Astronomy,Business & Management,Civil Engineering,Communication & Media Studies,Agriculture & Forestry,Politics & International Studies (incl Development Studies),Chemical Engineering,Chemistry,Archaeology,Sport Science,Geography,Accounting & Finance,Computer Science,Mathematics & Statistics,Education,Economics & Econometrics,Geology, Environmental, Earth & Marine Sciences'\n",
      " 'Education,Chemical Engineering,Agriculture & Forestry,Mathematics & Statistics,Politics & International Studies (incl Development Studies),Business & Management,Biological Sciences,Art, Performing Arts & Design,Mechanical & Aerospace Engineering,General Engineering,Civil Engineering,Sociology,Languages, Literature & Linguistics,Computer Science,Physics & Astronomy,Electrical & Electronic Engineering,Other Health,History, Philosophy & Theology,Architecture,Chemistry,Law'\n",
      " 'Chemical Engineering,Biological Sciences,Communication & Media Studies,Education,Politics & International Studies (incl Development Studies),Geology, Environmental, Earth & Marine Sciences,Archaeology,Art, Performing Arts & Design,Mathematics & Statistics,Business & Management,Computer Science,Geography,Chemistry,Languages, Literature & Linguistics,Sociology,History, Philosophy & Theology,Architecture,Physics & Astronomy,Psychology,Sport Science,Economics & Econometrics,Accounting & Finance,Law'\n",
      " 'Electrical & Electronic Engineering,Law,Other Health,Communication & Media Studies,Languages, Literature & Linguistics,Computer Science,Geography,Mechanical & Aerospace Engineering,Psychology,Geology, Environmental, Earth & Marine Sciences,Economics & Econometrics,Civil Engineering,Accounting & Finance,Art, Performing Arts & Design,Mathematics & Statistics,Sociology,Medicine & Dentistry,Politics & International Studies (incl Development Studies),Architecture,Biological Sciences,Business & Management,History, Philosophy & Theology,Chemistry,Education'\n",
      " 'Medicine & Dentistry,Sport Science,Computer Science,Physics & Astronomy,Psychology,Art, Performing Arts & Design,Biological Sciences,Education,Mechanical & Aerospace Engineering,Politics & International Studies (incl Development Studies),Languages, Literature & Linguistics,Chemical Engineering,Law,Other Health,Geology, Environmental, Earth & Marine Sciences,Accounting & Finance,Architecture,Mathematics & Statistics,Economics & Econometrics,General Engineering,Communication & Media Studies,Business & Management,Electrical & Electronic Engineering,Sociology,History, Philosophy & Theology,Civil Engineering,Geography'\n",
      " 'Sociology,Politics & International Studies (incl Development Studies),Civil Engineering,Biological Sciences,Geology, Environmental, Earth & Marine Sciences,Computer Science,Communication & Media Studies,Mathematics & Statistics,Architecture,History, Philosophy & Theology,Agriculture & Forestry,Education,Geography,Physics & Astronomy,Archaeology,Electrical & Electronic Engineering,Accounting & Finance,Economics & Econometrics,Psychology,Chemical Engineering,Sport Science,General Engineering,Law,Art, Performing Arts & Design,Veterinary Science,Other Health,Mechanical & Aerospace Engineering,Languages, Literature & Linguistics,Business & Management,Medicine & Dentistry,Chemistry'\n",
      " 'Art, Performing Arts & Design,General Engineering,History, Philosophy & Theology,Electrical & Electronic Engineering,Law,Economics & Econometrics,Psychology,Physics & Astronomy,Other Health,Architecture,Agriculture & Forestry,Chemical Engineering,Mathematics & Statistics,Mechanical & Aerospace Engineering,Biological Sciences,Civil Engineering,Communication & Media Studies,Geology, Environmental, Earth & Marine Sciences,Computer Science,Chemistry,Business & Management'\n",
      " 'Veterinary Science,Biological Sciences'\n",
      " 'Law,Psychology,Sociology,History, Philosophy & Theology,Electrical & Electronic Engineering,Computer Science,Languages, Literature & Linguistics,Geology, Environmental, Earth & Marine Sciences,Geography,Politics & International Studies (incl Development Studies),Agriculture & Forestry,Mechanical & Aerospace Engineering,Business & Management,Accounting & Finance,Education,Economics & Econometrics,Communication & Media Studies,Sport Science,Medicine & Dentistry,General Engineering,Art, Performing Arts & Design,Civil Engineering,Biological Sciences,Other Health'\n",
      " 'Civil Engineering,Psychology,Medicine & Dentistry,Biological Sciences,Geography,Computer Science,Geology, Environmental, Earth & Marine Sciences,Other Health,Chemistry,Accounting & Finance,Languages, Literature & Linguistics,Chemical Engineering,Education,Electrical & Electronic Engineering,Politics & International Studies (incl Development Studies),Business & Management,History, Philosophy & Theology,Mathematics & Statistics,Law,Art, Performing Arts & Design,Sport Science,Sociology,Mechanical & Aerospace Engineering,Communication & Media Studies,General Engineering,Physics & Astronomy,Economics & Econometrics'\n",
      " 'Chemistry,Civil Engineering,Electrical & Electronic Engineering,History, Philosophy & Theology,Biological Sciences,Languages, Literature & Linguistics,Mathematics & Statistics,Mechanical & Aerospace Engineering,Art, Performing Arts & Design,Physics & Astronomy,Other Health,Chemical Engineering,Business & Management,General Engineering,Geology, Environmental, Earth & Marine Sciences,Computer Science,Sociology'\n",
      " 'Languages, Literature & Linguistics,Mechanical & Aerospace Engineering,Sport Science,Civil Engineering,Physics & Astronomy,Business & Management,Other Health,Mathematics & Statistics,Psychology,Computer Science,Biological Sciences,Education,Architecture,Chemistry,Geography,Economics & Econometrics,History, Philosophy & Theology,Law,Electrical & Electronic Engineering,Geology, Environmental, Earth & Marine Sciences,Chemical Engineering,Sociology,General Engineering,Communication & Media Studies,Accounting & Finance,Art, Performing Arts & Design,Agriculture & Forestry,Politics & International Studies (incl Development Studies)'\n",
      " 'Architecture,Chemical Engineering,Education,Computer Science,Communication & Media Studies,Accounting & Finance,Physics & Astronomy,Economics & Econometrics,Other Health,Chemistry,Psychology,General Engineering,Geology, Environmental, Earth & Marine Sciences,Art, Performing Arts & Design,Agriculture & Forestry,Law,History, Philosophy & Theology,Sport Science,Medicine & Dentistry,Mathematics & Statistics,Sociology,Languages, Literature & Linguistics,Biological Sciences,Business & Management,Mechanical & Aerospace Engineering,Politics & International Studies (incl Development Studies)'\n",
      " 'Architecture,Politics & International Studies (incl Development Studies),History, Philosophy & Theology,Psychology,Biological Sciences,Law,Art, Performing Arts & Design,Chemistry,Accounting & Finance,Physics & Astronomy,Education,Electrical & Electronic Engineering,Geography,Other Health,Communication & Media Studies,Geology, Environmental, Earth & Marine Sciences,Economics & Econometrics,Languages, Literature & Linguistics,Mathematics & Statistics,Business & Management,Computer Science,Sociology'\n",
      " 'Chemistry,Other Health,General Engineering,Medicine & Dentistry,Chemical Engineering,Business & Management,Electrical & Electronic Engineering,Art, Performing Arts & Design,Accounting & Finance,Civil Engineering,Sport Science,Physics & Astronomy,Mechanical & Aerospace Engineering,Computer Science,Sociology,Agriculture & Forestry,Education,Psychology,Communication & Media Studies,Politics & International Studies (incl Development Studies),Languages, Literature & Linguistics,Economics & Econometrics,Mathematics & Statistics,History, Philosophy & Theology,Biological Sciences'\n",
      " 'Languages, Literature & Linguistics,Physics & Astronomy,Psychology,History, Philosophy & Theology,Sport Science,Economics & Econometrics,Agriculture & Forestry,Geography,Other Health,Biological Sciences,Education,Mechanical & Aerospace Engineering,Politics & International Studies (incl Development Studies),General Engineering,Geology, Environmental, Earth & Marine Sciences,Business & Management,Electrical & Electronic Engineering,Communication & Media Studies,Civil Engineering,Chemistry,Accounting & Finance,Computer Science,Mathematics & Statistics,Law,Art, Performing Arts & Design,Chemical Engineering,Sociology'\n",
      " 'Medicine & Dentistry,Communication & Media Studies,Physics & Astronomy,Accounting & Finance,History, Philosophy & Theology,Business & Management,Art, Performing Arts & Design,Mathematics & Statistics,Languages, Literature & Linguistics,Sport Science,Sociology,Biological Sciences,Psychology,Chemistry,Economics & Econometrics,General Engineering,Geology, Environmental, Earth & Marine Sciences,Education,Computer Science,Politics & International Studies (incl Development Studies),Other Health,Law'\n",
      " 'Economics & Econometrics,Communication & Media Studies,Electrical & Electronic Engineering,Sport Science,Education,History, Philosophy & Theology,Law,Business & Management,Mathematics & Statistics,Veterinary Science,Biological Sciences,Accounting & Finance,Physics & Astronomy,Sociology,Agriculture & Forestry,Politics & International Studies (incl Development Studies),Geography,Other Health,Geology, Environmental, Earth & Marine Sciences,Computer Science,Art, Performing Arts & Design,Languages, Literature & Linguistics,Psychology'\n",
      " 'Other Health,Physics & Astronomy,Psychology,Computer Science,Communication & Media Studies,Electrical & Electronic Engineering,Veterinary Science,Economics & Econometrics,Mechanical & Aerospace Engineering,Mathematics & Statistics,Business & Management,Languages, Literature & Linguistics,Geology, Environmental, Earth & Marine Sciences,Accounting & Finance,General Engineering,Biological Sciences,Education,History, Philosophy & Theology,Civil Engineering,Sociology,Architecture,Politics & International Studies (incl Development Studies),Art, Performing Arts & Design,Agriculture & Forestry,Chemistry,Chemical Engineering,Geography'\n",
      " 'Business & Management,Languages, Literature & Linguistics,Politics & International Studies (incl Development Studies),Civil Engineering,Other Health,Computer Science,Electrical & Electronic Engineering,Medicine & Dentistry,Education,Veterinary Science,History, Philosophy & Theology,Communication & Media Studies,Sport Science,Accounting & Finance,Biological Sciences,Sociology,Architecture,Art, Performing Arts & Design,Geography,Psychology,Mechanical & Aerospace Engineering,Law,General Engineering,Chemistry'\n",
      " 'General Engineering,Languages, Literature & Linguistics,Veterinary Science,Architecture,Sport Science,Geography,Computer Science,Chemistry,Business & Management,Other Health,Civil Engineering,Psychology,Electrical & Electronic Engineering,Mathematics & Statistics,Education,Art, Performing Arts & Design,Biological Sciences,Politics & International Studies (incl Development Studies),Medicine & Dentistry,Agriculture & Forestry,Law,Mechanical & Aerospace Engineering,Geology, Environmental, Earth & Marine Sciences,Economics & Econometrics,History, Philosophy & Theology,Chemical Engineering,Communication & Media Studies,Physics & Astronomy,Accounting & Finance,Sociology'\n",
      " 'Psychology,Chemical Engineering,Electrical & Electronic Engineering,Biological Sciences,Mathematics & Statistics,Archaeology,Law,Architecture,Communication & Media Studies,Civil Engineering,Chemistry,Computer Science,Other Health,Education,Politics & International Studies (incl Development Studies),Sociology,Sport Science,General Engineering,Mechanical & Aerospace Engineering,Accounting & Finance,Medicine & Dentistry,Business & Management'\n",
      " 'Other Health,Medicine & Dentistry'\n",
      " 'Computer Science,Physics & Astronomy,Business & Management,Electrical & Electronic Engineering,Mathematics & Statistics,Accounting & Finance,Archaeology,Veterinary Science,Psychology,Medicine & Dentistry,Chemical Engineering,Sociology,Other Health,Sport Science,Politics & International Studies (incl Development Studies),Languages, Literature & Linguistics,Biological Sciences,Law,Economics & Econometrics,History, Philosophy & Theology,Civil Engineering,Communication & Media Studies,Art, Performing Arts & Design,General Engineering,Chemistry,Education,Architecture,Agriculture & Forestry,Geography,Mechanical & Aerospace Engineering,Geology, Environmental, Earth & Marine Sciences'\n",
      " 'Electrical & Electronic Engineering,Computer Science,History, Philosophy & Theology,Agriculture & Forestry,Civil Engineering,Communication & Media Studies,Languages, Literature & Linguistics,Chemical Engineering,Politics & International Studies (incl Development Studies),Chemistry,Business & Management,Law,Geology, Environmental, Earth & Marine Sciences,Geography,Veterinary Science,Economics & Econometrics,Biological Sciences,Sport Science,Art, Performing Arts & Design,General Engineering,Psychology,Accounting & Finance,Physics & Astronomy,Archaeology,Sociology,Architecture,Mathematics & Statistics,Mechanical & Aerospace Engineering'\n",
      " 'History, Philosophy & Theology,Art, Performing Arts & Design,Chemical Engineering,Psychology,Chemistry,Economics & Econometrics,Civil Engineering,Accounting & Finance,Computer Science,Mathematics & Statistics,Politics & International Studies (incl Development Studies),Electrical & Electronic Engineering,Sociology,Languages, Literature & Linguistics,Sport Science,Education,Other Health,Biological Sciences,Geography,Mechanical & Aerospace Engineering,Geology, Environmental, Earth & Marine Sciences,Business & Management,General Engineering,Communication & Media Studies,Physics & Astronomy'\n",
      " 'Education,Art, Performing Arts & Design,Electrical & Electronic Engineering,General Engineering,Geography,Biological Sciences,Other Health,Sociology,History, Philosophy & Theology,Physics & Astronomy,Law,Mechanical & Aerospace Engineering,Languages, Literature & Linguistics,Politics & International Studies (incl Development Studies),Computer Science,Psychology,Mathematics & Statistics,Economics & Econometrics,Chemistry,Business & Management,Sport Science,Accounting & Finance,Communication & Media Studies'\n",
      " 'Computer Science,Education,Accounting & Finance,Mathematics & Statistics,General Engineering,Languages, Literature & Linguistics,Architecture,Law,Chemistry,Chemical Engineering,Civil Engineering,Biological Sciences,Sociology,Politics & International Studies (incl Development Studies),Agriculture & Forestry,Other Health,Psychology,Communication & Media Studies,Economics & Econometrics,Veterinary Science,Business & Management,Mechanical & Aerospace Engineering,Electrical & Electronic Engineering,Geology, Environmental, Earth & Marine Sciences,History, Philosophy & Theology,Sport Science,Art, Performing Arts & Design'\n",
      " 'Languages, Literature & Linguistics,Mechanical & Aerospace Engineering,Geology, Environmental, Earth & Marine Sciences,Art, Performing Arts & Design,Chemical Engineering,Geography,History, Philosophy & Theology,Biological Sciences,Education,Computer Science,Mathematics & Statistics,Business & Management,Electrical & Electronic Engineering,Politics & International Studies (incl Development Studies),Architecture,Sport Science,Sociology,Civil Engineering,Law,Other Health,Physics & Astronomy,Economics & Econometrics,Medicine & Dentistry,Chemistry,Accounting & Finance,General Engineering,Communication & Media Studies,Psychology'\n",
      " 'Sociology,Chemistry,Communication & Media Studies,Languages, Literature & Linguistics,General Engineering,Civil Engineering,Education,Sport Science,Geography,Economics & Econometrics,Mathematics & Statistics,Art, Performing Arts & Design,Mechanical & Aerospace Engineering,Computer Science,History, Philosophy & Theology,Psychology,Business & Management,Physics & Astronomy,Chemical Engineering,Politics & International Studies (incl Development Studies),Biological Sciences,Accounting & Finance,Geology, Environmental, Earth & Marine Sciences,Architecture,Electrical & Electronic Engineering,Law,Other Health'\n",
      " 'Geography,Accounting & Finance,Chemistry,Medicine & Dentistry,Education,Physics & Astronomy,Languages, Literature & Linguistics,Economics & Econometrics,Biological Sciences,Law,Sociology,Veterinary Science,Business & Management,Art, Performing Arts & Design,Sport Science,Mathematics & Statistics,History, Philosophy & Theology,Psychology,Geology, Environmental, Earth & Marine Sciences,General Engineering,Politics & International Studies (incl Development Studies),Computer Science,Communication & Media Studies,Other Health'\n",
      " 'History, Philosophy & Theology,Mechanical & Aerospace Engineering,Art, Performing Arts & Design,Languages, Literature & Linguistics,Geology, Environmental, Earth & Marine Sciences,Communication & Media Studies,Psychology,Geography,Other Health,Mathematics & Statistics,Electrical & Electronic Engineering,Architecture,Veterinary Science,Politics & International Studies (incl Development Studies),Business & Management,General Engineering,Chemistry,Sport Science,Biological Sciences,Physics & Astronomy,Sociology,Civil Engineering,Education,Law,Accounting & Finance,Computer Science'\n",
      " 'History, Philosophy & Theology,Geology, Environmental, Earth & Marine Sciences,Sociology,Mechanical & Aerospace Engineering,Economics & Econometrics,Electrical & Electronic Engineering,Sport Science,Chemistry,Law,Other Health,Mathematics & Statistics,Geography,Art, Performing Arts & Design,Architecture,Business & Management,Biological Sciences,Communication & Media Studies,Accounting & Finance,Languages, Literature & Linguistics,Politics & International Studies (incl Development Studies),Education,Computer Science,Psychology'\n",
      " 'Sport Science,Other Health,Architecture,Chemistry,Mechanical & Aerospace Engineering,Veterinary Science,Mathematics & Statistics,Economics & Econometrics,Languages, Literature & Linguistics,Electrical & Electronic Engineering,Art, Performing Arts & Design,Biological Sciences,Business & Management,History, Philosophy & Theology,Civil Engineering,Chemical Engineering,Agriculture & Forestry,Computer Science,General Engineering,Politics & International Studies (incl Development Studies),Geography,Archaeology,Sociology,Accounting & Finance,Physics & Astronomy,Geology, Environmental, Earth & Marine Sciences,Education,Psychology,Communication & Media Studies'\n",
      " 'General Engineering,Law,Education,Computer Science,Politics & International Studies (incl Development Studies),Electrical & Electronic Engineering,Sociology,Economics & Econometrics,Art, Performing Arts & Design,Biological Sciences,Other Health,Chemistry,Architecture,Communication & Media Studies,Mathematics & Statistics,Psychology,Sport Science,Accounting & Finance,Veterinary Science,Business & Management'\n",
      " 'Psychology,Other Health,Medicine & Dentistry,Education,Biological Sciences'\n",
      " 'History, Philosophy & Theology,Other Health,Languages, Literature & Linguistics,Law,Art, Performing Arts & Design,Sport Science,Mathematics & Statistics,Psychology,Politics & International Studies (incl Development Studies),Business & Management,Chemistry,Electrical & Electronic Engineering,Mechanical & Aerospace Engineering,Accounting & Finance,Communication & Media Studies,Computer Science,Sociology,Chemical Engineering,Economics & Econometrics,Geography,Civil Engineering,Architecture,Biological Sciences,Medicine & Dentistry,General Engineering,Education,Geology, Environmental, Earth & Marine Sciences,Physics & Astronomy'\n",
      " 'Electrical & Electronic Engineering,Chemistry,Architecture,Mathematics & Statistics,Psychology,Other Health,Physics & Astronomy,Education,History, Philosophy & Theology,Biological Sciences,Geography,Accounting & Finance,Computer Science,Sport Science,Business & Management,Art, Performing Arts & Design,Civil Engineering,Sociology,Mechanical & Aerospace Engineering,Communication & Media Studies,General Engineering,Geology, Environmental, Earth & Marine Sciences,Agriculture & Forestry,Law,Economics & Econometrics,Languages, Literature & Linguistics,Veterinary Science,Politics & International Studies (incl Development Studies)'\n",
      " 'Other Health,Biological Sciences,Medicine & Dentistry'\n",
      " 'Accounting & Finance,Biological Sciences,Law,Mechanical & Aerospace Engineering,Computer Science,Other Health,Sport Science,Communication & Media Studies,Education,Civil Engineering,Agriculture & Forestry,Geology, Environmental, Earth & Marine Sciences,Sociology,Art, Performing Arts & Design,Psychology,Business & Management'\n",
      " 'Chemical Engineering,Sociology,Other Health,Physics & Astronomy,Education,Computer Science,Communication & Media Studies,Architecture,Civil Engineering,Chemistry,Languages, Literature & Linguistics,Agriculture & Forestry,Law,Medicine & Dentistry,Mathematics & Statistics,Economics & Econometrics,History, Philosophy & Theology,Mechanical & Aerospace Engineering,Geography,General Engineering,Sport Science,Psychology,Biological Sciences,Politics & International Studies (incl Development Studies),Accounting & Finance,Art, Performing Arts & Design,Electrical & Electronic Engineering,Geology, Environmental, Earth & Marine Sciences,Business & Management'\n",
      " 'Communication & Media Studies,Accounting & Finance,Chemical Engineering,Politics & International Studies (incl Development Studies),Art, Performing Arts & Design,Geology, Environmental, Earth & Marine Sciences,Civil Engineering,Sociology,Other Health,Sport Science,Economics & Econometrics,Mechanical & Aerospace Engineering,Law,Psychology,Computer Science,Mathematics & Statistics,General Engineering,Biological Sciences,Education,Electrical & Electronic Engineering,Chemistry,History, Philosophy & Theology,Physics & Astronomy,Business & Management'\n",
      " 'Electrical & Electronic Engineering,Communication & Media Studies,History, Philosophy & Theology,Agriculture & Forestry,Law,Languages, Literature & Linguistics,Biological Sciences,Education,Medicine & Dentistry,Physics & Astronomy,Business & Management,Computer Science,Sociology,Mechanical & Aerospace Engineering,Chemistry,Other Health,Sport Science,Psychology,Civil Engineering,Geology, Environmental, Earth & Marine Sciences,Accounting & Finance,Art, Performing Arts & Design,Chemical Engineering,Mathematics & Statistics,Architecture,General Engineering,Politics & International Studies (incl Development Studies),Economics & Econometrics'\n",
      " 'History, Philosophy & Theology,Politics & International Studies (incl Development Studies),Accounting & Finance,Art, Performing Arts & Design,Mathematics & Statistics,Psychology,Mechanical & Aerospace Engineering,Law,Biological Sciences,Education,Other Health,Geology, Environmental, Earth & Marine Sciences,Business & Management,Architecture,Communication & Media Studies,Computer Science,Geography,Languages, Literature & Linguistics,Electrical & Electronic Engineering,Civil Engineering,Economics & Econometrics,General Engineering,Sociology'\n",
      " 'Civil Engineering,Chemistry,Economics & Econometrics,Accounting & Finance,Biological Sciences,Sport Science,Languages, Literature & Linguistics,Computer Science,Psychology,History, Philosophy & Theology,Chemical Engineering,Business & Management,Electrical & Electronic Engineering,Agriculture & Forestry,Politics & International Studies (incl Development Studies),Geology, Environmental, Earth & Marine Sciences,General Engineering,Art, Performing Arts & Design,Sociology,Other Health,Geography,Physics & Astronomy,Education,Communication & Media Studies,Mechanical & Aerospace Engineering,Law,Mathematics & Statistics'\n",
      " 'Law,Other Health,Economics & Econometrics,Computer Science,Accounting & Finance,Medicine & Dentistry,Sociology,Politics & International Studies (incl Development Studies),Art, Performing Arts & Design,Chemistry,Physics & Astronomy,Business & Management,Geology, Environmental, Earth & Marine Sciences,Languages, Literature & Linguistics,Communication & Media Studies,Mathematics & Statistics,History, Philosophy & Theology,Education,Sport Science,Psychology,Biological Sciences'\n",
      " 'Politics & International Studies (incl Development Studies),History, Philosophy & Theology,Chemistry,Veterinary Science,Physics & Astronomy,Civil Engineering,Business & Management,General Engineering,Medicine & Dentistry,Other Health,Education,Agriculture & Forestry,Economics & Econometrics,Art, Performing Arts & Design,Computer Science,Accounting & Finance,Psychology,Mechanical & Aerospace Engineering,Languages, Literature & Linguistics,Sport Science,Geography,Sociology,Architecture,Archaeology,Communication & Media Studies,Chemical Engineering,Electrical & Electronic Engineering,Geology, Environmental, Earth & Marine Sciences,Mathematics & Statistics,Law,Biological Sciences'\n",
      " 'History, Philosophy & Theology,Physics & Astronomy,Accounting & Finance,Art, Performing Arts & Design,Electrical & Electronic Engineering,Sociology,Biological Sciences,Business & Management,General Engineering,Communication & Media Studies,Mechanical & Aerospace Engineering,Politics & International Studies (incl Development Studies),Languages, Literature & Linguistics,Chemistry,Education,Agriculture & Forestry,Sport Science,Law,Computer Science,Mathematics & Statistics,Economics & Econometrics,Other Health,Geology, Environmental, Earth & Marine Sciences,Psychology'\n",
      " 'Civil Engineering,Accounting & Finance,Languages, Literature & Linguistics,Sport Science,Other Health,Psychology,Economics & Econometrics,Education,Biological Sciences,Communication & Media Studies,Sociology,Art, Performing Arts & Design,Computer Science,Electrical & Electronic Engineering,Mechanical & Aerospace Engineering,Business & Management,Architecture,Law'\n",
      " 'History, Philosophy & Theology,Electrical & Electronic Engineering,Sociology,General Engineering,Politics & International Studies (incl Development Studies),Other Health,Civil Engineering,Education,Physics & Astronomy,Business & Management,Architecture,Mechanical & Aerospace Engineering,Law,Art, Performing Arts & Design,Geology, Environmental, Earth & Marine Sciences,Biological Sciences,Economics & Econometrics,Computer Science,Mathematics & Statistics,Archaeology,Languages, Literature & Linguistics,Communication & Media Studies,Psychology,Chemistry,Accounting & Finance'\n",
      " 'Physics & Astronomy,Education,History, Philosophy & Theology,Psychology,Biological Sciences,Economics & Econometrics,Mathematics & Statistics,Accounting & Finance,Geology, Environmental, Earth & Marine Sciences,Politics & International Studies (incl Development Studies),Computer Science,Sociology,Languages, Literature & Linguistics,Geography,Art, Performing Arts & Design,Chemistry,Business & Management,Communication & Media Studies'\n",
      " 'Biological Sciences,Electrical & Electronic Engineering,Architecture,Computer Science,Sociology,Chemical Engineering,Politics & International Studies (incl Development Studies),Languages, Literature & Linguistics,Education,Accounting & Finance,Sport Science,Psychology,Mathematics & Statistics,Business & Management,General Engineering,Art, Performing Arts & Design,Mechanical & Aerospace Engineering,Chemistry,Communication & Media Studies,Law,History, Philosophy & Theology,Economics & Econometrics,Geography,Other Health,Civil Engineering'\n",
      " 'Psychology,Other Health,Civil Engineering,Accounting & Finance,Biological Sciences,General Engineering,Economics & Econometrics,Computer Science,Sociology,Communication & Media Studies,Law,Mechanical & Aerospace Engineering,History, Philosophy & Theology,Education,Mathematics & Statistics,Electrical & Electronic Engineering,Architecture,Languages, Literature & Linguistics,Business & Management,Politics & International Studies (incl Development Studies),Art, Performing Arts & Design,Sport Science'\n",
      " 'Other Health,Economics & Econometrics,Civil Engineering,Electrical & Electronic Engineering,Psychology,Computer Science,Accounting & Finance,Mechanical & Aerospace Engineering,Sociology,Biological Sciences,General Engineering,Business & Management,Law,Politics & International Studies (incl Development Studies),Communication & Media Studies'\n",
      " 'General Engineering,Geography,Architecture,Mathematics & Statistics,Sociology,Art, Performing Arts & Design,Mechanical & Aerospace Engineering,Politics & International Studies (incl Development Studies),Physics & Astronomy,Business & Management,Other Health,Sport Science,Accounting & Finance,Civil Engineering,Psychology,Electrical & Electronic Engineering,Communication & Media Studies,Veterinary Science,Economics & Econometrics,Biological Sciences,Education,Computer Science,Geology, Environmental, Earth & Marine Sciences,Law'\n",
      " 'Sport Science,Mechanical & Aerospace Engineering,Communication & Media Studies,Economics & Econometrics,Other Health,Psychology,Electrical & Electronic Engineering,Politics & International Studies (incl Development Studies),History, Philosophy & Theology,Veterinary Science,Business & Management,General Engineering,Geology, Environmental, Earth & Marine Sciences,Accounting & Finance,Agriculture & Forestry,Physics & Astronomy,Law,Languages, Literature & Linguistics,Chemical Engineering,Sociology,Art, Performing Arts & Design,Civil Engineering,Chemistry,Computer Science,Mathematics & Statistics,Education,Architecture,Biological Sciences,Geography'\n",
      " 'Chemical Engineering,Physics & Astronomy,Languages, Literature & Linguistics,Agriculture & Forestry,Business & Management,Accounting & Finance,History, Philosophy & Theology,Sociology,Economics & Econometrics,Civil Engineering,Biological Sciences,Psychology,Mechanical & Aerospace Engineering,Education,Art, Performing Arts & Design,Computer Science,Politics & International Studies (incl Development Studies),General Engineering,Communication & Media Studies,Architecture,Mathematics & Statistics,Other Health,Chemistry,Electrical & Electronic Engineering,Geology, Environmental, Earth & Marine Sciences'\n",
      " 'Civil Engineering,Psychology,Sociology,Economics & Econometrics,Politics & International Studies (incl Development Studies),Accounting & Finance,Communication & Media Studies,General Engineering,Business & Management,Electrical & Electronic Engineering,Sport Science,Law,Agriculture & Forestry,Chemical Engineering,Mechanical & Aerospace Engineering,Art, Performing Arts & Design,Biological Sciences,Education,Computer Science,Architecture,Other Health'\n",
      " 'Education,Sociology,Economics & Econometrics,Other Health,Physics & Astronomy,Accounting & Finance,Chemistry,Medicine & Dentistry,Law,Communication & Media Studies,Biological Sciences,History, Philosophy & Theology,Agriculture & Forestry,Architecture,Mechanical & Aerospace Engineering,Business & Management,Sport Science,General Engineering,Civil Engineering,Politics & International Studies (incl Development Studies),Geology, Environmental, Earth & Marine Sciences,Electrical & Electronic Engineering,Geography,Languages, Literature & Linguistics,Art, Performing Arts & Design,Chemical Engineering,Computer Science,Psychology,Mathematics & Statistics'\n",
      " 'General Engineering,Biological Sciences,Economics & Econometrics,Civil Engineering,Other Health,Business & Management,Mathematics & Statistics,Education,Agriculture & Forestry,Accounting & Finance,History, Philosophy & Theology,Chemistry,Sociology,Physics & Astronomy,Art, Performing Arts & Design,Mechanical & Aerospace Engineering,Geography,Computer Science,Psychology,Languages, Literature & Linguistics,Chemical Engineering,Politics & International Studies (incl Development Studies),Electrical & Electronic Engineering,Communication & Media Studies'\n",
      " 'Education,Mechanical & Aerospace Engineering,Sport Science,Business & Management,Geology, Environmental, Earth & Marine Sciences,Chemical Engineering,Accounting & Finance,Veterinary Science,Electrical & Electronic Engineering,Architecture,Art, Performing Arts & Design,Chemistry,Sociology,Agriculture & Forestry,Other Health,Mathematics & Statistics,Civil Engineering,Biological Sciences,Languages, Literature & Linguistics,Psychology,General Engineering,Computer Science,Physics & Astronomy,History, Philosophy & Theology,Politics & International Studies (incl Development Studies),Communication & Media Studies,Economics & Econometrics'\n",
      " 'Veterinary Science,Geology, Environmental, Earth & Marine Sciences,Art, Performing Arts & Design,Other Health,Communication & Media Studies,Sport Science,Education,Agriculture & Forestry,Mechanical & Aerospace Engineering,Computer Science,Economics & Econometrics,Accounting & Finance,Electrical & Electronic Engineering,Architecture,Politics & International Studies (incl Development Studies),Mathematics & Statistics,Psychology,Business & Management,Law,Chemistry,Physics & Astronomy,General Engineering,Medicine & Dentistry,Civil Engineering,Languages, Literature & Linguistics,Geography,Biological Sciences,History, Philosophy & Theology,Sociology,Archaeology'\n",
      " 'Medicine & Dentistry,Geology, Environmental, Earth & Marine Sciences,Business & Management,Civil Engineering,Physics & Astronomy,Biological Sciences,Mathematics & Statistics,Psychology,History, Philosophy & Theology,Other Health,Veterinary Science,Law,General Engineering,Chemistry,Education,Languages, Literature & Linguistics,Electrical & Electronic Engineering,Politics & International Studies (incl Development Studies),Economics & Econometrics,Agriculture & Forestry,Geography,Accounting & Finance,Chemical Engineering,Sociology,Archaeology,Mechanical & Aerospace Engineering,Sport Science,Art, Performing Arts & Design,Computer Science,Communication & Media Studies'\n",
      " 'Sociology,History, Philosophy & Theology,Electrical & Electronic Engineering,Geology, Environmental, Earth & Marine Sciences,Politics & International Studies (incl Development Studies),Mathematics & Statistics,Other Health,General Engineering,Business & Management,Art, Performing Arts & Design,Education,Communication & Media Studies,Civil Engineering,Psychology,Geography,Chemistry,Architecture,Biological Sciences,Languages, Literature & Linguistics,Mechanical & Aerospace Engineering,Computer Science,Accounting & Finance,Physics & Astronomy,Economics & Econometrics,Sport Science'\n",
      " 'Electrical & Electronic Engineering,Law,Chemistry,Economics & Econometrics,Politics & International Studies (incl Development Studies),Languages, Literature & Linguistics,Art, Performing Arts & Design,Mathematics & Statistics,Geology, Environmental, Earth & Marine Sciences,Psychology,Business & Management,Other Health,Mechanical & Aerospace Engineering,Communication & Media Studies,Biological Sciences,Sociology,History, Philosophy & Theology,Geography,Computer Science,Education,Agriculture & Forestry,Accounting & Finance,Physics & Astronomy,Sport Science,General Engineering'\n",
      " 'Education,History, Philosophy & Theology,Biological Sciences,Business & Management,Languages, Literature & Linguistics,Sport Science,Other Health,Physics & Astronomy,General Engineering,Communication & Media Studies,Medicine & Dentistry,Mathematics & Statistics,Art, Performing Arts & Design,Chemical Engineering,Sociology,Mechanical & Aerospace Engineering,Politics & International Studies (incl Development Studies),Economics & Econometrics,Civil Engineering,Geography,Computer Science,Chemistry,Psychology,Electrical & Electronic Engineering,Geology, Environmental, Earth & Marine Sciences,Accounting & Finance'\n",
      " 'General Engineering,Archaeology,Chemical Engineering,Chemistry,Civil Engineering,Politics & International Studies (incl Development Studies),Accounting & Finance,Electrical & Electronic Engineering,Art, Performing Arts & Design,Geology, Environmental, Earth & Marine Sciences,Business & Management,Other Health,Physics & Astronomy,Mathematics & Statistics,Computer Science,Veterinary Science,Education,Medicine & Dentistry,Biological Sciences,Geography,Languages, Literature & Linguistics,Mechanical & Aerospace Engineering,Communication & Media Studies,History, Philosophy & Theology,Agriculture & Forestry,Sociology,Psychology,Architecture,Sport Science,Economics & Econometrics'\n",
      " 'Other Health,Politics & International Studies (incl Development Studies),Accounting & Finance,Medicine & Dentistry,Physics & Astronomy,Economics & Econometrics,Languages, Literature & Linguistics,Mechanical & Aerospace Engineering,Communication & Media Studies,Art, Performing Arts & Design,Mathematics & Statistics,Business & Management,History, Philosophy & Theology,Chemistry,Psychology,Computer Science,Geology, Environmental, Earth & Marine Sciences,Civil Engineering,Geography,General Engineering,Electrical & Electronic Engineering,Sociology,Biological Sciences,Education,Sport Science'\n",
      " 'Communication & Media Studies,Psychology,Mathematics & Statistics,Electrical & Electronic Engineering,Biological Sciences,Sport Science,Mechanical & Aerospace Engineering,Physics & Astronomy,Law,General Engineering,Other Health,Sociology,Business & Management,Civil Engineering,Chemistry,Politics & International Studies (incl Development Studies),Education,Computer Science'\n",
      " 'Education,Business & Management,Sport Science,Politics & International Studies (incl Development Studies),Agriculture & Forestry,Chemistry,Mathematics & Statistics,Accounting & Finance,Languages, Literature & Linguistics,Law,Physics & Astronomy,Sociology,Economics & Econometrics,Other Health,Computer Science,Geology, Environmental, Earth & Marine Sciences,Biological Sciences,Art, Performing Arts & Design,Psychology,History, Philosophy & Theology,General Engineering'\n",
      " 'Economics & Econometrics,Languages, Literature & Linguistics,Biological Sciences,Sport Science,Electrical & Electronic Engineering,Architecture,Politics & International Studies (incl Development Studies),Sociology,Education,Psychology,Law,Art, Performing Arts & Design,Mathematics & Statistics,Computer Science,Accounting & Finance,Mechanical & Aerospace Engineering,History, Philosophy & Theology,Business & Management,Other Health,Communication & Media Studies,Geography'\n",
      " 'Art, Performing Arts & Design,Mechanical & Aerospace Engineering,Education,Archaeology,General Engineering,Chemical Engineering,Medicine & Dentistry,Other Health,Chemistry,Sport Science,Electrical & Electronic Engineering,Geology, Environmental, Earth & Marine Sciences,Veterinary Science,Civil Engineering,Business & Management,Geography,Languages, Literature & Linguistics,Agriculture & Forestry,Psychology,History, Philosophy & Theology,Sociology,Architecture,Communication & Media Studies,Computer Science,Economics & Econometrics,Biological Sciences,Politics & International Studies (incl Development Studies),Physics & Astronomy,Mathematics & Statistics,Accounting & Finance'\n",
      " 'Biological Sciences,Geology, Environmental, Earth & Marine Sciences,Veterinary Science,Business & Management,Agriculture & Forestry'\n",
      " 'Architecture,Archaeology,Business & Management,Geography,Medicine & Dentistry,History, Philosophy & Theology,Politics & International Studies (incl Development Studies),Agriculture & Forestry,Chemistry,Chemical Engineering,Geology, Environmental, Earth & Marine Sciences,Electrical & Electronic Engineering,Biological Sciences,Mathematics & Statistics,Sociology,Other Health,Economics & Econometrics,Art, Performing Arts & Design,Computer Science,Psychology,Sport Science,Physics & Astronomy,Civil Engineering,Veterinary Science,Languages, Literature & Linguistics,Mechanical & Aerospace Engineering,Communication & Media Studies,Education,General Engineering,Accounting & Finance'\n",
      " 'Art, Performing Arts & Design,Chemistry,Economics & Econometrics,Agriculture & Forestry,Sociology,Other Health,Sport Science,Accounting & Finance,Electrical & Electronic Engineering,Geology, Environmental, Earth & Marine Sciences,Computer Science,Biological Sciences,Psychology,Civil Engineering,Politics & International Studies (incl Development Studies),Mechanical & Aerospace Engineering,Business & Management,History, Philosophy & Theology,Physics & Astronomy,Languages, Literature & Linguistics,General Engineering,Communication & Media Studies,Architecture,Mathematics & Statistics,Education'\n",
      " 'Electrical & Electronic Engineering,Physics & Astronomy,Art, Performing Arts & Design,Biological Sciences,Sport Science,Education,Archaeology,Agriculture & Forestry,Geography,Mechanical & Aerospace Engineering,Chemistry,Languages, Literature & Linguistics,Chemical Engineering,Sociology,General Engineering,Mathematics & Statistics,Psychology,Law,Civil Engineering,Geology, Environmental, Earth & Marine Sciences,Economics & Econometrics,Architecture,Communication & Media Studies,Business & Management,History, Philosophy & Theology,Politics & International Studies (incl Development Studies),Accounting & Finance'\n",
      " 'Electrical & Electronic Engineering,Politics & International Studies (incl Development Studies),Medicine & Dentistry,Civil Engineering,Geography,Languages, Literature & Linguistics,Chemical Engineering,Business & Management,History, Philosophy & Theology,Biological Sciences,Education,General Engineering,Communication & Media Studies,Computer Science,Geology, Environmental, Earth & Marine Sciences,Economics & Econometrics,Mechanical & Aerospace Engineering,Sociology,Chemistry,Law,Other Health,Mathematics & Statistics,Accounting & Finance,Art, Performing Arts & Design,Physics & Astronomy,Psychology'\n",
      " 'Architecture,Sport Science,Computer Science,Communication & Media Studies,History, Philosophy & Theology,Civil Engineering,Business & Management,General Engineering,Geology, Environmental, Earth & Marine Sciences,Accounting & Finance,Chemical Engineering,Psychology,Art, Performing Arts & Design,Mechanical & Aerospace Engineering,Education,Languages, Literature & Linguistics,Other Health,Sociology,Medicine & Dentistry,Politics & International Studies (incl Development Studies),Electrical & Electronic Engineering,Law,Economics & Econometrics,Biological Sciences'\n",
      " 'Chemical Engineering,Mechanical & Aerospace Engineering,Politics & International Studies (incl Development Studies),Accounting & Finance,Physics & Astronomy,Civil Engineering,Languages, Literature & Linguistics,Mathematics & Statistics,Biological Sciences,Sociology,Art, Performing Arts & Design,Sport Science,Education,General Engineering,Geology, Environmental, Earth & Marine Sciences,Psychology,Other Health,Chemistry,Law,Computer Science,Communication & Media Studies,Business & Management'\n",
      " 'History, Philosophy & Theology,Psychology,Biological Sciences,Geography,Politics & International Studies (incl Development Studies),Sport Science,Economics & Econometrics,Business & Management,Art, Performing Arts & Design,Geology, Environmental, Earth & Marine Sciences,Computer Science,Education,Accounting & Finance,Physics & Astronomy,Chemistry,Mathematics & Statistics,Law,Sociology,Languages, Literature & Linguistics'\n",
      " 'Biological Sciences,Law,Computer Science,Sport Science,Business & Management,Civil Engineering,Politics & International Studies (incl Development Studies),General Engineering,Physics & Astronomy,Psychology,Languages, Literature & Linguistics,Mechanical & Aerospace Engineering,Chemistry,Economics & Econometrics,History, Philosophy & Theology,Veterinary Science,Education,Electrical & Electronic Engineering,Sociology,Architecture,Mathematics & Statistics,Accounting & Finance,Art, Performing Arts & Design,Chemical Engineering,Geography,Other Health,Communication & Media Studies'\n",
      " 'Communication & Media Studies,Education,Mechanical & Aerospace Engineering,Art, Performing Arts & Design,Computer Science,Geology, Environmental, Earth & Marine Sciences,Business & Management,Chemistry,Psychology,General Engineering,Chemical Engineering,Politics & International Studies (incl Development Studies),Architecture,Physics & Astronomy,Economics & Econometrics,Biological Sciences,Mathematics & Statistics,Electrical & Electronic Engineering,History, Philosophy & Theology,Civil Engineering'\n",
      " 'Electrical & Electronic Engineering,Geology, Environmental, Earth & Marine Sciences,Other Health,Sociology,History, Philosophy & Theology,Mathematics & Statistics,Psychology,Civil Engineering,Chemistry,Mechanical & Aerospace Engineering,Communication & Media Studies,Computer Science,Physics & Astronomy,Education,Art, Performing Arts & Design,Biological Sciences,Law,Accounting & Finance,Medicine & Dentistry,Sport Science,Business & Management,Languages, Literature & Linguistics,Chemical Engineering,Politics & International Studies (incl Development Studies),Economics & Econometrics,Agriculture & Forestry,Geography'\n",
      " 'Art, Performing Arts & Design,Electrical & Electronic Engineering,Education,Medicine & Dentistry,Mechanical & Aerospace Engineering,Economics & Econometrics,Architecture,Sport Science,Business & Management,Computer Science,Chemical Engineering,Politics & International Studies (incl Development Studies),Archaeology,Geology, Environmental, Earth & Marine Sciences,Psychology,Languages, Literature & Linguistics,Mathematics & Statistics,Law,General Engineering,Communication & Media Studies,Chemistry,Geography,History, Philosophy & Theology,Biological Sciences,Accounting & Finance,Other Health,Civil Engineering,Sociology'\n",
      " 'Languages, Literature & Linguistics,Education,Biological Sciences,Physics & Astronomy,Communication & Media Studies,Computer Science,Geology, Environmental, Earth & Marine Sciences,Economics & Econometrics,Business & Management,History, Philosophy & Theology,Agriculture & Forestry,General Engineering,Sociology,Accounting & Finance,Mathematics & Statistics,Other Health,Art, Performing Arts & Design,Psychology,Electrical & Electronic Engineering,Law,Chemistry,Politics & International Studies (incl Development Studies)'\n",
      " 'Other Health,Geology, Environmental, Earth & Marine Sciences,Economics & Econometrics,Veterinary Science,Law,Sport Science,Computer Science,Communication & Media Studies,Education,Civil Engineering,Politics & International Studies (incl Development Studies),Agriculture & Forestry,Sociology,Medicine & Dentistry,Chemistry,Accounting & Finance,Biological Sciences,Geography,History, Philosophy & Theology,Physics & Astronomy,Business & Management,Languages, Literature & Linguistics,Mathematics & Statistics,Psychology'\n",
      " 'Languages, Literature & Linguistics,Psychology,Chemical Engineering,Communication & Media Studies,Mathematics & Statistics,Business & Management,General Engineering,Computer Science,Geology, Environmental, Earth & Marine Sciences,Biological Sciences,Civil Engineering,Chemistry,Mechanical & Aerospace Engineering,Economics & Econometrics,Education,Politics & International Studies (incl Development Studies),Physics & Astronomy,Sociology,History, Philosophy & Theology,Other Health,Accounting & Finance,Electrical & Electronic Engineering'\n",
      " 'Civil Engineering,Politics & International Studies (incl Development Studies),Art, Performing Arts & Design,Communication & Media Studies,History, Philosophy & Theology,Medicine & Dentistry,Languages, Literature & Linguistics,Business & Management,Biological Sciences,Accounting & Finance,Physics & Astronomy,Mechanical & Aerospace Engineering,Architecture,Electrical & Electronic Engineering,Chemistry,Geography,Computer Science,Psychology,Education,Mathematics & Statistics,Sport Science,General Engineering,Other Health,Geology, Environmental, Earth & Marine Sciences,Economics & Econometrics,Sociology'\n",
      " 'Psychology,Mechanical & Aerospace Engineering,Chemical Engineering,Languages, Literature & Linguistics,Computer Science,Physics & Astronomy,Geology, Environmental, Earth & Marine Sciences,Education,General Engineering,Mathematics & Statistics,Accounting & Finance,Electrical & Electronic Engineering,Business & Management,Civil Engineering,History, Philosophy & Theology,Communication & Media Studies,Chemistry,Biological Sciences'\n",
      " 'Accounting & Finance,Other Health,Electrical & Electronic Engineering,Sport Science,Mechanical & Aerospace Engineering,Languages, Literature & Linguistics,Geology, Environmental, Earth & Marine Sciences,Communication & Media Studies,Biological Sciences,Sociology,General Engineering,Architecture,Psychology,Art, Performing Arts & Design,Business & Management,Geography,History, Philosophy & Theology,Computer Science,Education,Law'\n",
      " 'Geology, Environmental, Earth & Marine Sciences,Other Health,General Engineering,Chemistry,Accounting & Finance,Archaeology,Mechanical & Aerospace Engineering,Physics & Astronomy,Education,History, Philosophy & Theology,Electrical & Electronic Engineering,Sport Science,Chemical Engineering,Biological Sciences,Computer Science,Communication & Media Studies,Psychology,Languages, Literature & Linguistics,Economics & Econometrics,Law,Politics & International Studies (incl Development Studies),Architecture,Civil Engineering,Sociology,Business & Management,Art, Performing Arts & Design,Mathematics & Statistics,Medicine & Dentistry'\n",
      " 'Education,Sociology,Sport Science,General Engineering,Accounting & Finance,Art, Performing Arts & Design,Geology, Environmental, Earth & Marine Sciences,Psychology,Computer Science,Architecture,Languages, Literature & Linguistics,Geography,Economics & Econometrics,History, Philosophy & Theology,Law,Communication & Media Studies,Other Health,Mechanical & Aerospace Engineering,Business & Management,Chemical Engineering,Chemistry,Civil Engineering,Biological Sciences'\n",
      " 'Psychology,Accounting & Finance,History, Philosophy & Theology,Communication & Media Studies,Geography,General Engineering,Education,Electrical & Electronic Engineering,Economics & Econometrics,Biological Sciences,Art, Performing Arts & Design,Sociology,Architecture,Law,Other Health,Politics & International Studies (incl Development Studies),Civil Engineering,Business & Management,Languages, Literature & Linguistics,Sport Science,Computer Science'\n",
      " 'Art, Performing Arts & Design,Mathematics & Statistics,Geology, Environmental, Earth & Marine Sciences,Politics & International Studies (incl Development Studies),Sociology,Electrical & Electronic Engineering,Chemistry,Business & Management,Mechanical & Aerospace Engineering,Psychology,Physics & Astronomy,Sport Science,Economics & Econometrics,Law,Biological Sciences,Civil Engineering,Chemical Engineering,Computer Science,Other Health,Communication & Media Studies,Medicine & Dentistry,Education,General Engineering,Accounting & Finance,History, Philosophy & Theology,Languages, Literature & Linguistics'\n",
      " 'Art, Performing Arts & Design,Languages, Literature & Linguistics,Other Health,Sociology,Law,Communication & Media Studies,Business & Management,Sport Science,Psychology,General Engineering,Computer Science,Architecture,Mathematics & Statistics,Chemistry,Accounting & Finance,History, Philosophy & Theology,Physics & Astronomy,Geology, Environmental, Earth & Marine Sciences,Politics & International Studies (incl Development Studies),Education,Chemical Engineering,Biological Sciences,Medicine & Dentistry,Economics & Econometrics,Mechanical & Aerospace Engineering,Agriculture & Forestry,Archaeology,Electrical & Electronic Engineering,Geography,Veterinary Science,Civil Engineering'\n",
      " 'Mechanical & Aerospace Engineering,Geology, Environmental, Earth & Marine Sciences,Languages, Literature & Linguistics,Biological Sciences,Mathematics & Statistics,Computer Science,Physics & Astronomy,Medicine & Dentistry,Veterinary Science,Business & Management,Art, Performing Arts & Design,Chemical Engineering,Sociology,Economics & Econometrics,History, Philosophy & Theology,Sport Science,Accounting & Finance,Agriculture & Forestry,Psychology,Other Health,Civil Engineering,Politics & International Studies (incl Development Studies),Architecture,Electrical & Electronic Engineering,Education,General Engineering,Chemistry'\n",
      " 'Agriculture & Forestry,Economics & Econometrics,Communication & Media Studies,Languages, Literature & Linguistics,Biological Sciences,Business & Management,Computer Science,Politics & International Studies (incl Development Studies),Sociology,Architecture,History, Philosophy & Theology,Psychology,Art, Performing Arts & Design,Education'\n",
      " 'Medicine & Dentistry,Art, Performing Arts & Design,Chemical Engineering,Mathematics & Statistics,Civil Engineering,Economics & Econometrics,Electrical & Electronic Engineering,Agriculture & Forestry,Other Health,Education,Mechanical & Aerospace Engineering,Sociology,Psychology,Politics & International Studies (incl Development Studies),General Engineering,History, Philosophy & Theology,Geology, Environmental, Earth & Marine Sciences,Accounting & Finance,Physics & Astronomy,Geography,Biological Sciences,Languages, Literature & Linguistics,Communication & Media Studies,Sport Science,Business & Management,Chemistry,Computer Science'\n",
      " 'Agriculture & Forestry,Physics & Astronomy,Medicine & Dentistry,Education,Civil Engineering,Politics & International Studies (incl Development Studies),Computer Science,Biological Sciences,Business & Management,Other Health,Mathematics & Statistics,Archaeology,Geography,General Engineering,Geology, Environmental, Earth & Marine Sciences,Languages, Literature & Linguistics,Psychology,Accounting & Finance,Sport Science,Chemistry,Economics & Econometrics,History, Philosophy & Theology,Sociology'\n",
      " 'Politics & International Studies (incl Development Studies),Sociology,Chemistry,Other Health,History, Philosophy & Theology,General Engineering,Geology, Environmental, Earth & Marine Sciences,Geography,Law,Accounting & Finance,Economics & Econometrics,Computer Science,Physics & Astronomy,Medicine & Dentistry,Mathematics & Statistics,Business & Management,Sport Science,Communication & Media Studies,Languages, Literature & Linguistics,Psychology,Art, Performing Arts & Design,Biological Sciences,Education'\n",
      " 'Other Health,Computer Science,Chemistry,Psychology,Archaeology,Sport Science,Education,Art, Performing Arts & Design,Mechanical & Aerospace Engineering,Communication & Media Studies,General Engineering,Physics & Astronomy,Accounting & Finance,Languages, Literature & Linguistics,Chemical Engineering,Sociology,History, Philosophy & Theology,Agriculture & Forestry,Politics & International Studies (incl Development Studies),Medicine & Dentistry,Biological Sciences,Business & Management,Architecture,Electrical & Electronic Engineering,Mathematics & Statistics,Civil Engineering,Geography,Economics & Econometrics,Geology, Environmental, Earth & Marine Sciences'\n",
      " 'Sociology,Art, Performing Arts & Design,Sport Science,Biological Sciences,Architecture,Chemistry,Electrical & Electronic Engineering,Law,Other Health,Computer Science,Communication & Media Studies,Civil Engineering,Accounting & Finance,Mechanical & Aerospace Engineering,Business & Management'\n",
      " 'Sport Science,Mechanical & Aerospace Engineering,Biological Sciences,Sociology,Electrical & Electronic Engineering,Art, Performing Arts & Design,Geology, Environmental, Earth & Marine Sciences,Computer Science,Politics & International Studies (incl Development Studies),Chemical Engineering,Education,Communication & Media Studies,History, Philosophy & Theology,Agriculture & Forestry,Other Health,Economics & Econometrics,Mathematics & Statistics,Business & Management,Psychology,Civil Engineering,Physics & Astronomy,Languages, Literature & Linguistics,Architecture,Accounting & Finance,General Engineering,Chemistry'\n",
      " 'Communication & Media Studies,Languages, Literature & Linguistics,Education,Computer Science,Other Health,Art, Performing Arts & Design,Sociology,History, Philosophy & Theology,Psychology,Politics & International Studies (incl Development Studies),Business & Management,Accounting & Finance,Biological Sciences,Sport Science,Economics & Econometrics,Law'\n",
      " 'Economics & Econometrics,Mechanical & Aerospace Engineering,Sociology,General Engineering,Geology, Environmental, Earth & Marine Sciences,Geography,Sport Science,History, Philosophy & Theology,Architecture,Psychology,Mathematics & Statistics,Business & Management,Law,Chemical Engineering,Politics & International Studies (incl Development Studies),Chemistry,Civil Engineering,Other Health,Physics & Astronomy,Art, Performing Arts & Design,Accounting & Finance,Electrical & Electronic Engineering,Computer Science,Communication & Media Studies,Biological Sciences'\n",
      " 'Communication & Media Studies,Biological Sciences,Chemistry,Art, Performing Arts & Design,Education,Mathematics & Statistics,Mechanical & Aerospace Engineering,Accounting & Finance,General Engineering,Geology, Environmental, Earth & Marine Sciences,Computer Science,History, Philosophy & Theology,Business & Management,Psychology,Civil Engineering,Electrical & Electronic Engineering,Geography,Physics & Astronomy,Economics & Econometrics,Languages, Literature & Linguistics,Politics & International Studies (incl Development Studies),Sociology,Other Health'\n",
      " 'Computer Science,Biological Sciences,Languages, Literature & Linguistics,Chemical Engineering,Chemistry,Mechanical & Aerospace Engineering,Communication & Media Studies,Sport Science,Mathematics & Statistics,Business & Management,Architecture,Politics & International Studies (incl Development Studies),Art, Performing Arts & Design,Education,Physics & Astronomy,History, Philosophy & Theology,Law,Sociology,Accounting & Finance,Psychology,Geography,Electrical & Electronic Engineering,Geology, Environmental, Earth & Marine Sciences,Economics & Econometrics,Other Health'\n",
      " 'Biological Sciences,Business & Management,Agriculture & Forestry,Sport Science,Art, Performing Arts & Design,Mechanical & Aerospace Engineering,Sociology,Electrical & Electronic Engineering,Politics & International Studies (incl Development Studies),Civil Engineering,Education,Computer Science,Physics & Astronomy,Geography,Other Health,Chemistry,Economics & Econometrics,Languages, Literature & Linguistics,Mathematics & Statistics,General Engineering,Geology, Environmental, Earth & Marine Sciences,Psychology,History, Philosophy & Theology,Communication & Media Studies,Accounting & Finance'\n",
      " 'Architecture,Languages, Literature & Linguistics,Politics & International Studies (incl Development Studies),Electrical & Electronic Engineering,Sociology,History, Philosophy & Theology,Computer Science,Business & Management,Law,Economics & Econometrics,Communication & Media Studies,Psychology,Other Health,Accounting & Finance,Biological Sciences,Art, Performing Arts & Design'\n",
      " 'Civil Engineering,Business & Management,Art, Performing Arts & Design,Sport Science,Education,Chemistry,Economics & Econometrics,Computer Science,Communication & Media Studies,Languages, Literature & Linguistics,Biological Sciences,Agriculture & Forestry,Accounting & Finance,Other Health,Sociology,Mechanical & Aerospace Engineering,Politics & International Studies (incl Development Studies),Electrical & Electronic Engineering,Law,General Engineering,Psychology'\n",
      " 'Electrical & Electronic Engineering,Architecture,General Engineering,Chemistry,Psychology,Business & Management,Sociology,Mathematics & Statistics,Mechanical & Aerospace Engineering,Economics & Econometrics,Geography,History, Philosophy & Theology,Communication & Media Studies,Civil Engineering,Education,Accounting & Finance,Physics & Astronomy,Art, Performing Arts & Design,Politics & International Studies (incl Development Studies),Computer Science,Law,Other Health,Biological Sciences,Languages, Literature & Linguistics,Geology, Environmental, Earth & Marine Sciences,Sport Science'\n",
      " 'Art, Performing Arts & Design,Chemical Engineering,Education,Economics & Econometrics,Accounting & Finance,Veterinary Science,History, Philosophy & Theology,Biological Sciences,General Engineering,Agriculture & Forestry,Politics & International Studies (incl Development Studies),Geography,Mechanical & Aerospace Engineering,Computer Science,Medicine & Dentistry,Law,Languages, Literature & Linguistics,Communication & Media Studies,Archaeology,Psychology,Business & Management,Sport Science,Other Health,Sociology'\n",
      " 'Biological Sciences,General Engineering,Chemistry,Chemical Engineering,Veterinary Science,Other Health,Mathematics & Statistics,Law,Politics & International Studies (incl Development Studies),Accounting & Finance,Sport Science,Architecture,History, Philosophy & Theology,Geology, Environmental, Earth & Marine Sciences,Sociology,Languages, Literature & Linguistics,Communication & Media Studies,Education,Geography,Economics & Econometrics,Physics & Astronomy,Psychology,Civil Engineering,Art, Performing Arts & Design,Computer Science,Electrical & Electronic Engineering,Business & Management,Archaeology,Medicine & Dentistry,Mechanical & Aerospace Engineering'\n",
      " 'Mechanical & Aerospace Engineering,Sociology,Economics & Econometrics,Computer Science,Sport Science,Politics & International Studies (incl Development Studies),Communication & Media Studies,General Engineering,Medicine & Dentistry,Other Health,Chemical Engineering,Psychology,Art, Performing Arts & Design,Mathematics & Statistics,Law,Geography,Education,Chemistry,Physics & Astronomy,History, Philosophy & Theology,Geology, Environmental, Earth & Marine Sciences,Electrical & Electronic Engineering,Biological Sciences,Languages, Literature & Linguistics,Business & Management,Accounting & Finance,Agriculture & Forestry'\n",
      " 'Biological Sciences,Art, Performing Arts & Design,Architecture,Chemistry,Business & Management,Education,Psychology,Mechanical & Aerospace Engineering,Economics & Econometrics,Computer Science,Communication & Media Studies,Civil Engineering,Law,General Engineering,Electrical & Electronic Engineering,Sociology,Accounting & Finance,Politics & International Studies (incl Development Studies),Sport Science'\n",
      " 'Education,Electrical & Electronic Engineering,History, Philosophy & Theology,Economics & Econometrics,Other Health,Medicine & Dentistry,Sociology,Geography,Geology, Environmental, Earth & Marine Sciences,Politics & International Studies (incl Development Studies),Languages, Literature & Linguistics,Law,Psychology,Art, Performing Arts & Design,Communication & Media Studies,Business & Management,Sport Science,Biological Sciences,Accounting & Finance,Computer Science'\n",
      " 'Civil Engineering,Economics & Econometrics,Biological Sciences,Mathematics & Statistics,Education,History, Philosophy & Theology,Sport Science,Physics & Astronomy,Mechanical & Aerospace Engineering,Accounting & Finance,Business & Management,Agriculture & Forestry,Languages, Literature & Linguistics,Other Health,Geology, Environmental, Earth & Marine Sciences,Law,Psychology,Communication & Media Studies,Architecture,Sociology,Chemistry,Electrical & Electronic Engineering,Chemical Engineering,Politics & International Studies (incl Development Studies),Computer Science,Art, Performing Arts & Design,Geography,General Engineering'\n",
      " 'Languages, Literature & Linguistics,Sport Science,Law,History, Philosophy & Theology,Biological Sciences,Sociology,Economics & Econometrics,Medicine & Dentistry,Chemical Engineering,Communication & Media Studies,Art, Performing Arts & Design,General Engineering,Physics & Astronomy,Mechanical & Aerospace Engineering,Chemistry,Accounting & Finance,Computer Science,Education,Other Health,Psychology,Agriculture & Forestry,Politics & International Studies (incl Development Studies),Mathematics & Statistics,Business & Management,Electrical & Electronic Engineering,Geology, Environmental, Earth & Marine Sciences'\n",
      " 'Other Health,Computer Science,Mathematics & Statistics,Art, Performing Arts & Design,Civil Engineering,Geography,Chemical Engineering,Sociology,General Engineering,Geology, Environmental, Earth & Marine Sciences,Business & Management,Electrical & Electronic Engineering,Biological Sciences,Education,Mechanical & Aerospace Engineering,Communication & Media Studies,History, Philosophy & Theology,Chemistry,Psychology,Medicine & Dentistry,Sport Science,Languages, Literature & Linguistics,Agriculture & Forestry,Politics & International Studies (incl Development Studies),Economics & Econometrics,Physics & Astronomy,Accounting & Finance'\n",
      " 'Chemistry,Psychology,Mathematics & Statistics,Law,Other Health,Medicine & Dentistry,Communication & Media Studies,Sport Science,Languages, Literature & Linguistics,Education,Biological Sciences,Sociology,Physics & Astronomy,Business & Management,History, Philosophy & Theology,Accounting & Finance,Art, Performing Arts & Design,Geology, Environmental, Earth & Marine Sciences,Economics & Econometrics,Computer Science,Politics & International Studies (incl Development Studies)'\n",
      " 'Electrical & Electronic Engineering,Biological Sciences,Computer Science,Art, Performing Arts & Design,Archaeology,Mechanical & Aerospace Engineering,Agriculture & Forestry,Education,Psychology,Accounting & Finance,Sociology,History, Philosophy & Theology,Sport Science,Civil Engineering,Business & Management,Communication & Media Studies,Mathematics & Statistics,Law,Geology, Environmental, Earth & Marine Sciences,Chemistry'\n",
      " 'Geography,Economics & Econometrics,Biological Sciences,History, Philosophy & Theology,Computer Science,Law,Art, Performing Arts & Design,Geology, Environmental, Earth & Marine Sciences,Other Health,Politics & International Studies (incl Development Studies),Civil Engineering,Sport Science,Communication & Media Studies,Electrical & Electronic Engineering,Sociology,Chemical Engineering,Chemistry,Accounting & Finance,Languages, Literature & Linguistics,Veterinary Science,General Engineering,Education,Agriculture & Forestry,Business & Management,Mechanical & Aerospace Engineering,Mathematics & Statistics,Medicine & Dentistry,Psychology'\n",
      " 'Other Health,Education,Computer Science,Communication & Media Studies,Mathematics & Statistics,Politics & International Studies (incl Development Studies),Economics & Econometrics,Electrical & Electronic Engineering,History, Philosophy & Theology,Accounting & Finance,Geology, Environmental, Earth & Marine Sciences,Mechanical & Aerospace Engineering,General Engineering,Chemistry,Languages, Literature & Linguistics,Biological Sciences,Sport Science,Business & Management,Agriculture & Forestry,Psychology,Physics & Astronomy,Sociology,Architecture,Art, Performing Arts & Design,Civil Engineering,Geography'\n",
      " 'Civil Engineering,Politics & International Studies (incl Development Studies),Law,Computer Science,Communication & Media Studies,Mathematics & Statistics,Business & Management,Electrical & Electronic Engineering,Geology, Environmental, Earth & Marine Sciences,Architecture,Chemical Engineering,Accounting & Finance,Art, Performing Arts & Design,Sport Science,Sociology,History, Philosophy & Theology,Agriculture & Forestry,Geography,General Engineering,Physics & Astronomy,Psychology,Languages, Literature & Linguistics,Mechanical & Aerospace Engineering,Chemistry,Economics & Econometrics,Other Health,Biological Sciences,Education'\n",
      " 'Architecture,Mathematics & Statistics,Accounting & Finance,Electrical & Electronic Engineering,Education,Languages, Literature & Linguistics,Agriculture & Forestry,Art, Performing Arts & Design,Politics & International Studies (incl Development Studies),Law,Economics & Econometrics,Civil Engineering,Business & Management,General Engineering,Mechanical & Aerospace Engineering,Computer Science,Communication & Media Studies,Psychology,Sociology,Other Health,Chemistry'\n",
      " 'Communication & Media Studies,Languages, Literature & Linguistics,Business & Management,Archaeology,Law,Other Health,Accounting & Finance,Computer Science,Psychology,Sport Science,Economics & Econometrics,Art, Performing Arts & Design,Geography,History, Philosophy & Theology,Sociology,Politics & International Studies (incl Development Studies),Education,Mathematics & Statistics'\n",
      " 'Architecture,Sport Science,Education,Other Health,Biological Sciences,Electrical & Electronic Engineering,Accounting & Finance,Business & Management,Art, Performing Arts & Design,Economics & Econometrics,Sociology,Psychology,Languages, Literature & Linguistics,Communication & Media Studies,Law,Computer Science'\n",
      " 'History, Philosophy & Theology,Mathematics & Statistics,Psychology,Other Health,Communication & Media Studies,Economics & Econometrics,Archaeology,Sport Science,Sociology,Computer Science,Geography,Languages, Literature & Linguistics,Biological Sciences,Education,Art, Performing Arts & Design,Physics & Astronomy,Business & Management,Electrical & Electronic Engineering,Chemistry,Law,Chemical Engineering,Politics & International Studies (incl Development Studies),Agriculture & Forestry,Geology, Environmental, Earth & Marine Sciences,Veterinary Science,Accounting & Finance'\n",
      " 'Languages, Literature & Linguistics,Biological Sciences,Psychology,Computer Science,Politics & International Studies (incl Development Studies),Art, Performing Arts & Design,Physics & Astronomy,Sociology,History, Philosophy & Theology,Mathematics & Statistics,Geography,Mechanical & Aerospace Engineering,Education,Electrical & Electronic Engineering,Geology, Environmental, Earth & Marine Sciences,Civil Engineering,Law,Sport Science,Business & Management,Other Health,Chemistry,Accounting & Finance,General Engineering,Communication & Media Studies,Economics & Econometrics'\n",
      " 'Languages, Literature & Linguistics,Geography,Economics & Econometrics,Mathematics & Statistics,Accounting & Finance,Education,Art, Performing Arts & Design,Chemistry,Architecture,Sociology,Civil Engineering,History, Philosophy & Theology,General Engineering,Electrical & Electronic Engineering,Physics & Astronomy,Biological Sciences,Business & Management,Psychology,Communication & Media Studies,Other Health,Politics & International Studies (incl Development Studies),Computer Science'\n",
      " 'Business & Management,Mechanical & Aerospace Engineering,Psychology,Other Health,Biological Sciences,Law,Electrical & Electronic Engineering,Languages, Literature & Linguistics,Computer Science,Communication & Media Studies,Sociology,General Engineering,Medicine & Dentistry,Education,Accounting & Finance,Sport Science,Art, Performing Arts & Design'\n",
      " 'Electrical & Electronic Engineering,Geology, Environmental, Earth & Marine Sciences,Computer Science,Sport Science,Geography,Medicine & Dentistry,Mathematics & Statistics,Accounting & Finance,Art, Performing Arts & Design,General Engineering,Politics & International Studies (incl Development Studies),Mechanical & Aerospace Engineering,Communication & Media Studies,Business & Management,Civil Engineering,Chemistry,Languages, Literature & Linguistics,Chemical Engineering,Sociology,Archaeology,Physics & Astronomy,Economics & Econometrics,History, Philosophy & Theology,Agriculture & Forestry,Education,Other Health,Biological Sciences,Psychology'\n",
      " 'Education,Languages, Literature & Linguistics,Biological Sciences,Geology, Environmental, Earth & Marine Sciences,Politics & International Studies (incl Development Studies),Art, Performing Arts & Design,Communication & Media Studies,Physics & Astronomy,Other Health,Computer Science,Sociology,Veterinary Science,Business & Management,Accounting & Finance,Law,Economics & Econometrics,Chemistry,Medicine & Dentistry,Mathematics & Statistics,History, Philosophy & Theology,Psychology,General Engineering,Sport Science'\n",
      " 'Electrical & Electronic Engineering,Business & Management,History, Philosophy & Theology,Communication & Media Studies,General Engineering,Politics & International Studies (incl Development Studies),Art, Performing Arts & Design,Biological Sciences,Sociology,Archaeology,Chemistry,Other Health,Psychology,Mathematics & Statistics,Accounting & Finance,Languages, Literature & Linguistics,Geology, Environmental, Earth & Marine Sciences,Computer Science,Education,Physics & Astronomy,Economics & Econometrics']\n"
     ]
    }
   ],
   "source": [
    "# Subjects offered by universities\n",
    "subjects_offered = data['subjects_offered'].str.split('; ').explode().unique()\n",
    "print(\"Subjects offered by universities:\")\n",
    "print(subjects_offered)\n"
   ]
  },
  {
   "cell_type": "markdown",
   "id": "05a556ee",
   "metadata": {
    "papermill": {
     "duration": 0.016435,
     "end_time": "2023-10-01T21:44:58.784961",
     "exception": false,
     "start_time": "2023-10-01T21:44:58.768526",
     "status": "completed"
    },
    "tags": []
   },
   "source": [
    "#### Rank vs. Teaching Scores:\n"
   ]
  },
  {
   "cell_type": "markdown",
   "id": "ad97157f",
   "metadata": {
    "papermill": {
     "duration": 0.016075,
     "end_time": "2023-10-01T21:44:58.817031",
     "exception": false,
     "start_time": "2023-10-01T21:44:58.800956",
     "status": "completed"
    },
    "tags": []
   },
   "source": [
    "- Is there a relationship between university rankings and teaching scores?\n"
   ]
  },
  {
   "cell_type": "code",
   "execution_count": 24,
   "id": "f963565c",
   "metadata": {
    "execution": {
     "iopub.execute_input": "2023-10-01T21:44:58.853040Z",
     "iopub.status.busy": "2023-10-01T21:44:58.851812Z",
     "iopub.status.idle": "2023-10-01T21:44:58.936020Z",
     "shell.execute_reply": "2023-10-01T21:44:58.934933Z"
    },
    "papermill": {
     "duration": 0.105343,
     "end_time": "2023-10-01T21:44:58.939002",
     "exception": false,
     "start_time": "2023-10-01T21:44:58.833659",
     "status": "completed"
    },
    "tags": []
   },
   "outputs": [
    {
     "data": {
      "text/html": [
       "<div>                            <div id=\"e1622ab8-b6d9-4093-8c1b-e2a746929f2d\" class=\"plotly-graph-div\" style=\"height:525px; width:100%;\"></div>            <script type=\"text/javascript\">                require([\"plotly\"], function(Plotly) {                    window.PLOTLYENV=window.PLOTLYENV || {};                                    if (document.getElementById(\"e1622ab8-b6d9-4093-8c1b-e2a746929f2d\")) {                    Plotly.newPlot(                        \"e1622ab8-b6d9-4093-8c1b-e2a746929f2d\",                        [{\"hovertemplate\":\"scores_overall_rank=%{x}\\u003cbr\\u003escores_teaching=%{y}\\u003cextra\\u003e\\u003c\\u002fextra\\u003e\",\"legendgroup\":\"\",\"marker\":{\"color\":\"#636efa\",\"symbol\":\"circle\"},\"mode\":\"markers\",\"name\":\"\",\"orientation\":\"v\",\"showlegend\":false,\"x\":[10,30,40,50,60,70,80,90,100,150,160,180,200,210,220,230,240,250,260,270,280,300,340,360,370,410,420,460,490,510,520,540,590,670,690,720,740,780,850,860,920,930,980,1000,1010,1050,1060,1080,1140,1170,1190,1220,1240,1290,1300,1320,1330,1380,1440,1450,1470,1550,1570,1620,1640,1660,1710,1720,1740,1790,1870,1900,1920,1960,1980,1990,2040,2070,2080,2110,2140,2150,2170,2200,2250,2280,2290,2350,2360,2410,2420,2470,2490,2510,2540,2550,2560,2570,2600,2710,2740,2790,2820,2840,2920,2960,2970,3050,3090,3100,3130,3280,3320,3330,3350,3380,3470,3560,3600,3610,3620,3680,3700,3730,3740,3750,3770,3800,3890,3950,3990,4020,4040,4050,4070,4080,4110,4150,4160,4210,4240,4310,4320,4330,4350,4380,4480,4510,4550,4560,4640,4650,4680,4720,4750,4760,4770,4790,4810,4820,4850,4910,4980,4990,5000,5010,5030,5060,5090,5120,5170,5180,5210,5220,5260,5300,5390,5410,5420,5470,5550,5570,5580,5610,5690,5710,5720,5790,5870,5920,5960,6000,6010,6080,6120,6140,6200,6240,6310,6350,6410,6420,6580,6650,6870,6960,6980,7000,7070,7120,7260,7270,7280,7300,7340,7350,7360,7370,7380,7420,7560,7700,7740,7780,7790,7810,7860,7930,7940,7950,7960,7980,8270,8350,8360,8450,8610,8620,8660,8730,9010,9110,9210,9240,9260,9340,9350,9380,9400,9510,9580,9590,9600,9620,9630,9700,9800,9950,10210,10240,10290,10300,10310,10450,10460,10560,11320,11490,11650,11670,11800,11810,11930,11950,11960,12380,12430,12870,13560,14440,14570,15150,15790],\"xaxis\":\"x\",\"y\":[96.6,98.6,97.7,95.8,96.3,96.6,90.9,87.2,94.0,84.4,87.7,85.7,85.7,77.5,78.4,84.7,75.0,78.0,79.3,73.2,72.3,70.7,66.0,63.4,64.8,62.5,69.5,59.5,62.3,61.4,66.0,55.3,63.7,55.9,47.4,63.4,59.2,59.6,61.0,64.0,47.1,54.1,48.9,55.8,46.1,48.0,53.1,48.1,49.4,54.8,56.4,53.1,54.0,46.1,45.6,55.5,50.8,46.5,37.7,49.1,42.4,48.7,40.2,57.3,51.7,51.1,38.4,37.2,43.5,39.6,52.6,35.5,51.5,46.0,47.3,51.9,36.4,36.5,34.9,48.2,42.0,50.3,46.1,33.4,48.5,33.8,40.2,37.5,46.4,29.7,31.7,43.5,40.2,34.7,43.5,36.7,35.9,28.3,38.2,28.9,36.5,46.0,37.5,35.5,43.6,27.6,31.6,39.9,30.8,44.1,30.0,39.1,31.6,23.5,25.0,32.4,36.9,25.2,27.4,33.4,41.2,41.2,34.3,42.6,39.5,28.3,42.7,31.8,39.0,40.7,27.4,22.2,16.8,27.6,28.2,23.2,26.2,28.5,24.8,33.4,32.7,29.7,35.0,29.2,32.6,27.4,41.3,33.9,33.2,40.6,27.4,31.1,24.4,20.0,33.7,34.1,30.0,41.1,35.9,26.9,33.8,42.9,28.6,36.4,26.1,39.6,26.3,34.5,20.2,36.0,23.3,26.6,28.6,22.6,25.7,39.9,17.8,33.8,28.3,21.5,21.6,20.5,28.7,22.8,36.9,21.5,20.7,41.3,23.5,21.0,36.1,36.4,19.5,26.0,35.2,27.4,39.2,17.3,44.4,26.6,17.8,18.5,20.7,18.6,32.9,33.0,18.6,32.7,28.8,27.3,29.3,24.3,23.2,26.3,30.6,34.1,26.1,18.8,17.7,25.1,26.3,25.3,30.7,25.2,30.7,35.7,21.3,24.4,38.4,19.1,30.0,35.9,19.8,36.9,18.5,29.9,22.5,29.0,17.4,48.0,20.0,17.7,36.9,27.5,24.0,29.8,25.8,21.1,39.1,22.1,17.5,22.9,23.0,18.8,21.5,19.4,24.5,19.4,17.5,22.4,20.7,18.3,28.8,21.8,18.1,33.4,25.5,26.6,34.5,18.3,19.6,17.8,24.0,19.7,18.9,20.3,18.5,18.4,22.8,18.2,17.9,24.1,17.4],\"yaxis\":\"y\",\"type\":\"scatter\"}],                        {\"template\":{\"data\":{\"histogram2dcontour\":[{\"type\":\"histogram2dcontour\",\"colorbar\":{\"outlinewidth\":0,\"ticks\":\"\"},\"colorscale\":[[0.0,\"#0d0887\"],[0.1111111111111111,\"#46039f\"],[0.2222222222222222,\"#7201a8\"],[0.3333333333333333,\"#9c179e\"],[0.4444444444444444,\"#bd3786\"],[0.5555555555555556,\"#d8576b\"],[0.6666666666666666,\"#ed7953\"],[0.7777777777777778,\"#fb9f3a\"],[0.8888888888888888,\"#fdca26\"],[1.0,\"#f0f921\"]]}],\"choropleth\":[{\"type\":\"choropleth\",\"colorbar\":{\"outlinewidth\":0,\"ticks\":\"\"}}],\"histogram2d\":[{\"type\":\"histogram2d\",\"colorbar\":{\"outlinewidth\":0,\"ticks\":\"\"},\"colorscale\":[[0.0,\"#0d0887\"],[0.1111111111111111,\"#46039f\"],[0.2222222222222222,\"#7201a8\"],[0.3333333333333333,\"#9c179e\"],[0.4444444444444444,\"#bd3786\"],[0.5555555555555556,\"#d8576b\"],[0.6666666666666666,\"#ed7953\"],[0.7777777777777778,\"#fb9f3a\"],[0.8888888888888888,\"#fdca26\"],[1.0,\"#f0f921\"]]}],\"heatmap\":[{\"type\":\"heatmap\",\"colorbar\":{\"outlinewidth\":0,\"ticks\":\"\"},\"colorscale\":[[0.0,\"#0d0887\"],[0.1111111111111111,\"#46039f\"],[0.2222222222222222,\"#7201a8\"],[0.3333333333333333,\"#9c179e\"],[0.4444444444444444,\"#bd3786\"],[0.5555555555555556,\"#d8576b\"],[0.6666666666666666,\"#ed7953\"],[0.7777777777777778,\"#fb9f3a\"],[0.8888888888888888,\"#fdca26\"],[1.0,\"#f0f921\"]]}],\"heatmapgl\":[{\"type\":\"heatmapgl\",\"colorbar\":{\"outlinewidth\":0,\"ticks\":\"\"},\"colorscale\":[[0.0,\"#0d0887\"],[0.1111111111111111,\"#46039f\"],[0.2222222222222222,\"#7201a8\"],[0.3333333333333333,\"#9c179e\"],[0.4444444444444444,\"#bd3786\"],[0.5555555555555556,\"#d8576b\"],[0.6666666666666666,\"#ed7953\"],[0.7777777777777778,\"#fb9f3a\"],[0.8888888888888888,\"#fdca26\"],[1.0,\"#f0f921\"]]}],\"contourcarpet\":[{\"type\":\"contourcarpet\",\"colorbar\":{\"outlinewidth\":0,\"ticks\":\"\"}}],\"contour\":[{\"type\":\"contour\",\"colorbar\":{\"outlinewidth\":0,\"ticks\":\"\"},\"colorscale\":[[0.0,\"#0d0887\"],[0.1111111111111111,\"#46039f\"],[0.2222222222222222,\"#7201a8\"],[0.3333333333333333,\"#9c179e\"],[0.4444444444444444,\"#bd3786\"],[0.5555555555555556,\"#d8576b\"],[0.6666666666666666,\"#ed7953\"],[0.7777777777777778,\"#fb9f3a\"],[0.8888888888888888,\"#fdca26\"],[1.0,\"#f0f921\"]]}],\"surface\":[{\"type\":\"surface\",\"colorbar\":{\"outlinewidth\":0,\"ticks\":\"\"},\"colorscale\":[[0.0,\"#0d0887\"],[0.1111111111111111,\"#46039f\"],[0.2222222222222222,\"#7201a8\"],[0.3333333333333333,\"#9c179e\"],[0.4444444444444444,\"#bd3786\"],[0.5555555555555556,\"#d8576b\"],[0.6666666666666666,\"#ed7953\"],[0.7777777777777778,\"#fb9f3a\"],[0.8888888888888888,\"#fdca26\"],[1.0,\"#f0f921\"]]}],\"mesh3d\":[{\"type\":\"mesh3d\",\"colorbar\":{\"outlinewidth\":0,\"ticks\":\"\"}}],\"scatter\":[{\"fillpattern\":{\"fillmode\":\"overlay\",\"size\":10,\"solidity\":0.2},\"type\":\"scatter\"}],\"parcoords\":[{\"type\":\"parcoords\",\"line\":{\"colorbar\":{\"outlinewidth\":0,\"ticks\":\"\"}}}],\"scatterpolargl\":[{\"type\":\"scatterpolargl\",\"marker\":{\"colorbar\":{\"outlinewidth\":0,\"ticks\":\"\"}}}],\"bar\":[{\"error_x\":{\"color\":\"#2a3f5f\"},\"error_y\":{\"color\":\"#2a3f5f\"},\"marker\":{\"line\":{\"color\":\"#E5ECF6\",\"width\":0.5},\"pattern\":{\"fillmode\":\"overlay\",\"size\":10,\"solidity\":0.2}},\"type\":\"bar\"}],\"scattergeo\":[{\"type\":\"scattergeo\",\"marker\":{\"colorbar\":{\"outlinewidth\":0,\"ticks\":\"\"}}}],\"scatterpolar\":[{\"type\":\"scatterpolar\",\"marker\":{\"colorbar\":{\"outlinewidth\":0,\"ticks\":\"\"}}}],\"histogram\":[{\"marker\":{\"pattern\":{\"fillmode\":\"overlay\",\"size\":10,\"solidity\":0.2}},\"type\":\"histogram\"}],\"scattergl\":[{\"type\":\"scattergl\",\"marker\":{\"colorbar\":{\"outlinewidth\":0,\"ticks\":\"\"}}}],\"scatter3d\":[{\"type\":\"scatter3d\",\"line\":{\"colorbar\":{\"outlinewidth\":0,\"ticks\":\"\"}},\"marker\":{\"colorbar\":{\"outlinewidth\":0,\"ticks\":\"\"}}}],\"scattermapbox\":[{\"type\":\"scattermapbox\",\"marker\":{\"colorbar\":{\"outlinewidth\":0,\"ticks\":\"\"}}}],\"scatterternary\":[{\"type\":\"scatterternary\",\"marker\":{\"colorbar\":{\"outlinewidth\":0,\"ticks\":\"\"}}}],\"scattercarpet\":[{\"type\":\"scattercarpet\",\"marker\":{\"colorbar\":{\"outlinewidth\":0,\"ticks\":\"\"}}}],\"carpet\":[{\"aaxis\":{\"endlinecolor\":\"#2a3f5f\",\"gridcolor\":\"white\",\"linecolor\":\"white\",\"minorgridcolor\":\"white\",\"startlinecolor\":\"#2a3f5f\"},\"baxis\":{\"endlinecolor\":\"#2a3f5f\",\"gridcolor\":\"white\",\"linecolor\":\"white\",\"minorgridcolor\":\"white\",\"startlinecolor\":\"#2a3f5f\"},\"type\":\"carpet\"}],\"table\":[{\"cells\":{\"fill\":{\"color\":\"#EBF0F8\"},\"line\":{\"color\":\"white\"}},\"header\":{\"fill\":{\"color\":\"#C8D4E3\"},\"line\":{\"color\":\"white\"}},\"type\":\"table\"}],\"barpolar\":[{\"marker\":{\"line\":{\"color\":\"#E5ECF6\",\"width\":0.5},\"pattern\":{\"fillmode\":\"overlay\",\"size\":10,\"solidity\":0.2}},\"type\":\"barpolar\"}],\"pie\":[{\"automargin\":true,\"type\":\"pie\"}]},\"layout\":{\"autotypenumbers\":\"strict\",\"colorway\":[\"#636efa\",\"#EF553B\",\"#00cc96\",\"#ab63fa\",\"#FFA15A\",\"#19d3f3\",\"#FF6692\",\"#B6E880\",\"#FF97FF\",\"#FECB52\"],\"font\":{\"color\":\"#2a3f5f\"},\"hovermode\":\"closest\",\"hoverlabel\":{\"align\":\"left\"},\"paper_bgcolor\":\"white\",\"plot_bgcolor\":\"#E5ECF6\",\"polar\":{\"bgcolor\":\"#E5ECF6\",\"angularaxis\":{\"gridcolor\":\"white\",\"linecolor\":\"white\",\"ticks\":\"\"},\"radialaxis\":{\"gridcolor\":\"white\",\"linecolor\":\"white\",\"ticks\":\"\"}},\"ternary\":{\"bgcolor\":\"#E5ECF6\",\"aaxis\":{\"gridcolor\":\"white\",\"linecolor\":\"white\",\"ticks\":\"\"},\"baxis\":{\"gridcolor\":\"white\",\"linecolor\":\"white\",\"ticks\":\"\"},\"caxis\":{\"gridcolor\":\"white\",\"linecolor\":\"white\",\"ticks\":\"\"}},\"coloraxis\":{\"colorbar\":{\"outlinewidth\":0,\"ticks\":\"\"}},\"colorscale\":{\"sequential\":[[0.0,\"#0d0887\"],[0.1111111111111111,\"#46039f\"],[0.2222222222222222,\"#7201a8\"],[0.3333333333333333,\"#9c179e\"],[0.4444444444444444,\"#bd3786\"],[0.5555555555555556,\"#d8576b\"],[0.6666666666666666,\"#ed7953\"],[0.7777777777777778,\"#fb9f3a\"],[0.8888888888888888,\"#fdca26\"],[1.0,\"#f0f921\"]],\"sequentialminus\":[[0.0,\"#0d0887\"],[0.1111111111111111,\"#46039f\"],[0.2222222222222222,\"#7201a8\"],[0.3333333333333333,\"#9c179e\"],[0.4444444444444444,\"#bd3786\"],[0.5555555555555556,\"#d8576b\"],[0.6666666666666666,\"#ed7953\"],[0.7777777777777778,\"#fb9f3a\"],[0.8888888888888888,\"#fdca26\"],[1.0,\"#f0f921\"]],\"diverging\":[[0,\"#8e0152\"],[0.1,\"#c51b7d\"],[0.2,\"#de77ae\"],[0.3,\"#f1b6da\"],[0.4,\"#fde0ef\"],[0.5,\"#f7f7f7\"],[0.6,\"#e6f5d0\"],[0.7,\"#b8e186\"],[0.8,\"#7fbc41\"],[0.9,\"#4d9221\"],[1,\"#276419\"]]},\"xaxis\":{\"gridcolor\":\"white\",\"linecolor\":\"white\",\"ticks\":\"\",\"title\":{\"standoff\":15},\"zerolinecolor\":\"white\",\"automargin\":true,\"zerolinewidth\":2},\"yaxis\":{\"gridcolor\":\"white\",\"linecolor\":\"white\",\"ticks\":\"\",\"title\":{\"standoff\":15},\"zerolinecolor\":\"white\",\"automargin\":true,\"zerolinewidth\":2},\"scene\":{\"xaxis\":{\"backgroundcolor\":\"#E5ECF6\",\"gridcolor\":\"white\",\"linecolor\":\"white\",\"showbackground\":true,\"ticks\":\"\",\"zerolinecolor\":\"white\",\"gridwidth\":2},\"yaxis\":{\"backgroundcolor\":\"#E5ECF6\",\"gridcolor\":\"white\",\"linecolor\":\"white\",\"showbackground\":true,\"ticks\":\"\",\"zerolinecolor\":\"white\",\"gridwidth\":2},\"zaxis\":{\"backgroundcolor\":\"#E5ECF6\",\"gridcolor\":\"white\",\"linecolor\":\"white\",\"showbackground\":true,\"ticks\":\"\",\"zerolinecolor\":\"white\",\"gridwidth\":2}},\"shapedefaults\":{\"line\":{\"color\":\"#2a3f5f\"}},\"annotationdefaults\":{\"arrowcolor\":\"#2a3f5f\",\"arrowhead\":0,\"arrowwidth\":1},\"geo\":{\"bgcolor\":\"white\",\"landcolor\":\"#E5ECF6\",\"subunitcolor\":\"white\",\"showland\":true,\"showlakes\":true,\"lakecolor\":\"white\"},\"title\":{\"x\":0.05},\"mapbox\":{\"style\":\"light\"}}},\"xaxis\":{\"anchor\":\"y\",\"domain\":[0.0,1.0],\"title\":{\"text\":\"Overall Rank\"}},\"yaxis\":{\"anchor\":\"x\",\"domain\":[0.0,1.0],\"title\":{\"text\":\"Teaching Scores\"}},\"legend\":{\"tracegroupgap\":0},\"title\":{\"text\":\"Rank vs. Teaching Scores\"}},                        {\"responsive\": true}                    ).then(function(){\n",
       "                            \n",
       "var gd = document.getElementById('e1622ab8-b6d9-4093-8c1b-e2a746929f2d');\n",
       "var x = new MutationObserver(function (mutations, observer) {{\n",
       "        var display = window.getComputedStyle(gd).display;\n",
       "        if (!display || display === 'none') {{\n",
       "            console.log([gd, 'removed!']);\n",
       "            Plotly.purge(gd);\n",
       "            observer.disconnect();\n",
       "        }}\n",
       "}});\n",
       "\n",
       "// Listen for the removal of the full notebook cells\n",
       "var notebookContainer = gd.closest('#notebook-container');\n",
       "if (notebookContainer) {{\n",
       "    x.observe(notebookContainer, {childList: true});\n",
       "}}\n",
       "\n",
       "// Listen for the clearing of the current output cell\n",
       "var outputEl = gd.closest('.output');\n",
       "if (outputEl) {{\n",
       "    x.observe(outputEl, {childList: true});\n",
       "}}\n",
       "\n",
       "                        })                };                });            </script>        </div>"
      ]
     },
     "metadata": {},
     "output_type": "display_data"
    }
   ],
   "source": [
    "import plotly.express as px\n",
    "\n",
    "# Create a scatter plot to explore the relationship\n",
    "fig = px.scatter(data, x='scores_overall_rank', y='scores_teaching', title='Rank vs. Teaching Scores')\n",
    "fig.update_xaxes(title='Overall Rank')\n",
    "fig.update_yaxes(title='Teaching Scores')\n",
    "fig.show()\n"
   ]
  },
  {
   "cell_type": "markdown",
   "id": "afd55d04",
   "metadata": {
    "papermill": {
     "duration": 0.017137,
     "end_time": "2023-10-01T21:44:58.973306",
     "exception": false,
     "start_time": "2023-10-01T21:44:58.956169",
     "status": "completed"
    },
    "tags": []
   },
   "source": [
    "#### Citations vs. Research Scores:\n"
   ]
  },
  {
   "cell_type": "markdown",
   "id": "ff1589bf",
   "metadata": {
    "papermill": {
     "duration": 0.018409,
     "end_time": "2023-10-01T21:44:59.008733",
     "exception": false,
     "start_time": "2023-10-01T21:44:58.990324",
     "status": "completed"
    },
    "tags": []
   },
   "source": [
    "- How do citations and research scores correlate?\n"
   ]
  },
  {
   "cell_type": "code",
   "execution_count": 25,
   "id": "84b2a886",
   "metadata": {
    "execution": {
     "iopub.execute_input": "2023-10-01T21:44:59.046591Z",
     "iopub.status.busy": "2023-10-01T21:44:59.045797Z",
     "iopub.status.idle": "2023-10-01T21:44:59.106872Z",
     "shell.execute_reply": "2023-10-01T21:44:59.105541Z"
    },
    "papermill": {
     "duration": 0.08152,
     "end_time": "2023-10-01T21:44:59.109531",
     "exception": false,
     "start_time": "2023-10-01T21:44:59.028011",
     "status": "completed"
    },
    "tags": []
   },
   "outputs": [
    {
     "data": {
      "text/html": [
       "<div>                            <div id=\"805f438a-d7f1-4696-9d70-9498e6d80290\" class=\"plotly-graph-div\" style=\"height:525px; width:100%;\"></div>            <script type=\"text/javascript\">                require([\"plotly\"], function(Plotly) {                    window.PLOTLYENV=window.PLOTLYENV || {};                                    if (document.getElementById(\"805f438a-d7f1-4696-9d70-9498e6d80290\")) {                    Plotly.newPlot(                        \"805f438a-d7f1-4696-9d70-9498e6d80290\",                        [{\"hovertemplate\":\"scores_citations=%{x}\\u003cbr\\u003escores_research=%{y}\\u003cextra\\u003e\\u003c\\u002fextra\\u003e\",\"legendgroup\":\"\",\"marker\":{\"color\":\"#636efa\",\"symbol\":\"circle\"},\"mode\":\"markers\",\"name\":\"\",\"orientation\":\"v\",\"showlegend\":false,\"x\":[99.0,99.7,99.4,98.0,98.8,95.9,98.6,99.0,97.7,97.2,97.6,96.4,97.6,92.8,98.6,95.5,98.9,98.2,96.2,94.9,97.8,96.9,97.6,94.1,90.1,90.5,85.2,95.4,88.8,93.1,91.0,94.7,87.2,86.6,96.9,93.9,92.5,94.3,87.2,71.8,93.2,96.0,92.7,88.4,95.5,92.3,95.5,89.0,92.8,86.2,86.5,83.7,87.3,87.3,90.6,78.3,88.3,88.6,88.7,92.4,90.8,85.7,93.9,84.7,88.7,88.9,93.4,93.8,83.5,84.4,85.1,91.9,87.5,77.7,84.9,76.1,81.8,81.7,93.3,86.0,75.8,80.0,79.9,95.5,83.2,85.5,93.3,84.1,78.4,92.7,91.3,87.0,75.2,80.5,84.6,84.6,85.7,91.4,79.4,88.1,77.4,73.3,72.3,83.2,81.4,89.7,82.0,76.1,78.9,79.6,81.0,91.7,79.0,93.5,82.5,71.2,74.8,80.7,78.6,93.7,72.8,68.2,65.2,67.8,69.3,79.6,73.1,76.3,62.9,85.2,80.1,82.5,97.0,72.7,82.5,86.7,86.8,74.7,73.9,74.4,72.5,82.7,72.6,75.4,66.2,74.3,71.8,68.4,69.6,66.0,69.2,79.4,79.5,84.5,57.2,60.9,75.6,80.9,75.1,74.6,73.3,73.1,69.4,82.8,74.3,80.6,68.5,63.1,84.8,59.6,73.8,74.4,62.4,67.0,66.2,64.2,81.2,65.8,66.3,73.3,77.7,77.4,60.5,80.0,77.8,75.8,84.6,78.0,65.4,79.2,71.9,70.2,82.6,64.4,57.2,62.6,61.3,77.8,45.6,66.8,71.0,71.8,66.7,67.2,57.4,57.6,65.9,61.1,61.5,58.8,64.7,62.4,74.4,60.0,61.2,60.8,61.2,63.5,68.7,62.5,57.4,79.3,61.1,65.5,56.9,54.5,62.0,66.5,62.2,64.7,61.2,62.1,53.9,48.1,55.1,41.2,57.3,45.2,57.6,41.6,53.2,65.0,54.0,55.0,56.3,45.8,49.8,51.7,50.1,55.7,53.4,58.4,52.0,61.1,71.1,66.7,44.8,55.3,52.4,52.7,44.6,51.9,46.8,41.0,55.6,39.8,44.5,45.9,33.6,42.0,52.7,47.8,39.2,47.8,50.5,34.8,30.3,43.2,29.2,40.2,45.1,26.1,30.4],\"xaxis\":\"x\",\"y\":[100.0,96.2,99.9,100.0,97.9,98.0,95.5,98.8,94.9,92.3,89.7,91.9,88.7,94.1,86.4,87.4,84.6,83.5,76.1,84.0,78.8,77.5,78.4,78.9,76.4,76.6,81.5,73.5,72.3,67.1,75.7,67.8,67.8,68.0,64.7,60.3,58.8,54.1,58.5,65.3,53.8,48.5,50.1,52.7,49.3,49.5,45.7,52.1,58.1,52.3,45.6,58.7,46.9,49.1,45.9,56.7,42.9,51.9,48.6,46.1,44.8,51.3,40.7,40.7,40.2,40.1,40.2,41.1,44.5,46.5,37.0,39.6,35.0,42.6,38.4,42.6,35.8,41.4,39.8,35.7,42.5,33.9,37.0,34.2,34.7,38.8,33.6,40.6,37.2,35.6,34.0,38.5,42.9,35.1,30.5,28.3,35.4,34.6,38.6,35.4,34.4,41.4,38.0,36.2,29.7,30.2,38.4,34.1,31.6,26.0,31.8,21.3,29.3,25.8,36.8,35.5,34.5,26.5,30.9,23.7,30.2,40.5,33.4,26.9,34.5,30.9,25.9,34.7,35.1,24.3,31.2,26.5,25.7,25.3,23.1,21.1,23.9,34.4,32.5,31.7,31.8,27.5,25.4,25.2,36.2,24.3,30.8,26.7,28.7,26.0,23.5,30.5,21.9,20.0,33.8,30.3,20.7,16.3,24.6,25.3,28.2,24.4,34.1,23.2,31.0,22.0,23.0,31.0,16.3,25.7,22.4,22.0,30.9,31.2,29.3,24.3,17.5,29.7,25.0,24.6,19.3,18.5,28.2,18.5,16.4,22.7,14.3,14.2,27.7,22.5,17.2,20.4,15.0,21.2,17.1,30.5,19.7,11.8,20.0,20.8,15.1,12.8,13.9,13.4,20.9,22.5,12.4,21.4,24.6,20.0,25.6,25.0,22.1,15.9,20.1,20.9,20.4,25.0,16.1,21.1,20.5,12.8,22.0,20.5,20.9,16.7,22.4,16.0,21.7,14.7,22.1,20.3,16.5,14.7,17.9,18.0,21.9,16.4,14.0,18.8,15.3,16.2,18.2,19.0,20.4,15.5,22.1,21.8,12.2,23.2,13.2,20.2,21.5,15.0,11.9,14.4,28.7,18.1,14.3,13.9,13.8,13.8,15.3,15.1,13.8,16.7,15.9,12.4,15.9,11.8,13.1,16.0,17.1,9.7,16.3,12.8,13.0,11.6,12.6,9.9,8.5,7.7,7.9],\"yaxis\":\"y\",\"type\":\"scatter\"}],                        {\"template\":{\"data\":{\"histogram2dcontour\":[{\"type\":\"histogram2dcontour\",\"colorbar\":{\"outlinewidth\":0,\"ticks\":\"\"},\"colorscale\":[[0.0,\"#0d0887\"],[0.1111111111111111,\"#46039f\"],[0.2222222222222222,\"#7201a8\"],[0.3333333333333333,\"#9c179e\"],[0.4444444444444444,\"#bd3786\"],[0.5555555555555556,\"#d8576b\"],[0.6666666666666666,\"#ed7953\"],[0.7777777777777778,\"#fb9f3a\"],[0.8888888888888888,\"#fdca26\"],[1.0,\"#f0f921\"]]}],\"choropleth\":[{\"type\":\"choropleth\",\"colorbar\":{\"outlinewidth\":0,\"ticks\":\"\"}}],\"histogram2d\":[{\"type\":\"histogram2d\",\"colorbar\":{\"outlinewidth\":0,\"ticks\":\"\"},\"colorscale\":[[0.0,\"#0d0887\"],[0.1111111111111111,\"#46039f\"],[0.2222222222222222,\"#7201a8\"],[0.3333333333333333,\"#9c179e\"],[0.4444444444444444,\"#bd3786\"],[0.5555555555555556,\"#d8576b\"],[0.6666666666666666,\"#ed7953\"],[0.7777777777777778,\"#fb9f3a\"],[0.8888888888888888,\"#fdca26\"],[1.0,\"#f0f921\"]]}],\"heatmap\":[{\"type\":\"heatmap\",\"colorbar\":{\"outlinewidth\":0,\"ticks\":\"\"},\"colorscale\":[[0.0,\"#0d0887\"],[0.1111111111111111,\"#46039f\"],[0.2222222222222222,\"#7201a8\"],[0.3333333333333333,\"#9c179e\"],[0.4444444444444444,\"#bd3786\"],[0.5555555555555556,\"#d8576b\"],[0.6666666666666666,\"#ed7953\"],[0.7777777777777778,\"#fb9f3a\"],[0.8888888888888888,\"#fdca26\"],[1.0,\"#f0f921\"]]}],\"heatmapgl\":[{\"type\":\"heatmapgl\",\"colorbar\":{\"outlinewidth\":0,\"ticks\":\"\"},\"colorscale\":[[0.0,\"#0d0887\"],[0.1111111111111111,\"#46039f\"],[0.2222222222222222,\"#7201a8\"],[0.3333333333333333,\"#9c179e\"],[0.4444444444444444,\"#bd3786\"],[0.5555555555555556,\"#d8576b\"],[0.6666666666666666,\"#ed7953\"],[0.7777777777777778,\"#fb9f3a\"],[0.8888888888888888,\"#fdca26\"],[1.0,\"#f0f921\"]]}],\"contourcarpet\":[{\"type\":\"contourcarpet\",\"colorbar\":{\"outlinewidth\":0,\"ticks\":\"\"}}],\"contour\":[{\"type\":\"contour\",\"colorbar\":{\"outlinewidth\":0,\"ticks\":\"\"},\"colorscale\":[[0.0,\"#0d0887\"],[0.1111111111111111,\"#46039f\"],[0.2222222222222222,\"#7201a8\"],[0.3333333333333333,\"#9c179e\"],[0.4444444444444444,\"#bd3786\"],[0.5555555555555556,\"#d8576b\"],[0.6666666666666666,\"#ed7953\"],[0.7777777777777778,\"#fb9f3a\"],[0.8888888888888888,\"#fdca26\"],[1.0,\"#f0f921\"]]}],\"surface\":[{\"type\":\"surface\",\"colorbar\":{\"outlinewidth\":0,\"ticks\":\"\"},\"colorscale\":[[0.0,\"#0d0887\"],[0.1111111111111111,\"#46039f\"],[0.2222222222222222,\"#7201a8\"],[0.3333333333333333,\"#9c179e\"],[0.4444444444444444,\"#bd3786\"],[0.5555555555555556,\"#d8576b\"],[0.6666666666666666,\"#ed7953\"],[0.7777777777777778,\"#fb9f3a\"],[0.8888888888888888,\"#fdca26\"],[1.0,\"#f0f921\"]]}],\"mesh3d\":[{\"type\":\"mesh3d\",\"colorbar\":{\"outlinewidth\":0,\"ticks\":\"\"}}],\"scatter\":[{\"fillpattern\":{\"fillmode\":\"overlay\",\"size\":10,\"solidity\":0.2},\"type\":\"scatter\"}],\"parcoords\":[{\"type\":\"parcoords\",\"line\":{\"colorbar\":{\"outlinewidth\":0,\"ticks\":\"\"}}}],\"scatterpolargl\":[{\"type\":\"scatterpolargl\",\"marker\":{\"colorbar\":{\"outlinewidth\":0,\"ticks\":\"\"}}}],\"bar\":[{\"error_x\":{\"color\":\"#2a3f5f\"},\"error_y\":{\"color\":\"#2a3f5f\"},\"marker\":{\"line\":{\"color\":\"#E5ECF6\",\"width\":0.5},\"pattern\":{\"fillmode\":\"overlay\",\"size\":10,\"solidity\":0.2}},\"type\":\"bar\"}],\"scattergeo\":[{\"type\":\"scattergeo\",\"marker\":{\"colorbar\":{\"outlinewidth\":0,\"ticks\":\"\"}}}],\"scatterpolar\":[{\"type\":\"scatterpolar\",\"marker\":{\"colorbar\":{\"outlinewidth\":0,\"ticks\":\"\"}}}],\"histogram\":[{\"marker\":{\"pattern\":{\"fillmode\":\"overlay\",\"size\":10,\"solidity\":0.2}},\"type\":\"histogram\"}],\"scattergl\":[{\"type\":\"scattergl\",\"marker\":{\"colorbar\":{\"outlinewidth\":0,\"ticks\":\"\"}}}],\"scatter3d\":[{\"type\":\"scatter3d\",\"line\":{\"colorbar\":{\"outlinewidth\":0,\"ticks\":\"\"}},\"marker\":{\"colorbar\":{\"outlinewidth\":0,\"ticks\":\"\"}}}],\"scattermapbox\":[{\"type\":\"scattermapbox\",\"marker\":{\"colorbar\":{\"outlinewidth\":0,\"ticks\":\"\"}}}],\"scatterternary\":[{\"type\":\"scatterternary\",\"marker\":{\"colorbar\":{\"outlinewidth\":0,\"ticks\":\"\"}}}],\"scattercarpet\":[{\"type\":\"scattercarpet\",\"marker\":{\"colorbar\":{\"outlinewidth\":0,\"ticks\":\"\"}}}],\"carpet\":[{\"aaxis\":{\"endlinecolor\":\"#2a3f5f\",\"gridcolor\":\"white\",\"linecolor\":\"white\",\"minorgridcolor\":\"white\",\"startlinecolor\":\"#2a3f5f\"},\"baxis\":{\"endlinecolor\":\"#2a3f5f\",\"gridcolor\":\"white\",\"linecolor\":\"white\",\"minorgridcolor\":\"white\",\"startlinecolor\":\"#2a3f5f\"},\"type\":\"carpet\"}],\"table\":[{\"cells\":{\"fill\":{\"color\":\"#EBF0F8\"},\"line\":{\"color\":\"white\"}},\"header\":{\"fill\":{\"color\":\"#C8D4E3\"},\"line\":{\"color\":\"white\"}},\"type\":\"table\"}],\"barpolar\":[{\"marker\":{\"line\":{\"color\":\"#E5ECF6\",\"width\":0.5},\"pattern\":{\"fillmode\":\"overlay\",\"size\":10,\"solidity\":0.2}},\"type\":\"barpolar\"}],\"pie\":[{\"automargin\":true,\"type\":\"pie\"}]},\"layout\":{\"autotypenumbers\":\"strict\",\"colorway\":[\"#636efa\",\"#EF553B\",\"#00cc96\",\"#ab63fa\",\"#FFA15A\",\"#19d3f3\",\"#FF6692\",\"#B6E880\",\"#FF97FF\",\"#FECB52\"],\"font\":{\"color\":\"#2a3f5f\"},\"hovermode\":\"closest\",\"hoverlabel\":{\"align\":\"left\"},\"paper_bgcolor\":\"white\",\"plot_bgcolor\":\"#E5ECF6\",\"polar\":{\"bgcolor\":\"#E5ECF6\",\"angularaxis\":{\"gridcolor\":\"white\",\"linecolor\":\"white\",\"ticks\":\"\"},\"radialaxis\":{\"gridcolor\":\"white\",\"linecolor\":\"white\",\"ticks\":\"\"}},\"ternary\":{\"bgcolor\":\"#E5ECF6\",\"aaxis\":{\"gridcolor\":\"white\",\"linecolor\":\"white\",\"ticks\":\"\"},\"baxis\":{\"gridcolor\":\"white\",\"linecolor\":\"white\",\"ticks\":\"\"},\"caxis\":{\"gridcolor\":\"white\",\"linecolor\":\"white\",\"ticks\":\"\"}},\"coloraxis\":{\"colorbar\":{\"outlinewidth\":0,\"ticks\":\"\"}},\"colorscale\":{\"sequential\":[[0.0,\"#0d0887\"],[0.1111111111111111,\"#46039f\"],[0.2222222222222222,\"#7201a8\"],[0.3333333333333333,\"#9c179e\"],[0.4444444444444444,\"#bd3786\"],[0.5555555555555556,\"#d8576b\"],[0.6666666666666666,\"#ed7953\"],[0.7777777777777778,\"#fb9f3a\"],[0.8888888888888888,\"#fdca26\"],[1.0,\"#f0f921\"]],\"sequentialminus\":[[0.0,\"#0d0887\"],[0.1111111111111111,\"#46039f\"],[0.2222222222222222,\"#7201a8\"],[0.3333333333333333,\"#9c179e\"],[0.4444444444444444,\"#bd3786\"],[0.5555555555555556,\"#d8576b\"],[0.6666666666666666,\"#ed7953\"],[0.7777777777777778,\"#fb9f3a\"],[0.8888888888888888,\"#fdca26\"],[1.0,\"#f0f921\"]],\"diverging\":[[0,\"#8e0152\"],[0.1,\"#c51b7d\"],[0.2,\"#de77ae\"],[0.3,\"#f1b6da\"],[0.4,\"#fde0ef\"],[0.5,\"#f7f7f7\"],[0.6,\"#e6f5d0\"],[0.7,\"#b8e186\"],[0.8,\"#7fbc41\"],[0.9,\"#4d9221\"],[1,\"#276419\"]]},\"xaxis\":{\"gridcolor\":\"white\",\"linecolor\":\"white\",\"ticks\":\"\",\"title\":{\"standoff\":15},\"zerolinecolor\":\"white\",\"automargin\":true,\"zerolinewidth\":2},\"yaxis\":{\"gridcolor\":\"white\",\"linecolor\":\"white\",\"ticks\":\"\",\"title\":{\"standoff\":15},\"zerolinecolor\":\"white\",\"automargin\":true,\"zerolinewidth\":2},\"scene\":{\"xaxis\":{\"backgroundcolor\":\"#E5ECF6\",\"gridcolor\":\"white\",\"linecolor\":\"white\",\"showbackground\":true,\"ticks\":\"\",\"zerolinecolor\":\"white\",\"gridwidth\":2},\"yaxis\":{\"backgroundcolor\":\"#E5ECF6\",\"gridcolor\":\"white\",\"linecolor\":\"white\",\"showbackground\":true,\"ticks\":\"\",\"zerolinecolor\":\"white\",\"gridwidth\":2},\"zaxis\":{\"backgroundcolor\":\"#E5ECF6\",\"gridcolor\":\"white\",\"linecolor\":\"white\",\"showbackground\":true,\"ticks\":\"\",\"zerolinecolor\":\"white\",\"gridwidth\":2}},\"shapedefaults\":{\"line\":{\"color\":\"#2a3f5f\"}},\"annotationdefaults\":{\"arrowcolor\":\"#2a3f5f\",\"arrowhead\":0,\"arrowwidth\":1},\"geo\":{\"bgcolor\":\"white\",\"landcolor\":\"#E5ECF6\",\"subunitcolor\":\"white\",\"showland\":true,\"showlakes\":true,\"lakecolor\":\"white\"},\"title\":{\"x\":0.05},\"mapbox\":{\"style\":\"light\"}}},\"xaxis\":{\"anchor\":\"y\",\"domain\":[0.0,1.0],\"title\":{\"text\":\"Citations Scores\"}},\"yaxis\":{\"anchor\":\"x\",\"domain\":[0.0,1.0],\"title\":{\"text\":\"Research Scores\"}},\"legend\":{\"tracegroupgap\":0},\"title\":{\"text\":\"Citations vs. Research Scores\"}},                        {\"responsive\": true}                    ).then(function(){\n",
       "                            \n",
       "var gd = document.getElementById('805f438a-d7f1-4696-9d70-9498e6d80290');\n",
       "var x = new MutationObserver(function (mutations, observer) {{\n",
       "        var display = window.getComputedStyle(gd).display;\n",
       "        if (!display || display === 'none') {{\n",
       "            console.log([gd, 'removed!']);\n",
       "            Plotly.purge(gd);\n",
       "            observer.disconnect();\n",
       "        }}\n",
       "}});\n",
       "\n",
       "// Listen for the removal of the full notebook cells\n",
       "var notebookContainer = gd.closest('#notebook-container');\n",
       "if (notebookContainer) {{\n",
       "    x.observe(notebookContainer, {childList: true});\n",
       "}}\n",
       "\n",
       "// Listen for the clearing of the current output cell\n",
       "var outputEl = gd.closest('.output');\n",
       "if (outputEl) {{\n",
       "    x.observe(outputEl, {childList: true});\n",
       "}}\n",
       "\n",
       "                        })                };                });            </script>        </div>"
      ]
     },
     "metadata": {},
     "output_type": "display_data"
    }
   ],
   "source": [
    "import plotly.express as px\n",
    "\n",
    "# Create a scatter plot to explore the relationship\n",
    "fig = px.scatter(data, x='scores_citations', y='scores_research', title='Citations vs. Research Scores')\n",
    "fig.update_xaxes(title='Citations Scores')\n",
    "fig.update_yaxes(title='Research Scores')\n",
    "fig.show()\n"
   ]
  },
  {
   "cell_type": "markdown",
   "id": "02703ced",
   "metadata": {
    "papermill": {
     "duration": 0.01815,
     "end_time": "2023-10-01T21:44:59.146056",
     "exception": false,
     "start_time": "2023-10-01T21:44:59.127906",
     "status": "completed"
    },
    "tags": []
   },
   "source": [
    "#### University Types:\n"
   ]
  },
  {
   "cell_type": "markdown",
   "id": "55aae001",
   "metadata": {
    "papermill": {
     "duration": 0.016797,
     "end_time": "2023-10-01T21:44:59.180920",
     "exception": false,
     "start_time": "2023-10-01T21:44:59.164123",
     "status": "completed"
    },
    "tags": []
   },
   "source": [
    "- What are the different types of universities (record_type) in the dataset, and how many of each type are there?\n"
   ]
  },
  {
   "cell_type": "code",
   "execution_count": 26,
   "id": "6427a0bd",
   "metadata": {
    "execution": {
     "iopub.execute_input": "2023-10-01T21:44:59.220924Z",
     "iopub.status.busy": "2023-10-01T21:44:59.219336Z",
     "iopub.status.idle": "2023-10-01T21:44:59.294466Z",
     "shell.execute_reply": "2023-10-01T21:44:59.293122Z"
    },
    "papermill": {
     "duration": 0.099059,
     "end_time": "2023-10-01T21:44:59.297703",
     "exception": false,
     "start_time": "2023-10-01T21:44:59.198644",
     "status": "completed"
    },
    "tags": []
   },
   "outputs": [
    {
     "data": {
      "text/html": [
       "<div>                            <div id=\"b11b534e-38b1-44d6-bbac-417900033c52\" class=\"plotly-graph-div\" style=\"height:525px; width:100%;\"></div>            <script type=\"text/javascript\">                require([\"plotly\"], function(Plotly) {                    window.PLOTLYENV=window.PLOTLYENV || {};                                    if (document.getElementById(\"b11b534e-38b1-44d6-bbac-417900033c52\")) {                    Plotly.newPlot(                        \"b11b534e-38b1-44d6-bbac-417900033c52\",                        [{\"domain\":{\"x\":[0.0,1.0],\"y\":[0.0,1.0]},\"hovertemplate\":\"University Type=%{label}\\u003cbr\\u003eCount=%{value}\\u003cextra\\u003e\\u003c\\u002fextra\\u003e\",\"labels\":[\"master_account\",\"public\",\"private\"],\"legendgroup\":\"\",\"name\":\"\",\"showlegend\":true,\"values\":[134,96,53],\"type\":\"pie\"}],                        {\"template\":{\"data\":{\"histogram2dcontour\":[{\"type\":\"histogram2dcontour\",\"colorbar\":{\"outlinewidth\":0,\"ticks\":\"\"},\"colorscale\":[[0.0,\"#0d0887\"],[0.1111111111111111,\"#46039f\"],[0.2222222222222222,\"#7201a8\"],[0.3333333333333333,\"#9c179e\"],[0.4444444444444444,\"#bd3786\"],[0.5555555555555556,\"#d8576b\"],[0.6666666666666666,\"#ed7953\"],[0.7777777777777778,\"#fb9f3a\"],[0.8888888888888888,\"#fdca26\"],[1.0,\"#f0f921\"]]}],\"choropleth\":[{\"type\":\"choropleth\",\"colorbar\":{\"outlinewidth\":0,\"ticks\":\"\"}}],\"histogram2d\":[{\"type\":\"histogram2d\",\"colorbar\":{\"outlinewidth\":0,\"ticks\":\"\"},\"colorscale\":[[0.0,\"#0d0887\"],[0.1111111111111111,\"#46039f\"],[0.2222222222222222,\"#7201a8\"],[0.3333333333333333,\"#9c179e\"],[0.4444444444444444,\"#bd3786\"],[0.5555555555555556,\"#d8576b\"],[0.6666666666666666,\"#ed7953\"],[0.7777777777777778,\"#fb9f3a\"],[0.8888888888888888,\"#fdca26\"],[1.0,\"#f0f921\"]]}],\"heatmap\":[{\"type\":\"heatmap\",\"colorbar\":{\"outlinewidth\":0,\"ticks\":\"\"},\"colorscale\":[[0.0,\"#0d0887\"],[0.1111111111111111,\"#46039f\"],[0.2222222222222222,\"#7201a8\"],[0.3333333333333333,\"#9c179e\"],[0.4444444444444444,\"#bd3786\"],[0.5555555555555556,\"#d8576b\"],[0.6666666666666666,\"#ed7953\"],[0.7777777777777778,\"#fb9f3a\"],[0.8888888888888888,\"#fdca26\"],[1.0,\"#f0f921\"]]}],\"heatmapgl\":[{\"type\":\"heatmapgl\",\"colorbar\":{\"outlinewidth\":0,\"ticks\":\"\"},\"colorscale\":[[0.0,\"#0d0887\"],[0.1111111111111111,\"#46039f\"],[0.2222222222222222,\"#7201a8\"],[0.3333333333333333,\"#9c179e\"],[0.4444444444444444,\"#bd3786\"],[0.5555555555555556,\"#d8576b\"],[0.6666666666666666,\"#ed7953\"],[0.7777777777777778,\"#fb9f3a\"],[0.8888888888888888,\"#fdca26\"],[1.0,\"#f0f921\"]]}],\"contourcarpet\":[{\"type\":\"contourcarpet\",\"colorbar\":{\"outlinewidth\":0,\"ticks\":\"\"}}],\"contour\":[{\"type\":\"contour\",\"colorbar\":{\"outlinewidth\":0,\"ticks\":\"\"},\"colorscale\":[[0.0,\"#0d0887\"],[0.1111111111111111,\"#46039f\"],[0.2222222222222222,\"#7201a8\"],[0.3333333333333333,\"#9c179e\"],[0.4444444444444444,\"#bd3786\"],[0.5555555555555556,\"#d8576b\"],[0.6666666666666666,\"#ed7953\"],[0.7777777777777778,\"#fb9f3a\"],[0.8888888888888888,\"#fdca26\"],[1.0,\"#f0f921\"]]}],\"surface\":[{\"type\":\"surface\",\"colorbar\":{\"outlinewidth\":0,\"ticks\":\"\"},\"colorscale\":[[0.0,\"#0d0887\"],[0.1111111111111111,\"#46039f\"],[0.2222222222222222,\"#7201a8\"],[0.3333333333333333,\"#9c179e\"],[0.4444444444444444,\"#bd3786\"],[0.5555555555555556,\"#d8576b\"],[0.6666666666666666,\"#ed7953\"],[0.7777777777777778,\"#fb9f3a\"],[0.8888888888888888,\"#fdca26\"],[1.0,\"#f0f921\"]]}],\"mesh3d\":[{\"type\":\"mesh3d\",\"colorbar\":{\"outlinewidth\":0,\"ticks\":\"\"}}],\"scatter\":[{\"fillpattern\":{\"fillmode\":\"overlay\",\"size\":10,\"solidity\":0.2},\"type\":\"scatter\"}],\"parcoords\":[{\"type\":\"parcoords\",\"line\":{\"colorbar\":{\"outlinewidth\":0,\"ticks\":\"\"}}}],\"scatterpolargl\":[{\"type\":\"scatterpolargl\",\"marker\":{\"colorbar\":{\"outlinewidth\":0,\"ticks\":\"\"}}}],\"bar\":[{\"error_x\":{\"color\":\"#2a3f5f\"},\"error_y\":{\"color\":\"#2a3f5f\"},\"marker\":{\"line\":{\"color\":\"#E5ECF6\",\"width\":0.5},\"pattern\":{\"fillmode\":\"overlay\",\"size\":10,\"solidity\":0.2}},\"type\":\"bar\"}],\"scattergeo\":[{\"type\":\"scattergeo\",\"marker\":{\"colorbar\":{\"outlinewidth\":0,\"ticks\":\"\"}}}],\"scatterpolar\":[{\"type\":\"scatterpolar\",\"marker\":{\"colorbar\":{\"outlinewidth\":0,\"ticks\":\"\"}}}],\"histogram\":[{\"marker\":{\"pattern\":{\"fillmode\":\"overlay\",\"size\":10,\"solidity\":0.2}},\"type\":\"histogram\"}],\"scattergl\":[{\"type\":\"scattergl\",\"marker\":{\"colorbar\":{\"outlinewidth\":0,\"ticks\":\"\"}}}],\"scatter3d\":[{\"type\":\"scatter3d\",\"line\":{\"colorbar\":{\"outlinewidth\":0,\"ticks\":\"\"}},\"marker\":{\"colorbar\":{\"outlinewidth\":0,\"ticks\":\"\"}}}],\"scattermapbox\":[{\"type\":\"scattermapbox\",\"marker\":{\"colorbar\":{\"outlinewidth\":0,\"ticks\":\"\"}}}],\"scatterternary\":[{\"type\":\"scatterternary\",\"marker\":{\"colorbar\":{\"outlinewidth\":0,\"ticks\":\"\"}}}],\"scattercarpet\":[{\"type\":\"scattercarpet\",\"marker\":{\"colorbar\":{\"outlinewidth\":0,\"ticks\":\"\"}}}],\"carpet\":[{\"aaxis\":{\"endlinecolor\":\"#2a3f5f\",\"gridcolor\":\"white\",\"linecolor\":\"white\",\"minorgridcolor\":\"white\",\"startlinecolor\":\"#2a3f5f\"},\"baxis\":{\"endlinecolor\":\"#2a3f5f\",\"gridcolor\":\"white\",\"linecolor\":\"white\",\"minorgridcolor\":\"white\",\"startlinecolor\":\"#2a3f5f\"},\"type\":\"carpet\"}],\"table\":[{\"cells\":{\"fill\":{\"color\":\"#EBF0F8\"},\"line\":{\"color\":\"white\"}},\"header\":{\"fill\":{\"color\":\"#C8D4E3\"},\"line\":{\"color\":\"white\"}},\"type\":\"table\"}],\"barpolar\":[{\"marker\":{\"line\":{\"color\":\"#E5ECF6\",\"width\":0.5},\"pattern\":{\"fillmode\":\"overlay\",\"size\":10,\"solidity\":0.2}},\"type\":\"barpolar\"}],\"pie\":[{\"automargin\":true,\"type\":\"pie\"}]},\"layout\":{\"autotypenumbers\":\"strict\",\"colorway\":[\"#636efa\",\"#EF553B\",\"#00cc96\",\"#ab63fa\",\"#FFA15A\",\"#19d3f3\",\"#FF6692\",\"#B6E880\",\"#FF97FF\",\"#FECB52\"],\"font\":{\"color\":\"#2a3f5f\"},\"hovermode\":\"closest\",\"hoverlabel\":{\"align\":\"left\"},\"paper_bgcolor\":\"white\",\"plot_bgcolor\":\"#E5ECF6\",\"polar\":{\"bgcolor\":\"#E5ECF6\",\"angularaxis\":{\"gridcolor\":\"white\",\"linecolor\":\"white\",\"ticks\":\"\"},\"radialaxis\":{\"gridcolor\":\"white\",\"linecolor\":\"white\",\"ticks\":\"\"}},\"ternary\":{\"bgcolor\":\"#E5ECF6\",\"aaxis\":{\"gridcolor\":\"white\",\"linecolor\":\"white\",\"ticks\":\"\"},\"baxis\":{\"gridcolor\":\"white\",\"linecolor\":\"white\",\"ticks\":\"\"},\"caxis\":{\"gridcolor\":\"white\",\"linecolor\":\"white\",\"ticks\":\"\"}},\"coloraxis\":{\"colorbar\":{\"outlinewidth\":0,\"ticks\":\"\"}},\"colorscale\":{\"sequential\":[[0.0,\"#0d0887\"],[0.1111111111111111,\"#46039f\"],[0.2222222222222222,\"#7201a8\"],[0.3333333333333333,\"#9c179e\"],[0.4444444444444444,\"#bd3786\"],[0.5555555555555556,\"#d8576b\"],[0.6666666666666666,\"#ed7953\"],[0.7777777777777778,\"#fb9f3a\"],[0.8888888888888888,\"#fdca26\"],[1.0,\"#f0f921\"]],\"sequentialminus\":[[0.0,\"#0d0887\"],[0.1111111111111111,\"#46039f\"],[0.2222222222222222,\"#7201a8\"],[0.3333333333333333,\"#9c179e\"],[0.4444444444444444,\"#bd3786\"],[0.5555555555555556,\"#d8576b\"],[0.6666666666666666,\"#ed7953\"],[0.7777777777777778,\"#fb9f3a\"],[0.8888888888888888,\"#fdca26\"],[1.0,\"#f0f921\"]],\"diverging\":[[0,\"#8e0152\"],[0.1,\"#c51b7d\"],[0.2,\"#de77ae\"],[0.3,\"#f1b6da\"],[0.4,\"#fde0ef\"],[0.5,\"#f7f7f7\"],[0.6,\"#e6f5d0\"],[0.7,\"#b8e186\"],[0.8,\"#7fbc41\"],[0.9,\"#4d9221\"],[1,\"#276419\"]]},\"xaxis\":{\"gridcolor\":\"white\",\"linecolor\":\"white\",\"ticks\":\"\",\"title\":{\"standoff\":15},\"zerolinecolor\":\"white\",\"automargin\":true,\"zerolinewidth\":2},\"yaxis\":{\"gridcolor\":\"white\",\"linecolor\":\"white\",\"ticks\":\"\",\"title\":{\"standoff\":15},\"zerolinecolor\":\"white\",\"automargin\":true,\"zerolinewidth\":2},\"scene\":{\"xaxis\":{\"backgroundcolor\":\"#E5ECF6\",\"gridcolor\":\"white\",\"linecolor\":\"white\",\"showbackground\":true,\"ticks\":\"\",\"zerolinecolor\":\"white\",\"gridwidth\":2},\"yaxis\":{\"backgroundcolor\":\"#E5ECF6\",\"gridcolor\":\"white\",\"linecolor\":\"white\",\"showbackground\":true,\"ticks\":\"\",\"zerolinecolor\":\"white\",\"gridwidth\":2},\"zaxis\":{\"backgroundcolor\":\"#E5ECF6\",\"gridcolor\":\"white\",\"linecolor\":\"white\",\"showbackground\":true,\"ticks\":\"\",\"zerolinecolor\":\"white\",\"gridwidth\":2}},\"shapedefaults\":{\"line\":{\"color\":\"#2a3f5f\"}},\"annotationdefaults\":{\"arrowcolor\":\"#2a3f5f\",\"arrowhead\":0,\"arrowwidth\":1},\"geo\":{\"bgcolor\":\"white\",\"landcolor\":\"#E5ECF6\",\"subunitcolor\":\"white\",\"showland\":true,\"showlakes\":true,\"lakecolor\":\"white\"},\"title\":{\"x\":0.05},\"mapbox\":{\"style\":\"light\"}}},\"legend\":{\"tracegroupgap\":0},\"title\":{\"text\":\"University Types\"}},                        {\"responsive\": true}                    ).then(function(){\n",
       "                            \n",
       "var gd = document.getElementById('b11b534e-38b1-44d6-bbac-417900033c52');\n",
       "var x = new MutationObserver(function (mutations, observer) {{\n",
       "        var display = window.getComputedStyle(gd).display;\n",
       "        if (!display || display === 'none') {{\n",
       "            console.log([gd, 'removed!']);\n",
       "            Plotly.purge(gd);\n",
       "            observer.disconnect();\n",
       "        }}\n",
       "}});\n",
       "\n",
       "// Listen for the removal of the full notebook cells\n",
       "var notebookContainer = gd.closest('#notebook-container');\n",
       "if (notebookContainer) {{\n",
       "    x.observe(notebookContainer, {childList: true});\n",
       "}}\n",
       "\n",
       "// Listen for the clearing of the current output cell\n",
       "var outputEl = gd.closest('.output');\n",
       "if (outputEl) {{\n",
       "    x.observe(outputEl, {childList: true});\n",
       "}}\n",
       "\n",
       "                        })                };                });            </script>        </div>"
      ]
     },
     "metadata": {},
     "output_type": "display_data"
    }
   ],
   "source": [
    "import plotly.express as px\n",
    "\n",
    "# Count and visualize the types of universities\n",
    "type_counts = data['record_type'].value_counts().reset_index()\n",
    "type_counts.columns = ['University Type', 'Count']\n",
    "fig = px.pie(type_counts, names='University Type', values='Count', title='University Types')\n",
    "fig.show()\n"
   ]
  },
  {
   "cell_type": "markdown",
   "id": "f51f8c68",
   "metadata": {
    "papermill": {
     "duration": 0.017341,
     "end_time": "2023-10-01T21:44:59.332521",
     "exception": false,
     "start_time": "2023-10-01T21:44:59.315180",
     "status": "completed"
    },
    "tags": []
   },
   "source": [
    "- Student-Staff Ratio:\n"
   ]
  },
  {
   "cell_type": "markdown",
   "id": "021132ca",
   "metadata": {
    "papermill": {
     "duration": 0.01785,
     "end_time": "2023-10-01T21:44:59.368631",
     "exception": false,
     "start_time": "2023-10-01T21:44:59.350781",
     "status": "completed"
    },
    "tags": []
   },
   "source": [
    "- What is the distribution of student-staff ratios among universities?\n"
   ]
  },
  {
   "cell_type": "code",
   "execution_count": 27,
   "id": "0b28ae15",
   "metadata": {
    "execution": {
     "iopub.execute_input": "2023-10-01T21:44:59.409330Z",
     "iopub.status.busy": "2023-10-01T21:44:59.408882Z",
     "iopub.status.idle": "2023-10-01T21:44:59.470626Z",
     "shell.execute_reply": "2023-10-01T21:44:59.469452Z"
    },
    "papermill": {
     "duration": 0.085089,
     "end_time": "2023-10-01T21:44:59.473345",
     "exception": false,
     "start_time": "2023-10-01T21:44:59.388256",
     "status": "completed"
    },
    "tags": []
   },
   "outputs": [
    {
     "data": {
      "text/html": [
       "<div>                            <div id=\"250a5497-08e5-488c-8f0f-a7998989a2da\" class=\"plotly-graph-div\" style=\"height:525px; width:100%;\"></div>            <script type=\"text/javascript\">                require([\"plotly\"], function(Plotly) {                    window.PLOTLYENV=window.PLOTLYENV || {};                                    if (document.getElementById(\"250a5497-08e5-488c-8f0f-a7998989a2da\")) {                    Plotly.newPlot(                        \"250a5497-08e5-488c-8f0f-a7998989a2da\",                        [{\"alignmentgroup\":\"True\",\"bingroup\":\"x\",\"hovertemplate\":\"stats_student_staff_ratio=%{x}\\u003cbr\\u003ecount=%{y}\\u003cextra\\u003e\\u003c\\u002fextra\\u003e\",\"legendgroup\":\"\",\"marker\":{\"color\":\"#636efa\",\"pattern\":{\"shape\":\"\"}},\"name\":\"\",\"nbinsx\":10,\"offsetgroup\":\"\",\"orientation\":\"v\",\"showlegend\":false,\"x\":[10.9,8.0,9.0,11.5,7.3,6.1,11.8,17.9,5.2,4.1,6.2,9.6,10.0,25.8,11.3,8.1,11.9,10.1,3.9,11.8,13.1,11.5,12.0,28.0,25.1,19.4,19.6,12.6,11.9,15.6,16.4,43.1,13.3,15.1,27.5,7.7,14.2,10.8,11.8,18.3,16.2,3.9,13.0,11.4,15.2,15.4,4.0,14.4,17.0,16.1,9.8,14.2,13.3,14.4,16.0,16.7,7.3,16.5,22.4,5.4,16.1,19.9,13.9,7.4,8.8,8.9,14.2,14.8,14.0,27.2,10.1,15.0,10.5,12.4,12.3,10.9,15.3,18.8,24.2,13.0,11.3,11.4,10.9,13.9,10.4,31.3,14.1,16.6,11.2,17.3,28.5,13.3,33.0,15.8,14.9,11.6,19.6,32.7,24.6,28.2,13.9,15.9,25.9,24.0,10.5,16.8,22.5,17.2,14.7,11.0,16.0,0.9,16.1,13.1,30.2,16.3,18.8,17.9,19.5,4.5,13.1,15.7,18.2,12.2,17.1,17.3,9.5,30.0,18.1,12.3,23.9,19.0,38.4,14.8,11.2,19.1,19.6,39.1,33.6,16.2,16.1,18.3,15.7,14.5,27.3,18.0,11.3,14.5,21.6,12.3,14.5,13.0,17.1,16.8,18.4,15.3,10.3,7.3,16.9,18.6,14.1,7.7,19.4,10.6,20.7,4.1,15.6,7.9,24.1,18.2,19.5,0.3,22.0,29.4,34.6,13.6,21.8,26.3,19.8,15.8,18.1,17.4,17.4,18.3,2.0,16.1,15.4,2.1,48.7,26.4,10.8,13.0,15.9,21.6,12.0,18.6,19.0,17.2,11.2,12.2,18.5,15.8,24.1,16.3,13.8,11.2,17.5,19.4,17.2,14.6,23.2,15.0,20.6,14.3,19.9,14.1,18.2,30.1,33.5,14.0,14.5,5.5,22.1,31.9,21.1,17.0,20.1,24.6,11.3,16.7,13.0,14.1,18.0,12.0,24.6,15.5,19.8,15.9,17.0,9.7,18.9,21.9,12.2,14.9,16.3,9.3,16.0,16.5,16.5,20.5,21.0,16.0,19.6,20.3,28.1,17.7,22.9,19.8,29.1,17.6,20.1,16.3,18.3,26.1,16.4,15.7,17.6,14.5,16.0,16.0,19.4,20.0,21.3,12.9,17.4,18.1,18.9,18.0,14.6,16.0,21.7,11.1,16.3],\"xaxis\":\"x\",\"yaxis\":\"y\",\"type\":\"histogram\"}],                        {\"template\":{\"data\":{\"histogram2dcontour\":[{\"type\":\"histogram2dcontour\",\"colorbar\":{\"outlinewidth\":0,\"ticks\":\"\"},\"colorscale\":[[0.0,\"#0d0887\"],[0.1111111111111111,\"#46039f\"],[0.2222222222222222,\"#7201a8\"],[0.3333333333333333,\"#9c179e\"],[0.4444444444444444,\"#bd3786\"],[0.5555555555555556,\"#d8576b\"],[0.6666666666666666,\"#ed7953\"],[0.7777777777777778,\"#fb9f3a\"],[0.8888888888888888,\"#fdca26\"],[1.0,\"#f0f921\"]]}],\"choropleth\":[{\"type\":\"choropleth\",\"colorbar\":{\"outlinewidth\":0,\"ticks\":\"\"}}],\"histogram2d\":[{\"type\":\"histogram2d\",\"colorbar\":{\"outlinewidth\":0,\"ticks\":\"\"},\"colorscale\":[[0.0,\"#0d0887\"],[0.1111111111111111,\"#46039f\"],[0.2222222222222222,\"#7201a8\"],[0.3333333333333333,\"#9c179e\"],[0.4444444444444444,\"#bd3786\"],[0.5555555555555556,\"#d8576b\"],[0.6666666666666666,\"#ed7953\"],[0.7777777777777778,\"#fb9f3a\"],[0.8888888888888888,\"#fdca26\"],[1.0,\"#f0f921\"]]}],\"heatmap\":[{\"type\":\"heatmap\",\"colorbar\":{\"outlinewidth\":0,\"ticks\":\"\"},\"colorscale\":[[0.0,\"#0d0887\"],[0.1111111111111111,\"#46039f\"],[0.2222222222222222,\"#7201a8\"],[0.3333333333333333,\"#9c179e\"],[0.4444444444444444,\"#bd3786\"],[0.5555555555555556,\"#d8576b\"],[0.6666666666666666,\"#ed7953\"],[0.7777777777777778,\"#fb9f3a\"],[0.8888888888888888,\"#fdca26\"],[1.0,\"#f0f921\"]]}],\"heatmapgl\":[{\"type\":\"heatmapgl\",\"colorbar\":{\"outlinewidth\":0,\"ticks\":\"\"},\"colorscale\":[[0.0,\"#0d0887\"],[0.1111111111111111,\"#46039f\"],[0.2222222222222222,\"#7201a8\"],[0.3333333333333333,\"#9c179e\"],[0.4444444444444444,\"#bd3786\"],[0.5555555555555556,\"#d8576b\"],[0.6666666666666666,\"#ed7953\"],[0.7777777777777778,\"#fb9f3a\"],[0.8888888888888888,\"#fdca26\"],[1.0,\"#f0f921\"]]}],\"contourcarpet\":[{\"type\":\"contourcarpet\",\"colorbar\":{\"outlinewidth\":0,\"ticks\":\"\"}}],\"contour\":[{\"type\":\"contour\",\"colorbar\":{\"outlinewidth\":0,\"ticks\":\"\"},\"colorscale\":[[0.0,\"#0d0887\"],[0.1111111111111111,\"#46039f\"],[0.2222222222222222,\"#7201a8\"],[0.3333333333333333,\"#9c179e\"],[0.4444444444444444,\"#bd3786\"],[0.5555555555555556,\"#d8576b\"],[0.6666666666666666,\"#ed7953\"],[0.7777777777777778,\"#fb9f3a\"],[0.8888888888888888,\"#fdca26\"],[1.0,\"#f0f921\"]]}],\"surface\":[{\"type\":\"surface\",\"colorbar\":{\"outlinewidth\":0,\"ticks\":\"\"},\"colorscale\":[[0.0,\"#0d0887\"],[0.1111111111111111,\"#46039f\"],[0.2222222222222222,\"#7201a8\"],[0.3333333333333333,\"#9c179e\"],[0.4444444444444444,\"#bd3786\"],[0.5555555555555556,\"#d8576b\"],[0.6666666666666666,\"#ed7953\"],[0.7777777777777778,\"#fb9f3a\"],[0.8888888888888888,\"#fdca26\"],[1.0,\"#f0f921\"]]}],\"mesh3d\":[{\"type\":\"mesh3d\",\"colorbar\":{\"outlinewidth\":0,\"ticks\":\"\"}}],\"scatter\":[{\"fillpattern\":{\"fillmode\":\"overlay\",\"size\":10,\"solidity\":0.2},\"type\":\"scatter\"}],\"parcoords\":[{\"type\":\"parcoords\",\"line\":{\"colorbar\":{\"outlinewidth\":0,\"ticks\":\"\"}}}],\"scatterpolargl\":[{\"type\":\"scatterpolargl\",\"marker\":{\"colorbar\":{\"outlinewidth\":0,\"ticks\":\"\"}}}],\"bar\":[{\"error_x\":{\"color\":\"#2a3f5f\"},\"error_y\":{\"color\":\"#2a3f5f\"},\"marker\":{\"line\":{\"color\":\"#E5ECF6\",\"width\":0.5},\"pattern\":{\"fillmode\":\"overlay\",\"size\":10,\"solidity\":0.2}},\"type\":\"bar\"}],\"scattergeo\":[{\"type\":\"scattergeo\",\"marker\":{\"colorbar\":{\"outlinewidth\":0,\"ticks\":\"\"}}}],\"scatterpolar\":[{\"type\":\"scatterpolar\",\"marker\":{\"colorbar\":{\"outlinewidth\":0,\"ticks\":\"\"}}}],\"histogram\":[{\"marker\":{\"pattern\":{\"fillmode\":\"overlay\",\"size\":10,\"solidity\":0.2}},\"type\":\"histogram\"}],\"scattergl\":[{\"type\":\"scattergl\",\"marker\":{\"colorbar\":{\"outlinewidth\":0,\"ticks\":\"\"}}}],\"scatter3d\":[{\"type\":\"scatter3d\",\"line\":{\"colorbar\":{\"outlinewidth\":0,\"ticks\":\"\"}},\"marker\":{\"colorbar\":{\"outlinewidth\":0,\"ticks\":\"\"}}}],\"scattermapbox\":[{\"type\":\"scattermapbox\",\"marker\":{\"colorbar\":{\"outlinewidth\":0,\"ticks\":\"\"}}}],\"scatterternary\":[{\"type\":\"scatterternary\",\"marker\":{\"colorbar\":{\"outlinewidth\":0,\"ticks\":\"\"}}}],\"scattercarpet\":[{\"type\":\"scattercarpet\",\"marker\":{\"colorbar\":{\"outlinewidth\":0,\"ticks\":\"\"}}}],\"carpet\":[{\"aaxis\":{\"endlinecolor\":\"#2a3f5f\",\"gridcolor\":\"white\",\"linecolor\":\"white\",\"minorgridcolor\":\"white\",\"startlinecolor\":\"#2a3f5f\"},\"baxis\":{\"endlinecolor\":\"#2a3f5f\",\"gridcolor\":\"white\",\"linecolor\":\"white\",\"minorgridcolor\":\"white\",\"startlinecolor\":\"#2a3f5f\"},\"type\":\"carpet\"}],\"table\":[{\"cells\":{\"fill\":{\"color\":\"#EBF0F8\"},\"line\":{\"color\":\"white\"}},\"header\":{\"fill\":{\"color\":\"#C8D4E3\"},\"line\":{\"color\":\"white\"}},\"type\":\"table\"}],\"barpolar\":[{\"marker\":{\"line\":{\"color\":\"#E5ECF6\",\"width\":0.5},\"pattern\":{\"fillmode\":\"overlay\",\"size\":10,\"solidity\":0.2}},\"type\":\"barpolar\"}],\"pie\":[{\"automargin\":true,\"type\":\"pie\"}]},\"layout\":{\"autotypenumbers\":\"strict\",\"colorway\":[\"#636efa\",\"#EF553B\",\"#00cc96\",\"#ab63fa\",\"#FFA15A\",\"#19d3f3\",\"#FF6692\",\"#B6E880\",\"#FF97FF\",\"#FECB52\"],\"font\":{\"color\":\"#2a3f5f\"},\"hovermode\":\"closest\",\"hoverlabel\":{\"align\":\"left\"},\"paper_bgcolor\":\"white\",\"plot_bgcolor\":\"#E5ECF6\",\"polar\":{\"bgcolor\":\"#E5ECF6\",\"angularaxis\":{\"gridcolor\":\"white\",\"linecolor\":\"white\",\"ticks\":\"\"},\"radialaxis\":{\"gridcolor\":\"white\",\"linecolor\":\"white\",\"ticks\":\"\"}},\"ternary\":{\"bgcolor\":\"#E5ECF6\",\"aaxis\":{\"gridcolor\":\"white\",\"linecolor\":\"white\",\"ticks\":\"\"},\"baxis\":{\"gridcolor\":\"white\",\"linecolor\":\"white\",\"ticks\":\"\"},\"caxis\":{\"gridcolor\":\"white\",\"linecolor\":\"white\",\"ticks\":\"\"}},\"coloraxis\":{\"colorbar\":{\"outlinewidth\":0,\"ticks\":\"\"}},\"colorscale\":{\"sequential\":[[0.0,\"#0d0887\"],[0.1111111111111111,\"#46039f\"],[0.2222222222222222,\"#7201a8\"],[0.3333333333333333,\"#9c179e\"],[0.4444444444444444,\"#bd3786\"],[0.5555555555555556,\"#d8576b\"],[0.6666666666666666,\"#ed7953\"],[0.7777777777777778,\"#fb9f3a\"],[0.8888888888888888,\"#fdca26\"],[1.0,\"#f0f921\"]],\"sequentialminus\":[[0.0,\"#0d0887\"],[0.1111111111111111,\"#46039f\"],[0.2222222222222222,\"#7201a8\"],[0.3333333333333333,\"#9c179e\"],[0.4444444444444444,\"#bd3786\"],[0.5555555555555556,\"#d8576b\"],[0.6666666666666666,\"#ed7953\"],[0.7777777777777778,\"#fb9f3a\"],[0.8888888888888888,\"#fdca26\"],[1.0,\"#f0f921\"]],\"diverging\":[[0,\"#8e0152\"],[0.1,\"#c51b7d\"],[0.2,\"#de77ae\"],[0.3,\"#f1b6da\"],[0.4,\"#fde0ef\"],[0.5,\"#f7f7f7\"],[0.6,\"#e6f5d0\"],[0.7,\"#b8e186\"],[0.8,\"#7fbc41\"],[0.9,\"#4d9221\"],[1,\"#276419\"]]},\"xaxis\":{\"gridcolor\":\"white\",\"linecolor\":\"white\",\"ticks\":\"\",\"title\":{\"standoff\":15},\"zerolinecolor\":\"white\",\"automargin\":true,\"zerolinewidth\":2},\"yaxis\":{\"gridcolor\":\"white\",\"linecolor\":\"white\",\"ticks\":\"\",\"title\":{\"standoff\":15},\"zerolinecolor\":\"white\",\"automargin\":true,\"zerolinewidth\":2},\"scene\":{\"xaxis\":{\"backgroundcolor\":\"#E5ECF6\",\"gridcolor\":\"white\",\"linecolor\":\"white\",\"showbackground\":true,\"ticks\":\"\",\"zerolinecolor\":\"white\",\"gridwidth\":2},\"yaxis\":{\"backgroundcolor\":\"#E5ECF6\",\"gridcolor\":\"white\",\"linecolor\":\"white\",\"showbackground\":true,\"ticks\":\"\",\"zerolinecolor\":\"white\",\"gridwidth\":2},\"zaxis\":{\"backgroundcolor\":\"#E5ECF6\",\"gridcolor\":\"white\",\"linecolor\":\"white\",\"showbackground\":true,\"ticks\":\"\",\"zerolinecolor\":\"white\",\"gridwidth\":2}},\"shapedefaults\":{\"line\":{\"color\":\"#2a3f5f\"}},\"annotationdefaults\":{\"arrowcolor\":\"#2a3f5f\",\"arrowhead\":0,\"arrowwidth\":1},\"geo\":{\"bgcolor\":\"white\",\"landcolor\":\"#E5ECF6\",\"subunitcolor\":\"white\",\"showland\":true,\"showlakes\":true,\"lakecolor\":\"white\"},\"title\":{\"x\":0.05},\"mapbox\":{\"style\":\"light\"}}},\"xaxis\":{\"anchor\":\"y\",\"domain\":[0.0,1.0],\"title\":{\"text\":\"Student-Staff Ratio\"}},\"yaxis\":{\"anchor\":\"x\",\"domain\":[0.0,1.0],\"title\":{\"text\":\"Frequency\"}},\"legend\":{\"tracegroupgap\":0},\"title\":{\"text\":\"Distribution of Student-Staff Ratios\"},\"barmode\":\"relative\"},                        {\"responsive\": true}                    ).then(function(){\n",
       "                            \n",
       "var gd = document.getElementById('250a5497-08e5-488c-8f0f-a7998989a2da');\n",
       "var x = new MutationObserver(function (mutations, observer) {{\n",
       "        var display = window.getComputedStyle(gd).display;\n",
       "        if (!display || display === 'none') {{\n",
       "            console.log([gd, 'removed!']);\n",
       "            Plotly.purge(gd);\n",
       "            observer.disconnect();\n",
       "        }}\n",
       "}});\n",
       "\n",
       "// Listen for the removal of the full notebook cells\n",
       "var notebookContainer = gd.closest('#notebook-container');\n",
       "if (notebookContainer) {{\n",
       "    x.observe(notebookContainer, {childList: true});\n",
       "}}\n",
       "\n",
       "// Listen for the clearing of the current output cell\n",
       "var outputEl = gd.closest('.output');\n",
       "if (outputEl) {{\n",
       "    x.observe(outputEl, {childList: true});\n",
       "}}\n",
       "\n",
       "                        })                };                });            </script>        </div>"
      ]
     },
     "metadata": {},
     "output_type": "display_data"
    }
   ],
   "source": [
    "import plotly.express as px\n",
    "\n",
    "# Create an interactive histogram for student-staff ratios\n",
    "fig = px.histogram(data, x='stats_student_staff_ratio', nbins=10, title='Distribution of Student-Staff Ratios')\n",
    "fig.update_xaxes(title='Student-Staff Ratio')\n",
    "fig.update_yaxes(title='Frequency')\n",
    "fig.show()\n"
   ]
  },
  {
   "cell_type": "markdown",
   "id": "faaf24cc",
   "metadata": {
    "papermill": {
     "duration": 0.017553,
     "end_time": "2023-10-01T21:44:59.507857",
     "exception": false,
     "start_time": "2023-10-01T21:44:59.490304",
     "status": "completed"
    },
    "tags": []
   },
   "source": [
    "#### Top 10 universities with the highest scores"
   ]
  },
  {
   "cell_type": "code",
   "execution_count": 28,
   "id": "51aa45fa",
   "metadata": {
    "execution": {
     "iopub.execute_input": "2023-10-01T21:44:59.547647Z",
     "iopub.status.busy": "2023-10-01T21:44:59.547267Z",
     "iopub.status.idle": "2023-10-01T21:44:59.561869Z",
     "shell.execute_reply": "2023-10-01T21:44:59.560265Z"
    },
    "papermill": {
     "duration": 0.038936,
     "end_time": "2023-10-01T21:44:59.564487",
     "exception": false,
     "start_time": "2023-10-01T21:44:59.525551",
     "status": "completed"
    },
    "tags": []
   },
   "outputs": [
    {
     "name": "stdout",
     "output_type": "stream",
     "text": [
      "Top 10 Universities with the Highest scores_overall and scores_overall_rank:\n",
      "                                     name scores_overall  scores_overall_rank\n",
      "0                    University of Oxford           98.5                   10\n",
      "2   Massachusetts Institute of Technology           97.9                   30\n",
      "3                      Harvard University           97.8                   40\n",
      "4                 University of Cambridge           97.5                   50\n",
      "5                    Princeton University           96.9                   60\n",
      "6      California Institute of Technology           96.5                   70\n",
      "7                 Imperial College London           95.1                   80\n",
      "8      University of California, Berkeley           94.6                   90\n",
      "9                         Yale University           94.2                  100\n",
      "14               Johns Hopkins University           91.1                  150\n"
     ]
    }
   ],
   "source": [
    "# Sort the DataFrame by scores_overall and scores_overall_rank in descending order\n",
    "top_10_universities = data.sort_values(by=['scores_overall', 'scores_overall_rank'], ascending=[False, True])\n",
    "\n",
    "# Select the top 10 universities\n",
    "top_10_universities = top_10_universities.head(10)\n",
    "\n",
    "# Display the top 10 universities\n",
    "print(\"Top 10 Universities with the Highest scores_overall and scores_overall_rank:\")\n",
    "print(top_10_universities[['name', 'scores_overall', 'scores_overall_rank']])\n"
   ]
  },
  {
   "cell_type": "code",
   "execution_count": 29,
   "id": "38fe7aab",
   "metadata": {
    "execution": {
     "iopub.execute_input": "2023-10-01T21:44:59.605953Z",
     "iopub.status.busy": "2023-10-01T21:44:59.605553Z",
     "iopub.status.idle": "2023-10-01T21:44:59.678416Z",
     "shell.execute_reply": "2023-10-01T21:44:59.677184Z"
    },
    "papermill": {
     "duration": 0.095345,
     "end_time": "2023-10-01T21:44:59.680826",
     "exception": false,
     "start_time": "2023-10-01T21:44:59.585481",
     "status": "completed"
    },
    "tags": []
   },
   "outputs": [
    {
     "data": {
      "text/html": [
       "<div>                            <div id=\"2129b489-76b1-436a-8bb7-6f87258071ad\" class=\"plotly-graph-div\" style=\"height:525px; width:100%;\"></div>            <script type=\"text/javascript\">                require([\"plotly\"], function(Plotly) {                    window.PLOTLYENV=window.PLOTLYENV || {};                                    if (document.getElementById(\"2129b489-76b1-436a-8bb7-6f87258071ad\")) {                    Plotly.newPlot(                        \"2129b489-76b1-436a-8bb7-6f87258071ad\",                        [{\"alignmentgroup\":\"True\",\"hovertemplate\":\"Scores Overall=%{x}\\u003cbr\\u003eUniversity Name=%{y}\\u003cextra\\u003e\\u003c\\u002fextra\\u003e\",\"legendgroup\":\"\",\"marker\":{\"color\":\"#636efa\",\"pattern\":{\"shape\":\"\"}},\"name\":\"\",\"offsetgroup\":\"\",\"orientation\":\"h\",\"showlegend\":false,\"textposition\":\"auto\",\"x\":[\"98.5\",\"97.9\",\"97.8\",\"97.5\",\"96.9\",\"96.5\",\"95.1\",\"94.6\",\"94.2\",\"91.1\"],\"xaxis\":\"x\",\"y\":[\"University of Oxford\",\"Massachusetts Institute of Technology\",\"Harvard University\",\"University of Cambridge\",\"Princeton University\",\"California Institute of Technology\",\"Imperial College London\",\"University of California, Berkeley\",\"Yale University\",\"Johns Hopkins University\"],\"yaxis\":\"y\",\"type\":\"bar\"}],                        {\"template\":{\"data\":{\"histogram2dcontour\":[{\"type\":\"histogram2dcontour\",\"colorbar\":{\"outlinewidth\":0,\"ticks\":\"\"},\"colorscale\":[[0.0,\"#0d0887\"],[0.1111111111111111,\"#46039f\"],[0.2222222222222222,\"#7201a8\"],[0.3333333333333333,\"#9c179e\"],[0.4444444444444444,\"#bd3786\"],[0.5555555555555556,\"#d8576b\"],[0.6666666666666666,\"#ed7953\"],[0.7777777777777778,\"#fb9f3a\"],[0.8888888888888888,\"#fdca26\"],[1.0,\"#f0f921\"]]}],\"choropleth\":[{\"type\":\"choropleth\",\"colorbar\":{\"outlinewidth\":0,\"ticks\":\"\"}}],\"histogram2d\":[{\"type\":\"histogram2d\",\"colorbar\":{\"outlinewidth\":0,\"ticks\":\"\"},\"colorscale\":[[0.0,\"#0d0887\"],[0.1111111111111111,\"#46039f\"],[0.2222222222222222,\"#7201a8\"],[0.3333333333333333,\"#9c179e\"],[0.4444444444444444,\"#bd3786\"],[0.5555555555555556,\"#d8576b\"],[0.6666666666666666,\"#ed7953\"],[0.7777777777777778,\"#fb9f3a\"],[0.8888888888888888,\"#fdca26\"],[1.0,\"#f0f921\"]]}],\"heatmap\":[{\"type\":\"heatmap\",\"colorbar\":{\"outlinewidth\":0,\"ticks\":\"\"},\"colorscale\":[[0.0,\"#0d0887\"],[0.1111111111111111,\"#46039f\"],[0.2222222222222222,\"#7201a8\"],[0.3333333333333333,\"#9c179e\"],[0.4444444444444444,\"#bd3786\"],[0.5555555555555556,\"#d8576b\"],[0.6666666666666666,\"#ed7953\"],[0.7777777777777778,\"#fb9f3a\"],[0.8888888888888888,\"#fdca26\"],[1.0,\"#f0f921\"]]}],\"heatmapgl\":[{\"type\":\"heatmapgl\",\"colorbar\":{\"outlinewidth\":0,\"ticks\":\"\"},\"colorscale\":[[0.0,\"#0d0887\"],[0.1111111111111111,\"#46039f\"],[0.2222222222222222,\"#7201a8\"],[0.3333333333333333,\"#9c179e\"],[0.4444444444444444,\"#bd3786\"],[0.5555555555555556,\"#d8576b\"],[0.6666666666666666,\"#ed7953\"],[0.7777777777777778,\"#fb9f3a\"],[0.8888888888888888,\"#fdca26\"],[1.0,\"#f0f921\"]]}],\"contourcarpet\":[{\"type\":\"contourcarpet\",\"colorbar\":{\"outlinewidth\":0,\"ticks\":\"\"}}],\"contour\":[{\"type\":\"contour\",\"colorbar\":{\"outlinewidth\":0,\"ticks\":\"\"},\"colorscale\":[[0.0,\"#0d0887\"],[0.1111111111111111,\"#46039f\"],[0.2222222222222222,\"#7201a8\"],[0.3333333333333333,\"#9c179e\"],[0.4444444444444444,\"#bd3786\"],[0.5555555555555556,\"#d8576b\"],[0.6666666666666666,\"#ed7953\"],[0.7777777777777778,\"#fb9f3a\"],[0.8888888888888888,\"#fdca26\"],[1.0,\"#f0f921\"]]}],\"surface\":[{\"type\":\"surface\",\"colorbar\":{\"outlinewidth\":0,\"ticks\":\"\"},\"colorscale\":[[0.0,\"#0d0887\"],[0.1111111111111111,\"#46039f\"],[0.2222222222222222,\"#7201a8\"],[0.3333333333333333,\"#9c179e\"],[0.4444444444444444,\"#bd3786\"],[0.5555555555555556,\"#d8576b\"],[0.6666666666666666,\"#ed7953\"],[0.7777777777777778,\"#fb9f3a\"],[0.8888888888888888,\"#fdca26\"],[1.0,\"#f0f921\"]]}],\"mesh3d\":[{\"type\":\"mesh3d\",\"colorbar\":{\"outlinewidth\":0,\"ticks\":\"\"}}],\"scatter\":[{\"fillpattern\":{\"fillmode\":\"overlay\",\"size\":10,\"solidity\":0.2},\"type\":\"scatter\"}],\"parcoords\":[{\"type\":\"parcoords\",\"line\":{\"colorbar\":{\"outlinewidth\":0,\"ticks\":\"\"}}}],\"scatterpolargl\":[{\"type\":\"scatterpolargl\",\"marker\":{\"colorbar\":{\"outlinewidth\":0,\"ticks\":\"\"}}}],\"bar\":[{\"error_x\":{\"color\":\"#2a3f5f\"},\"error_y\":{\"color\":\"#2a3f5f\"},\"marker\":{\"line\":{\"color\":\"#E5ECF6\",\"width\":0.5},\"pattern\":{\"fillmode\":\"overlay\",\"size\":10,\"solidity\":0.2}},\"type\":\"bar\"}],\"scattergeo\":[{\"type\":\"scattergeo\",\"marker\":{\"colorbar\":{\"outlinewidth\":0,\"ticks\":\"\"}}}],\"scatterpolar\":[{\"type\":\"scatterpolar\",\"marker\":{\"colorbar\":{\"outlinewidth\":0,\"ticks\":\"\"}}}],\"histogram\":[{\"marker\":{\"pattern\":{\"fillmode\":\"overlay\",\"size\":10,\"solidity\":0.2}},\"type\":\"histogram\"}],\"scattergl\":[{\"type\":\"scattergl\",\"marker\":{\"colorbar\":{\"outlinewidth\":0,\"ticks\":\"\"}}}],\"scatter3d\":[{\"type\":\"scatter3d\",\"line\":{\"colorbar\":{\"outlinewidth\":0,\"ticks\":\"\"}},\"marker\":{\"colorbar\":{\"outlinewidth\":0,\"ticks\":\"\"}}}],\"scattermapbox\":[{\"type\":\"scattermapbox\",\"marker\":{\"colorbar\":{\"outlinewidth\":0,\"ticks\":\"\"}}}],\"scatterternary\":[{\"type\":\"scatterternary\",\"marker\":{\"colorbar\":{\"outlinewidth\":0,\"ticks\":\"\"}}}],\"scattercarpet\":[{\"type\":\"scattercarpet\",\"marker\":{\"colorbar\":{\"outlinewidth\":0,\"ticks\":\"\"}}}],\"carpet\":[{\"aaxis\":{\"endlinecolor\":\"#2a3f5f\",\"gridcolor\":\"white\",\"linecolor\":\"white\",\"minorgridcolor\":\"white\",\"startlinecolor\":\"#2a3f5f\"},\"baxis\":{\"endlinecolor\":\"#2a3f5f\",\"gridcolor\":\"white\",\"linecolor\":\"white\",\"minorgridcolor\":\"white\",\"startlinecolor\":\"#2a3f5f\"},\"type\":\"carpet\"}],\"table\":[{\"cells\":{\"fill\":{\"color\":\"#EBF0F8\"},\"line\":{\"color\":\"white\"}},\"header\":{\"fill\":{\"color\":\"#C8D4E3\"},\"line\":{\"color\":\"white\"}},\"type\":\"table\"}],\"barpolar\":[{\"marker\":{\"line\":{\"color\":\"#E5ECF6\",\"width\":0.5},\"pattern\":{\"fillmode\":\"overlay\",\"size\":10,\"solidity\":0.2}},\"type\":\"barpolar\"}],\"pie\":[{\"automargin\":true,\"type\":\"pie\"}]},\"layout\":{\"autotypenumbers\":\"strict\",\"colorway\":[\"#636efa\",\"#EF553B\",\"#00cc96\",\"#ab63fa\",\"#FFA15A\",\"#19d3f3\",\"#FF6692\",\"#B6E880\",\"#FF97FF\",\"#FECB52\"],\"font\":{\"color\":\"#2a3f5f\"},\"hovermode\":\"closest\",\"hoverlabel\":{\"align\":\"left\"},\"paper_bgcolor\":\"white\",\"plot_bgcolor\":\"#E5ECF6\",\"polar\":{\"bgcolor\":\"#E5ECF6\",\"angularaxis\":{\"gridcolor\":\"white\",\"linecolor\":\"white\",\"ticks\":\"\"},\"radialaxis\":{\"gridcolor\":\"white\",\"linecolor\":\"white\",\"ticks\":\"\"}},\"ternary\":{\"bgcolor\":\"#E5ECF6\",\"aaxis\":{\"gridcolor\":\"white\",\"linecolor\":\"white\",\"ticks\":\"\"},\"baxis\":{\"gridcolor\":\"white\",\"linecolor\":\"white\",\"ticks\":\"\"},\"caxis\":{\"gridcolor\":\"white\",\"linecolor\":\"white\",\"ticks\":\"\"}},\"coloraxis\":{\"colorbar\":{\"outlinewidth\":0,\"ticks\":\"\"}},\"colorscale\":{\"sequential\":[[0.0,\"#0d0887\"],[0.1111111111111111,\"#46039f\"],[0.2222222222222222,\"#7201a8\"],[0.3333333333333333,\"#9c179e\"],[0.4444444444444444,\"#bd3786\"],[0.5555555555555556,\"#d8576b\"],[0.6666666666666666,\"#ed7953\"],[0.7777777777777778,\"#fb9f3a\"],[0.8888888888888888,\"#fdca26\"],[1.0,\"#f0f921\"]],\"sequentialminus\":[[0.0,\"#0d0887\"],[0.1111111111111111,\"#46039f\"],[0.2222222222222222,\"#7201a8\"],[0.3333333333333333,\"#9c179e\"],[0.4444444444444444,\"#bd3786\"],[0.5555555555555556,\"#d8576b\"],[0.6666666666666666,\"#ed7953\"],[0.7777777777777778,\"#fb9f3a\"],[0.8888888888888888,\"#fdca26\"],[1.0,\"#f0f921\"]],\"diverging\":[[0,\"#8e0152\"],[0.1,\"#c51b7d\"],[0.2,\"#de77ae\"],[0.3,\"#f1b6da\"],[0.4,\"#fde0ef\"],[0.5,\"#f7f7f7\"],[0.6,\"#e6f5d0\"],[0.7,\"#b8e186\"],[0.8,\"#7fbc41\"],[0.9,\"#4d9221\"],[1,\"#276419\"]]},\"xaxis\":{\"gridcolor\":\"white\",\"linecolor\":\"white\",\"ticks\":\"\",\"title\":{\"standoff\":15},\"zerolinecolor\":\"white\",\"automargin\":true,\"zerolinewidth\":2},\"yaxis\":{\"gridcolor\":\"white\",\"linecolor\":\"white\",\"ticks\":\"\",\"title\":{\"standoff\":15},\"zerolinecolor\":\"white\",\"automargin\":true,\"zerolinewidth\":2},\"scene\":{\"xaxis\":{\"backgroundcolor\":\"#E5ECF6\",\"gridcolor\":\"white\",\"linecolor\":\"white\",\"showbackground\":true,\"ticks\":\"\",\"zerolinecolor\":\"white\",\"gridwidth\":2},\"yaxis\":{\"backgroundcolor\":\"#E5ECF6\",\"gridcolor\":\"white\",\"linecolor\":\"white\",\"showbackground\":true,\"ticks\":\"\",\"zerolinecolor\":\"white\",\"gridwidth\":2},\"zaxis\":{\"backgroundcolor\":\"#E5ECF6\",\"gridcolor\":\"white\",\"linecolor\":\"white\",\"showbackground\":true,\"ticks\":\"\",\"zerolinecolor\":\"white\",\"gridwidth\":2}},\"shapedefaults\":{\"line\":{\"color\":\"#2a3f5f\"}},\"annotationdefaults\":{\"arrowcolor\":\"#2a3f5f\",\"arrowhead\":0,\"arrowwidth\":1},\"geo\":{\"bgcolor\":\"white\",\"landcolor\":\"#E5ECF6\",\"subunitcolor\":\"white\",\"showland\":true,\"showlakes\":true,\"lakecolor\":\"white\"},\"title\":{\"x\":0.05},\"mapbox\":{\"style\":\"light\"}}},\"xaxis\":{\"anchor\":\"y\",\"domain\":[0.0,1.0],\"title\":{\"text\":\"Scores Overall\"}},\"yaxis\":{\"anchor\":\"x\",\"domain\":[0.0,1.0],\"title\":{\"text\":\"University Name\"}},\"legend\":{\"tracegroupgap\":0},\"title\":{\"text\":\"Top 10 Universities with the Highest scores_overall and scores_overall_rank\"},\"barmode\":\"relative\",\"font\":{\"color\":\"black\"},\"paper_bgcolor\":\"white\",\"plot_bgcolor\":\"white\"},                        {\"responsive\": true}                    ).then(function(){\n",
       "                            \n",
       "var gd = document.getElementById('2129b489-76b1-436a-8bb7-6f87258071ad');\n",
       "var x = new MutationObserver(function (mutations, observer) {{\n",
       "        var display = window.getComputedStyle(gd).display;\n",
       "        if (!display || display === 'none') {{\n",
       "            console.log([gd, 'removed!']);\n",
       "            Plotly.purge(gd);\n",
       "            observer.disconnect();\n",
       "        }}\n",
       "}});\n",
       "\n",
       "// Listen for the removal of the full notebook cells\n",
       "var notebookContainer = gd.closest('#notebook-container');\n",
       "if (notebookContainer) {{\n",
       "    x.observe(notebookContainer, {childList: true});\n",
       "}}\n",
       "\n",
       "// Listen for the clearing of the current output cell\n",
       "var outputEl = gd.closest('.output');\n",
       "if (outputEl) {{\n",
       "    x.observe(outputEl, {childList: true});\n",
       "}}\n",
       "\n",
       "                        })                };                });            </script>        </div>"
      ]
     },
     "metadata": {},
     "output_type": "display_data"
    }
   ],
   "source": [
    "import plotly.express as px\n",
    "\n",
    "# Sort the DataFrame by scores_overall and scores_overall_rank in descending order\n",
    "top_10_universities = data.sort_values(by=['scores_overall', 'scores_overall_rank'], ascending=[False, True])\n",
    "\n",
    "# Select the top 10 universities\n",
    "top_10_universities = top_10_universities.head(10)\n",
    "\n",
    "# Create an interactive bar chart\n",
    "fig = px.bar(\n",
    "    top_10_universities,\n",
    "    x='scores_overall',\n",
    "    y='name',\n",
    "    title='Top 10 Universities with the Highest scores_overall and scores_overall_rank',\n",
    "    labels={'scores_overall': 'Scores Overall', 'name': 'University Name'},\n",
    "    orientation='h'  # Horizontal bar chart\n",
    ")\n",
    "\n",
    "# Customize the layout\n",
    "fig.update_layout(\n",
    "    xaxis_title='Scores Overall',\n",
    "    yaxis_title='University Name',\n",
    "    paper_bgcolor='white',    # Set the plot background color\n",
    "    plot_bgcolor='white',     # Set the chart background color\n",
    "    font=dict(color='black')  # Set font color to black\n",
    ")\n",
    "\n",
    "# Show the interactive plot\n",
    "fig.show()\n"
   ]
  },
  {
   "cell_type": "markdown",
   "id": "0f3f97b4",
   "metadata": {
    "papermill": {
     "duration": 0.019352,
     "end_time": "2023-10-01T21:44:59.718980",
     "exception": false,
     "start_time": "2023-10-01T21:44:59.699628",
     "status": "completed"
    },
    "tags": []
   },
   "source": [
    "#### Top 10 worst universities with the lowest scores_overall and scores_overall_rank"
   ]
  },
  {
   "cell_type": "code",
   "execution_count": 30,
   "id": "8643725c",
   "metadata": {
    "execution": {
     "iopub.execute_input": "2023-10-01T21:44:59.760180Z",
     "iopub.status.busy": "2023-10-01T21:44:59.759805Z",
     "iopub.status.idle": "2023-10-01T21:44:59.773434Z",
     "shell.execute_reply": "2023-10-01T21:44:59.771967Z"
    },
    "papermill": {
     "duration": 0.038183,
     "end_time": "2023-10-01T21:44:59.776223",
     "exception": false,
     "start_time": "2023-10-01T21:44:59.738040",
     "status": "completed"
    },
    "tags": []
   },
   "outputs": [
    {
     "name": "stdout",
     "output_type": "stream",
     "text": [
      "Top 10 Worst Universities with the Lowest scores_overall and scores_overall_rank:\n",
      "                                       name scores_overall  \\\n",
      "1237        Cardiff Metropolitan University      22.8–28.2   \n",
      "1242                  University of Chester      22.8–28.2   \n",
      "1286            Georgia Southern University      22.8–28.2   \n",
      "1355                Morgan State University      22.8–28.2   \n",
      "1443               University of Sunderland      22.8–28.2   \n",
      "1456  University of Texas Rio Grande Valley      22.8–28.2   \n",
      "1020             University of Bedfordshire      28.3–32.6   \n",
      "1023         Bowling Green State University      28.3–32.6   \n",
      "1028    Canterbury Christ Church University      28.3–32.6   \n",
      "1029       University of Central Lancashire      28.3–32.6   \n",
      "\n",
      "      scores_overall_rank  \n",
      "1237                12380  \n",
      "1242                12430  \n",
      "1286                12870  \n",
      "1355                13560  \n",
      "1443                14440  \n",
      "1456                14570  \n",
      "1020                10210  \n",
      "1023                10240  \n",
      "1028                10290  \n",
      "1029                10300  \n"
     ]
    }
   ],
   "source": [
    "# Sort the DataFrame by scores_overall and scores_overall_rank in ascending order\n",
    "bottom_10_universities = data.sort_values(by=['scores_overall', 'scores_overall_rank'], ascending=[True, True])\n",
    "\n",
    "# Select the top 10 universities (lowest scores)\n",
    "bottom_10_universities = bottom_10_universities.head(10)\n",
    "\n",
    "# Display the top 10 worst universities\n",
    "print(\"Top 10 Worst Universities with the Lowest scores_overall and scores_overall_rank:\")\n",
    "print(bottom_10_universities[['name', 'scores_overall', 'scores_overall_rank']])\n"
   ]
  },
  {
   "cell_type": "code",
   "execution_count": 31,
   "id": "10f3570b",
   "metadata": {
    "execution": {
     "iopub.execute_input": "2023-10-01T21:44:59.815106Z",
     "iopub.status.busy": "2023-10-01T21:44:59.814747Z",
     "iopub.status.idle": "2023-10-01T21:44:59.874179Z",
     "shell.execute_reply": "2023-10-01T21:44:59.872634Z"
    },
    "papermill": {
     "duration": 0.081813,
     "end_time": "2023-10-01T21:44:59.876701",
     "exception": false,
     "start_time": "2023-10-01T21:44:59.794888",
     "status": "completed"
    },
    "tags": []
   },
   "outputs": [
    {
     "data": {
      "text/html": [
       "<div>                            <div id=\"49ea5dcf-f218-4059-bca0-f7d5eb77c4aa\" class=\"plotly-graph-div\" style=\"height:525px; width:100%;\"></div>            <script type=\"text/javascript\">                require([\"plotly\"], function(Plotly) {                    window.PLOTLYENV=window.PLOTLYENV || {};                                    if (document.getElementById(\"49ea5dcf-f218-4059-bca0-f7d5eb77c4aa\")) {                    Plotly.newPlot(                        \"49ea5dcf-f218-4059-bca0-f7d5eb77c4aa\",                        [{\"alignmentgroup\":\"True\",\"hovertemplate\":\"Scores Overall=%{x}\\u003cbr\\u003eUniversity Name=%{y}\\u003cextra\\u003e\\u003c\\u002fextra\\u003e\",\"legendgroup\":\"\",\"marker\":{\"color\":\"#636efa\",\"pattern\":{\"shape\":\"\"}},\"name\":\"\",\"offsetgroup\":\"\",\"orientation\":\"h\",\"showlegend\":false,\"textposition\":\"auto\",\"x\":[\"22.8–28.2\",\"22.8–28.2\",\"22.8–28.2\",\"22.8–28.2\",\"22.8–28.2\",\"22.8–28.2\",\"28.3–32.6\",\"28.3–32.6\",\"28.3–32.6\",\"28.3–32.6\"],\"xaxis\":\"x\",\"y\":[\"Cardiff Metropolitan University\",\"University of Chester\",\"Georgia Southern University\",\"Morgan State University\",\"University of Sunderland\",\"University of Texas Rio Grande Valley\",\"University of Bedfordshire\",\"Bowling Green State University\",\"Canterbury Christ Church University\",\"University of Central Lancashire\"],\"yaxis\":\"y\",\"type\":\"bar\"}],                        {\"template\":{\"data\":{\"histogram2dcontour\":[{\"type\":\"histogram2dcontour\",\"colorbar\":{\"outlinewidth\":0,\"ticks\":\"\"},\"colorscale\":[[0.0,\"#0d0887\"],[0.1111111111111111,\"#46039f\"],[0.2222222222222222,\"#7201a8\"],[0.3333333333333333,\"#9c179e\"],[0.4444444444444444,\"#bd3786\"],[0.5555555555555556,\"#d8576b\"],[0.6666666666666666,\"#ed7953\"],[0.7777777777777778,\"#fb9f3a\"],[0.8888888888888888,\"#fdca26\"],[1.0,\"#f0f921\"]]}],\"choropleth\":[{\"type\":\"choropleth\",\"colorbar\":{\"outlinewidth\":0,\"ticks\":\"\"}}],\"histogram2d\":[{\"type\":\"histogram2d\",\"colorbar\":{\"outlinewidth\":0,\"ticks\":\"\"},\"colorscale\":[[0.0,\"#0d0887\"],[0.1111111111111111,\"#46039f\"],[0.2222222222222222,\"#7201a8\"],[0.3333333333333333,\"#9c179e\"],[0.4444444444444444,\"#bd3786\"],[0.5555555555555556,\"#d8576b\"],[0.6666666666666666,\"#ed7953\"],[0.7777777777777778,\"#fb9f3a\"],[0.8888888888888888,\"#fdca26\"],[1.0,\"#f0f921\"]]}],\"heatmap\":[{\"type\":\"heatmap\",\"colorbar\":{\"outlinewidth\":0,\"ticks\":\"\"},\"colorscale\":[[0.0,\"#0d0887\"],[0.1111111111111111,\"#46039f\"],[0.2222222222222222,\"#7201a8\"],[0.3333333333333333,\"#9c179e\"],[0.4444444444444444,\"#bd3786\"],[0.5555555555555556,\"#d8576b\"],[0.6666666666666666,\"#ed7953\"],[0.7777777777777778,\"#fb9f3a\"],[0.8888888888888888,\"#fdca26\"],[1.0,\"#f0f921\"]]}],\"heatmapgl\":[{\"type\":\"heatmapgl\",\"colorbar\":{\"outlinewidth\":0,\"ticks\":\"\"},\"colorscale\":[[0.0,\"#0d0887\"],[0.1111111111111111,\"#46039f\"],[0.2222222222222222,\"#7201a8\"],[0.3333333333333333,\"#9c179e\"],[0.4444444444444444,\"#bd3786\"],[0.5555555555555556,\"#d8576b\"],[0.6666666666666666,\"#ed7953\"],[0.7777777777777778,\"#fb9f3a\"],[0.8888888888888888,\"#fdca26\"],[1.0,\"#f0f921\"]]}],\"contourcarpet\":[{\"type\":\"contourcarpet\",\"colorbar\":{\"outlinewidth\":0,\"ticks\":\"\"}}],\"contour\":[{\"type\":\"contour\",\"colorbar\":{\"outlinewidth\":0,\"ticks\":\"\"},\"colorscale\":[[0.0,\"#0d0887\"],[0.1111111111111111,\"#46039f\"],[0.2222222222222222,\"#7201a8\"],[0.3333333333333333,\"#9c179e\"],[0.4444444444444444,\"#bd3786\"],[0.5555555555555556,\"#d8576b\"],[0.6666666666666666,\"#ed7953\"],[0.7777777777777778,\"#fb9f3a\"],[0.8888888888888888,\"#fdca26\"],[1.0,\"#f0f921\"]]}],\"surface\":[{\"type\":\"surface\",\"colorbar\":{\"outlinewidth\":0,\"ticks\":\"\"},\"colorscale\":[[0.0,\"#0d0887\"],[0.1111111111111111,\"#46039f\"],[0.2222222222222222,\"#7201a8\"],[0.3333333333333333,\"#9c179e\"],[0.4444444444444444,\"#bd3786\"],[0.5555555555555556,\"#d8576b\"],[0.6666666666666666,\"#ed7953\"],[0.7777777777777778,\"#fb9f3a\"],[0.8888888888888888,\"#fdca26\"],[1.0,\"#f0f921\"]]}],\"mesh3d\":[{\"type\":\"mesh3d\",\"colorbar\":{\"outlinewidth\":0,\"ticks\":\"\"}}],\"scatter\":[{\"fillpattern\":{\"fillmode\":\"overlay\",\"size\":10,\"solidity\":0.2},\"type\":\"scatter\"}],\"parcoords\":[{\"type\":\"parcoords\",\"line\":{\"colorbar\":{\"outlinewidth\":0,\"ticks\":\"\"}}}],\"scatterpolargl\":[{\"type\":\"scatterpolargl\",\"marker\":{\"colorbar\":{\"outlinewidth\":0,\"ticks\":\"\"}}}],\"bar\":[{\"error_x\":{\"color\":\"#2a3f5f\"},\"error_y\":{\"color\":\"#2a3f5f\"},\"marker\":{\"line\":{\"color\":\"#E5ECF6\",\"width\":0.5},\"pattern\":{\"fillmode\":\"overlay\",\"size\":10,\"solidity\":0.2}},\"type\":\"bar\"}],\"scattergeo\":[{\"type\":\"scattergeo\",\"marker\":{\"colorbar\":{\"outlinewidth\":0,\"ticks\":\"\"}}}],\"scatterpolar\":[{\"type\":\"scatterpolar\",\"marker\":{\"colorbar\":{\"outlinewidth\":0,\"ticks\":\"\"}}}],\"histogram\":[{\"marker\":{\"pattern\":{\"fillmode\":\"overlay\",\"size\":10,\"solidity\":0.2}},\"type\":\"histogram\"}],\"scattergl\":[{\"type\":\"scattergl\",\"marker\":{\"colorbar\":{\"outlinewidth\":0,\"ticks\":\"\"}}}],\"scatter3d\":[{\"type\":\"scatter3d\",\"line\":{\"colorbar\":{\"outlinewidth\":0,\"ticks\":\"\"}},\"marker\":{\"colorbar\":{\"outlinewidth\":0,\"ticks\":\"\"}}}],\"scattermapbox\":[{\"type\":\"scattermapbox\",\"marker\":{\"colorbar\":{\"outlinewidth\":0,\"ticks\":\"\"}}}],\"scatterternary\":[{\"type\":\"scatterternary\",\"marker\":{\"colorbar\":{\"outlinewidth\":0,\"ticks\":\"\"}}}],\"scattercarpet\":[{\"type\":\"scattercarpet\",\"marker\":{\"colorbar\":{\"outlinewidth\":0,\"ticks\":\"\"}}}],\"carpet\":[{\"aaxis\":{\"endlinecolor\":\"#2a3f5f\",\"gridcolor\":\"white\",\"linecolor\":\"white\",\"minorgridcolor\":\"white\",\"startlinecolor\":\"#2a3f5f\"},\"baxis\":{\"endlinecolor\":\"#2a3f5f\",\"gridcolor\":\"white\",\"linecolor\":\"white\",\"minorgridcolor\":\"white\",\"startlinecolor\":\"#2a3f5f\"},\"type\":\"carpet\"}],\"table\":[{\"cells\":{\"fill\":{\"color\":\"#EBF0F8\"},\"line\":{\"color\":\"white\"}},\"header\":{\"fill\":{\"color\":\"#C8D4E3\"},\"line\":{\"color\":\"white\"}},\"type\":\"table\"}],\"barpolar\":[{\"marker\":{\"line\":{\"color\":\"#E5ECF6\",\"width\":0.5},\"pattern\":{\"fillmode\":\"overlay\",\"size\":10,\"solidity\":0.2}},\"type\":\"barpolar\"}],\"pie\":[{\"automargin\":true,\"type\":\"pie\"}]},\"layout\":{\"autotypenumbers\":\"strict\",\"colorway\":[\"#636efa\",\"#EF553B\",\"#00cc96\",\"#ab63fa\",\"#FFA15A\",\"#19d3f3\",\"#FF6692\",\"#B6E880\",\"#FF97FF\",\"#FECB52\"],\"font\":{\"color\":\"#2a3f5f\"},\"hovermode\":\"closest\",\"hoverlabel\":{\"align\":\"left\"},\"paper_bgcolor\":\"white\",\"plot_bgcolor\":\"#E5ECF6\",\"polar\":{\"bgcolor\":\"#E5ECF6\",\"angularaxis\":{\"gridcolor\":\"white\",\"linecolor\":\"white\",\"ticks\":\"\"},\"radialaxis\":{\"gridcolor\":\"white\",\"linecolor\":\"white\",\"ticks\":\"\"}},\"ternary\":{\"bgcolor\":\"#E5ECF6\",\"aaxis\":{\"gridcolor\":\"white\",\"linecolor\":\"white\",\"ticks\":\"\"},\"baxis\":{\"gridcolor\":\"white\",\"linecolor\":\"white\",\"ticks\":\"\"},\"caxis\":{\"gridcolor\":\"white\",\"linecolor\":\"white\",\"ticks\":\"\"}},\"coloraxis\":{\"colorbar\":{\"outlinewidth\":0,\"ticks\":\"\"}},\"colorscale\":{\"sequential\":[[0.0,\"#0d0887\"],[0.1111111111111111,\"#46039f\"],[0.2222222222222222,\"#7201a8\"],[0.3333333333333333,\"#9c179e\"],[0.4444444444444444,\"#bd3786\"],[0.5555555555555556,\"#d8576b\"],[0.6666666666666666,\"#ed7953\"],[0.7777777777777778,\"#fb9f3a\"],[0.8888888888888888,\"#fdca26\"],[1.0,\"#f0f921\"]],\"sequentialminus\":[[0.0,\"#0d0887\"],[0.1111111111111111,\"#46039f\"],[0.2222222222222222,\"#7201a8\"],[0.3333333333333333,\"#9c179e\"],[0.4444444444444444,\"#bd3786\"],[0.5555555555555556,\"#d8576b\"],[0.6666666666666666,\"#ed7953\"],[0.7777777777777778,\"#fb9f3a\"],[0.8888888888888888,\"#fdca26\"],[1.0,\"#f0f921\"]],\"diverging\":[[0,\"#8e0152\"],[0.1,\"#c51b7d\"],[0.2,\"#de77ae\"],[0.3,\"#f1b6da\"],[0.4,\"#fde0ef\"],[0.5,\"#f7f7f7\"],[0.6,\"#e6f5d0\"],[0.7,\"#b8e186\"],[0.8,\"#7fbc41\"],[0.9,\"#4d9221\"],[1,\"#276419\"]]},\"xaxis\":{\"gridcolor\":\"white\",\"linecolor\":\"white\",\"ticks\":\"\",\"title\":{\"standoff\":15},\"zerolinecolor\":\"white\",\"automargin\":true,\"zerolinewidth\":2},\"yaxis\":{\"gridcolor\":\"white\",\"linecolor\":\"white\",\"ticks\":\"\",\"title\":{\"standoff\":15},\"zerolinecolor\":\"white\",\"automargin\":true,\"zerolinewidth\":2},\"scene\":{\"xaxis\":{\"backgroundcolor\":\"#E5ECF6\",\"gridcolor\":\"white\",\"linecolor\":\"white\",\"showbackground\":true,\"ticks\":\"\",\"zerolinecolor\":\"white\",\"gridwidth\":2},\"yaxis\":{\"backgroundcolor\":\"#E5ECF6\",\"gridcolor\":\"white\",\"linecolor\":\"white\",\"showbackground\":true,\"ticks\":\"\",\"zerolinecolor\":\"white\",\"gridwidth\":2},\"zaxis\":{\"backgroundcolor\":\"#E5ECF6\",\"gridcolor\":\"white\",\"linecolor\":\"white\",\"showbackground\":true,\"ticks\":\"\",\"zerolinecolor\":\"white\",\"gridwidth\":2}},\"shapedefaults\":{\"line\":{\"color\":\"#2a3f5f\"}},\"annotationdefaults\":{\"arrowcolor\":\"#2a3f5f\",\"arrowhead\":0,\"arrowwidth\":1},\"geo\":{\"bgcolor\":\"white\",\"landcolor\":\"#E5ECF6\",\"subunitcolor\":\"white\",\"showland\":true,\"showlakes\":true,\"lakecolor\":\"white\"},\"title\":{\"x\":0.05},\"mapbox\":{\"style\":\"light\"}}},\"xaxis\":{\"anchor\":\"y\",\"domain\":[0.0,1.0],\"title\":{\"text\":\"Scores Overall\"}},\"yaxis\":{\"anchor\":\"x\",\"domain\":[0.0,1.0],\"title\":{\"text\":\"University Name\"}},\"legend\":{\"tracegroupgap\":0},\"title\":{\"text\":\"Top 10 Worst Universities with the Lowest scores_overall and scores_overall_rank\"},\"barmode\":\"relative\",\"font\":{\"color\":\"black\"},\"paper_bgcolor\":\"white\",\"plot_bgcolor\":\"white\"},                        {\"responsive\": true}                    ).then(function(){\n",
       "                            \n",
       "var gd = document.getElementById('49ea5dcf-f218-4059-bca0-f7d5eb77c4aa');\n",
       "var x = new MutationObserver(function (mutations, observer) {{\n",
       "        var display = window.getComputedStyle(gd).display;\n",
       "        if (!display || display === 'none') {{\n",
       "            console.log([gd, 'removed!']);\n",
       "            Plotly.purge(gd);\n",
       "            observer.disconnect();\n",
       "        }}\n",
       "}});\n",
       "\n",
       "// Listen for the removal of the full notebook cells\n",
       "var notebookContainer = gd.closest('#notebook-container');\n",
       "if (notebookContainer) {{\n",
       "    x.observe(notebookContainer, {childList: true});\n",
       "}}\n",
       "\n",
       "// Listen for the clearing of the current output cell\n",
       "var outputEl = gd.closest('.output');\n",
       "if (outputEl) {{\n",
       "    x.observe(outputEl, {childList: true});\n",
       "}}\n",
       "\n",
       "                        })                };                });            </script>        </div>"
      ]
     },
     "metadata": {},
     "output_type": "display_data"
    }
   ],
   "source": [
    "import plotly.express as px\n",
    "\n",
    "# Sort the DataFrame by scores_overall and scores_overall_rank in ascending order\n",
    "bottom_10_universities = data.sort_values(by=['scores_overall', 'scores_overall_rank'], ascending=[True, True])\n",
    "\n",
    "# Select the top 10 universities (lowest scores)\n",
    "bottom_10_universities = bottom_10_universities.head(10)\n",
    "\n",
    "# Create an interactive bar chart\n",
    "fig = px.bar(\n",
    "    bottom_10_universities,\n",
    "    x='scores_overall',\n",
    "    y='name',\n",
    "    title='Top 10 Worst Universities with the Lowest scores_overall and scores_overall_rank',\n",
    "    labels={'scores_overall': 'Scores Overall', 'name': 'University Name'},\n",
    "    orientation='h'  # Horizontal bar chart\n",
    ")\n",
    "\n",
    "# Customize the layout\n",
    "fig.update_layout(\n",
    "    xaxis_title='Scores Overall',\n",
    "    yaxis_title='University Name',\n",
    "    paper_bgcolor='white',    # Set the plot background color\n",
    "    plot_bgcolor='white',     # Set the chart background color\n",
    "    font=dict(color='black')  # Set font color to black\n",
    ")\n",
    "\n",
    "# Show the interactive plot\n",
    "fig.show()\n"
   ]
  }
 ],
 "metadata": {
  "kernelspec": {
   "display_name": "Python 3",
   "language": "python",
   "name": "python3"
  },
  "language_info": {
   "codemirror_mode": {
    "name": "ipython",
    "version": 3
   },
   "file_extension": ".py",
   "mimetype": "text/x-python",
   "name": "python",
   "nbconvert_exporter": "python",
   "pygments_lexer": "ipython3",
   "version": "3.10.12"
  },
  "papermill": {
   "default_parameters": {},
   "duration": 13.740413,
   "end_time": "2023-10-01T21:45:00.725200",
   "environment_variables": {},
   "exception": null,
   "input_path": "__notebook__.ipynb",
   "output_path": "__notebook__.ipynb",
   "parameters": {},
   "start_time": "2023-10-01T21:44:46.984787",
   "version": "2.4.0"
  }
 },
 "nbformat": 4,
 "nbformat_minor": 5
}
