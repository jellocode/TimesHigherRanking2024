{
 "cells": [
  {
   "cell_type": "code",
   "execution_count": 3,
   "metadata": {},
   "outputs": [
    {
     "name": "stdout",
     "output_type": "stream",
     "text": [
      "    Unnamed: 0 rank                                   name  scores_teaching\n",
      "0            0    1                   University of Oxford             90.5\n",
      "1            1    2     California Institute of Technology             92.1\n",
      "2            2    3                University of Cambridge             91.4\n",
      "3            3    4                    Stanford University             92.8\n",
      "4            4    5  Massachusetts Institute of Technology             90.5\n",
      "5            5    6                   Princeton University             90.3\n",
      "6            6    7                     Harvard University             89.2\n",
      "7            7    8                        Yale University             92.0\n",
      "8            8    9              The University of Chicago             89.1\n",
      "9            9   10                Imperial College London             84.5\n",
      "10          10   11             University of Pennsylvania             87.5\n",
      "11          11   12               Johns Hopkins University             81.7\n",
      "12          12  =13               University of California             83.0\n",
      "13          13  =13                             ETH Zurich             81.8\n",
      "14          14   15                                    UCL             77.8\n",
      "15          15   16                    Columbia University             85.6\n",
      "16          16   17               University of California             83.1\n",
      "17          17   18                  University of Toronto             76.6\n",
      "18          18   19                     Cornell University             79.7\n",
      "19          19   20                        Duke University             82.4\n"
     ]
    }
   ],
   "source": [
    "import pandas as pd\n",
    "\n",
    "data = pd.read_csv(r'2020-new.csv')\n",
    "df = pd.DataFrame(data)\n",
    "print(df)"
   ]
  },
  {
   "cell_type": "code",
   "execution_count": null,
   "metadata": {},
   "outputs": [],
   "source": []
  }
 ],
 "metadata": {
  "kernelspec": {
   "display_name": "Python 3",
   "language": "python",
   "name": "python3"
  },
  "language_info": {
   "codemirror_mode": {
    "name": "ipython",
    "version": 3
   },
   "file_extension": ".py",
   "mimetype": "text/x-python",
   "name": "python",
   "nbconvert_exporter": "python",
   "pygments_lexer": "ipython3",
   "version": "3.11.2"
  }
 },
 "nbformat": 4,
 "nbformat_minor": 2
}
