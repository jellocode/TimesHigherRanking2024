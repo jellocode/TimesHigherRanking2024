{
 "cells": [
  {
   "cell_type": "code",
   "execution_count": null,
   "metadata": {},
   "outputs": [],
   "source": [
    "import numpy as np\n",
    "import pandas as pd"
   ]
  },
  {
   "cell_type": "markdown",
   "metadata": {},
   "source": [
    "Top 20 uni"
   ]
  },
  {
   "cell_type": "code",
   "execution_count": null,
   "metadata": {},
   "outputs": [],
   "source": [
    "data = pd.read_csv(r'2020-2024\\TIMES_WorldUniversityRankings_2024.csv')\n",
    "df = pd.DataFrame(data)\n",
    "df.head(3)\n",
    "# df.tail(3) #check for inconsistensies with data head/tail"
   ]
  },
  {
   "cell_type": "code",
   "execution_count": null,
   "metadata": {},
   "outputs": [],
   "source": [
    "df.info()\n",
    "df.dtypes"
   ]
  },
  {
   "cell_type": "markdown",
   "metadata": {},
   "source": [
    "Column names"
   ]
  },
  {
   "cell_type": "code",
   "execution_count": null,
   "metadata": {},
   "outputs": [],
   "source": [
    "df.columns.tolist()\n",
    "\n",
    "# drop irrelevant columns\n",
    "data = data.drop(['aliases',\n",
    " 'subjects_offered',\n",
    " 'closed',\n",
    " 'unaccredited',\n",
    " 'disabled',\n",
    " 'website_url',\n",
    " 'record_type', \n",
    " 'member_level', \n",
    " 'url', 'nid', \n",
    " 'location'], axis= 1)\n",
    "data.columns"
   ]
  },
  {
   "cell_type": "code",
   "execution_count": null,
   "metadata": {},
   "outputs": [],
   "source": [
    "df = pd.DataFrame(data)\n",
    "df_new = df.head(20)\n",
    "df_new\n",
    "df_new.to_csv('')"
   ]
  },
  {
   "cell_type": "code",
   "execution_count": null,
   "metadata": {},
   "outputs": [],
   "source": [
    "data1.isnull().sum().sum() # check for null values\n",
    "#data.dropna(axis=0, inplace=True) # drop null values\n",
    "#data.duplicated().sum() # check for duplicates"
   ]
  },
  {
   "cell_type": "markdown",
   "metadata": {},
   "source": [
    "Removing commas and unecessary information"
   ]
  },
  {
   "cell_type": "code",
   "execution_count": null,
   "metadata": {},
   "outputs": [],
   "source": [
    "data2 = pd.read_csv(r\"2020-2024 (cleaned)\\2024.csv\")\n",
    "df2 = pd.DataFrame(data2)\n",
    "data2"
   ]
  },
  {
   "cell_type": "code",
   "execution_count": null,
   "metadata": {},
   "outputs": [],
   "source": [
    "# Assuming your DataFrame is named df\n",
    "df2['name'] = df2['name'].str.replace(', Berkeley', '')\n",
    "\n",
    "# Display the modified DataFrame\n",
    "#df2.to_csv(r'2020-2024 (cleaned)\\.csv')"
   ]
  },
  {
   "cell_type": "markdown",
   "metadata": {},
   "source": [
    "2020-24 csv "
   ]
  },
  {
   "cell_type": "code",
   "execution_count": null,
   "metadata": {},
   "outputs": [],
   "source": [
    "import pandas as pd\n",
    "import os\n",
    "\n",
    "# Specify the directory you want to use\n",
    "directory = r\"n-2020-24 (cleaned)\"\n",
    "\n",
    "# Get a list of all CSV files in the target directory\n",
    "csv_files = [f for f in os.listdir(directory) if f.endswith('.csv')]\n",
    "\n",
    "# Create a list to hold dataframes\n",
    "dfs = []\n",
    "\n",
    "# Read each CSV file and append it to the list\n",
    "for csv_file in csv_files:\n",
    "    df = pd.read_csv(os.path.join(directory, csv_file))\n",
    "    dfs.append(df)\n",
    "\n",
    "# Concatenate all dataframes in the list\n",
    "combined_df = pd.concat(dfs, ignore_index=True)\n",
    "\n",
    "# Write the combined dataframe to a new CSV file\n",
    "combined_df.to_csv('combined.csv', index=False)"
   ]
  },
  {
   "cell_type": "markdown",
   "metadata": {},
   "source": [
    "Create new column 'year'"
   ]
  },
  {
   "cell_type": "code",
   "execution_count": null,
   "metadata": {},
   "outputs": [],
   "source": [
    "import pandas as pd\n",
    "\n",
    "# Read the CSV file\n",
    "#df = pd.read_csv(r\"2020-2024 (cleaned)/2024.csv\")\n",
    "\n",
    "# Create a new column. For example, let's create a column named 'new_column' and initialize it with the value '0'\n",
    "#df['year'] = '2024'\n",
    "\n",
    "# Write the dataframe back to CSV\n",
    "#df.to_csv('n-2024.csv', index=False)"
   ]
  },
  {
   "cell_type": "markdown",
   "metadata": {},
   "source": [
    "Removing commas"
   ]
  },
  {
   "cell_type": "code",
   "execution_count": 4,
   "metadata": {},
   "outputs": [
    {
     "data": {
      "text/plain": [
       "Index(['rank_order', 'rank', 'name', 'scores_overall', 'scores_overall_rank',\n",
       "       'scores_teaching', 'scores_teaching_rank', 'scores_research',\n",
       "       'scores_research_rank', 'scores_citations', 'scores_citations_rank',\n",
       "       'scores_industry_income', 'scores_industry_income_rank',\n",
       "       'scores_international_outlook', 'scores_international_outlook_rank',\n",
       "       'stats_number_students', 'stats_student_staff_ratio',\n",
       "       'stats_pc_intl_students', 'stats_female_male_ratio', 'year'],\n",
       "      dtype='object')"
      ]
     },
     "execution_count": 4,
     "metadata": {},
     "output_type": "execute_result"
    }
   ],
   "source": [
    "import pandas as pd\n",
    "\n",
    "ndata = pd.read_csv(r\"clean-v1.csv\")\n",
    "ndf = pd.DataFrame(ndata)\n",
    "ndf.columns"
   ]
  },
  {
   "cell_type": "code",
   "execution_count": 5,
   "metadata": {},
   "outputs": [],
   "source": [
    "ndf['name'] = ndf['name'].str.replace(', Los Angeles', '')\n",
    "#ndf.to_csv(\"clean-v1.csv\")"
   ]
  },
  {
   "cell_type": "code",
   "execution_count": 31,
   "metadata": {},
   "outputs": [],
   "source": [
    "import pandas as pd\n",
    "\n",
    "# Read the CSV file\n",
    "df = pd.read_csv(r\"full-clean-combined.csv\")\n",
    "\n",
    "# List of columns to drop\n",
    "columns_to_drop = ['Unnamed: 0.2', 'Unnamed: 0.1', 'Unnamed: 0', 'aliases', 'subjects_offered', 'closed' ,'unaccredited', 'location']\n",
    "\n",
    "# Drop the columns\n",
    "df = df.drop(columns=columns_to_drop)\n",
    "\n",
    "#df.columns\n",
    "# Write the dataframe back to CSV\n",
    "df.to_csv('your_file.csv', index=False)"
   ]
  },
  {
   "cell_type": "code",
   "execution_count": null,
   "metadata": {},
   "outputs": [],
   "source": []
  }
 ],
 "metadata": {
  "kernelspec": {
   "display_name": "Python 3",
   "language": "python",
   "name": "python3"
  },
  "language_info": {
   "codemirror_mode": {
    "name": "ipython",
    "version": 3
   },
   "file_extension": ".py",
   "mimetype": "text/x-python",
   "name": "python",
   "nbconvert_exporter": "python",
   "pygments_lexer": "ipython3",
   "version": "3.11.2"
  }
 },
 "nbformat": 4,
 "nbformat_minor": 2
}
