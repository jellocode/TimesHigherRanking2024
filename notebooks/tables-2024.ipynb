{
 "cells": [
  {
   "cell_type": "markdown",
   "metadata": {},
   "source": [
    "Read CSV"
   ]
  },
  {
   "cell_type": "code",
   "execution_count": null,
   "metadata": {},
   "outputs": [],
   "source": [
    "import numpy as np\n",
    "import pandas as pd\n",
    "data = pd.read_csv(r'2020-2024 (cleaned)\\2024.csv')\n",
    "df = pd.DataFrame(data)"
   ]
  },
  {
   "cell_type": "code",
   "execution_count": null,
   "metadata": {},
   "outputs": [],
   "source": [
    "df_new = df[['rank', 'name', 'scores_teaching']]\n",
    "ts_column = df_new['scores_teaching']\n",
    "df_new"
   ]
  },
  {
   "cell_type": "markdown",
   "metadata": {},
   "source": [
    "Getting Sum, Avg, Median, Mode, Std deviation"
   ]
  },
  {
   "cell_type": "code",
   "execution_count": null,
   "metadata": {},
   "outputs": [],
   "source": [
    "ts_column.sum()\n",
    "#ts_avg = ts_column.mean()\n",
    "#ts_median = ts_column.median()\n",
    "#ts_mode = ts_column.mode().iloc(0)\n",
    "#ts_std = ts_column.std()"
   ]
  },
  {
   "cell_type": "code",
   "execution_count": null,
   "metadata": {},
   "outputs": [],
   "source": [
    "ts_column.mean()"
   ]
  },
  {
   "cell_type": "code",
   "execution_count": null,
   "metadata": {},
   "outputs": [],
   "source": [
    "ts_column.mode()"
   ]
  },
  {
   "cell_type": "code",
   "execution_count": null,
   "metadata": {},
   "outputs": [],
   "source": [
    "ts_column.std()"
   ]
  },
  {
   "cell_type": "code",
   "execution_count": null,
   "metadata": {},
   "outputs": [],
   "source": [
    "data0 = pd.read_csv(r'2020-2024\\2020_rankings.csv')\n",
    "df0 = pd.DataFrame(data0)\n",
    "#df0[['rank']]\n",
    "#df0.columns\n",
    "top_df0 = df0.head(20)\n",
    "top_df0\n",
    "#top_df0.to_csv(r'2020-2024 (cleaned)\\202.csv')"
   ]
  },
  {
   "cell_type": "code",
   "execution_count": null,
   "metadata": {},
   "outputs": [],
   "source": [
    "data1 = pd.read_csv(r'2020-2024\\2021_rankings.csv')\n",
    "df1 = pd.DataFrame(data1)\n",
    "top_df1 = df1.head(20)\n",
    "top_df1\n",
    "\n",
    "#top_df1.to_csv(r'2020-2024 (cleaned)\\2021.csv')"
   ]
  },
  {
   "cell_type": "code",
   "execution_count": null,
   "metadata": {},
   "outputs": [],
   "source": [
    "data3 = pd.read_csv(r'2020-2024\\2023_rankings.csv')\n",
    "df3 = pd.DataFrame(data3)\n",
    "top_df3 = df3.head(20)\n",
    "top_df3\n",
    "\n",
    "#top_df3.to_csv(r'2020-2024 (cleaned)\\2023.csv')"
   ]
  },
  {
   "cell_type": "code",
   "execution_count": null,
   "metadata": {},
   "outputs": [],
   "source": [
    "data2 = pd.read_csv(r'2020-2024\\2022_rankings.csv')\n",
    "df2 = pd.DataFrame(data2)\n",
    "top_df2 = df2.head(20)\n",
    "top_df2\n",
    "\n",
    "#top_df2.to_csv(r'2020-2024 (cleaned)\\2022.csv')"
   ]
  }
 ],
 "metadata": {
  "kernelspec": {
   "display_name": "Python 3",
   "language": "python",
   "name": "python3"
  },
  "language_info": {
   "codemirror_mode": {
    "name": "ipython",
    "version": 3
   },
   "file_extension": ".py",
   "mimetype": "text/x-python",
   "name": "python",
   "nbconvert_exporter": "python",
   "pygments_lexer": "ipython3",
   "version": "3.11.2"
  }
 },
 "nbformat": 4,
 "nbformat_minor": 2
}
