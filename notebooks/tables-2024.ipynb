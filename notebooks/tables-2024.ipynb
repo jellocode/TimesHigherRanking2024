{
 "cells": [
  {
   "cell_type": "markdown",
   "metadata": {},
   "source": [
    "Tables and graphs from reference to paper \n",
    "\n",
    "1. A systematic review through graphical visualization and analysis of teaching pillar of top five Times Higher Education (THE) ranked universities for the period 2020-2023."
   ]
  },
  {
   "cell_type": "markdown",
   "metadata": {},
   "source": [
    "Read CSV"
   ]
  },
  {
   "cell_type": "code",
   "execution_count": 1,
   "metadata": {},
   "outputs": [],
   "source": [
    "import numpy as np\n",
    "import pandas as pd\n",
    "import matplotlib.pyplot as plt\n",
    "import plotly.graph_objects as go\n",
    "from io import StringIO\n",
    "\n",
    "data = pd.read_csv(r\"combined (2020-24 v3).csv\")\n",
    "df = pd.DataFrame(data)"
   ]
  },
  {
   "cell_type": "markdown",
   "metadata": {},
   "source": [
    "# Teaching scores"
   ]
  },
  {
   "cell_type": "markdown",
   "metadata": {},
   "source": [
    "Top 20 universities years 2020-24"
   ]
  },
  {
   "cell_type": "code",
   "execution_count": 2,
   "metadata": {},
   "outputs": [
    {
     "ename": "NameError",
     "evalue": "name 'df' is not defined",
     "output_type": "error",
     "traceback": [
      "\u001b[1;31m---------------------------------------------------------------------------\u001b[0m",
      "\u001b[1;31mNameError\u001b[0m                                 Traceback (most recent call last)",
      "Cell \u001b[1;32mIn[2], line 2\u001b[0m\n\u001b[0;32m      1\u001b[0m \u001b[38;5;66;03m# Convert the 'year' column to integer type\u001b[39;00m\n\u001b[1;32m----> 2\u001b[0m df[\u001b[38;5;124m'\u001b[39m\u001b[38;5;124myear\u001b[39m\u001b[38;5;124m'\u001b[39m] \u001b[38;5;241m=\u001b[39m \u001b[43mdf\u001b[49m[\u001b[38;5;124m'\u001b[39m\u001b[38;5;124myear\u001b[39m\u001b[38;5;124m'\u001b[39m]\u001b[38;5;241m.\u001b[39mastype(\u001b[38;5;28mint\u001b[39m)\n\u001b[0;32m      4\u001b[0m \u001b[38;5;28mprint\u001b[39m(df[\u001b[38;5;124m'\u001b[39m\u001b[38;5;124myear\u001b[39m\u001b[38;5;124m'\u001b[39m]\u001b[38;5;241m.\u001b[39munique()) \u001b[38;5;66;03m# includes 2024\u001b[39;00m\n\u001b[0;32m      6\u001b[0m years \u001b[38;5;241m=\u001b[39m df[\u001b[38;5;124m'\u001b[39m\u001b[38;5;124myear\u001b[39m\u001b[38;5;124m'\u001b[39m]\u001b[38;5;241m.\u001b[39munique()\n",
      "\u001b[1;31mNameError\u001b[0m: name 'df' is not defined"
     ]
    }
   ],
   "source": [
    "# Convert the 'year' column to integer type\n",
    "df['year'] = df['year'].astype(int)\n",
    "\n",
    "print(df['year'].unique()) # includes 2024\n",
    "\n",
    "years = df['year'].unique()\n",
    "\n",
    "# Filter the dataFrame\n",
    "df = df[df['year'].isin(years) & (df['rank'] > 0)]\n",
    "\n",
    "# Sort the DataFrame based on the 'rank' column\n",
    "df = df.sort_values(by=['rank'])\n",
    "\n",
    "# Get the top 20 ranks for each year\n",
    "top_ranks = df.groupby('year').head(20)\n",
    "\n",
    "# Print the result\n",
    "print(top_ranks['year'].unique()) # doesnt include 2024?? // includes 2024 now"
   ]
  },
  {
   "cell_type": "markdown",
   "metadata": {},
   "source": [
    "Table 1 - top 20 universities years 2020, 2021, 2022, 2023, 2024 'rank', 'name', 'scores_teaching'"
   ]
  },
  {
   "cell_type": "code",
   "execution_count": 133,
   "metadata": {},
   "outputs": [
    {
     "data": {
      "text/html": [
       "<div>\n",
       "<style scoped>\n",
       "    .dataframe tbody tr th:only-of-type {\n",
       "        vertical-align: middle;\n",
       "    }\n",
       "\n",
       "    .dataframe tbody tr th {\n",
       "        vertical-align: top;\n",
       "    }\n",
       "\n",
       "    .dataframe thead th {\n",
       "        text-align: right;\n",
       "    }\n",
       "</style>\n",
       "<table border=\"1\" class=\"dataframe\">\n",
       "  <thead>\n",
       "    <tr style=\"text-align: right;\">\n",
       "      <th></th>\n",
       "      <th>rank</th>\n",
       "      <th>name</th>\n",
       "      <th>scores_teaching</th>\n",
       "    </tr>\n",
       "  </thead>\n",
       "  <tbody>\n",
       "    <tr>\n",
       "      <th>7380</th>\n",
       "      <td>1</td>\n",
       "      <td>University of Oxford</td>\n",
       "      <td>96.6</td>\n",
       "    </tr>\n",
       "    <tr>\n",
       "      <th>7381</th>\n",
       "      <td>2</td>\n",
       "      <td>Stanford University</td>\n",
       "      <td>99.0</td>\n",
       "    </tr>\n",
       "    <tr>\n",
       "      <th>7382</th>\n",
       "      <td>3</td>\n",
       "      <td>Massachusetts Institute of Technology</td>\n",
       "      <td>98.6</td>\n",
       "    </tr>\n",
       "    <tr>\n",
       "      <th>7383</th>\n",
       "      <td>4</td>\n",
       "      <td>Harvard University</td>\n",
       "      <td>97.7</td>\n",
       "    </tr>\n",
       "    <tr>\n",
       "      <th>7384</th>\n",
       "      <td>5</td>\n",
       "      <td>University of Cambridge</td>\n",
       "      <td>95.8</td>\n",
       "    </tr>\n",
       "    <tr>\n",
       "      <th>7385</th>\n",
       "      <td>6</td>\n",
       "      <td>Princeton University</td>\n",
       "      <td>96.3</td>\n",
       "    </tr>\n",
       "    <tr>\n",
       "      <th>7386</th>\n",
       "      <td>7</td>\n",
       "      <td>California Institute of Technology</td>\n",
       "      <td>96.6</td>\n",
       "    </tr>\n",
       "    <tr>\n",
       "      <th>7387</th>\n",
       "      <td>8</td>\n",
       "      <td>Imperial College London</td>\n",
       "      <td>90.9</td>\n",
       "    </tr>\n",
       "    <tr>\n",
       "      <th>7388</th>\n",
       "      <td>9</td>\n",
       "      <td>University of California, Berkeley</td>\n",
       "      <td>87.2</td>\n",
       "    </tr>\n",
       "    <tr>\n",
       "      <th>7389</th>\n",
       "      <td>10</td>\n",
       "      <td>Yale University</td>\n",
       "      <td>94.0</td>\n",
       "    </tr>\n",
       "    <tr>\n",
       "      <th>7390</th>\n",
       "      <td>11</td>\n",
       "      <td>ETH Zurich</td>\n",
       "      <td>87.6</td>\n",
       "    </tr>\n",
       "    <tr>\n",
       "      <th>7391</th>\n",
       "      <td>12</td>\n",
       "      <td>Tsinghua University</td>\n",
       "      <td>95.3</td>\n",
       "    </tr>\n",
       "    <tr>\n",
       "      <th>7392</th>\n",
       "      <td>13</td>\n",
       "      <td>The University of Chicago</td>\n",
       "      <td>89.6</td>\n",
       "    </tr>\n",
       "    <tr>\n",
       "      <th>7393</th>\n",
       "      <td>14</td>\n",
       "      <td>Peking University</td>\n",
       "      <td>95.6</td>\n",
       "    </tr>\n",
       "    <tr>\n",
       "      <th>7394</th>\n",
       "      <td>15</td>\n",
       "      <td>Johns Hopkins University</td>\n",
       "      <td>84.4</td>\n",
       "    </tr>\n",
       "    <tr>\n",
       "      <th>7395</th>\n",
       "      <td>16</td>\n",
       "      <td>University of Pennsylvania</td>\n",
       "      <td>87.7</td>\n",
       "    </tr>\n",
       "    <tr>\n",
       "      <th>7396</th>\n",
       "      <td>17</td>\n",
       "      <td>Columbia University</td>\n",
       "      <td>88.6</td>\n",
       "    </tr>\n",
       "    <tr>\n",
       "      <th>7397</th>\n",
       "      <td>18</td>\n",
       "      <td>University of California, Los Angeles</td>\n",
       "      <td>85.7</td>\n",
       "    </tr>\n",
       "    <tr>\n",
       "      <th>7398</th>\n",
       "      <td>19</td>\n",
       "      <td>National University of Singapore</td>\n",
       "      <td>78.8</td>\n",
       "    </tr>\n",
       "    <tr>\n",
       "      <th>7399</th>\n",
       "      <td>20</td>\n",
       "      <td>Cornell University</td>\n",
       "      <td>85.7</td>\n",
       "    </tr>\n",
       "  </tbody>\n",
       "</table>\n",
       "</div>"
      ],
      "text/plain": [
       "      rank                                   name  scores_teaching\n",
       "7380     1                   University of Oxford             96.6\n",
       "7381     2                    Stanford University             99.0\n",
       "7382     3  Massachusetts Institute of Technology             98.6\n",
       "7383     4                     Harvard University             97.7\n",
       "7384     5                University of Cambridge             95.8\n",
       "7385     6                   Princeton University             96.3\n",
       "7386     7     California Institute of Technology             96.6\n",
       "7387     8                Imperial College London             90.9\n",
       "7388     9     University of California, Berkeley             87.2\n",
       "7389    10                        Yale University             94.0\n",
       "7390    11                             ETH Zurich             87.6\n",
       "7391    12                    Tsinghua University             95.3\n",
       "7392    13              The University of Chicago             89.6\n",
       "7393    14                      Peking University             95.6\n",
       "7394    15               Johns Hopkins University             84.4\n",
       "7395    16             University of Pennsylvania             87.7\n",
       "7396    17                    Columbia University             88.6\n",
       "7397    18  University of California, Los Angeles             85.7\n",
       "7398    19       National University of Singapore             78.8\n",
       "7399    20                     Cornell University             85.7"
      ]
     },
     "execution_count": 133,
     "metadata": {},
     "output_type": "execute_result"
    }
   ],
   "source": [
    "df_filtered = df[df['year'] == 2024][['rank', 'name', 'scores_teaching']].head(20) # change year to 2020/2021/2022/2023/2024\n",
    "ts_column = df_filtered['scores_teaching']\n",
    "df_filtered"
   ]
  },
  {
   "cell_type": "markdown",
   "metadata": {},
   "source": [
    "Getting Sum, Avg, Median, Mode, Std deviation"
   ]
  },
  {
   "cell_type": "code",
   "execution_count": 134,
   "metadata": {},
   "outputs": [
    {
     "name": "stdout",
     "output_type": "stream",
     "text": [
      "1831.7 91.58500000000001 92.45 0    85.7\n",
      "1    96.6\n",
      "Name: scores_teaching, dtype: float64 5.691662877910941\n"
     ]
    }
   ],
   "source": [
    "# NEED TO ADD TO TABLE\n",
    "print(\n",
    "    ts_column.sum(),\n",
    "    ts_column.mean(),\n",
    "    ts_column.median(),\n",
    "    ts_column.mode(),\n",
    "    ts_column.std()\n",
    ")"
   ]
  },
  {
   "cell_type": "markdown",
   "metadata": {},
   "source": [
    "Calculate average teaching score for each year"
   ]
  },
  {
   "cell_type": "code",
   "execution_count": 135,
   "metadata": {},
   "outputs": [
    {
     "data": {
      "image/png": "[encoded data removed]",
      "text/plain": [
       "<Figure size 1000x600 with 1 Axes>"
      ]
     },
     "metadata": {},
     "output_type": "display_data"
    }
   ],
   "source": [
    "# Calculate average teaching score for each year\n",
    "average_teaching_score_per_year = top_ranks.groupby('year')['scores_teaching'].mean()\n",
    "\n",
    "# Extract years and average teaching scores\n",
    "years = average_teaching_score_per_year.index.to_numpy()\n",
    "average_teaching_scores = average_teaching_score_per_year.to_numpy()\n",
    "\n",
    "# Create the line graph\n",
    "plt.figure(figsize=(10, 6))\n",
    "plt.plot(years, average_teaching_scores, marker='o', linestyle='-')\n",
    "plt.xlabel('Year')\n",
    "plt.ylabel('Average Teaching Score')\n",
    "plt.title('Average Teaching (2020-2024)')\n",
    "\n",
    "# Ensure x-axis labels only show integer years\n",
    "plt.xticks(years)\n",
    "\n",
    "plt.show()"
   ]
  },
  {
   "cell_type": "markdown",
   "metadata": {},
   "source": [
    "List of all unique university names that have been in top 20 across 2020-24"
   ]
  },
  {
   "cell_type": "code",
   "execution_count": 136,
   "metadata": {},
   "outputs": [
    {
     "name": "stdout",
     "output_type": "stream",
     "text": [
      "['University of Oxford' 'Stanford University'\n",
      " 'California Institute of Technology' 'Harvard University'\n",
      " 'Massachusetts Institute of Technology' 'University of Cambridge'\n",
      " 'Princeton University' 'University of California, Berkeley'\n",
      " 'Yale University' 'Imperial College London' 'The University of Chicago'\n",
      " 'University of Pennsylvania' 'Columbia University' 'ETH Zurich'\n",
      " 'Tsinghua University' 'Johns Hopkins University' 'Peking University'\n",
      " 'UCL' 'University of California, Los Angeles' 'University of Toronto'\n",
      " 'Cornell University' 'National University of Singapore' 'Duke University']\n"
     ]
    }
   ],
   "source": [
    "uni_names = top_ranks['name'].unique()\n",
    "\n",
    "# Print the list of university names\n",
    "print(uni_names)"
   ]
  },
  {
   "cell_type": "markdown",
   "metadata": {},
   "source": [
    "Table 2. a,b"
   ]
  },
  {
   "cell_type": "code",
   "execution_count": 137,
   "metadata": {},
   "outputs": [
    {
     "data": {
      "text/html": [
       "<div>\n",
       "<style scoped>\n",
       "    .dataframe tbody tr th:only-of-type {\n",
       "        vertical-align: middle;\n",
       "    }\n",
       "\n",
       "    .dataframe tbody tr th {\n",
       "        vertical-align: top;\n",
       "    }\n",
       "\n",
       "    .dataframe thead th {\n",
       "        text-align: right;\n",
       "    }\n",
       "</style>\n",
       "<table border=\"1\" class=\"dataframe\">\n",
       "  <thead>\n",
       "    <tr style=\"text-align: right;\">\n",
       "      <th>year</th>\n",
       "      <th>2020</th>\n",
       "      <th>2021</th>\n",
       "      <th>2022</th>\n",
       "      <th>2023</th>\n",
       "      <th>2024</th>\n",
       "    </tr>\n",
       "    <tr>\n",
       "      <th>name</th>\n",
       "      <th></th>\n",
       "      <th></th>\n",
       "      <th></th>\n",
       "      <th></th>\n",
       "      <th></th>\n",
       "    </tr>\n",
       "  </thead>\n",
       "  <tbody>\n",
       "    <tr>\n",
       "      <th>California Institute of Technology</th>\n",
       "      <td>92.1</td>\n",
       "      <td>92.5</td>\n",
       "      <td>93.6</td>\n",
       "      <td>90.9</td>\n",
       "      <td>96.6</td>\n",
       "    </tr>\n",
       "    <tr>\n",
       "      <th>Columbia University</th>\n",
       "      <td>85.6</td>\n",
       "      <td>85.1</td>\n",
       "      <td>87.8</td>\n",
       "      <td>89.4</td>\n",
       "      <td>88.6</td>\n",
       "    </tr>\n",
       "    <tr>\n",
       "      <th>Cornell University</th>\n",
       "      <td>79.7</td>\n",
       "      <td>78.8</td>\n",
       "      <td>-</td>\n",
       "      <td>80.2</td>\n",
       "      <td>85.7</td>\n",
       "    </tr>\n",
       "    <tr>\n",
       "      <th>Duke University</th>\n",
       "      <td>82.4</td>\n",
       "      <td>80.7</td>\n",
       "      <td>-</td>\n",
       "      <td>-</td>\n",
       "      <td>-</td>\n",
       "    </tr>\n",
       "    <tr>\n",
       "      <th>ETH Zurich</th>\n",
       "      <td>81.8</td>\n",
       "      <td>80.4</td>\n",
       "      <td>81.3</td>\n",
       "      <td>82.6</td>\n",
       "      <td>87.6</td>\n",
       "    </tr>\n",
       "    <tr>\n",
       "      <th>Harvard University</th>\n",
       "      <td>89.2</td>\n",
       "      <td>94.4</td>\n",
       "      <td>94.5</td>\n",
       "      <td>94.8</td>\n",
       "      <td>97.7</td>\n",
       "    </tr>\n",
       "    <tr>\n",
       "      <th>Imperial College London</th>\n",
       "      <td>84.5</td>\n",
       "      <td>82.3</td>\n",
       "      <td>81.4</td>\n",
       "      <td>82.8</td>\n",
       "      <td>90.9</td>\n",
       "    </tr>\n",
       "    <tr>\n",
       "      <th>Johns Hopkins University</th>\n",
       "      <td>81.7</td>\n",
       "      <td>81.6</td>\n",
       "      <td>80.0</td>\n",
       "      <td>79.4</td>\n",
       "      <td>84.4</td>\n",
       "    </tr>\n",
       "    <tr>\n",
       "      <th>Massachusetts Institute of Technology</th>\n",
       "      <td>90.5</td>\n",
       "      <td>90.7</td>\n",
       "      <td>90.9</td>\n",
       "      <td>90.7</td>\n",
       "      <td>98.6</td>\n",
       "    </tr>\n",
       "    <tr>\n",
       "      <th>National University of Singapore</th>\n",
       "      <td>-</td>\n",
       "      <td>-</td>\n",
       "      <td>-</td>\n",
       "      <td>76.4</td>\n",
       "      <td>78.8</td>\n",
       "    </tr>\n",
       "    <tr>\n",
       "      <th>Peking University</th>\n",
       "      <td>-</td>\n",
       "      <td>-</td>\n",
       "      <td>91.4</td>\n",
       "      <td>92.5</td>\n",
       "      <td>95.6</td>\n",
       "    </tr>\n",
       "    <tr>\n",
       "      <th>Princeton University</th>\n",
       "      <td>90.3</td>\n",
       "      <td>88.8</td>\n",
       "      <td>89.5</td>\n",
       "      <td>87.6</td>\n",
       "      <td>96.3</td>\n",
       "    </tr>\n",
       "    <tr>\n",
       "      <th>Stanford University</th>\n",
       "      <td>92.8</td>\n",
       "      <td>92.2</td>\n",
       "      <td>92.3</td>\n",
       "      <td>94.2</td>\n",
       "      <td>99.0</td>\n",
       "    </tr>\n",
       "    <tr>\n",
       "      <th>The University of Chicago</th>\n",
       "      <td>89.1</td>\n",
       "      <td>88.9</td>\n",
       "      <td>87.2</td>\n",
       "      <td>86.5</td>\n",
       "      <td>89.6</td>\n",
       "    </tr>\n",
       "    <tr>\n",
       "      <th>Tsinghua University</th>\n",
       "      <td>-</td>\n",
       "      <td>-</td>\n",
       "      <td>88.1</td>\n",
       "      <td>90.1</td>\n",
       "      <td>95.3</td>\n",
       "    </tr>\n",
       "    <tr>\n",
       "      <th>UCL</th>\n",
       "      <td>77.8</td>\n",
       "      <td>76.6</td>\n",
       "      <td>76.8</td>\n",
       "      <td>-</td>\n",
       "      <td>-</td>\n",
       "    </tr>\n",
       "    <tr>\n",
       "      <th>University of California, Berkeley</th>\n",
       "      <td>83.0</td>\n",
       "      <td>85.8</td>\n",
       "      <td>85.7</td>\n",
       "      <td>86.4</td>\n",
       "      <td>87.2</td>\n",
       "    </tr>\n",
       "    <tr>\n",
       "      <th>University of California, Los Angeles</th>\n",
       "      <td>83.1</td>\n",
       "      <td>82.5</td>\n",
       "      <td>82.1</td>\n",
       "      <td>-</td>\n",
       "      <td>85.7</td>\n",
       "    </tr>\n",
       "    <tr>\n",
       "      <th>University of Cambridge</th>\n",
       "      <td>91.4</td>\n",
       "      <td>90.3</td>\n",
       "      <td>90.9</td>\n",
       "      <td>90.9</td>\n",
       "      <td>95.8</td>\n",
       "    </tr>\n",
       "    <tr>\n",
       "      <th>University of Oxford</th>\n",
       "      <td>90.5</td>\n",
       "      <td>91.3</td>\n",
       "      <td>91.0</td>\n",
       "      <td>92.3</td>\n",
       "      <td>96.6</td>\n",
       "    </tr>\n",
       "    <tr>\n",
       "      <th>University of Pennsylvania</th>\n",
       "      <td>87.5</td>\n",
       "      <td>85.4</td>\n",
       "      <td>84.5</td>\n",
       "      <td>86.0</td>\n",
       "      <td>87.7</td>\n",
       "    </tr>\n",
       "    <tr>\n",
       "      <th>University of Toronto</th>\n",
       "      <td>76.6</td>\n",
       "      <td>75.4</td>\n",
       "      <td>77.6</td>\n",
       "      <td>77.3</td>\n",
       "      <td>-</td>\n",
       "    </tr>\n",
       "    <tr>\n",
       "      <th>Yale University</th>\n",
       "      <td>92.0</td>\n",
       "      <td>91.9</td>\n",
       "      <td>90.7</td>\n",
       "      <td>92.6</td>\n",
       "      <td>94.0</td>\n",
       "    </tr>\n",
       "  </tbody>\n",
       "</table>\n",
       "</div>"
      ],
      "text/plain": [
       "year                                   2020  2021  2022  2023  2024\n",
       "name                                                               \n",
       "California Institute of Technology     92.1  92.5  93.6  90.9  96.6\n",
       "Columbia University                    85.6  85.1  87.8  89.4  88.6\n",
       "Cornell University                     79.7  78.8     -  80.2  85.7\n",
       "Duke University                        82.4  80.7     -     -     -\n",
       "ETH Zurich                             81.8  80.4  81.3  82.6  87.6\n",
       "Harvard University                     89.2  94.4  94.5  94.8  97.7\n",
       "Imperial College London                84.5  82.3  81.4  82.8  90.9\n",
       "Johns Hopkins University               81.7  81.6  80.0  79.4  84.4\n",
       "Massachusetts Institute of Technology  90.5  90.7  90.9  90.7  98.6\n",
       "National University of Singapore          -     -     -  76.4  78.8\n",
       "Peking University                         -     -  91.4  92.5  95.6\n",
       "Princeton University                   90.3  88.8  89.5  87.6  96.3\n",
       "Stanford University                    92.8  92.2  92.3  94.2  99.0\n",
       "The University of Chicago              89.1  88.9  87.2  86.5  89.6\n",
       "Tsinghua University                       -     -  88.1  90.1  95.3\n",
       "UCL                                    77.8  76.6  76.8     -     -\n",
       "University of California, Berkeley     83.0  85.8  85.7  86.4  87.2\n",
       "University of California, Los Angeles  83.1  82.5  82.1     -  85.7\n",
       "University of Cambridge                91.4  90.3  90.9  90.9  95.8\n",
       "University of Oxford                   90.5  91.3  91.0  92.3  96.6\n",
       "University of Pennsylvania             87.5  85.4  84.5  86.0  87.7\n",
       "University of Toronto                  76.6  75.4  77.6  77.3     -\n",
       "Yale University                        92.0  91.9  90.7  92.6  94.0"
      ]
     },
     "execution_count": 137,
     "metadata": {},
     "output_type": "execute_result"
    }
   ],
   "source": [
    "# 2.a\n",
    "# Replace na w - for uni not in top 20 so values not there\n",
    "average_scores = top_ranks.groupby([\"name\", \"year\"])[\"scores_teaching\"].mean().unstack()\n",
    "average_scores = average_scores.fillna('-') # - means uni wasnt present \n",
    "average_scores"
   ]
  },
  {
   "cell_type": "code",
   "execution_count": 138,
   "metadata": {},
   "outputs": [
    {
     "data": {
      "text/html": [
       "<div>\n",
       "<style scoped>\n",
       "    .dataframe tbody tr th:only-of-type {\n",
       "        vertical-align: middle;\n",
       "    }\n",
       "\n",
       "    .dataframe tbody tr th {\n",
       "        vertical-align: top;\n",
       "    }\n",
       "\n",
       "    .dataframe thead th {\n",
       "        text-align: right;\n",
       "    }\n",
       "</style>\n",
       "<table border=\"1\" class=\"dataframe\">\n",
       "  <thead>\n",
       "    <tr style=\"text-align: right;\">\n",
       "      <th>year</th>\n",
       "      <th>2020</th>\n",
       "      <th>2021</th>\n",
       "      <th>2022</th>\n",
       "      <th>2023</th>\n",
       "      <th>2024</th>\n",
       "    </tr>\n",
       "    <tr>\n",
       "      <th>name</th>\n",
       "      <th></th>\n",
       "      <th></th>\n",
       "      <th></th>\n",
       "      <th></th>\n",
       "      <th></th>\n",
       "    </tr>\n",
       "  </thead>\n",
       "  <tbody>\n",
       "    <tr>\n",
       "      <th>California Institute of Technology</th>\n",
       "      <td>92.1</td>\n",
       "      <td>92.5</td>\n",
       "      <td>93.6</td>\n",
       "      <td>90.9</td>\n",
       "      <td>96.6</td>\n",
       "    </tr>\n",
       "    <tr>\n",
       "      <th>Columbia University</th>\n",
       "      <td>85.6</td>\n",
       "      <td>85.1</td>\n",
       "      <td>87.8</td>\n",
       "      <td>89.4</td>\n",
       "      <td>88.6</td>\n",
       "    </tr>\n",
       "    <tr>\n",
       "      <th>Cornell University</th>\n",
       "      <td>79.7</td>\n",
       "      <td>78.8</td>\n",
       "      <td>78.6</td>\n",
       "      <td>80.2</td>\n",
       "      <td>85.7</td>\n",
       "    </tr>\n",
       "    <tr>\n",
       "      <th>Duke University</th>\n",
       "      <td>82.4</td>\n",
       "      <td>80.7</td>\n",
       "      <td>79.2</td>\n",
       "      <td>78.1</td>\n",
       "      <td>79.3</td>\n",
       "    </tr>\n",
       "    <tr>\n",
       "      <th>ETH Zurich</th>\n",
       "      <td>81.8</td>\n",
       "      <td>80.4</td>\n",
       "      <td>81.3</td>\n",
       "      <td>82.6</td>\n",
       "      <td>87.6</td>\n",
       "    </tr>\n",
       "    <tr>\n",
       "      <th>Harvard University</th>\n",
       "      <td>89.2</td>\n",
       "      <td>94.4</td>\n",
       "      <td>94.5</td>\n",
       "      <td>94.8</td>\n",
       "      <td>97.7</td>\n",
       "    </tr>\n",
       "    <tr>\n",
       "      <th>Imperial College London</th>\n",
       "      <td>84.5</td>\n",
       "      <td>82.3</td>\n",
       "      <td>81.4</td>\n",
       "      <td>82.8</td>\n",
       "      <td>90.9</td>\n",
       "    </tr>\n",
       "    <tr>\n",
       "      <th>Johns Hopkins University</th>\n",
       "      <td>81.7</td>\n",
       "      <td>81.6</td>\n",
       "      <td>80.0</td>\n",
       "      <td>79.4</td>\n",
       "      <td>84.4</td>\n",
       "    </tr>\n",
       "    <tr>\n",
       "      <th>Massachusetts Institute of Technology</th>\n",
       "      <td>90.5</td>\n",
       "      <td>90.7</td>\n",
       "      <td>90.9</td>\n",
       "      <td>90.7</td>\n",
       "      <td>98.6</td>\n",
       "    </tr>\n",
       "    <tr>\n",
       "      <th>National University of Singapore</th>\n",
       "      <td>76.8</td>\n",
       "      <td>75.9</td>\n",
       "      <td>76.3</td>\n",
       "      <td>76.4</td>\n",
       "      <td>78.8</td>\n",
       "    </tr>\n",
       "    <tr>\n",
       "      <th>Peking University</th>\n",
       "      <td>89.1</td>\n",
       "      <td>89.6</td>\n",
       "      <td>91.4</td>\n",
       "      <td>92.5</td>\n",
       "      <td>95.6</td>\n",
       "    </tr>\n",
       "    <tr>\n",
       "      <th>Princeton University</th>\n",
       "      <td>90.3</td>\n",
       "      <td>88.8</td>\n",
       "      <td>89.5</td>\n",
       "      <td>87.6</td>\n",
       "      <td>96.3</td>\n",
       "    </tr>\n",
       "    <tr>\n",
       "      <th>Stanford University</th>\n",
       "      <td>92.8</td>\n",
       "      <td>92.2</td>\n",
       "      <td>92.3</td>\n",
       "      <td>94.2</td>\n",
       "      <td>99.0</td>\n",
       "    </tr>\n",
       "    <tr>\n",
       "      <th>The University of Chicago</th>\n",
       "      <td>89.1</td>\n",
       "      <td>88.9</td>\n",
       "      <td>87.2</td>\n",
       "      <td>86.5</td>\n",
       "      <td>89.6</td>\n",
       "    </tr>\n",
       "    <tr>\n",
       "      <th>Tsinghua University</th>\n",
       "      <td>86.6</td>\n",
       "      <td>87.7</td>\n",
       "      <td>88.1</td>\n",
       "      <td>90.1</td>\n",
       "      <td>95.3</td>\n",
       "    </tr>\n",
       "    <tr>\n",
       "      <th>UCL</th>\n",
       "      <td>77.8</td>\n",
       "      <td>76.6</td>\n",
       "      <td>76.8</td>\n",
       "      <td>74.5</td>\n",
       "      <td>78.4</td>\n",
       "    </tr>\n",
       "    <tr>\n",
       "      <th>University of California, Berkeley</th>\n",
       "      <td>83.0</td>\n",
       "      <td>85.8</td>\n",
       "      <td>85.7</td>\n",
       "      <td>86.4</td>\n",
       "      <td>87.2</td>\n",
       "    </tr>\n",
       "    <tr>\n",
       "      <th>University of California, Los Angeles</th>\n",
       "      <td>83.1</td>\n",
       "      <td>82.5</td>\n",
       "      <td>82.1</td>\n",
       "      <td>80.4</td>\n",
       "      <td>85.7</td>\n",
       "    </tr>\n",
       "    <tr>\n",
       "      <th>University of Cambridge</th>\n",
       "      <td>91.4</td>\n",
       "      <td>90.3</td>\n",
       "      <td>90.9</td>\n",
       "      <td>90.9</td>\n",
       "      <td>95.8</td>\n",
       "    </tr>\n",
       "    <tr>\n",
       "      <th>University of Oxford</th>\n",
       "      <td>90.5</td>\n",
       "      <td>91.3</td>\n",
       "      <td>91.0</td>\n",
       "      <td>92.3</td>\n",
       "      <td>96.6</td>\n",
       "    </tr>\n",
       "    <tr>\n",
       "      <th>University of Pennsylvania</th>\n",
       "      <td>87.5</td>\n",
       "      <td>85.4</td>\n",
       "      <td>84.5</td>\n",
       "      <td>86.0</td>\n",
       "      <td>87.7</td>\n",
       "    </tr>\n",
       "    <tr>\n",
       "      <th>University of Toronto</th>\n",
       "      <td>76.6</td>\n",
       "      <td>75.4</td>\n",
       "      <td>77.6</td>\n",
       "      <td>77.3</td>\n",
       "      <td>77.5</td>\n",
       "    </tr>\n",
       "    <tr>\n",
       "      <th>Yale University</th>\n",
       "      <td>92.0</td>\n",
       "      <td>91.9</td>\n",
       "      <td>90.7</td>\n",
       "      <td>92.6</td>\n",
       "      <td>94.0</td>\n",
       "    </tr>\n",
       "  </tbody>\n",
       "</table>\n",
       "</div>"
      ],
      "text/plain": [
       "year                                   2020  2021  2022  2023  2024\n",
       "name                                                               \n",
       "California Institute of Technology     92.1  92.5  93.6  90.9  96.6\n",
       "Columbia University                    85.6  85.1  87.8  89.4  88.6\n",
       "Cornell University                     79.7  78.8  78.6  80.2  85.7\n",
       "Duke University                        82.4  80.7  79.2  78.1  79.3\n",
       "ETH Zurich                             81.8  80.4  81.3  82.6  87.6\n",
       "Harvard University                     89.2  94.4  94.5  94.8  97.7\n",
       "Imperial College London                84.5  82.3  81.4  82.8  90.9\n",
       "Johns Hopkins University               81.7  81.6  80.0  79.4  84.4\n",
       "Massachusetts Institute of Technology  90.5  90.7  90.9  90.7  98.6\n",
       "National University of Singapore       76.8  75.9  76.3  76.4  78.8\n",
       "Peking University                      89.1  89.6  91.4  92.5  95.6\n",
       "Princeton University                   90.3  88.8  89.5  87.6  96.3\n",
       "Stanford University                    92.8  92.2  92.3  94.2  99.0\n",
       "The University of Chicago              89.1  88.9  87.2  86.5  89.6\n",
       "Tsinghua University                    86.6  87.7  88.1  90.1  95.3\n",
       "UCL                                    77.8  76.6  76.8  74.5  78.4\n",
       "University of California, Berkeley     83.0  85.8  85.7  86.4  87.2\n",
       "University of California, Los Angeles  83.1  82.5  82.1  80.4  85.7\n",
       "University of Cambridge                91.4  90.3  90.9  90.9  95.8\n",
       "University of Oxford                   90.5  91.3  91.0  92.3  96.6\n",
       "University of Pennsylvania             87.5  85.4  84.5  86.0  87.7\n",
       "University of Toronto                  76.6  75.4  77.6  77.3  77.5\n",
       "Yale University                        92.0  91.9  90.7  92.6  94.0"
      ]
     },
     "execution_count": 138,
     "metadata": {},
     "output_type": "execute_result"
    }
   ],
   "source": [
    "# 2.a\n",
    "# With all values\n",
    "filtered_df = df[df['name'].isin(uni_names)]\n",
    "\n",
    "average_scores = filtered_df.groupby([\"name\", \"year\"])[\"scores_teaching\"].mean().unstack()\n",
    "average_scores"
   ]
  },
  {
   "cell_type": "code",
   "execution_count": 139,
   "metadata": {},
   "outputs": [
    {
     "data": {
      "text/html": [
       "<div>\n",
       "<style scoped>\n",
       "    .dataframe tbody tr th:only-of-type {\n",
       "        vertical-align: middle;\n",
       "    }\n",
       "\n",
       "    .dataframe tbody tr th {\n",
       "        vertical-align: top;\n",
       "    }\n",
       "\n",
       "    .dataframe thead th {\n",
       "        text-align: right;\n",
       "    }\n",
       "</style>\n",
       "<table border=\"1\" class=\"dataframe\">\n",
       "  <thead>\n",
       "    <tr style=\"text-align: right;\">\n",
       "      <th>year</th>\n",
       "      <th>2020</th>\n",
       "      <th>2021</th>\n",
       "      <th>2022</th>\n",
       "      <th>2023</th>\n",
       "      <th>2024</th>\n",
       "    </tr>\n",
       "    <tr>\n",
       "      <th>rank</th>\n",
       "      <th></th>\n",
       "      <th></th>\n",
       "      <th></th>\n",
       "      <th></th>\n",
       "      <th></th>\n",
       "    </tr>\n",
       "  </thead>\n",
       "  <tbody>\n",
       "    <tr>\n",
       "      <th>1</th>\n",
       "      <td>90.5</td>\n",
       "      <td>91.3</td>\n",
       "      <td>91.0</td>\n",
       "      <td>92.3</td>\n",
       "      <td>96.6</td>\n",
       "    </tr>\n",
       "    <tr>\n",
       "      <th>2</th>\n",
       "      <td>92.1</td>\n",
       "      <td>92.2</td>\n",
       "      <td>93.6</td>\n",
       "      <td>94.8</td>\n",
       "      <td>99.0</td>\n",
       "    </tr>\n",
       "    <tr>\n",
       "      <th>3</th>\n",
       "      <td>91.4</td>\n",
       "      <td>94.4</td>\n",
       "      <td>94.5</td>\n",
       "      <td>90.9</td>\n",
       "      <td>98.6</td>\n",
       "    </tr>\n",
       "    <tr>\n",
       "      <th>4</th>\n",
       "      <td>92.8</td>\n",
       "      <td>92.5</td>\n",
       "      <td>92.3</td>\n",
       "      <td>94.2</td>\n",
       "      <td>97.7</td>\n",
       "    </tr>\n",
       "    <tr>\n",
       "      <th>5</th>\n",
       "      <td>90.5</td>\n",
       "      <td>90.7</td>\n",
       "      <td>90.9</td>\n",
       "      <td>90.7</td>\n",
       "      <td>95.8</td>\n",
       "    </tr>\n",
       "    <tr>\n",
       "      <th>6</th>\n",
       "      <td>90.3</td>\n",
       "      <td>90.3</td>\n",
       "      <td>90.9</td>\n",
       "      <td>90.9</td>\n",
       "      <td>96.3</td>\n",
       "    </tr>\n",
       "    <tr>\n",
       "      <th>7</th>\n",
       "      <td>89.2</td>\n",
       "      <td>85.8</td>\n",
       "      <td>89.5</td>\n",
       "      <td>87.6</td>\n",
       "      <td>96.6</td>\n",
       "    </tr>\n",
       "    <tr>\n",
       "      <th>8</th>\n",
       "      <td>92.0</td>\n",
       "      <td>91.9</td>\n",
       "      <td>85.7</td>\n",
       "      <td>86.4</td>\n",
       "      <td>90.9</td>\n",
       "    </tr>\n",
       "    <tr>\n",
       "      <th>9</th>\n",
       "      <td>89.1</td>\n",
       "      <td>88.8</td>\n",
       "      <td>90.7</td>\n",
       "      <td>92.6</td>\n",
       "      <td>87.2</td>\n",
       "    </tr>\n",
       "    <tr>\n",
       "      <th>10</th>\n",
       "      <td>84.5</td>\n",
       "      <td>88.9</td>\n",
       "      <td>87.2</td>\n",
       "      <td>82.8</td>\n",
       "      <td>94.0</td>\n",
       "    </tr>\n",
       "    <tr>\n",
       "      <th>11</th>\n",
       "      <td>87.5</td>\n",
       "      <td>82.3</td>\n",
       "      <td>87.8</td>\n",
       "      <td>89.4</td>\n",
       "      <td>87.6</td>\n",
       "    </tr>\n",
       "    <tr>\n",
       "      <th>12</th>\n",
       "      <td>81.7</td>\n",
       "      <td>81.6</td>\n",
       "      <td>81.4</td>\n",
       "      <td>82.6</td>\n",
       "      <td>95.3</td>\n",
       "    </tr>\n",
       "    <tr>\n",
       "      <th>13</th>\n",
       "      <td>83.0</td>\n",
       "      <td>85.4</td>\n",
       "      <td>80.0</td>\n",
       "      <td>86.5</td>\n",
       "      <td>89.6</td>\n",
       "    </tr>\n",
       "    <tr>\n",
       "      <th>14</th>\n",
       "      <td>81.8</td>\n",
       "      <td>80.4</td>\n",
       "      <td>84.5</td>\n",
       "      <td>86.0</td>\n",
       "      <td>95.6</td>\n",
       "    </tr>\n",
       "    <tr>\n",
       "      <th>15</th>\n",
       "      <td>77.8</td>\n",
       "      <td>82.5</td>\n",
       "      <td>81.3</td>\n",
       "      <td>79.4</td>\n",
       "      <td>84.4</td>\n",
       "    </tr>\n",
       "    <tr>\n",
       "      <th>16</th>\n",
       "      <td>85.6</td>\n",
       "      <td>76.6</td>\n",
       "      <td>91.4</td>\n",
       "      <td>90.1</td>\n",
       "      <td>87.7</td>\n",
       "    </tr>\n",
       "    <tr>\n",
       "      <th>17</th>\n",
       "      <td>83.1</td>\n",
       "      <td>85.1</td>\n",
       "      <td>88.1</td>\n",
       "      <td>92.5</td>\n",
       "      <td>88.6</td>\n",
       "    </tr>\n",
       "    <tr>\n",
       "      <th>18</th>\n",
       "      <td>76.6</td>\n",
       "      <td>75.4</td>\n",
       "      <td>77.6</td>\n",
       "      <td>77.3</td>\n",
       "      <td>85.7</td>\n",
       "    </tr>\n",
       "    <tr>\n",
       "      <th>19</th>\n",
       "      <td>79.7</td>\n",
       "      <td>78.8</td>\n",
       "      <td>76.8</td>\n",
       "      <td>76.4</td>\n",
       "      <td>78.8</td>\n",
       "    </tr>\n",
       "    <tr>\n",
       "      <th>20</th>\n",
       "      <td>82.4</td>\n",
       "      <td>80.7</td>\n",
       "      <td>82.1</td>\n",
       "      <td>80.2</td>\n",
       "      <td>85.7</td>\n",
       "    </tr>\n",
       "  </tbody>\n",
       "</table>\n",
       "</div>"
      ],
      "text/plain": [
       "year  2020  2021  2022  2023  2024\n",
       "rank                              \n",
       "1     90.5  91.3  91.0  92.3  96.6\n",
       "2     92.1  92.2  93.6  94.8  99.0\n",
       "3     91.4  94.4  94.5  90.9  98.6\n",
       "4     92.8  92.5  92.3  94.2  97.7\n",
       "5     90.5  90.7  90.9  90.7  95.8\n",
       "6     90.3  90.3  90.9  90.9  96.3\n",
       "7     89.2  85.8  89.5  87.6  96.6\n",
       "8     92.0  91.9  85.7  86.4  90.9\n",
       "9     89.1  88.8  90.7  92.6  87.2\n",
       "10    84.5  88.9  87.2  82.8  94.0\n",
       "11    87.5  82.3  87.8  89.4  87.6\n",
       "12    81.7  81.6  81.4  82.6  95.3\n",
       "13    83.0  85.4  80.0  86.5  89.6\n",
       "14    81.8  80.4  84.5  86.0  95.6\n",
       "15    77.8  82.5  81.3  79.4  84.4\n",
       "16    85.6  76.6  91.4  90.1  87.7\n",
       "17    83.1  85.1  88.1  92.5  88.6\n",
       "18    76.6  75.4  77.6  77.3  85.7\n",
       "19    79.7  78.8  76.8  76.4  78.8\n",
       "20    82.4  80.7  82.1  80.2  85.7"
      ]
     },
     "execution_count": 139,
     "metadata": {},
     "output_type": "execute_result"
    }
   ],
   "source": [
    "# 2.b\n",
    "average_scores2 = top_ranks.groupby([\"rank\", \"year\"])[\"scores_teaching\"].mean().unstack()\n",
    "average_scores2 = average_scores2.fillna('-') \n",
    "average_scores2"
   ]
  },
  {
   "cell_type": "code",
   "execution_count": 140,
   "metadata": {},
   "outputs": [
    {
     "data": {
      "application/vnd.plotly.v1+json": {
       "config": {
        "plotlyServerURL": "https://plot.ly"
       },
       "data": [
        {
         "marker": {
          "color": "crimson"
         },
         "name": "Teaching Score",
         "type": "scatter",
         "x": [
          "University of Oxford",
          "University of Oxford",
          "University of Oxford",
          "University of Oxford",
          "University of Oxford",
          "Stanford University",
          "California Institute of Technology",
          "California Institute of Technology",
          "Harvard University",
          "Stanford University",
          "Harvard University",
          "Harvard University",
          "Massachusetts Institute of Technology",
          "University of Cambridge",
          "University of Cambridge",
          "Stanford University",
          "Stanford University",
          "Harvard University",
          "Stanford University",
          "California Institute of Technology",
          "University of Cambridge",
          "Massachusetts Institute of Technology",
          "University of Cambridge",
          "Massachusetts Institute of Technology",
          "Massachusetts Institute of Technology",
          "Massachusetts Institute of Technology",
          "California Institute of Technology",
          "Princeton University",
          "University of Cambridge",
          "Princeton University",
          "California Institute of Technology",
          "Harvard University",
          "Princeton University",
          "Princeton University",
          "University of California, Berkeley",
          "Yale University",
          "University of California, Berkeley",
          "Imperial College London",
          "Yale University",
          "University of California, Berkeley",
          "University of California, Berkeley",
          "The University of Chicago",
          "Yale University",
          "Yale University",
          "Princeton University",
          "Imperial College London",
          "Imperial College London",
          "The University of Chicago",
          "Yale University",
          "The University of Chicago",
          "University of Pennsylvania",
          "Columbia University",
          "Imperial College London",
          "ETH Zurich",
          "Columbia University",
          "Tsinghua University",
          "ETH Zurich",
          "Johns Hopkins University",
          "Johns Hopkins University",
          "Imperial College London",
          "University of Pennsylvania",
          "The University of Chicago",
          "The University of Chicago",
          "University of California, Berkeley",
          "Johns Hopkins University",
          "University of Pennsylvania",
          "ETH Zurich",
          "Peking University",
          "ETH Zurich",
          "University of Pennsylvania",
          "ETH Zurich",
          "Johns Hopkins University",
          "Johns Hopkins University",
          "UCL",
          "University of California, Los Angeles",
          "Tsinghua University",
          "Peking University",
          "University of Pennsylvania",
          "Columbia University",
          "UCL",
          "University of California, Los Angeles",
          "Peking University",
          "Tsinghua University",
          "Columbia University",
          "Columbia University",
          "University of Toronto",
          "University of Toronto",
          "University of Toronto",
          "University of Toronto",
          "University of California, Los Angeles",
          "Cornell University",
          "National University of Singapore",
          "National University of Singapore",
          "Cornell University",
          "UCL",
          "Cornell University",
          "Cornell University",
          "Duke University",
          "Duke University",
          "University of California, Los Angeles"
         ],
         "y": [
          90.5,
          91,
          92.3,
          96.6,
          91.3,
          92.2,
          92.1,
          93.6,
          94.8,
          99,
          94.4,
          94.5,
          98.6,
          90.9,
          91.4,
          92.8,
          92.3,
          97.7,
          94.2,
          92.5,
          90.9,
          90.7,
          95.8,
          90.7,
          90.5,
          90.9,
          90.9,
          96.3,
          90.3,
          90.3,
          96.6,
          89.2,
          89.5,
          87.6,
          85.8,
          92,
          85.7,
          90.9,
          91.9,
          86.4,
          87.2,
          89.1,
          90.7,
          92.6,
          88.8,
          82.8,
          84.5,
          87.2,
          94,
          88.9,
          87.5,
          87.8,
          82.3,
          87.6,
          89.4,
          95.3,
          82.6,
          81.7,
          81.6,
          81.4,
          85.4,
          89.6,
          86.5,
          83,
          80,
          86,
          81.8,
          95.6,
          80.4,
          84.5,
          81.3,
          79.4,
          84.4,
          77.8,
          82.5,
          90.1,
          91.4,
          87.7,
          85.6,
          76.6,
          83.1,
          92.5,
          88.1,
          88.6,
          85.1,
          76.6,
          77.3,
          77.6,
          75.4,
          85.7,
          78.8,
          76.4,
          78.8,
          79.7,
          76.8,
          85.7,
          80.2,
          80.7,
          82.4,
          82.1
         ],
         "yaxis": "y2"
        }
       ],
       "layout": {
        "legend": {
         "orientation": "h"
        },
        "template": {
         "data": {
          "bar": [
           {
            "error_x": {
             "color": "#2a3f5f"
            },
            "error_y": {
             "color": "#2a3f5f"
            },
            "marker": {
             "line": {
              "color": "#E5ECF6",
              "width": 0.5
             },
             "pattern": {
              "fillmode": "overlay",
              "size": 10,
              "solidity": 0.2
             }
            },
            "type": "bar"
           }
          ],
          "barpolar": [
           {
            "marker": {
             "line": {
              "color": "#E5ECF6",
              "width": 0.5
             },
             "pattern": {
              "fillmode": "overlay",
              "size": 10,
              "solidity": 0.2
             }
            },
            "type": "barpolar"
           }
          ],
          "carpet": [
           {
            "aaxis": {
             "endlinecolor": "#2a3f5f",
             "gridcolor": "white",
             "linecolor": "white",
             "minorgridcolor": "white",
             "startlinecolor": "#2a3f5f"
            },
            "baxis": {
             "endlinecolor": "#2a3f5f",
             "gridcolor": "white",
             "linecolor": "white",
             "minorgridcolor": "white",
             "startlinecolor": "#2a3f5f"
            },
            "type": "carpet"
           }
          ],
          "choropleth": [
           {
            "colorbar": {
             "outlinewidth": 0,
             "ticks": ""
            },
            "type": "choropleth"
           }
          ],
          "contour": [
           {
            "colorbar": {
             "outlinewidth": 0,
             "ticks": ""
            },
            "colorscale": [
             [
              0,
              "#0d0887"
             ],
             [
              0.1111111111111111,
              "#46039f"
             ],
             [
              0.2222222222222222,
              "#7201a8"
             ],
             [
              0.3333333333333333,
              "#9c179e"
             ],
             [
              0.4444444444444444,
              "#bd3786"
             ],
             [
              0.5555555555555556,
              "#d8576b"
             ],
             [
              0.6666666666666666,
              "#ed7953"
             ],
             [
              0.7777777777777778,
              "#fb9f3a"
             ],
             [
              0.8888888888888888,
              "#fdca26"
             ],
             [
              1,
              "#f0f921"
             ]
            ],
            "type": "contour"
           }
          ],
          "contourcarpet": [
           {
            "colorbar": {
             "outlinewidth": 0,
             "ticks": ""
            },
            "type": "contourcarpet"
           }
          ],
          "heatmap": [
           {
            "colorbar": {
             "outlinewidth": 0,
             "ticks": ""
            },
            "colorscale": [
             [
              0,
              "#0d0887"
             ],
             [
              0.1111111111111111,
              "#46039f"
             ],
             [
              0.2222222222222222,
              "#7201a8"
             ],
             [
              0.3333333333333333,
              "#9c179e"
             ],
             [
              0.4444444444444444,
              "#bd3786"
             ],
             [
              0.5555555555555556,
              "#d8576b"
             ],
             [
              0.6666666666666666,
              "#ed7953"
             ],
             [
              0.7777777777777778,
              "#fb9f3a"
             ],
             [
              0.8888888888888888,
              "#fdca26"
             ],
             [
              1,
              "#f0f921"
             ]
            ],
            "type": "heatmap"
           }
          ],
          "heatmapgl": [
           {
            "colorbar": {
             "outlinewidth": 0,
             "ticks": ""
            },
            "colorscale": [
             [
              0,
              "#0d0887"
             ],
             [
              0.1111111111111111,
              "#46039f"
             ],
             [
              0.2222222222222222,
              "#7201a8"
             ],
             [
              0.3333333333333333,
              "#9c179e"
             ],
             [
              0.4444444444444444,
              "#bd3786"
             ],
             [
              0.5555555555555556,
              "#d8576b"
             ],
             [
              0.6666666666666666,
              "#ed7953"
             ],
             [
              0.7777777777777778,
              "#fb9f3a"
             ],
             [
              0.8888888888888888,
              "#fdca26"
             ],
             [
              1,
              "#f0f921"
             ]
            ],
            "type": "heatmapgl"
           }
          ],
          "histogram": [
           {
            "marker": {
             "pattern": {
              "fillmode": "overlay",
              "size": 10,
              "solidity": 0.2
             }
            },
            "type": "histogram"
           }
          ],
          "histogram2d": [
           {
            "colorbar": {
             "outlinewidth": 0,
             "ticks": ""
            },
            "colorscale": [
             [
              0,
              "#0d0887"
             ],
             [
              0.1111111111111111,
              "#46039f"
             ],
             [
              0.2222222222222222,
              "#7201a8"
             ],
             [
              0.3333333333333333,
              "#9c179e"
             ],
             [
              0.4444444444444444,
              "#bd3786"
             ],
             [
              0.5555555555555556,
              "#d8576b"
             ],
             [
              0.6666666666666666,
              "#ed7953"
             ],
             [
              0.7777777777777778,
              "#fb9f3a"
             ],
             [
              0.8888888888888888,
              "#fdca26"
             ],
             [
              1,
              "#f0f921"
             ]
            ],
            "type": "histogram2d"
           }
          ],
          "histogram2dcontour": [
           {
            "colorbar": {
             "outlinewidth": 0,
             "ticks": ""
            },
            "colorscale": [
             [
              0,
              "#0d0887"
             ],
             [
              0.1111111111111111,
              "#46039f"
             ],
             [
              0.2222222222222222,
              "#7201a8"
             ],
             [
              0.3333333333333333,
              "#9c179e"
             ],
             [
              0.4444444444444444,
              "#bd3786"
             ],
             [
              0.5555555555555556,
              "#d8576b"
             ],
             [
              0.6666666666666666,
              "#ed7953"
             ],
             [
              0.7777777777777778,
              "#fb9f3a"
             ],
             [
              0.8888888888888888,
              "#fdca26"
             ],
             [
              1,
              "#f0f921"
             ]
            ],
            "type": "histogram2dcontour"
           }
          ],
          "mesh3d": [
           {
            "colorbar": {
             "outlinewidth": 0,
             "ticks": ""
            },
            "type": "mesh3d"
           }
          ],
          "parcoords": [
           {
            "line": {
             "colorbar": {
              "outlinewidth": 0,
              "ticks": ""
             }
            },
            "type": "parcoords"
           }
          ],
          "pie": [
           {
            "automargin": true,
            "type": "pie"
           }
          ],
          "scatter": [
           {
            "fillpattern": {
             "fillmode": "overlay",
             "size": 10,
             "solidity": 0.2
            },
            "type": "scatter"
           }
          ],
          "scatter3d": [
           {
            "line": {
             "colorbar": {
              "outlinewidth": 0,
              "ticks": ""
             }
            },
            "marker": {
             "colorbar": {
              "outlinewidth": 0,
              "ticks": ""
             }
            },
            "type": "scatter3d"
           }
          ],
          "scattercarpet": [
           {
            "marker": {
             "colorbar": {
              "outlinewidth": 0,
              "ticks": ""
             }
            },
            "type": "scattercarpet"
           }
          ],
          "scattergeo": [
           {
            "marker": {
             "colorbar": {
              "outlinewidth": 0,
              "ticks": ""
             }
            },
            "type": "scattergeo"
           }
          ],
          "scattergl": [
           {
            "marker": {
             "colorbar": {
              "outlinewidth": 0,
              "ticks": ""
             }
            },
            "type": "scattergl"
           }
          ],
          "scattermapbox": [
           {
            "marker": {
             "colorbar": {
              "outlinewidth": 0,
              "ticks": ""
             }
            },
            "type": "scattermapbox"
           }
          ],
          "scatterpolar": [
           {
            "marker": {
             "colorbar": {
              "outlinewidth": 0,
              "ticks": ""
             }
            },
            "type": "scatterpolar"
           }
          ],
          "scatterpolargl": [
           {
            "marker": {
             "colorbar": {
              "outlinewidth": 0,
              "ticks": ""
             }
            },
            "type": "scatterpolargl"
           }
          ],
          "scatterternary": [
           {
            "marker": {
             "colorbar": {
              "outlinewidth": 0,
              "ticks": ""
             }
            },
            "type": "scatterternary"
           }
          ],
          "surface": [
           {
            "colorbar": {
             "outlinewidth": 0,
             "ticks": ""
            },
            "colorscale": [
             [
              0,
              "#0d0887"
             ],
             [
              0.1111111111111111,
              "#46039f"
             ],
             [
              0.2222222222222222,
              "#7201a8"
             ],
             [
              0.3333333333333333,
              "#9c179e"
             ],
             [
              0.4444444444444444,
              "#bd3786"
             ],
             [
              0.5555555555555556,
              "#d8576b"
             ],
             [
              0.6666666666666666,
              "#ed7953"
             ],
             [
              0.7777777777777778,
              "#fb9f3a"
             ],
             [
              0.8888888888888888,
              "#fdca26"
             ],
             [
              1,
              "#f0f921"
             ]
            ],
            "type": "surface"
           }
          ],
          "table": [
           {
            "cells": {
             "fill": {
              "color": "#EBF0F8"
             },
             "line": {
              "color": "white"
             }
            },
            "header": {
             "fill": {
              "color": "#C8D4E3"
             },
             "line": {
              "color": "white"
             }
            },
            "type": "table"
           }
          ]
         },
         "layout": {
          "annotationdefaults": {
           "arrowcolor": "#2a3f5f",
           "arrowhead": 0,
           "arrowwidth": 1
          },
          "autotypenumbers": "strict",
          "coloraxis": {
           "colorbar": {
            "outlinewidth": 0,
            "ticks": ""
           }
          },
          "colorscale": {
           "diverging": [
            [
             0,
             "#8e0152"
            ],
            [
             0.1,
             "#c51b7d"
            ],
            [
             0.2,
             "#de77ae"
            ],
            [
             0.3,
             "#f1b6da"
            ],
            [
             0.4,
             "#fde0ef"
            ],
            [
             0.5,
             "#f7f7f7"
            ],
            [
             0.6,
             "#e6f5d0"
            ],
            [
             0.7,
             "#b8e186"
            ],
            [
             0.8,
             "#7fbc41"
            ],
            [
             0.9,
             "#4d9221"
            ],
            [
             1,
             "#276419"
            ]
           ],
           "sequential": [
            [
             0,
             "#0d0887"
            ],
            [
             0.1111111111111111,
             "#46039f"
            ],
            [
             0.2222222222222222,
             "#7201a8"
            ],
            [
             0.3333333333333333,
             "#9c179e"
            ],
            [
             0.4444444444444444,
             "#bd3786"
            ],
            [
             0.5555555555555556,
             "#d8576b"
            ],
            [
             0.6666666666666666,
             "#ed7953"
            ],
            [
             0.7777777777777778,
             "#fb9f3a"
            ],
            [
             0.8888888888888888,
             "#fdca26"
            ],
            [
             1,
             "#f0f921"
            ]
           ],
           "sequentialminus": [
            [
             0,
             "#0d0887"
            ],
            [
             0.1111111111111111,
             "#46039f"
            ],
            [
             0.2222222222222222,
             "#7201a8"
            ],
            [
             0.3333333333333333,
             "#9c179e"
            ],
            [
             0.4444444444444444,
             "#bd3786"
            ],
            [
             0.5555555555555556,
             "#d8576b"
            ],
            [
             0.6666666666666666,
             "#ed7953"
            ],
            [
             0.7777777777777778,
             "#fb9f3a"
            ],
            [
             0.8888888888888888,
             "#fdca26"
            ],
            [
             1,
             "#f0f921"
            ]
           ]
          },
          "colorway": [
           "#636efa",
           "#EF553B",
           "#00cc96",
           "#ab63fa",
           "#FFA15A",
           "#19d3f3",
           "#FF6692",
           "#B6E880",
           "#FF97FF",
           "#FECB52"
          ],
          "font": {
           "color": "#2a3f5f"
          },
          "geo": {
           "bgcolor": "white",
           "lakecolor": "white",
           "landcolor": "#E5ECF6",
           "showlakes": true,
           "showland": true,
           "subunitcolor": "white"
          },
          "hoverlabel": {
           "align": "left"
          },
          "hovermode": "closest",
          "mapbox": {
           "style": "light"
          },
          "paper_bgcolor": "white",
          "plot_bgcolor": "#E5ECF6",
          "polar": {
           "angularaxis": {
            "gridcolor": "white",
            "linecolor": "white",
            "ticks": ""
           },
           "bgcolor": "#E5ECF6",
           "radialaxis": {
            "gridcolor": "white",
            "linecolor": "white",
            "ticks": ""
           }
          },
          "scene": {
           "xaxis": {
            "backgroundcolor": "#E5ECF6",
            "gridcolor": "white",
            "gridwidth": 2,
            "linecolor": "white",
            "showbackground": true,
            "ticks": "",
            "zerolinecolor": "white"
           },
           "yaxis": {
            "backgroundcolor": "#E5ECF6",
            "gridcolor": "white",
            "gridwidth": 2,
            "linecolor": "white",
            "showbackground": true,
            "ticks": "",
            "zerolinecolor": "white"
           },
           "zaxis": {
            "backgroundcolor": "#E5ECF6",
            "gridcolor": "white",
            "gridwidth": 2,
            "linecolor": "white",
            "showbackground": true,
            "ticks": "",
            "zerolinecolor": "white"
           }
          },
          "shapedefaults": {
           "line": {
            "color": "#2a3f5f"
           }
          },
          "ternary": {
           "aaxis": {
            "gridcolor": "white",
            "linecolor": "white",
            "ticks": ""
           },
           "baxis": {
            "gridcolor": "white",
            "linecolor": "white",
            "ticks": ""
           },
           "bgcolor": "#E5ECF6",
           "caxis": {
            "gridcolor": "white",
            "linecolor": "white",
            "ticks": ""
           }
          },
          "title": {
           "x": 0.05
          },
          "xaxis": {
           "automargin": true,
           "gridcolor": "white",
           "linecolor": "white",
           "ticks": "",
           "title": {
            "standoff": 15
           },
           "zerolinecolor": "white",
           "zerolinewidth": 2
          },
          "yaxis": {
           "automargin": true,
           "gridcolor": "white",
           "linecolor": "white",
           "ticks": "",
           "title": {
            "standoff": 15
           },
           "zerolinecolor": "white",
           "zerolinewidth": 2
          }
         }
        },
        "yaxis": {
         "side": "left",
         "title": {
          "text": "Year"
         }
        },
        "yaxis2": {
         "overlaying": "y",
         "side": "right",
         "tickmode": "sync",
         "title": {
          "text": "Teaching Score"
         }
        }
       }
      }
     },
     "metadata": {},
     "output_type": "display_data"
    }
   ],
   "source": [
    "# Graph is made wrong\n",
    "# Using top_ranks for top 20 unis\n",
    "\n",
    "universities = top_ranks[\"name\"].values\n",
    "teaching_scores = top_ranks[\"scores_teaching\"].values\n",
    "years = top_ranks[\"year\"].values\n",
    "\n",
    "fig = go.Figure()\n",
    "\n",
    "fig.add_trace(\n",
    "    go.Scatter(\n",
    "        x=universities,\n",
    "        y=teaching_scores,\n",
    "        yaxis=\"y2\",\n",
    "        name=\"Teaching Score\",\n",
    "        marker=dict(color=\"crimson\"),\n",
    "    )\n",
    ")\n",
    "\n",
    "fig.update_layout(\n",
    "    legend=dict(orientation=\"h\"),\n",
    "    yaxis=dict(\n",
    "        title=dict(text=\"Year\"),\n",
    "        side=\"left\",\n",
    "    ),\n",
    "    yaxis2=dict(\n",
    "        title=dict(text=\"Teaching Score\"),\n",
    "        side=\"right\",\n",
    "        overlaying=\"y\",\n",
    "        tickmode=\"sync\",\n",
    "    ),\n",
    ")\n",
    "\n",
    "fig.show() # ? idk what happened"
   ]
  },
  {
   "cell_type": "markdown",
   "metadata": {},
   "source": [
    "Table 3 - teaching scores"
   ]
  },
  {
   "cell_type": "markdown",
   "metadata": {},
   "source": [
    "Creating table for difference in \n",
    "a. first and other ranks (T15)\n",
    "b. current and consecutive ranks (T45)"
   ]
  },
  {
   "cell_type": "code",
   "execution_count": 166,
   "metadata": {},
   "outputs": [
    {
     "name": "stderr",
     "output_type": "stream",
     "text": [
      "C:\\Users\\cavit\\AppData\\Local\\Temp\\ipykernel_9904\\2860153766.py:17: PerformanceWarning:\n",
      "\n",
      "DataFrame is highly fragmented.  This is usually the result of calling `frame.insert` many times, which has poor performance.  Consider joining all columns at once using pd.concat(axis=1) instead. To get a de-fragmented frame, use `newframe = frame.copy()`\n",
      "\n",
      "C:\\Users\\cavit\\AppData\\Local\\Temp\\ipykernel_9904\\2860153766.py:17: PerformanceWarning:\n",
      "\n",
      "DataFrame is highly fragmented.  This is usually the result of calling `frame.insert` many times, which has poor performance.  Consider joining all columns at once using pd.concat(axis=1) instead. To get a de-fragmented frame, use `newframe = frame.copy()`\n",
      "\n",
      "C:\\Users\\cavit\\AppData\\Local\\Temp\\ipykernel_9904\\2860153766.py:17: PerformanceWarning:\n",
      "\n",
      "DataFrame is highly fragmented.  This is usually the result of calling `frame.insert` many times, which has poor performance.  Consider joining all columns at once using pd.concat(axis=1) instead. To get a de-fragmented frame, use `newframe = frame.copy()`\n",
      "\n",
      "C:\\Users\\cavit\\AppData\\Local\\Temp\\ipykernel_9904\\2860153766.py:17: PerformanceWarning:\n",
      "\n",
      "DataFrame is highly fragmented.  This is usually the result of calling `frame.insert` many times, which has poor performance.  Consider joining all columns at once using pd.concat(axis=1) instead. To get a de-fragmented frame, use `newframe = frame.copy()`\n",
      "\n",
      "C:\\Users\\cavit\\AppData\\Local\\Temp\\ipykernel_9904\\2860153766.py:17: PerformanceWarning:\n",
      "\n",
      "DataFrame is highly fragmented.  This is usually the result of calling `frame.insert` many times, which has poor performance.  Consider joining all columns at once using pd.concat(axis=1) instead. To get a de-fragmented frame, use `newframe = frame.copy()`\n",
      "\n",
      "C:\\Users\\cavit\\AppData\\Local\\Temp\\ipykernel_9904\\2860153766.py:17: PerformanceWarning:\n",
      "\n",
      "DataFrame is highly fragmented.  This is usually the result of calling `frame.insert` many times, which has poor performance.  Consider joining all columns at once using pd.concat(axis=1) instead. To get a de-fragmented frame, use `newframe = frame.copy()`\n",
      "\n",
      "C:\\Users\\cavit\\AppData\\Local\\Temp\\ipykernel_9904\\2860153766.py:17: PerformanceWarning:\n",
      "\n",
      "DataFrame is highly fragmented.  This is usually the result of calling `frame.insert` many times, which has poor performance.  Consider joining all columns at once using pd.concat(axis=1) instead. To get a de-fragmented frame, use `newframe = frame.copy()`\n",
      "\n",
      "C:\\Users\\cavit\\AppData\\Local\\Temp\\ipykernel_9904\\2860153766.py:17: PerformanceWarning:\n",
      "\n",
      "DataFrame is highly fragmented.  This is usually the result of calling `frame.insert` many times, which has poor performance.  Consider joining all columns at once using pd.concat(axis=1) instead. To get a de-fragmented frame, use `newframe = frame.copy()`\n",
      "\n",
      "C:\\Users\\cavit\\AppData\\Local\\Temp\\ipykernel_9904\\2860153766.py:17: PerformanceWarning:\n",
      "\n",
      "DataFrame is highly fragmented.  This is usually the result of calling `frame.insert` many times, which has poor performance.  Consider joining all columns at once using pd.concat(axis=1) instead. To get a de-fragmented frame, use `newframe = frame.copy()`\n",
      "\n",
      "C:\\Users\\cavit\\AppData\\Local\\Temp\\ipykernel_9904\\2860153766.py:17: PerformanceWarning:\n",
      "\n",
      "DataFrame is highly fragmented.  This is usually the result of calling `frame.insert` many times, which has poor performance.  Consider joining all columns at once using pd.concat(axis=1) instead. To get a de-fragmented frame, use `newframe = frame.copy()`\n",
      "\n",
      "C:\\Users\\cavit\\AppData\\Local\\Temp\\ipykernel_9904\\2860153766.py:17: PerformanceWarning:\n",
      "\n",
      "DataFrame is highly fragmented.  This is usually the result of calling `frame.insert` many times, which has poor performance.  Consider joining all columns at once using pd.concat(axis=1) instead. To get a de-fragmented frame, use `newframe = frame.copy()`\n",
      "\n",
      "C:\\Users\\cavit\\AppData\\Local\\Temp\\ipykernel_9904\\2860153766.py:17: PerformanceWarning:\n",
      "\n",
      "DataFrame is highly fragmented.  This is usually the result of calling `frame.insert` many times, which has poor performance.  Consider joining all columns at once using pd.concat(axis=1) instead. To get a de-fragmented frame, use `newframe = frame.copy()`\n",
      "\n",
      "C:\\Users\\cavit\\AppData\\Local\\Temp\\ipykernel_9904\\2860153766.py:17: PerformanceWarning:\n",
      "\n",
      "DataFrame is highly fragmented.  This is usually the result of calling `frame.insert` many times, which has poor performance.  Consider joining all columns at once using pd.concat(axis=1) instead. To get a de-fragmented frame, use `newframe = frame.copy()`\n",
      "\n",
      "C:\\Users\\cavit\\AppData\\Local\\Temp\\ipykernel_9904\\2860153766.py:17: PerformanceWarning:\n",
      "\n",
      "DataFrame is highly fragmented.  This is usually the result of calling `frame.insert` many times, which has poor performance.  Consider joining all columns at once using pd.concat(axis=1) instead. To get a de-fragmented frame, use `newframe = frame.copy()`\n",
      "\n",
      "C:\\Users\\cavit\\AppData\\Local\\Temp\\ipykernel_9904\\2860153766.py:17: PerformanceWarning:\n",
      "\n",
      "DataFrame is highly fragmented.  This is usually the result of calling `frame.insert` many times, which has poor performance.  Consider joining all columns at once using pd.concat(axis=1) instead. To get a de-fragmented frame, use `newframe = frame.copy()`\n",
      "\n",
      "C:\\Users\\cavit\\AppData\\Local\\Temp\\ipykernel_9904\\2860153766.py:17: PerformanceWarning:\n",
      "\n",
      "DataFrame is highly fragmented.  This is usually the result of calling `frame.insert` many times, which has poor performance.  Consider joining all columns at once using pd.concat(axis=1) instead. To get a de-fragmented frame, use `newframe = frame.copy()`\n",
      "\n",
      "C:\\Users\\cavit\\AppData\\Local\\Temp\\ipykernel_9904\\2860153766.py:17: PerformanceWarning:\n",
      "\n",
      "DataFrame is highly fragmented.  This is usually the result of calling `frame.insert` many times, which has poor performance.  Consider joining all columns at once using pd.concat(axis=1) instead. To get a de-fragmented frame, use `newframe = frame.copy()`\n",
      "\n",
      "C:\\Users\\cavit\\AppData\\Local\\Temp\\ipykernel_9904\\2860153766.py:17: PerformanceWarning:\n",
      "\n",
      "DataFrame is highly fragmented.  This is usually the result of calling `frame.insert` many times, which has poor performance.  Consider joining all columns at once using pd.concat(axis=1) instead. To get a de-fragmented frame, use `newframe = frame.copy()`\n",
      "\n",
      "C:\\Users\\cavit\\AppData\\Local\\Temp\\ipykernel_9904\\2860153766.py:17: PerformanceWarning:\n",
      "\n",
      "DataFrame is highly fragmented.  This is usually the result of calling `frame.insert` many times, which has poor performance.  Consider joining all columns at once using pd.concat(axis=1) instead. To get a de-fragmented frame, use `newframe = frame.copy()`\n",
      "\n",
      "C:\\Users\\cavit\\AppData\\Local\\Temp\\ipykernel_9904\\2860153766.py:17: PerformanceWarning:\n",
      "\n",
      "DataFrame is highly fragmented.  This is usually the result of calling `frame.insert` many times, which has poor performance.  Consider joining all columns at once using pd.concat(axis=1) instead. To get a de-fragmented frame, use `newframe = frame.copy()`\n",
      "\n",
      "C:\\Users\\cavit\\AppData\\Local\\Temp\\ipykernel_9904\\2860153766.py:17: PerformanceWarning:\n",
      "\n",
      "DataFrame is highly fragmented.  This is usually the result of calling `frame.insert` many times, which has poor performance.  Consider joining all columns at once using pd.concat(axis=1) instead. To get a de-fragmented frame, use `newframe = frame.copy()`\n",
      "\n",
      "C:\\Users\\cavit\\AppData\\Local\\Temp\\ipykernel_9904\\2860153766.py:17: PerformanceWarning:\n",
      "\n",
      "DataFrame is highly fragmented.  This is usually the result of calling `frame.insert` many times, which has poor performance.  Consider joining all columns at once using pd.concat(axis=1) instead. To get a de-fragmented frame, use `newframe = frame.copy()`\n",
      "\n",
      "C:\\Users\\cavit\\AppData\\Local\\Temp\\ipykernel_9904\\2860153766.py:17: PerformanceWarning:\n",
      "\n",
      "DataFrame is highly fragmented.  This is usually the result of calling `frame.insert` many times, which has poor performance.  Consider joining all columns at once using pd.concat(axis=1) instead. To get a de-fragmented frame, use `newframe = frame.copy()`\n",
      "\n",
      "C:\\Users\\cavit\\AppData\\Local\\Temp\\ipykernel_9904\\2860153766.py:17: PerformanceWarning:\n",
      "\n",
      "DataFrame is highly fragmented.  This is usually the result of calling `frame.insert` many times, which has poor performance.  Consider joining all columns at once using pd.concat(axis=1) instead. To get a de-fragmented frame, use `newframe = frame.copy()`\n",
      "\n",
      "C:\\Users\\cavit\\AppData\\Local\\Temp\\ipykernel_9904\\2860153766.py:17: PerformanceWarning:\n",
      "\n",
      "DataFrame is highly fragmented.  This is usually the result of calling `frame.insert` many times, which has poor performance.  Consider joining all columns at once using pd.concat(axis=1) instead. To get a de-fragmented frame, use `newframe = frame.copy()`\n",
      "\n",
      "C:\\Users\\cavit\\AppData\\Local\\Temp\\ipykernel_9904\\2860153766.py:17: PerformanceWarning:\n",
      "\n",
      "DataFrame is highly fragmented.  This is usually the result of calling `frame.insert` many times, which has poor performance.  Consider joining all columns at once using pd.concat(axis=1) instead. To get a de-fragmented frame, use `newframe = frame.copy()`\n",
      "\n",
      "C:\\Users\\cavit\\AppData\\Local\\Temp\\ipykernel_9904\\2860153766.py:17: PerformanceWarning:\n",
      "\n",
      "DataFrame is highly fragmented.  This is usually the result of calling `frame.insert` many times, which has poor performance.  Consider joining all columns at once using pd.concat(axis=1) instead. To get a de-fragmented frame, use `newframe = frame.copy()`\n",
      "\n",
      "C:\\Users\\cavit\\AppData\\Local\\Temp\\ipykernel_9904\\2860153766.py:17: PerformanceWarning:\n",
      "\n",
      "DataFrame is highly fragmented.  This is usually the result of calling `frame.insert` many times, which has poor performance.  Consider joining all columns at once using pd.concat(axis=1) instead. To get a de-fragmented frame, use `newframe = frame.copy()`\n",
      "\n",
      "C:\\Users\\cavit\\AppData\\Local\\Temp\\ipykernel_9904\\2860153766.py:17: PerformanceWarning:\n",
      "\n",
      "DataFrame is highly fragmented.  This is usually the result of calling `frame.insert` many times, which has poor performance.  Consider joining all columns at once using pd.concat(axis=1) instead. To get a de-fragmented frame, use `newframe = frame.copy()`\n",
      "\n",
      "C:\\Users\\cavit\\AppData\\Local\\Temp\\ipykernel_9904\\2860153766.py:17: PerformanceWarning:\n",
      "\n",
      "DataFrame is highly fragmented.  This is usually the result of calling `frame.insert` many times, which has poor performance.  Consider joining all columns at once using pd.concat(axis=1) instead. To get a de-fragmented frame, use `newframe = frame.copy()`\n",
      "\n",
      "C:\\Users\\cavit\\AppData\\Local\\Temp\\ipykernel_9904\\2860153766.py:17: PerformanceWarning:\n",
      "\n",
      "DataFrame is highly fragmented.  This is usually the result of calling `frame.insert` many times, which has poor performance.  Consider joining all columns at once using pd.concat(axis=1) instead. To get a de-fragmented frame, use `newframe = frame.copy()`\n",
      "\n",
      "C:\\Users\\cavit\\AppData\\Local\\Temp\\ipykernel_9904\\2860153766.py:17: PerformanceWarning:\n",
      "\n",
      "DataFrame is highly fragmented.  This is usually the result of calling `frame.insert` many times, which has poor performance.  Consider joining all columns at once using pd.concat(axis=1) instead. To get a de-fragmented frame, use `newframe = frame.copy()`\n",
      "\n",
      "C:\\Users\\cavit\\AppData\\Local\\Temp\\ipykernel_9904\\2860153766.py:17: PerformanceWarning:\n",
      "\n",
      "DataFrame is highly fragmented.  This is usually the result of calling `frame.insert` many times, which has poor performance.  Consider joining all columns at once using pd.concat(axis=1) instead. To get a de-fragmented frame, use `newframe = frame.copy()`\n",
      "\n",
      "C:\\Users\\cavit\\AppData\\Local\\Temp\\ipykernel_9904\\2860153766.py:17: PerformanceWarning:\n",
      "\n",
      "DataFrame is highly fragmented.  This is usually the result of calling `frame.insert` many times, which has poor performance.  Consider joining all columns at once using pd.concat(axis=1) instead. To get a de-fragmented frame, use `newframe = frame.copy()`\n",
      "\n",
      "C:\\Users\\cavit\\AppData\\Local\\Temp\\ipykernel_9904\\2860153766.py:17: PerformanceWarning:\n",
      "\n",
      "DataFrame is highly fragmented.  This is usually the result of calling `frame.insert` many times, which has poor performance.  Consider joining all columns at once using pd.concat(axis=1) instead. To get a de-fragmented frame, use `newframe = frame.copy()`\n",
      "\n",
      "C:\\Users\\cavit\\AppData\\Local\\Temp\\ipykernel_9904\\2860153766.py:17: PerformanceWarning:\n",
      "\n",
      "DataFrame is highly fragmented.  This is usually the result of calling `frame.insert` many times, which has poor performance.  Consider joining all columns at once using pd.concat(axis=1) instead. To get a de-fragmented frame, use `newframe = frame.copy()`\n",
      "\n",
      "C:\\Users\\cavit\\AppData\\Local\\Temp\\ipykernel_9904\\2860153766.py:17: PerformanceWarning:\n",
      "\n",
      "DataFrame is highly fragmented.  This is usually the result of calling `frame.insert` many times, which has poor performance.  Consider joining all columns at once using pd.concat(axis=1) instead. To get a de-fragmented frame, use `newframe = frame.copy()`\n",
      "\n",
      "C:\\Users\\cavit\\AppData\\Local\\Temp\\ipykernel_9904\\2860153766.py:17: PerformanceWarning:\n",
      "\n",
      "DataFrame is highly fragmented.  This is usually the result of calling `frame.insert` many times, which has poor performance.  Consider joining all columns at once using pd.concat(axis=1) instead. To get a de-fragmented frame, use `newframe = frame.copy()`\n",
      "\n",
      "C:\\Users\\cavit\\AppData\\Local\\Temp\\ipykernel_9904\\2860153766.py:17: PerformanceWarning:\n",
      "\n",
      "DataFrame is highly fragmented.  This is usually the result of calling `frame.insert` many times, which has poor performance.  Consider joining all columns at once using pd.concat(axis=1) instead. To get a de-fragmented frame, use `newframe = frame.copy()`\n",
      "\n",
      "C:\\Users\\cavit\\AppData\\Local\\Temp\\ipykernel_9904\\2860153766.py:17: PerformanceWarning:\n",
      "\n",
      "DataFrame is highly fragmented.  This is usually the result of calling `frame.insert` many times, which has poor performance.  Consider joining all columns at once using pd.concat(axis=1) instead. To get a de-fragmented frame, use `newframe = frame.copy()`\n",
      "\n",
      "C:\\Users\\cavit\\AppData\\Local\\Temp\\ipykernel_9904\\2860153766.py:17: PerformanceWarning:\n",
      "\n",
      "DataFrame is highly fragmented.  This is usually the result of calling `frame.insert` many times, which has poor performance.  Consider joining all columns at once using pd.concat(axis=1) instead. To get a de-fragmented frame, use `newframe = frame.copy()`\n",
      "\n",
      "C:\\Users\\cavit\\AppData\\Local\\Temp\\ipykernel_9904\\2860153766.py:17: PerformanceWarning:\n",
      "\n",
      "DataFrame is highly fragmented.  This is usually the result of calling `frame.insert` many times, which has poor performance.  Consider joining all columns at once using pd.concat(axis=1) instead. To get a de-fragmented frame, use `newframe = frame.copy()`\n",
      "\n",
      "C:\\Users\\cavit\\AppData\\Local\\Temp\\ipykernel_9904\\2860153766.py:17: PerformanceWarning:\n",
      "\n",
      "DataFrame is highly fragmented.  This is usually the result of calling `frame.insert` many times, which has poor performance.  Consider joining all columns at once using pd.concat(axis=1) instead. To get a de-fragmented frame, use `newframe = frame.copy()`\n",
      "\n",
      "C:\\Users\\cavit\\AppData\\Local\\Temp\\ipykernel_9904\\2860153766.py:17: PerformanceWarning:\n",
      "\n",
      "DataFrame is highly fragmented.  This is usually the result of calling `frame.insert` many times, which has poor performance.  Consider joining all columns at once using pd.concat(axis=1) instead. To get a de-fragmented frame, use `newframe = frame.copy()`\n",
      "\n",
      "C:\\Users\\cavit\\AppData\\Local\\Temp\\ipykernel_9904\\2860153766.py:17: PerformanceWarning:\n",
      "\n",
      "DataFrame is highly fragmented.  This is usually the result of calling `frame.insert` many times, which has poor performance.  Consider joining all columns at once using pd.concat(axis=1) instead. To get a de-fragmented frame, use `newframe = frame.copy()`\n",
      "\n",
      "C:\\Users\\cavit\\AppData\\Local\\Temp\\ipykernel_9904\\2860153766.py:17: PerformanceWarning:\n",
      "\n",
      "DataFrame is highly fragmented.  This is usually the result of calling `frame.insert` many times, which has poor performance.  Consider joining all columns at once using pd.concat(axis=1) instead. To get a de-fragmented frame, use `newframe = frame.copy()`\n",
      "\n",
      "C:\\Users\\cavit\\AppData\\Local\\Temp\\ipykernel_9904\\2860153766.py:17: PerformanceWarning:\n",
      "\n",
      "DataFrame is highly fragmented.  This is usually the result of calling `frame.insert` many times, which has poor performance.  Consider joining all columns at once using pd.concat(axis=1) instead. To get a de-fragmented frame, use `newframe = frame.copy()`\n",
      "\n",
      "C:\\Users\\cavit\\AppData\\Local\\Temp\\ipykernel_9904\\2860153766.py:17: PerformanceWarning:\n",
      "\n",
      "DataFrame is highly fragmented.  This is usually the result of calling `frame.insert` many times, which has poor performance.  Consider joining all columns at once using pd.concat(axis=1) instead. To get a de-fragmented frame, use `newframe = frame.copy()`\n",
      "\n",
      "C:\\Users\\cavit\\AppData\\Local\\Temp\\ipykernel_9904\\2860153766.py:17: PerformanceWarning:\n",
      "\n",
      "DataFrame is highly fragmented.  This is usually the result of calling `frame.insert` many times, which has poor performance.  Consider joining all columns at once using pd.concat(axis=1) instead. To get a de-fragmented frame, use `newframe = frame.copy()`\n",
      "\n",
      "C:\\Users\\cavit\\AppData\\Local\\Temp\\ipykernel_9904\\2860153766.py:17: PerformanceWarning:\n",
      "\n",
      "DataFrame is highly fragmented.  This is usually the result of calling `frame.insert` many times, which has poor performance.  Consider joining all columns at once using pd.concat(axis=1) instead. To get a de-fragmented frame, use `newframe = frame.copy()`\n",
      "\n",
      "C:\\Users\\cavit\\AppData\\Local\\Temp\\ipykernel_9904\\2860153766.py:17: PerformanceWarning:\n",
      "\n",
      "DataFrame is highly fragmented.  This is usually the result of calling `frame.insert` many times, which has poor performance.  Consider joining all columns at once using pd.concat(axis=1) instead. To get a de-fragmented frame, use `newframe = frame.copy()`\n",
      "\n",
      "C:\\Users\\cavit\\AppData\\Local\\Temp\\ipykernel_9904\\2860153766.py:17: PerformanceWarning:\n",
      "\n",
      "DataFrame is highly fragmented.  This is usually the result of calling `frame.insert` many times, which has poor performance.  Consider joining all columns at once using pd.concat(axis=1) instead. To get a de-fragmented frame, use `newframe = frame.copy()`\n",
      "\n",
      "C:\\Users\\cavit\\AppData\\Local\\Temp\\ipykernel_9904\\2860153766.py:17: PerformanceWarning:\n",
      "\n",
      "DataFrame is highly fragmented.  This is usually the result of calling `frame.insert` many times, which has poor performance.  Consider joining all columns at once using pd.concat(axis=1) instead. To get a de-fragmented frame, use `newframe = frame.copy()`\n",
      "\n",
      "C:\\Users\\cavit\\AppData\\Local\\Temp\\ipykernel_9904\\2860153766.py:17: PerformanceWarning:\n",
      "\n",
      "DataFrame is highly fragmented.  This is usually the result of calling `frame.insert` many times, which has poor performance.  Consider joining all columns at once using pd.concat(axis=1) instead. To get a de-fragmented frame, use `newframe = frame.copy()`\n",
      "\n",
      "C:\\Users\\cavit\\AppData\\Local\\Temp\\ipykernel_9904\\2860153766.py:17: PerformanceWarning:\n",
      "\n",
      "DataFrame is highly fragmented.  This is usually the result of calling `frame.insert` many times, which has poor performance.  Consider joining all columns at once using pd.concat(axis=1) instead. To get a de-fragmented frame, use `newframe = frame.copy()`\n",
      "\n",
      "C:\\Users\\cavit\\AppData\\Local\\Temp\\ipykernel_9904\\2860153766.py:17: PerformanceWarning:\n",
      "\n",
      "DataFrame is highly fragmented.  This is usually the result of calling `frame.insert` many times, which has poor performance.  Consider joining all columns at once using pd.concat(axis=1) instead. To get a de-fragmented frame, use `newframe = frame.copy()`\n",
      "\n",
      "C:\\Users\\cavit\\AppData\\Local\\Temp\\ipykernel_9904\\2860153766.py:17: PerformanceWarning:\n",
      "\n",
      "DataFrame is highly fragmented.  This is usually the result of calling `frame.insert` many times, which has poor performance.  Consider joining all columns at once using pd.concat(axis=1) instead. To get a de-fragmented frame, use `newframe = frame.copy()`\n",
      "\n",
      "C:\\Users\\cavit\\AppData\\Local\\Temp\\ipykernel_9904\\2860153766.py:17: PerformanceWarning:\n",
      "\n",
      "DataFrame is highly fragmented.  This is usually the result of calling `frame.insert` many times, which has poor performance.  Consider joining all columns at once using pd.concat(axis=1) instead. To get a de-fragmented frame, use `newframe = frame.copy()`\n",
      "\n",
      "C:\\Users\\cavit\\AppData\\Local\\Temp\\ipykernel_9904\\2860153766.py:17: PerformanceWarning:\n",
      "\n",
      "DataFrame is highly fragmented.  This is usually the result of calling `frame.insert` many times, which has poor performance.  Consider joining all columns at once using pd.concat(axis=1) instead. To get a de-fragmented frame, use `newframe = frame.copy()`\n",
      "\n",
      "C:\\Users\\cavit\\AppData\\Local\\Temp\\ipykernel_9904\\2860153766.py:17: PerformanceWarning:\n",
      "\n",
      "DataFrame is highly fragmented.  This is usually the result of calling `frame.insert` many times, which has poor performance.  Consider joining all columns at once using pd.concat(axis=1) instead. To get a de-fragmented frame, use `newframe = frame.copy()`\n",
      "\n",
      "C:\\Users\\cavit\\AppData\\Local\\Temp\\ipykernel_9904\\2860153766.py:17: PerformanceWarning:\n",
      "\n",
      "DataFrame is highly fragmented.  This is usually the result of calling `frame.insert` many times, which has poor performance.  Consider joining all columns at once using pd.concat(axis=1) instead. To get a de-fragmented frame, use `newframe = frame.copy()`\n",
      "\n",
      "C:\\Users\\cavit\\AppData\\Local\\Temp\\ipykernel_9904\\2860153766.py:17: PerformanceWarning:\n",
      "\n",
      "DataFrame is highly fragmented.  This is usually the result of calling `frame.insert` many times, which has poor performance.  Consider joining all columns at once using pd.concat(axis=1) instead. To get a de-fragmented frame, use `newframe = frame.copy()`\n",
      "\n",
      "C:\\Users\\cavit\\AppData\\Local\\Temp\\ipykernel_9904\\2860153766.py:17: PerformanceWarning:\n",
      "\n",
      "DataFrame is highly fragmented.  This is usually the result of calling `frame.insert` many times, which has poor performance.  Consider joining all columns at once using pd.concat(axis=1) instead. To get a de-fragmented frame, use `newframe = frame.copy()`\n",
      "\n",
      "C:\\Users\\cavit\\AppData\\Local\\Temp\\ipykernel_9904\\2860153766.py:17: PerformanceWarning:\n",
      "\n",
      "DataFrame is highly fragmented.  This is usually the result of calling `frame.insert` many times, which has poor performance.  Consider joining all columns at once using pd.concat(axis=1) instead. To get a de-fragmented frame, use `newframe = frame.copy()`\n",
      "\n",
      "C:\\Users\\cavit\\AppData\\Local\\Temp\\ipykernel_9904\\2860153766.py:17: PerformanceWarning:\n",
      "\n",
      "DataFrame is highly fragmented.  This is usually the result of calling `frame.insert` many times, which has poor performance.  Consider joining all columns at once using pd.concat(axis=1) instead. To get a de-fragmented frame, use `newframe = frame.copy()`\n",
      "\n",
      "C:\\Users\\cavit\\AppData\\Local\\Temp\\ipykernel_9904\\2860153766.py:17: PerformanceWarning:\n",
      "\n",
      "DataFrame is highly fragmented.  This is usually the result of calling `frame.insert` many times, which has poor performance.  Consider joining all columns at once using pd.concat(axis=1) instead. To get a de-fragmented frame, use `newframe = frame.copy()`\n",
      "\n",
      "C:\\Users\\cavit\\AppData\\Local\\Temp\\ipykernel_9904\\2860153766.py:17: PerformanceWarning:\n",
      "\n",
      "DataFrame is highly fragmented.  This is usually the result of calling `frame.insert` many times, which has poor performance.  Consider joining all columns at once using pd.concat(axis=1) instead. To get a de-fragmented frame, use `newframe = frame.copy()`\n",
      "\n",
      "C:\\Users\\cavit\\AppData\\Local\\Temp\\ipykernel_9904\\2860153766.py:17: PerformanceWarning:\n",
      "\n",
      "DataFrame is highly fragmented.  This is usually the result of calling `frame.insert` many times, which has poor performance.  Consider joining all columns at once using pd.concat(axis=1) instead. To get a de-fragmented frame, use `newframe = frame.copy()`\n",
      "\n",
      "C:\\Users\\cavit\\AppData\\Local\\Temp\\ipykernel_9904\\2860153766.py:17: PerformanceWarning:\n",
      "\n",
      "DataFrame is highly fragmented.  This is usually the result of calling `frame.insert` many times, which has poor performance.  Consider joining all columns at once using pd.concat(axis=1) instead. To get a de-fragmented frame, use `newframe = frame.copy()`\n",
      "\n",
      "C:\\Users\\cavit\\AppData\\Local\\Temp\\ipykernel_9904\\2860153766.py:17: PerformanceWarning:\n",
      "\n",
      "DataFrame is highly fragmented.  This is usually the result of calling `frame.insert` many times, which has poor performance.  Consider joining all columns at once using pd.concat(axis=1) instead. To get a de-fragmented frame, use `newframe = frame.copy()`\n",
      "\n",
      "C:\\Users\\cavit\\AppData\\Local\\Temp\\ipykernel_9904\\2860153766.py:17: PerformanceWarning:\n",
      "\n",
      "DataFrame is highly fragmented.  This is usually the result of calling `frame.insert` many times, which has poor performance.  Consider joining all columns at once using pd.concat(axis=1) instead. To get a de-fragmented frame, use `newframe = frame.copy()`\n",
      "\n",
      "C:\\Users\\cavit\\AppData\\Local\\Temp\\ipykernel_9904\\2860153766.py:17: PerformanceWarning:\n",
      "\n",
      "DataFrame is highly fragmented.  This is usually the result of calling `frame.insert` many times, which has poor performance.  Consider joining all columns at once using pd.concat(axis=1) instead. To get a de-fragmented frame, use `newframe = frame.copy()`\n",
      "\n",
      "C:\\Users\\cavit\\AppData\\Local\\Temp\\ipykernel_9904\\2860153766.py:17: PerformanceWarning:\n",
      "\n",
      "DataFrame is highly fragmented.  This is usually the result of calling `frame.insert` many times, which has poor performance.  Consider joining all columns at once using pd.concat(axis=1) instead. To get a de-fragmented frame, use `newframe = frame.copy()`\n",
      "\n",
      "C:\\Users\\cavit\\AppData\\Local\\Temp\\ipykernel_9904\\2860153766.py:17: PerformanceWarning:\n",
      "\n",
      "DataFrame is highly fragmented.  This is usually the result of calling `frame.insert` many times, which has poor performance.  Consider joining all columns at once using pd.concat(axis=1) instead. To get a de-fragmented frame, use `newframe = frame.copy()`\n",
      "\n",
      "C:\\Users\\cavit\\AppData\\Local\\Temp\\ipykernel_9904\\2860153766.py:17: PerformanceWarning:\n",
      "\n",
      "DataFrame is highly fragmented.  This is usually the result of calling `frame.insert` many times, which has poor performance.  Consider joining all columns at once using pd.concat(axis=1) instead. To get a de-fragmented frame, use `newframe = frame.copy()`\n",
      "\n",
      "C:\\Users\\cavit\\AppData\\Local\\Temp\\ipykernel_9904\\2860153766.py:17: PerformanceWarning:\n",
      "\n",
      "DataFrame is highly fragmented.  This is usually the result of calling `frame.insert` many times, which has poor performance.  Consider joining all columns at once using pd.concat(axis=1) instead. To get a de-fragmented frame, use `newframe = frame.copy()`\n",
      "\n",
      "C:\\Users\\cavit\\AppData\\Local\\Temp\\ipykernel_9904\\2860153766.py:17: PerformanceWarning:\n",
      "\n",
      "DataFrame is highly fragmented.  This is usually the result of calling `frame.insert` many times, which has poor performance.  Consider joining all columns at once using pd.concat(axis=1) instead. To get a de-fragmented frame, use `newframe = frame.copy()`\n",
      "\n",
      "C:\\Users\\cavit\\AppData\\Local\\Temp\\ipykernel_9904\\2860153766.py:17: PerformanceWarning:\n",
      "\n",
      "DataFrame is highly fragmented.  This is usually the result of calling `frame.insert` many times, which has poor performance.  Consider joining all columns at once using pd.concat(axis=1) instead. To get a de-fragmented frame, use `newframe = frame.copy()`\n",
      "\n",
      "C:\\Users\\cavit\\AppData\\Local\\Temp\\ipykernel_9904\\2860153766.py:17: PerformanceWarning:\n",
      "\n",
      "DataFrame is highly fragmented.  This is usually the result of calling `frame.insert` many times, which has poor performance.  Consider joining all columns at once using pd.concat(axis=1) instead. To get a de-fragmented frame, use `newframe = frame.copy()`\n",
      "\n",
      "C:\\Users\\cavit\\AppData\\Local\\Temp\\ipykernel_9904\\2860153766.py:17: PerformanceWarning:\n",
      "\n",
      "DataFrame is highly fragmented.  This is usually the result of calling `frame.insert` many times, which has poor performance.  Consider joining all columns at once using pd.concat(axis=1) instead. To get a de-fragmented frame, use `newframe = frame.copy()`\n",
      "\n",
      "C:\\Users\\cavit\\AppData\\Local\\Temp\\ipykernel_9904\\2860153766.py:17: PerformanceWarning:\n",
      "\n",
      "DataFrame is highly fragmented.  This is usually the result of calling `frame.insert` many times, which has poor performance.  Consider joining all columns at once using pd.concat(axis=1) instead. To get a de-fragmented frame, use `newframe = frame.copy()`\n",
      "\n",
      "C:\\Users\\cavit\\AppData\\Local\\Temp\\ipykernel_9904\\2860153766.py:17: PerformanceWarning:\n",
      "\n",
      "DataFrame is highly fragmented.  This is usually the result of calling `frame.insert` many times, which has poor performance.  Consider joining all columns at once using pd.concat(axis=1) instead. To get a de-fragmented frame, use `newframe = frame.copy()`\n",
      "\n",
      "C:\\Users\\cavit\\AppData\\Local\\Temp\\ipykernel_9904\\2860153766.py:17: PerformanceWarning:\n",
      "\n",
      "DataFrame is highly fragmented.  This is usually the result of calling `frame.insert` many times, which has poor performance.  Consider joining all columns at once using pd.concat(axis=1) instead. To get a de-fragmented frame, use `newframe = frame.copy()`\n",
      "\n",
      "C:\\Users\\cavit\\AppData\\Local\\Temp\\ipykernel_9904\\2860153766.py:17: PerformanceWarning:\n",
      "\n",
      "DataFrame is highly fragmented.  This is usually the result of calling `frame.insert` many times, which has poor performance.  Consider joining all columns at once using pd.concat(axis=1) instead. To get a de-fragmented frame, use `newframe = frame.copy()`\n",
      "\n",
      "C:\\Users\\cavit\\AppData\\Local\\Temp\\ipykernel_9904\\2860153766.py:17: PerformanceWarning:\n",
      "\n",
      "DataFrame is highly fragmented.  This is usually the result of calling `frame.insert` many times, which has poor performance.  Consider joining all columns at once using pd.concat(axis=1) instead. To get a de-fragmented frame, use `newframe = frame.copy()`\n",
      "\n",
      "C:\\Users\\cavit\\AppData\\Local\\Temp\\ipykernel_9904\\2860153766.py:17: PerformanceWarning:\n",
      "\n",
      "DataFrame is highly fragmented.  This is usually the result of calling `frame.insert` many times, which has poor performance.  Consider joining all columns at once using pd.concat(axis=1) instead. To get a de-fragmented frame, use `newframe = frame.copy()`\n",
      "\n",
      "C:\\Users\\cavit\\AppData\\Local\\Temp\\ipykernel_9904\\2860153766.py:17: PerformanceWarning:\n",
      "\n",
      "DataFrame is highly fragmented.  This is usually the result of calling `frame.insert` many times, which has poor performance.  Consider joining all columns at once using pd.concat(axis=1) instead. To get a de-fragmented frame, use `newframe = frame.copy()`\n",
      "\n",
      "C:\\Users\\cavit\\AppData\\Local\\Temp\\ipykernel_9904\\2860153766.py:17: PerformanceWarning:\n",
      "\n",
      "DataFrame is highly fragmented.  This is usually the result of calling `frame.insert` many times, which has poor performance.  Consider joining all columns at once using pd.concat(axis=1) instead. To get a de-fragmented frame, use `newframe = frame.copy()`\n",
      "\n",
      "C:\\Users\\cavit\\AppData\\Local\\Temp\\ipykernel_9904\\2860153766.py:17: PerformanceWarning:\n",
      "\n",
      "DataFrame is highly fragmented.  This is usually the result of calling `frame.insert` many times, which has poor performance.  Consider joining all columns at once using pd.concat(axis=1) instead. To get a de-fragmented frame, use `newframe = frame.copy()`\n",
      "\n",
      "C:\\Users\\cavit\\AppData\\Local\\Temp\\ipykernel_9904\\2860153766.py:17: PerformanceWarning:\n",
      "\n",
      "DataFrame is highly fragmented.  This is usually the result of calling `frame.insert` many times, which has poor performance.  Consider joining all columns at once using pd.concat(axis=1) instead. To get a de-fragmented frame, use `newframe = frame.copy()`\n",
      "\n",
      "C:\\Users\\cavit\\AppData\\Local\\Temp\\ipykernel_9904\\2860153766.py:17: PerformanceWarning:\n",
      "\n",
      "DataFrame is highly fragmented.  This is usually the result of calling `frame.insert` many times, which has poor performance.  Consider joining all columns at once using pd.concat(axis=1) instead. To get a de-fragmented frame, use `newframe = frame.copy()`\n",
      "\n"
     ]
    },
    {
     "data": {
      "text/html": [
       "<div>\n",
       "<style scoped>\n",
       "    .dataframe tbody tr th:only-of-type {\n",
       "        vertical-align: middle;\n",
       "    }\n",
       "\n",
       "    .dataframe tbody tr th {\n",
       "        vertical-align: top;\n",
       "    }\n",
       "\n",
       "    .dataframe thead th {\n",
       "        text-align: right;\n",
       "    }\n",
       "</style>\n",
       "<table border=\"1\" class=\"dataframe\">\n",
       "  <thead>\n",
       "    <tr style=\"text-align: right;\">\n",
       "      <th>rank</th>\n",
       "      <th>1</th>\n",
       "      <th>2</th>\n",
       "      <th>3</th>\n",
       "      <th>4</th>\n",
       "      <th>5</th>\n",
       "      <th>6</th>\n",
       "      <th>7</th>\n",
       "      <th>8</th>\n",
       "      <th>9</th>\n",
       "      <th>10</th>\n",
       "      <th>...</th>\n",
       "      <th>T1617</th>\n",
       "      <th>T1618</th>\n",
       "      <th>T1619</th>\n",
       "      <th>T1620</th>\n",
       "      <th>T1718</th>\n",
       "      <th>T1719</th>\n",
       "      <th>T1720</th>\n",
       "      <th>T1819</th>\n",
       "      <th>T1820</th>\n",
       "      <th>T1920</th>\n",
       "    </tr>\n",
       "    <tr>\n",
       "      <th>year</th>\n",
       "      <th></th>\n",
       "      <th></th>\n",
       "      <th></th>\n",
       "      <th></th>\n",
       "      <th></th>\n",
       "      <th></th>\n",
       "      <th></th>\n",
       "      <th></th>\n",
       "      <th></th>\n",
       "      <th></th>\n",
       "      <th></th>\n",
       "      <th></th>\n",
       "      <th></th>\n",
       "      <th></th>\n",
       "      <th></th>\n",
       "      <th></th>\n",
       "      <th></th>\n",
       "      <th></th>\n",
       "      <th></th>\n",
       "      <th></th>\n",
       "      <th></th>\n",
       "    </tr>\n",
       "  </thead>\n",
       "  <tbody>\n",
       "    <tr>\n",
       "      <th>2020</th>\n",
       "      <td>90.5</td>\n",
       "      <td>92.1</td>\n",
       "      <td>91.4</td>\n",
       "      <td>92.8</td>\n",
       "      <td>90.5</td>\n",
       "      <td>90.3</td>\n",
       "      <td>89.2</td>\n",
       "      <td>92.0</td>\n",
       "      <td>89.1</td>\n",
       "      <td>84.5</td>\n",
       "      <td>...</td>\n",
       "      <td>2.5</td>\n",
       "      <td>9.0</td>\n",
       "      <td>5.9</td>\n",
       "      <td>3.2</td>\n",
       "      <td>6.5</td>\n",
       "      <td>3.4</td>\n",
       "      <td>0.7</td>\n",
       "      <td>-3.1</td>\n",
       "      <td>-5.8</td>\n",
       "      <td>-2.7</td>\n",
       "    </tr>\n",
       "    <tr>\n",
       "      <th>2021</th>\n",
       "      <td>91.3</td>\n",
       "      <td>92.2</td>\n",
       "      <td>94.4</td>\n",
       "      <td>92.5</td>\n",
       "      <td>90.7</td>\n",
       "      <td>90.3</td>\n",
       "      <td>85.8</td>\n",
       "      <td>91.9</td>\n",
       "      <td>88.8</td>\n",
       "      <td>88.9</td>\n",
       "      <td>...</td>\n",
       "      <td>-8.5</td>\n",
       "      <td>1.2</td>\n",
       "      <td>-2.2</td>\n",
       "      <td>-4.1</td>\n",
       "      <td>9.7</td>\n",
       "      <td>6.3</td>\n",
       "      <td>4.4</td>\n",
       "      <td>-3.4</td>\n",
       "      <td>-5.3</td>\n",
       "      <td>-1.9</td>\n",
       "    </tr>\n",
       "    <tr>\n",
       "      <th>2022</th>\n",
       "      <td>91.0</td>\n",
       "      <td>93.6</td>\n",
       "      <td>94.5</td>\n",
       "      <td>92.3</td>\n",
       "      <td>90.9</td>\n",
       "      <td>90.9</td>\n",
       "      <td>89.5</td>\n",
       "      <td>85.7</td>\n",
       "      <td>90.7</td>\n",
       "      <td>87.2</td>\n",
       "      <td>...</td>\n",
       "      <td>3.3</td>\n",
       "      <td>13.8</td>\n",
       "      <td>14.6</td>\n",
       "      <td>9.3</td>\n",
       "      <td>10.5</td>\n",
       "      <td>11.3</td>\n",
       "      <td>6.0</td>\n",
       "      <td>0.8</td>\n",
       "      <td>-4.5</td>\n",
       "      <td>-5.3</td>\n",
       "    </tr>\n",
       "    <tr>\n",
       "      <th>2023</th>\n",
       "      <td>92.3</td>\n",
       "      <td>94.8</td>\n",
       "      <td>90.9</td>\n",
       "      <td>94.2</td>\n",
       "      <td>90.7</td>\n",
       "      <td>90.9</td>\n",
       "      <td>87.6</td>\n",
       "      <td>86.4</td>\n",
       "      <td>92.6</td>\n",
       "      <td>82.8</td>\n",
       "      <td>...</td>\n",
       "      <td>-2.4</td>\n",
       "      <td>12.8</td>\n",
       "      <td>13.7</td>\n",
       "      <td>9.9</td>\n",
       "      <td>15.2</td>\n",
       "      <td>16.1</td>\n",
       "      <td>12.3</td>\n",
       "      <td>0.9</td>\n",
       "      <td>-2.9</td>\n",
       "      <td>-3.8</td>\n",
       "    </tr>\n",
       "    <tr>\n",
       "      <th>2024</th>\n",
       "      <td>96.6</td>\n",
       "      <td>99.0</td>\n",
       "      <td>98.6</td>\n",
       "      <td>97.7</td>\n",
       "      <td>95.8</td>\n",
       "      <td>96.3</td>\n",
       "      <td>96.6</td>\n",
       "      <td>90.9</td>\n",
       "      <td>87.2</td>\n",
       "      <td>94.0</td>\n",
       "      <td>...</td>\n",
       "      <td>-0.9</td>\n",
       "      <td>2.0</td>\n",
       "      <td>8.9</td>\n",
       "      <td>2.0</td>\n",
       "      <td>2.9</td>\n",
       "      <td>9.8</td>\n",
       "      <td>2.9</td>\n",
       "      <td>6.9</td>\n",
       "      <td>0.0</td>\n",
       "      <td>-6.9</td>\n",
       "    </tr>\n",
       "  </tbody>\n",
       "</table>\n",
       "<p>5 rows × 210 columns</p>\n",
       "</div>"
      ],
      "text/plain": [
       "rank     1     2     3     4     5     6     7     8     9    10  ...  T1617  \\\n",
       "year                                                              ...          \n",
       "2020  90.5  92.1  91.4  92.8  90.5  90.3  89.2  92.0  89.1  84.5  ...    2.5   \n",
       "2021  91.3  92.2  94.4  92.5  90.7  90.3  85.8  91.9  88.8  88.9  ...   -8.5   \n",
       "2022  91.0  93.6  94.5  92.3  90.9  90.9  89.5  85.7  90.7  87.2  ...    3.3   \n",
       "2023  92.3  94.8  90.9  94.2  90.7  90.9  87.6  86.4  92.6  82.8  ...   -2.4   \n",
       "2024  96.6  99.0  98.6  97.7  95.8  96.3  96.6  90.9  87.2  94.0  ...   -0.9   \n",
       "\n",
       "rank  T1618  T1619  T1620  T1718  T1719  T1720  T1819  T1820  T1920  \n",
       "year                                                                 \n",
       "2020    9.0    5.9    3.2    6.5    3.4    0.7   -3.1   -5.8   -2.7  \n",
       "2021    1.2   -2.2   -4.1    9.7    6.3    4.4   -3.4   -5.3   -1.9  \n",
       "2022   13.8   14.6    9.3   10.5   11.3    6.0    0.8   -4.5   -5.3  \n",
       "2023   12.8   13.7    9.9   15.2   16.1   12.3    0.9   -2.9   -3.8  \n",
       "2024    2.0    8.9    2.0    2.9    9.8    2.9    6.9    0.0   -6.9  \n",
       "\n",
       "[5 rows x 210 columns]"
      ]
     },
     "execution_count": 166,
     "metadata": {},
     "output_type": "execute_result"
    }
   ],
   "source": [
    "top_ranks['rank'] = top_ranks['rank'].astype(int)\n",
    "\n",
    "# Calculate the average teaching score for each rank in each year\n",
    "average_scores = top_ranks.groupby(['year', 'rank'])['scores_teaching'].mean().reset_index()\n",
    "\n",
    "# So each row represents a year and each column represents a rank\n",
    "pivot_df = average_scores.pivot(index='year', columns='rank', values='scores_teaching')\n",
    "\n",
    "# Calculate the T values\n",
    "ranks = range(1,21)\n",
    "\n",
    "# Difference b/w first and other ranks\n",
    "for i in range(len(ranks)-1):\n",
    "    for j in range(i+1, len(ranks)):\n",
    "        pivot_df[f'T{ranks[i]}{ranks[j]}'] = pivot_df[ranks[i]] - pivot_df[ranks[j]] # Need to include T11 - initial value to be 0 / shift this column 1 down in next table\n",
    "\n",
    "\n",
    "# Difference b/w current and next rank - consecutive\n",
    "for i in range(len(ranks)-1):\n",
    "    pivot_df[f'T{ranks[i]}{ranks[i+1]}'] = pivot_df[ranks[i]] - pivot_df[ranks[i+1]]\n",
    "\n",
    "pivot_df"
   ]
  },
  {
   "cell_type": "code",
   "execution_count": 169,
   "metadata": {},
   "outputs": [
    {
     "name": "stdout",
     "output_type": "stream",
     "text": [
      "Year: 2020\n",
      "      B/w 1st and other 4 ranks  Between consecutive ranks\n",
      "Rank                                                      \n",
      "1                          -1.6                       -1.6\n",
      "2                           0.7                       -0.9\n",
      "3                          -1.4                       -2.3\n",
      "4                           2.3                        0.0\n",
      "5                           0.2                        0.2\n",
      "6                           1.1                        1.3\n",
      "7                          -2.8                       -1.5\n",
      "8                           2.9                        1.4\n",
      "9                           4.6                        6.0\n",
      "10                         -3.0                        3.0\n",
      "11                          5.8                        8.8\n",
      "12                         -1.3                        7.5\n",
      "13                          1.2                        8.7\n",
      "14                          4.0                       12.7\n",
      "15                         -7.8                        4.9\n",
      "16                          2.5                        7.4\n",
      "17                          6.5                       13.9\n",
      "18                         -3.1                       10.8\n",
      "19                         -2.7                        8.1\n",
      "\n",
      "\n",
      "Year: 2021\n",
      "      B/w 1st and other 4 ranks  Between consecutive ranks\n",
      "Rank                                                      \n",
      "1                          -0.9                       -0.9\n",
      "2                          -2.2                       -3.1\n",
      "3                           1.9                       -1.2\n",
      "4                           1.8                        0.6\n",
      "5                           0.4                        1.0\n",
      "6                           4.5                        5.5\n",
      "7                          -6.1                       -0.6\n",
      "8                           3.1                        2.5\n",
      "9                          -0.1                        2.4\n",
      "10                          6.6                        9.0\n",
      "11                          0.7                        9.7\n",
      "12                         -3.8                        5.9\n",
      "13                          5.0                       10.9\n",
      "14                         -2.1                        8.8\n",
      "15                          5.9                       14.7\n",
      "16                         -8.5                        6.2\n",
      "17                          9.7                       15.9\n",
      "18                         -3.4                       12.5\n",
      "19                         -1.9                       10.6\n",
      "\n",
      "\n",
      "Year: 2022\n",
      "      B/w 1st and other 4 ranks  Between consecutive ranks\n",
      "Rank                                                      \n",
      "1                          -2.6                       -2.6\n",
      "2                          -0.9                       -3.5\n",
      "3                           2.2                       -1.3\n",
      "4                           1.4                        0.1\n",
      "5                           0.0                        0.1\n",
      "6                           1.4                        1.5\n",
      "7                           3.8                        5.3\n",
      "8                          -5.0                        0.3\n",
      "9                           3.5                        3.8\n",
      "10                         -0.6                        3.2\n",
      "11                          6.4                        9.6\n",
      "12                          1.4                       11.0\n",
      "13                         -4.5                        6.5\n",
      "14                          3.2                        9.7\n",
      "15                        -10.1                       -0.4\n",
      "16                          3.3                        2.9\n",
      "17                         10.5                       13.4\n",
      "18                          0.8                       14.2\n",
      "19                         -5.3                        8.9\n",
      "\n",
      "\n",
      "Year: 2023\n",
      "      B/w 1st and other 4 ranks  Between consecutive ranks\n",
      "Rank                                                      \n",
      "1                          -2.5                       -2.5\n",
      "2                           3.9                        1.4\n",
      "3                          -3.3                       -1.9\n",
      "4                           3.5                        1.6\n",
      "5                          -0.2                        1.4\n",
      "6                           3.3                        4.7\n",
      "7                           1.2                        5.9\n",
      "8                          -6.2                       -0.3\n",
      "9                           9.8                        9.5\n",
      "10                         -6.6                        2.9\n",
      "11                          6.8                        9.7\n",
      "12                         -3.9                        5.8\n",
      "13                          0.5                        6.3\n",
      "14                          6.6                       12.9\n",
      "15                        -10.7                        2.2\n",
      "16                         -2.4                       -0.2\n",
      "17                         15.2                       15.0\n",
      "18                          0.9                       15.9\n",
      "19                         -3.8                       12.1\n",
      "\n",
      "\n",
      "Year: 2024\n",
      "      B/w 1st and other 4 ranks  Between consecutive ranks\n",
      "Rank                                                      \n",
      "1                          -2.4                       -2.4\n",
      "2                           0.4                       -2.0\n",
      "3                           0.9                       -1.1\n",
      "4                           1.9                        0.8\n",
      "5                          -0.5                        0.3\n",
      "6                          -0.3                        0.0\n",
      "7                           5.7                        5.7\n",
      "8                           3.7                        9.4\n",
      "9                          -6.8                        2.6\n",
      "10                          6.4                        9.0\n",
      "11                         -7.7                        1.3\n",
      "12                          5.7                        7.0\n",
      "13                         -6.0                        1.0\n",
      "14                         11.2                       12.2\n",
      "15                         -3.3                        8.9\n",
      "16                         -0.9                        8.0\n",
      "17                          2.9                       10.9\n",
      "18                          6.9                       17.8\n",
      "19                         -6.9                       10.9\n",
      "\n",
      "\n"
     ]
    }
   ],
   "source": [
    "years = [2020, 2021, 2022, 2023, 2024]\n",
    "\n",
    "T_values1 = []\n",
    "for i in range(1, 20):\n",
    "    T_values1.append(f'T{i}{i+1}')\n",
    "        \n",
    "T_values2 = [] \n",
    "for i in range(2, 21):\n",
    "    T_values2.append(f'T1{i}')\n",
    "\n",
    "for year in years:\n",
    "    print(f\"Year: {year}\")\n",
    "    df = pd.DataFrame()\n",
    "    df['Rank'] = range(1, 20)\n",
    "    df['B/w 1st and other 4 ranks'] = pivot_df.loc[year, T_values1].tolist() # Need to shift this column down by 1, initial value as 0\n",
    "    df['Between consecutive ranks'] = pivot_df.loc[year, T_values2].tolist()\n",
    "    df.set_index('Rank', inplace=True)\n",
    "    print(df)\n",
    "    print(\"\\n\")\n"
   ]
  },
  {
   "cell_type": "markdown",
   "metadata": {},
   "source": [
    "2. Overall_Scores_Key_Statistics"
   ]
  },
  {
   "cell_type": "markdown",
   "metadata": {},
   "source": [
    "# Overall scores"
   ]
  },
  {
   "cell_type": "code",
   "execution_count": 201,
   "metadata": {},
   "outputs": [
    {
     "name": "stdout",
     "output_type": "stream",
     "text": [
      "     stats_student_staff_ratio                            \n",
      "                          mean median <lambda_0>       std\n",
      "year                                                      \n",
      "2020                      8.88    8.6        6.4  2.132370\n",
      "2021                      8.50    8.4        6.3  1.834394\n",
      "2022                      8.98    9.5        6.3  2.105232\n",
      "2023                      9.36    9.6        7.1  1.718430\n",
      "2024                      9.16    9.0        6.4  2.091172\n"
     ]
    }
   ],
   "source": [
    "columns = ['stats_student_staff_ratio'] # need to add columns  stats_number_students ,stats_student_staff_ratio,stats_pc_intl_students,stats_female_male_ratio, convert to integer\n",
    "\n",
    "# Filter top 5 universities each year\n",
    "top_5_universities = df[df['rank'] <= 5]\n",
    "\n",
    "# Calculate mean, median, mode, and standard deviation for each year\n",
    "statistics = top_5_universities.groupby('year')[columns].agg(['mean', 'median', lambda x: x.mode()[0], 'std'])\n",
    "\n",
    "# Print the calculated statistics\n",
    "print(statistics)"
   ]
  },
  {
   "cell_type": "code",
   "execution_count": 204,
   "metadata": {},
   "outputs": [
    {
     "ename": "ValueError",
     "evalue": "could not convert string to float: 'data[stats_number_students]'",
     "output_type": "error",
     "traceback": [
      "\u001b[1;31m---------------------------------------------------------------------------\u001b[0m",
      "\u001b[1;31mValueError\u001b[0m                                Traceback (most recent call last)",
      "Cell \u001b[1;32mIn[204], line 17\u001b[0m\n\u001b[0;32m     16\u001b[0m \u001b[38;5;28;01mtry\u001b[39;00m:\n\u001b[1;32m---> 17\u001b[0m     numerical_values\u001b[38;5;241m.\u001b[39mappend(\u001b[38;5;28;43mint\u001b[39;49m\u001b[43m(\u001b[49m\u001b[43mvalue\u001b[49m\u001b[43m)\u001b[49m)\n\u001b[0;32m     18\u001b[0m \u001b[38;5;28;01mexcept\u001b[39;00m \u001b[38;5;167;01mValueError\u001b[39;00m:\n\u001b[0;32m     19\u001b[0m     \u001b[38;5;66;03m# If not, convert to float\u001b[39;00m\n",
      "\u001b[1;31mValueError\u001b[0m: invalid literal for int() with base 10: 'data[stats_number_students]'",
      "\nDuring handling of the above exception, another exception occurred:\n",
      "\u001b[1;31mValueError\u001b[0m                                Traceback (most recent call last)",
      "Cell \u001b[1;32mIn[204], line 20\u001b[0m\n\u001b[0;32m     17\u001b[0m         numerical_values\u001b[38;5;241m.\u001b[39mappend(\u001b[38;5;28mint\u001b[39m(value))\n\u001b[0;32m     18\u001b[0m     \u001b[38;5;28;01mexcept\u001b[39;00m \u001b[38;5;167;01mValueError\u001b[39;00m:\n\u001b[0;32m     19\u001b[0m         \u001b[38;5;66;03m# If not, convert to float\u001b[39;00m\n\u001b[1;32m---> 20\u001b[0m         numerical_values\u001b[38;5;241m.\u001b[39mappend(\u001b[38;5;28;43mfloat\u001b[39;49m\u001b[43m(\u001b[49m\u001b[43mvalue\u001b[49m\u001b[43m)\u001b[49m)\n\u001b[0;32m     22\u001b[0m \u001b[38;5;28mprint\u001b[39m(numerical_values)\n",
      "\u001b[1;31mValueError\u001b[0m: could not convert string to float: 'data[stats_number_students]'"
     ]
    }
   ],
   "source": [
    "import re\n",
    "\n",
    "# Your input string\n",
    "s = 'data[\"stats_number_students\"]'\n",
    "\n",
    "# Remove unwanted characters\n",
    "s = re.sub(r'[\",:%]', '', s)\n",
    "\n",
    "# Split the string into a list\n",
    "values = s.split()\n",
    "\n",
    "# Convert strings to numerical values\n",
    "numerical_values = []\n",
    "for value in values:\n",
    "    # Check if the value can be converted to an integer\n",
    "    try:\n",
    "        numerical_values.append(int(value))\n",
    "    except ValueError:\n",
    "        # If not, convert to float\n",
    "        numerical_values.append(float(value))\n",
    "\n",
    "print(numerical_values)\n"
   ]
  }
 ],
 "metadata": {
  "kernelspec": {
   "display_name": "Python 3",
   "language": "python",
   "name": "python3"
  },
  "language_info": {
   "codemirror_mode": {
    "name": "ipython",
    "version": 3
   },
   "file_extension": ".py",
   "mimetype": "text/x-python",
   "name": "python",
   "nbconvert_exporter": "python",
   "pygments_lexer": "ipython3",
   "version": "3.11.2"
  }
 },
 "nbformat": 4,
 "nbformat_minor": 2
}
