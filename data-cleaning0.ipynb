{
 "cells": [
  {
   "cell_type": "code",
   "execution_count": null,
   "metadata": {},
   "outputs": [],
   "source": [
    "import numpy as np\n",
    "import pandas as pd\n",
    "import os\n",
    "from io import StringIO"
   ]
  },
  {
   "cell_type": "code",
   "execution_count": null,
   "metadata": {},
   "outputs": [],
   "source": [
    "df = pd.read_csv(r\"notebooks\\combined (2020-24.csv)\")\n",
    "df"
   ]
  },
  {
   "cell_type": "markdown",
   "metadata": {},
   "source": [
    "Create new column 'year'"
   ]
  },
  {
   "cell_type": "code",
   "execution_count": null,
   "metadata": {},
   "outputs": [],
   "source": [
    "# Read the CSV file\n",
    "df = pd.read_csv(r\"2020-2024\\TIMES_WorldUniversityRankings_2024.csv\")\n",
    "\n",
    "# Create a new column. For example, let's create a column named 'new_column' and initialize it with the value '0'\n",
    "df['year'] = '2024'\n",
    "\n",
    "# Write the dataframe back to CSV\n",
    "#df.to_csv('2024wranks.csv', index=False)"
   ]
  },
  {
   "cell_type": "markdown",
   "metadata": {},
   "source": [
    "Combine csv's into one"
   ]
  },
  {
   "cell_type": "code",
   "execution_count": null,
   "metadata": {},
   "outputs": [],
   "source": [
    "directory = r\"newdataset\"\n",
    "\n",
    "csv_files = [f for f in os.listdir(directory) if f.endswith('.csv')]\n",
    "\n",
    "# Create a list to hold dataframes\n",
    "dfs = []\n",
    "\n",
    "# Read each CSV file and append it to the list\n",
    "for csv_file in csv_files:\n",
    "    df = pd.read_csv(os.path.join(directory, csv_file))\n",
    "    dfs.append(df)\n",
    "\n",
    "# Concatenate all dataframes in the list\n",
    "combined_df = pd.concat(dfs, ignore_index=True)\n",
    "\n",
    "# Write the combined dataframe to a new CSV file\n",
    "#combined_df.to_csv('combined (2020-24.csv)', index=False)"
   ]
  },
  {
   "cell_type": "markdown",
   "metadata": {},
   "source": [
    "Cleaning dataset 2020-24"
   ]
  },
  {
   "cell_type": "code",
   "execution_count": null,
   "metadata": {},
   "outputs": [],
   "source": [
    "data = pd.read_csv(r\"newdataset\\2023.csv\")\n",
    "df = pd.DataFrame(data)\n",
    "\n",
    "df.columns.tolist()\n",
    "\n",
    "# drop irrelevant columns\n",
    "df = df.drop(['aliases',\n",
    " 'subjects_offered',\n",
    " 'closed',\n",
    " 'unaccredited',\n",
    " 'disabled',\n",
    " 'website_url',\n",
    " 'record_type', \n",
    " 'member_level', \n",
    " 'url', 'nid', \n",
    " 'location',\n",
    " 'rank'\n",
    " ], axis= 1)\n",
    "df\n",
    "df.to_csv(r\"\", index=False)"
   ]
  },
  {
   "cell_type": "code",
   "execution_count": 28,
   "metadata": {},
   "outputs": [],
   "source": [
    "# Changing column name\n",
    "\n",
    "data = pd.read_csv(r\"notebooks/combined (2020-24 v2).csv\")\n",
    "df = pd.DataFrame(data)\n",
    "df = df.rename(columns={\n",
    "    'scores_overall_rank': 'rank',\n",
    "})\n",
    "\n",
    "#df.to_csv(r\"notebooks/combined (2020-24 v2).csv\", index=False)"
   ]
  },
  {
   "cell_type": "code",
   "execution_count": null,
   "metadata": {},
   "outputs": [],
   "source": [
    "# replacing na values with 0\n",
    "df = pd.read_csv(r\"newdataset\\combined (2020-24.csv)\")\n",
    "columns = ['rank_order', 'name', 'scores_overall',             'scores_overall_rank',\n",
    "       'scores_teaching', 'scores_teaching_rank', 'scores_research',\n",
    "       'scores_research_rank', 'scores_citations', 'scores_citations_rank',\n",
    "       'scores_industry_income', 'scores_industry_income_rank',\n",
    "       'scores_international_outlook', 'scores_international_outlook_rank',\n",
    "       'stats_number_students', 'stats_student_staff_ratio',\n",
    "       'stats_pc_intl_students', 'stats_female_male_ratio']\n",
    "\n",
    "for col in columns:\n",
    "    df[col] = df[col].fillna(0)\n",
    "\n",
    "#df.to_csv(r\"newdataset\\combined (2020-24.csv)\", index=False)"
   ]
  },
  {
   "cell_type": "code",
   "execution_count": null,
   "metadata": {},
   "outputs": [],
   "source": [
    "# Read the CSV file into a pandas DataFrame\n",
    "data = pd.read_csv(r\"newdataset\\combined (2020-24.csv)\")\n",
    "\n",
    "# Convert 'stats_number_students' to integer\n",
    "data['stats_number_students'] = data['stats_number_students'].str.replace(',', '').astype(int)\n",
    "\n",
    "# Split 'stats_female_male_ratio' into two columns\n",
    "data[['female_ratio', 'male_ratio']] = data['stats_female_male_ratio'].str.split(' : ', expand=True)\n",
    "\n",
    "# Convert the new columns to integer\n",
    "data['female_ratio'] = data['female_ratio'].astype(int)\n",
    "data['male_ratio'] = data['male_ratio'].astype(int)"
   ]
  }
 ],
 "metadata": {
  "kernelspec": {
   "display_name": "Python 3",
   "language": "python",
   "name": "python3"
  },
  "language_info": {
   "codemirror_mode": {
    "name": "ipython",
    "version": 3
   },
   "file_extension": ".py",
   "mimetype": "text/x-python",
   "name": "python",
   "nbconvert_exporter": "python",
   "pygments_lexer": "ipython3",
   "version": "3.11.2"
  }
 },
 "nbformat": 4,
 "nbformat_minor": 2
}
